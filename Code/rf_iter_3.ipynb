{
 "cells": [
  {
   "cell_type": "code",
   "execution_count": 78,
   "id": "a45c5c88",
   "metadata": {},
   "outputs": [
    {
     "name": "stdout",
     "output_type": "stream",
     "text": [
      "Collecting scikit-image\n",
      "  Downloading scikit_image-0.19.2-cp38-cp38-win_amd64.whl (12.6 MB)\n",
      "Collecting networkx>=2.2\n",
      "  Downloading networkx-2.8-py3-none-any.whl (2.0 MB)\n",
      "Requirement already satisfied: scipy>=1.4.1 in c:\\users\\ellen\\appdata\\local\\r-miniconda\\lib\\site-packages (from scikit-image) (1.7.1)\n",
      "Collecting PyWavelets>=1.1.1\n",
      "  Downloading PyWavelets-1.3.0-cp38-cp38-win_amd64.whl (4.2 MB)\n",
      "Collecting tifffile>=2019.7.26\n",
      "Note: you may need to restart the kernel to use updated packages.\n",
      "  Downloading tifffile-2022.4.22-py3-none-any.whl (191 kB)\n",
      "Collecting imageio>=2.4.1\n",
      "  Downloading imageio-2.17.0-py3-none-any.whl (3.4 MB)\n",
      "Requirement already satisfied: packaging>=20.0 in c:\\users\\ellen\\appdata\\local\\r-miniconda\\lib\\site-packages (from scikit-image) (21.0)\n",
      "Requirement already satisfied: pillow!=7.1.0,!=7.1.1,!=8.3.0,>=6.1.0 in c:\\users\\ellen\\appdata\\local\\r-miniconda\\lib\\site-packages (from scikit-image) (8.3.2)\n",
      "Requirement already satisfied: numpy>=1.17.0 in c:\\users\\ellen\\appdata\\local\\r-miniconda\\lib\\site-packages (from scikit-image) (1.21.2)\n",
      "Requirement already satisfied: pyparsing>=2.0.2 in c:\\users\\ellen\\appdata\\local\\r-miniconda\\lib\\site-packages (from packaging>=20.0->scikit-image) (2.4.7)\n",
      "Installing collected packages: networkx, PyWavelets, tifffile, imageio, scikit-image\n",
      "Successfully installed PyWavelets-1.3.0 imageio-2.17.0 networkx-2.8 scikit-image-0.19.2 tifffile-2022.4.22\n"
     ]
    }
   ],
   "source": [
    "pip install scikit-image"
   ]
  },
  {
   "cell_type": "code",
   "execution_count": 58,
   "id": "042e7a51",
   "metadata": {},
   "outputs": [
    {
     "name": "stdout",
     "output_type": "stream",
     "text": [
      "Collecting seaborn\n",
      "  Downloading seaborn-0.11.2-py3-none-any.whl (292 kB)\n",
      "Requirement already satisfied: pandas>=0.23 in c:\\users\\ellen\\appdata\\local\\r-miniconda\\lib\\site-packages (from seaborn) (1.3.4)\n",
      "Requirement already satisfied: numpy>=1.15 in c:\\users\\ellen\\appdata\\local\\r-miniconda\\lib\\site-packages (from seaborn) (1.21.2)\n",
      "Requirement already satisfied: matplotlib>=2.2 in c:\\users\\ellen\\appdata\\local\\r-miniconda\\lib\\site-packages (from seaborn) (3.4.3)\n",
      "Requirement already satisfied: scipy>=1.0 in c:\\users\\ellen\\appdata\\local\\r-miniconda\\lib\\site-packages (from seaborn) (1.7.1)\n",
      "Requirement already satisfied: pytz>=2017.3 in c:\\users\\ellen\\appdata\\local\\r-miniconda\\lib\\site-packages (from pandas>=0.23->seaborn) (2021.3)\n",
      "Requirement already satisfied: python-dateutil>=2.7.3 in c:\\users\\ellen\\appdata\\local\\r-miniconda\\lib\\site-packages (from pandas>=0.23->seaborn) (2.8.2)\n",
      "Requirement already satisfied: pillow>=6.2.0 in c:\\users\\ellen\\appdata\\local\\r-miniconda\\lib\\site-packages (from matplotlib>=2.2->seaborn) (8.3.2)\n",
      "Requirement already satisfied: pyparsing>=2.2.1 in c:\\users\\ellen\\appdata\\local\\r-miniconda\\lib\\site-packages (from matplotlib>=2.2->seaborn) (2.4.7)\n",
      "Requirement already satisfied: kiwisolver>=1.0.1 in c:\\users\\ellen\\appdata\\local\\r-miniconda\\lib\\site-packages (from matplotlib>=2.2->seaborn) (1.3.2)Note: you may need to restart the kernel to use updated packages.\n",
      "Requirement already satisfied: cycler>=0.10 in c:\\users\\ellen\\appdata\\local\\r-miniconda\\lib\\site-packages (from matplotlib>=2.2->seaborn) (0.10.0)\n",
      "Requirement already satisfied: six>=1.5 in c:\\users\\ellen\\appdata\\roaming\\python\\python38\\site-packages (from python-dateutil>=2.7.3->pandas>=0.23->seaborn) (1.14.0)\n",
      "Installing collected packages: seaborn\n",
      "Successfully installed seaborn-0.11.2\n",
      "\n"
     ]
    }
   ],
   "source": [
    "pip install seaborn"
   ]
  },
  {
   "cell_type": "code",
   "execution_count": 1,
   "id": "3c1093be",
   "metadata": {},
   "outputs": [],
   "source": [
    "from turtle import shape\n",
    "import nibabel as nib\n",
    "import os\n",
    "import sys\n",
    "import matplotlib.pyplot as plt\n",
    "from mpl_toolkits.mplot3d import Axes3D\n",
    "import numpy as np\n",
    "import cv2\n",
    "from PIL import Image\n",
    "from matplotlib import cm\n",
    "import pandas as pd\n",
    "import imblearn\n",
    "import re\n",
    "import seaborn as sns\n",
    "\n",
    "# Setting paths for different folders\n",
    "FLAIR_scan = r'C:\\Users\\ellen\\Documents\\ew-honoursthesis\\Data\\forAudrey.tar\\Normalised\\FLAIRinT1space_withLacunes_35.tar'\n",
    "T1_Lacunes_Incorrect = r'C:\\Users\\ellen\\Documents\\ew-honoursthesis\\Data\\forAudrey.tar\\Original\\lacune_T1space.tar'\n",
    "T1_Lacunes_Correct = r'C:\\Users\\ellen\\Documents\\ew-honoursthesis\\Data\\forAudrey.tar\\Original\\lacune_T1space_JiyangCorrected20210920'\n",
    "T1_scan = r'C:\\Users\\ellen\\Documents\\ew-honoursthesis\\Data\\forAudrey.tar\\Normalised\\T1_withLacunes_35.tar'\n",
    "T1_Soft_Tissue = r'C:\\Users\\ellen\\Documents\\ew-honoursthesis\\Data\\forAudrey.tar\\Normalised\\T1softTiss_withLacunes_35.tar'\n",
    "T1_Soft_Tissue_Mask = r'C:\\Users\\ellen\\Documents\\ew-honoursthesis\\Data\\forAudrey.tar\\Original\\T1softTissMask_withLacunes_35.tar'\n",
    "T1_Soft_Tissue_Binary_Mask = r'C:\\Users\\ellen\\Documents\\ew-honoursthesis\\Data\\forAudrey.tar\\Original\\T1softTissMask_withLacunes_35_binary.tar'\n"
   ]
  },
  {
   "cell_type": "code",
   "execution_count": 2,
   "id": "c43b4853",
   "metadata": {},
   "outputs": [
    {
     "name": "stdout",
     "output_type": "stream",
     "text": [
      "complete\n"
     ]
    }
   ],
   "source": [
    "def read_data():\n",
    "    #Read all data into list\n",
    "    T1_scan_data = []\n",
    "    for file in os.listdir(T1_scan):\n",
    "        if file.endswith(\".nii.gz\"):\n",
    "            Data_list = []\n",
    "            file_id = int(re.search(r'\\d+', file)[0])\n",
    "            imgpath = os.path.join(T1_scan, file)\n",
    "            img = nib.load(imgpath)\n",
    "            data = img.get_fdata()\n",
    "            Data_list.append(file_id)\n",
    "            Data_list.append(data)\n",
    "            T1_scan_data.append(Data_list)\n",
    "\n",
    "    #Read all FLAIR data into list\n",
    "    FLAIR_scan_data = []\n",
    "    for file in os.listdir(FLAIR_scan):\n",
    "        if file.endswith(\".nii.gz\"):\n",
    "            Data_list = []\n",
    "            file_id = int(re.search(r'\\d+', file)[0])\n",
    "            imgpath = os.path.join(FLAIR_scan, file)\n",
    "            img = nib.load(imgpath)\n",
    "            data = img.get_fdata()\n",
    "            Data_list.append(file_id)\n",
    "            Data_list.append(data)\n",
    "            FLAIR_scan_data.append(Data_list)\n",
    "\n",
    "    #Lacune Exists\n",
    "    Lacune_indicator_data = []\n",
    "    for file in os.listdir(T1_Lacunes_Correct):\n",
    "        if file.endswith(\".nii.gz\"):\n",
    "            Data_list = []\n",
    "            file_id = int(re.search(r'\\d+', file)[0])\n",
    "            imgpath = os.path.join(T1_Lacunes_Correct, file)\n",
    "            img = nib.load(imgpath)\n",
    "            data = img.get_fdata()\n",
    "            Data_list.append(file_id)\n",
    "            Data_list.append(data)\n",
    "            Lacune_indicator_data.append(Data_list)\n",
    "\n",
    "    Soft_tiss_data = []\n",
    "    for file in os.listdir(T1_Soft_Tissue):\n",
    "        if file.endswith(\".nii.gz\"):\n",
    "            Data_list = []\n",
    "            file_id = int(re.search(r'\\d+', file)[0])\n",
    "            imgpath = os.path.join(T1_Soft_Tissue, file)\n",
    "            img = nib.load(imgpath)\n",
    "            data = img.get_fdata()\n",
    "            Data_list.append(file_id)\n",
    "            Data_list.append(data)\n",
    "            Soft_tiss_data.append(Data_list)\n",
    "\n",
    "    return T1_scan_data, FLAIR_scan_data, Lacune_indicator_data, Soft_tiss_data\n",
    "T1_scan_data, FLAIR_scan_data, Lacune_indicator_data, Soft_tiss_data = read_data()\n",
    "print(\"complete\")"
   ]
  },
  {
   "cell_type": "code",
   "execution_count": 3,
   "id": "0b1cd95d",
   "metadata": {},
   "outputs": [
    {
     "name": "stdout",
     "output_type": "stream",
     "text": [
      "1\n",
      "2\n",
      "3\n",
      "4\n",
      "5\n",
      "6\n",
      "7\n",
      "8\n",
      "9\n",
      "10\n",
      "11\n",
      "12\n",
      "13\n",
      "14\n",
      "15\n",
      "16\n",
      "17\n",
      "18\n",
      "19\n",
      "20\n",
      "21\n",
      "22\n",
      "23\n",
      "24\n",
      "25\n",
      "26\n",
      "27\n",
      "28\n",
      "29\n",
      "30\n",
      "31\n",
      "32\n",
      "33\n",
      "34\n",
      "35\n"
     ]
    }
   ],
   "source": [
    "def sample_lacunes(T1_scan_data, FLAIR_scan_data, Lacune_indicator_data, Soft_tiss_data):\n",
    "    # Lacune not as centred, random sampling all around brain\n",
    "    X_train_3D_lacune = []\n",
    "    X_test_3D_lacune = []\n",
    "    Y_train_3D_lacune = []\n",
    "    Y_test_3D_lacune = []\n",
    "    Y_train_segment_3D_lacune = []\n",
    "    Y_test_segment_3D_lacune = []\n",
    "\n",
    "    brain_image = 0\n",
    "    for file in os.listdir(T1_Soft_Tissue_Binary_Mask):\n",
    "        if file.endswith(\".nii.gz\"):\n",
    "            file_id = int(re.search(r'\\d+', file)[0])\n",
    "            imgpath = os.path.join(T1_Soft_Tissue_Binary_Mask, file)\n",
    "            img = nib.load(imgpath)\n",
    "            data = img.get_fdata()\n",
    "            data = data.astype(np.uint8)  # converting array of ints to floats\n",
    "            T1_data_scans = T1_scan_data[brain_image][1]\n",
    "            FLAIR_data_scans = FLAIR_scan_data[brain_image][1]\n",
    "            SoftTiss = Soft_tiss_data[brain_image][1]\n",
    "            Lacune_data = Lacune_indicator_data[brain_image][1]\n",
    "\n",
    "            #Sample lacunes\n",
    "            for x in range(0, data.shape[0]):\n",
    "                for y in range(0, data.shape[1]):\n",
    "                    for z in range(0, data.shape[2]):\n",
    "                        #filter for soft tissue\n",
    "                        if (x < 50) | (y < 70) | (z < 15) | (x > 200) | (y > 210) | (z > 165):\n",
    "                            next\n",
    "                        else:\n",
    "                            brain_values = []\n",
    "                            brain_values.append(file_id)\n",
    "                            brain_values.append(x)\n",
    "                            brain_values.append(y)\n",
    "                            brain_values.append(z)\n",
    "\n",
    "                            patch_3D_T1 = T1_data_scans[x-10:x+10, y-10:y+10, z-10:z+10]\n",
    "                            brain_values.append(patch_3D_T1)\n",
    "\n",
    "                            patch_3D_FLAIR = FLAIR_data_scans[x-10:x+10, y-10:y+10, z-10:z+10]\n",
    "                            brain_values.append(patch_3D_FLAIR)\n",
    "\n",
    "                            patch_3D_softtiss_binary = data[x-10:x+10, y-10:y+10, z-10:z+10]\n",
    "                            brain_values.append(patch_3D_softtiss_binary)\n",
    "\n",
    "                            patch_3D_softtiss = SoftTiss[x-10:x+10, y-10:y+10, z-10:z+10]\n",
    "                            brain_values.append(patch_3D_softtiss)\n",
    "\n",
    "                            lacune_binary = Lacune_data[x-10:x+10, y-10:y+10, z-10:z+10] \n",
    "\n",
    "                            if brain_image <= 24:\n",
    "                                if (Lacune_data[x,y,z] == 1):\n",
    "                                    X_train_3D_lacune.append(brain_values)\n",
    "                                    Y_train_3D_lacune.append(1)\n",
    "                                    Y_train_segment_3D_lacune.append(lacune_binary)\n",
    "\n",
    "                            else:\n",
    "                                if (Lacune_data[x,y,z] == 1):\n",
    "                                    X_test_3D_lacune.append(brain_values)\n",
    "                                    Y_test_3D_lacune.append(1)\n",
    "                                    Y_test_segment_3D_lacune.append(lacune_binary)\n",
    "                            \n",
    "            brain_image += 1\n",
    "            print(brain_image)\n",
    "    return X_train_3D_lacune, X_test_3D_lacune, Y_train_3D_lacune, Y_test_3D_lacune, Y_train_segment_3D_lacune, Y_test_segment_3D_lacune\n",
    "X_train_3D_lacune, X_test_3D_lacune, Y_train_3D_lacune, Y_test_3D_lacune, Y_train_segment_3D_lacune, Y_test_segment_3D_lacune = sample_lacunes(T1_scan_data, FLAIR_scan_data, Lacune_indicator_data, Soft_tiss_data)"
   ]
  },
  {
   "cell_type": "code",
   "execution_count": 4,
   "id": "7625b89c",
   "metadata": {
    "scrolled": true
   },
   "outputs": [
    {
     "name": "stdout",
     "output_type": "stream",
     "text": [
      "1\n",
      "2\n",
      "3\n",
      "4\n",
      "5\n",
      "6\n",
      "7\n",
      "8\n",
      "9\n",
      "10\n",
      "11\n",
      "12\n",
      "13\n",
      "14\n",
      "15\n",
      "16\n",
      "17\n",
      "18\n",
      "19\n",
      "20\n",
      "21\n",
      "22\n",
      "23\n",
      "24\n",
      "25\n",
      "26\n",
      "27\n",
      "28\n",
      "29\n",
      "30\n",
      "31\n",
      "32\n",
      "33\n",
      "34\n",
      "35\n"
     ]
    }
   ],
   "source": [
    "def non_lacune_sampling(T1_scan_data, FLAIR_scan_data, Lacune_indicator_data, Soft_tiss_data):\n",
    "    # Lacune not as centred, random sampling all around brain\n",
    "    X_train_3D_nlacune = []\n",
    "    X_test_3D_nlacune = []\n",
    "    Y_train_3D_nlacune = []\n",
    "    Y_test_3D_nlacune = []\n",
    "    Y_train_segment_3D_nlacune = []\n",
    "    Y_test_segment_3D_nlacune = []\n",
    "\n",
    "    brain_image = 0\n",
    "    for file in os.listdir(T1_Soft_Tissue_Binary_Mask):\n",
    "        if file.endswith(\".nii.gz\"):\n",
    "            file_id = int(re.search(r'\\d+', file)[0])\n",
    "            imgpath = os.path.join(T1_Soft_Tissue_Binary_Mask, file)\n",
    "            img = nib.load(imgpath)\n",
    "            data = img.get_fdata()\n",
    "            data = data.astype(np.uint8)  # converting array of ints to floats\n",
    "            T1_data_scans = T1_scan_data[brain_image][1]\n",
    "            FLAIR_data_scans = FLAIR_scan_data[brain_image][1]\n",
    "            SoftTiss = Soft_tiss_data[brain_image][1]\n",
    "            Lacune_data = Lacune_indicator_data[brain_image][1]\n",
    "            \n",
    "            #Sample lacunes\n",
    "            #Reduce step size to 5??\n",
    "            for x in range(0, data.shape[0], 15):\n",
    "                for y in range(0, data.shape[1], 15):\n",
    "                    for z in range(0, data.shape[2], 15):\n",
    "                        #filter for soft tissue\n",
    "                        if (x < 50) | (y < 70) | (z < 15) | (x > 200) | (y > 210) | (z > 165):\n",
    "                            next\n",
    "                        else:\n",
    "                            brain_values = []\n",
    "                            brain_values.append(file_id)\n",
    "                            brain_values.append(x)\n",
    "                            brain_values.append(y)\n",
    "                            brain_values.append(z)\n",
    "\n",
    "                            patch_3D_T1 = T1_data_scans[x-10:x+10, y-10:y+10, z-10:z+10]\n",
    "                            brain_values.append(patch_3D_T1)\n",
    "\n",
    "                            patch_3D_FLAIR = FLAIR_data_scans[x-10:x+10, y-10:y+10, z-10:z+10]\n",
    "                            brain_values.append(patch_3D_FLAIR)\n",
    "\n",
    "                            patch_3D_softtiss_binary = data[x-10:x+10, y-10:y+10, z-10:z+10]\n",
    "                            brain_values.append(patch_3D_softtiss_binary)\n",
    "\n",
    "                            patch_3D_softtiss = SoftTiss[x-10:x+10, y-10:y+10, z-10:z+10]\n",
    "                            brain_values.append(patch_3D_softtiss)\n",
    "\n",
    "                            lacune_binary = Lacune_data[x-10:x+10, y-10:y+10, z-10:z+10]\n",
    "\n",
    "                            if brain_image <= 24:\n",
    "                                # No lacune exists in the 3D patch, add to train set\n",
    "                                if any(1 in sublist for sublist in lacune_binary):\n",
    "                                    next\n",
    "                                else:\n",
    "                                    X_train_3D_nlacune.append(brain_values)\n",
    "                                    Y_train_3D_nlacune.append(0)\n",
    "                                    Y_train_segment_3D_nlacune.append(lacune_binary)\n",
    "                                    \n",
    "                            else:\n",
    "                                if any(1 in sublist for sublist in lacune_binary):\n",
    "                                    next\n",
    "                                else:\n",
    "                                    X_test_3D_nlacune.append(brain_values)\n",
    "                                    Y_test_3D_nlacune.append(0)\n",
    "                                    Y_test_segment_3D_nlacune.append(lacune_binary)\n",
    "            brain_image += 1\n",
    "            print(brain_image)\n",
    "\n",
    "    return X_train_3D_nlacune, X_test_3D_nlacune, Y_train_3D_nlacune, Y_test_3D_nlacune, Y_train_segment_3D_nlacune, Y_test_segment_3D_nlacune\n",
    "X_train_3D_nlacune, X_test_3D_nlacune, Y_train_3D_nlacune, Y_test_3D_nlacune, Y_train_segment_3D_nlacune, Y_test_segment_3D_nlacune = non_lacune_sampling(T1_scan_data, FLAIR_scan_data, Lacune_indicator_data, Soft_tiss_data)"
   ]
  },
  {
   "cell_type": "code",
   "execution_count": 5,
   "id": "4b899ac9",
   "metadata": {},
   "outputs": [
    {
     "name": "stderr",
     "output_type": "stream",
     "text": [
      "<__array_function__ internals>:5: VisibleDeprecationWarning: Creating an ndarray from ragged nested sequences (which is a list-or-tuple of lists-or-tuples-or ndarrays with different lengths or shapes) is deprecated. If you meant to do this, you must specify 'dtype=object' when creating the ndarray.\n"
     ]
    },
    {
     "name": "stdout",
     "output_type": "stream",
     "text": [
      "27368\n",
      "2351\n",
      "done\n"
     ]
    }
   ],
   "source": [
    "X_train = np.concatenate((X_train_3D_lacune, X_train_3D_nlacune), axis=0)\n",
    "X_test = np.concatenate((X_test_3D_lacune, X_test_3D_nlacune), axis=0)\n",
    "Y_train = np.concatenate((Y_train_3D_lacune, Y_train_3D_nlacune), axis=0)\n",
    "Y_test = np.concatenate((Y_test_3D_lacune, Y_test_3D_nlacune), axis=0)\n",
    "Y_train_segment = np.concatenate((Y_train_segment_3D_lacune, Y_train_segment_3D_nlacune), axis=0)\n",
    "Y_test_segment = np.concatenate((Y_test_segment_3D_lacune, Y_test_segment_3D_nlacune), axis=0)\n",
    "print(len(X_train_3D_nlacune))\n",
    "print(len(X_train_3D_lacune))\n",
    "print(\"done\")"
   ]
  },
  {
   "cell_type": "code",
   "execution_count": 219,
   "id": "2ccfab74",
   "metadata": {},
   "outputs": [
    {
     "name": "stderr",
     "output_type": "stream",
     "text": [
      "C:\\Users\\ellen\\AppData\\Local\\Temp/ipykernel_29340/797585187.py:120: RuntimeWarning: invalid value encountered in double_scalars\n",
      "  mid_small_ratio_th_st.append(np.mean(tophat_img_st[8:12, 8:12, 8:12])/((sum(sum(sum(tophat_img_st[7:13, 7:13, 7:13]))) - sum(sum(sum(tophat_img_st[8:12, 8:12, 8:12]))))/152))\n",
      "C:\\Users\\ellen\\AppData\\Local\\Temp/ipykernel_29340/797585187.py:123: RuntimeWarning: invalid value encountered in double_scalars\n",
      "  mid_small_ratio_th_st_inc.append(np.mean(tophat_img_st[8:12, 8:12, 8:12])/((sum(sum(sum(tophat_img_st[7:13, 7:13, 7:13]))))/216))\n",
      "C:\\Users\\ellen\\AppData\\Local\\Temp/ipykernel_29340/797585187.py:84: RuntimeWarning: invalid value encountered in double_scalars\n",
      "  mid_small_ratio_FLAIR.append(np.mean(X_train[index][5][8:12, 8:12, 8:12])/((sum(sum(sum(X_train[index][5][7:13, 7:13, 7:13]))) - sum(sum(sum(X_train[index][5][8:12, 8:12, 8:12]))))/152))\n",
      "C:\\Users\\ellen\\AppData\\Local\\Temp/ipykernel_29340/797585187.py:85: RuntimeWarning: invalid value encountered in double_scalars\n",
      "  mid_med_ratio_FLAIR.append(np.mean(X_train[index][5][7:13, 7:13, 7:13])/((sum(sum(sum(X_train[index][5][6:14, 6:14, 6:14]))) - sum(sum(sum(X_train[index][5][7:13, 7:13, 7:13]))))/296))\n",
      "C:\\Users\\ellen\\AppData\\Local\\Temp/ipykernel_29340/797585187.py:86: RuntimeWarning: invalid value encountered in double_scalars\n",
      "  mid_large_ratio_FLAIR.append(np.mean(X_train[index][5][6:14, 6:14, 6:14])/((sum(sum(sum(X_train[index][5][3:17, 3:17, 3:17]))) - sum(sum(sum(X_train[index][5][6:14, 6:14, 6:14]))))/2232))\n",
      "C:\\Users\\ellen\\AppData\\Local\\Temp/ipykernel_29340/797585187.py:87: RuntimeWarning: invalid value encountered in double_scalars\n",
      "  mid_small_ratio_FLAIR_inc.append(np.mean(X_train[index][5][8:12, 8:12, 8:12])/((sum(sum(sum(X_train[index][5][7:13, 7:13, 7:13]))))/216))\n",
      "C:\\Users\\ellen\\AppData\\Local\\Temp/ipykernel_29340/797585187.py:88: RuntimeWarning: invalid value encountered in double_scalars\n",
      "  mid_med_ratio_FLAIR_inc.append(np.mean(X_train[index][5][7:13, 7:13, 7:13])/((sum(sum(sum(X_train[index][5][6:14, 6:14, 6:14]))))/512))\n",
      "C:\\Users\\ellen\\AppData\\Local\\Temp/ipykernel_29340/797585187.py:89: RuntimeWarning: invalid value encountered in double_scalars\n",
      "  mid_large_ratio_FLAIR_inc.append(np.mean(X_train[index][5][6:14, 6:14, 6:14])/((sum(sum(sum(X_train[index][5][3:17, 3:17, 3:17]))))/2744))\n",
      "C:\\Users\\ellen\\AppData\\Local\\Temp/ipykernel_29340/797585187.py:98: RuntimeWarning: invalid value encountered in double_scalars\n",
      "  mid_small_ratio_st.append(np.mean(X_train[index][6][8:12, 8:12, 8:12])/((sum(sum(sum(X_train[index][6][7:13, 7:13, 7:13]))) - sum(sum(sum(X_train[index][6][8:12, 8:12, 8:12]))))/152))\n",
      "C:\\Users\\ellen\\AppData\\Local\\Temp/ipykernel_29340/797585187.py:99: RuntimeWarning: invalid value encountered in double_scalars\n",
      "  mid_med_ratio_st.append(np.mean(X_train[index][6][7:13, 7:13, 7:13])/((sum(sum(sum(X_train[index][6][6:14, 6:14, 6:14]))) - sum(sum(sum(X_train[index][6][7:13, 7:13, 7:13]))))/296))\n",
      "C:\\Users\\ellen\\AppData\\Local\\Temp/ipykernel_29340/797585187.py:100: RuntimeWarning: invalid value encountered in double_scalars\n",
      "  mid_large_ratio_st.append(np.mean(X_train[index][6][6:14, 6:14, 6:14])/((sum(sum(sum(X_train[index][6][3:17, 3:17, 3:17]))) - sum(sum(sum(X_train[index][6][6:14, 6:14, 6:14]))))/2232))\n",
      "C:\\Users\\ellen\\AppData\\Local\\Temp/ipykernel_29340/797585187.py:101: RuntimeWarning: invalid value encountered in double_scalars\n",
      "  mid_small_ratio_st_inc.append(np.mean(X_train[index][6][8:12, 8:12, 8:12])/((sum(sum(sum(X_train[index][6][7:13, 7:13, 7:13]))))/216))\n",
      "C:\\Users\\ellen\\AppData\\Local\\Temp/ipykernel_29340/797585187.py:102: RuntimeWarning: invalid value encountered in double_scalars\n",
      "  mid_med_ratio_st_inc.append(np.mean(X_train[index][6][7:13, 7:13, 7:13])/((sum(sum(sum(X_train[index][6][6:14, 6:14, 6:14]))))/512))\n",
      "C:\\Users\\ellen\\AppData\\Local\\Temp/ipykernel_29340/797585187.py:103: RuntimeWarning: invalid value encountered in double_scalars\n",
      "  mid_large_ratio_st_inc.append(np.mean(X_train[index][6][6:14, 6:14, 6:14])/((sum(sum(sum(X_train[index][6][3:17, 3:17, 3:17]))))/2744))\n",
      "C:\\Users\\ellen\\AppData\\Local\\Temp/ipykernel_29340/797585187.py:121: RuntimeWarning: invalid value encountered in double_scalars\n",
      "  mid_med_ratio_th_st.append(np.mean(tophat_img_st[7:13, 7:13, 7:13])/((sum(sum(sum(tophat_img_st[6:14, 6:14, 6:14]))) - sum(sum(sum(tophat_img_st[7:13, 7:13, 7:13]))))/296))\n",
      "C:\\Users\\ellen\\AppData\\Local\\Temp/ipykernel_29340/797585187.py:122: RuntimeWarning: invalid value encountered in double_scalars\n",
      "  mid_large_ratio_th_st.append(np.mean(tophat_img_st[6:14, 6:14, 6:14])/((sum(sum(sum(tophat_img_st[3:17, 3:17, 3:17]))) - sum(sum(sum(tophat_img_st[6:14, 6:14, 6:14]))))/2232))\n",
      "C:\\Users\\ellen\\AppData\\Local\\Temp/ipykernel_29340/797585187.py:124: RuntimeWarning: invalid value encountered in double_scalars\n",
      "  mid_med_ratio_th_st_inc.append(np.mean(tophat_img_st[7:13, 7:13, 7:13])/((sum(sum(sum(tophat_img_st[6:14, 6:14, 6:14]))))/512))\n",
      "C:\\Users\\ellen\\AppData\\Local\\Temp/ipykernel_29340/797585187.py:125: RuntimeWarning: invalid value encountered in double_scalars\n",
      "  mid_large_ratio_th_st_inc.append(np.mean(tophat_img_st[6:14, 6:14, 6:14])/((sum(sum(sum(tophat_img_st[3:17, 3:17, 3:17]))))/2744))\n",
      "C:\\Users\\ellen\\AppData\\Local\\Temp/ipykernel_29340/797585187.py:73: RuntimeWarning: invalid value encountered in double_scalars\n",
      "  mid_small_ratio_T1.append(np.mean(X_train[index][4][8:12, 8:12, 8:12])/((sum(sum(sum(X_train[index][4][7:13, 7:13, 7:13]))) - sum(sum(sum(X_train[index][4][8:12, 8:12, 8:12]))))/152))\n",
      "C:\\Users\\ellen\\AppData\\Local\\Temp/ipykernel_29340/797585187.py:76: RuntimeWarning: invalid value encountered in double_scalars\n",
      "  mid_small_ratio_T1_inc.append(np.mean(X_train[index][4][8:12, 8:12, 8:12])/((sum(sum(sum(X_train[index][4][7:13, 7:13, 7:13]))))/216))\n",
      "C:\\Users\\ellen\\AppData\\Local\\Temp/ipykernel_29340/797585187.py:109: RuntimeWarning: invalid value encountered in double_scalars\n",
      "  mid_small_ratio_th_T1.append(np.mean(tophat_img_T1[8:12, 8:12, 8:12])/((sum(sum(sum(tophat_img_T1[7:13, 7:13, 7:13]))) - sum(sum(sum(tophat_img_T1[8:12, 8:12, 8:12]))))/152))\n",
      "C:\\Users\\ellen\\AppData\\Local\\Temp/ipykernel_29340/797585187.py:112: RuntimeWarning: invalid value encountered in double_scalars\n",
      "  mid_small_ratio_th_T1_inc.append(np.mean(tophat_img_T1[8:12, 8:12, 8:12])/((sum(sum(sum(tophat_img_T1[7:13, 7:13, 7:13]))))/216))\n",
      "C:\\Users\\ellen\\AppData\\Local\\Temp/ipykernel_29340/797585187.py:74: RuntimeWarning: invalid value encountered in double_scalars\n",
      "  mid_med_ratio_T1.append(np.mean(X_train[index][4][7:13, 7:13, 7:13])/((sum(sum(sum(X_train[index][4][6:14, 6:14, 6:14]))) - sum(sum(sum(X_train[index][4][7:13, 7:13, 7:13]))))/296))\n",
      "C:\\Users\\ellen\\AppData\\Local\\Temp/ipykernel_29340/797585187.py:77: RuntimeWarning: invalid value encountered in double_scalars\n",
      "  mid_med_ratio_T1_inc.append(np.mean(X_train[index][4][7:13, 7:13, 7:13])/((sum(sum(sum(X_train[index][4][6:14, 6:14, 6:14]))))/512))\n",
      "C:\\Users\\ellen\\AppData\\Local\\Temp/ipykernel_29340/797585187.py:110: RuntimeWarning: invalid value encountered in double_scalars\n",
      "  mid_med_ratio_th_T1.append(np.mean(tophat_img_T1[7:13, 7:13, 7:13])/((sum(sum(sum(tophat_img_T1[6:14, 6:14, 6:14]))) - sum(sum(sum(tophat_img_T1[7:13, 7:13, 7:13]))))/296))\n",
      "C:\\Users\\ellen\\AppData\\Local\\Temp/ipykernel_29340/797585187.py:113: RuntimeWarning: invalid value encountered in double_scalars\n",
      "  mid_med_ratio_th_T1_inc.append(np.mean(tophat_img_T1[7:13, 7:13, 7:13])/((sum(sum(sum(tophat_img_T1[6:14, 6:14, 6:14]))))/512))\n",
      "C:\\Users\\ellen\\AppData\\Local\\Temp/ipykernel_29340/797585187.py:120: RuntimeWarning: divide by zero encountered in double_scalars\n",
      "  mid_small_ratio_th_st.append(np.mean(tophat_img_st[8:12, 8:12, 8:12])/((sum(sum(sum(tophat_img_st[7:13, 7:13, 7:13]))) - sum(sum(sum(tophat_img_st[8:12, 8:12, 8:12]))))/152))\n",
      "C:\\Users\\ellen\\AppData\\Local\\Temp/ipykernel_29340/797585187.py:121: RuntimeWarning: divide by zero encountered in double_scalars\n",
      "  mid_med_ratio_th_st.append(np.mean(tophat_img_st[7:13, 7:13, 7:13])/((sum(sum(sum(tophat_img_st[6:14, 6:14, 6:14]))) - sum(sum(sum(tophat_img_st[7:13, 7:13, 7:13]))))/296))\n",
      "C:\\Users\\ellen\\AppData\\Local\\Temp/ipykernel_29340/797585187.py:111: RuntimeWarning: invalid value encountered in double_scalars\n",
      "  mid_large_ratio_th_T1.append(np.mean(tophat_img_T1[6:14, 6:14, 6:14])/((sum(sum(sum(tophat_img_T1[3:17, 3:17, 3:17]))) - sum(sum(sum(tophat_img_T1[6:14, 6:14, 6:14]))))/2232))\n",
      "C:\\Users\\ellen\\AppData\\Local\\Temp/ipykernel_29340/797585187.py:114: RuntimeWarning: invalid value encountered in double_scalars\n",
      "  mid_large_ratio_th_T1_inc.append(np.mean(tophat_img_T1[6:14, 6:14, 6:14])/((sum(sum(sum(tophat_img_T1[3:17, 3:17, 3:17]))))/2744))\n"
     ]
    },
    {
     "name": "stderr",
     "output_type": "stream",
     "text": [
      "C:\\Users\\ellen\\AppData\\Local\\Temp/ipykernel_29340/797585187.py:75: RuntimeWarning: invalid value encountered in double_scalars\n",
      "  mid_large_ratio_T1.append(np.mean(X_train[index][4][6:14, 6:14, 6:14])/((sum(sum(sum(X_train[index][4][3:17, 3:17, 3:17]))) - sum(sum(sum(X_train[index][4][6:14, 6:14, 6:14]))))/2232))\n",
      "C:\\Users\\ellen\\AppData\\Local\\Temp/ipykernel_29340/797585187.py:78: RuntimeWarning: invalid value encountered in double_scalars\n",
      "  mid_large_ratio_T1_inc.append(np.mean(X_train[index][4][6:14, 6:14, 6:14])/((sum(sum(sum(X_train[index][4][3:17, 3:17, 3:17]))))/2744))\n",
      "C:\\Users\\ellen\\AppData\\Local\\Temp/ipykernel_29340/797585187.py:73: RuntimeWarning: divide by zero encountered in double_scalars\n",
      "  mid_small_ratio_T1.append(np.mean(X_train[index][4][8:12, 8:12, 8:12])/((sum(sum(sum(X_train[index][4][7:13, 7:13, 7:13]))) - sum(sum(sum(X_train[index][4][8:12, 8:12, 8:12]))))/152))\n",
      "C:\\Users\\ellen\\AppData\\Local\\Temp/ipykernel_29340/797585187.py:109: RuntimeWarning: divide by zero encountered in double_scalars\n",
      "  mid_small_ratio_th_T1.append(np.mean(tophat_img_T1[8:12, 8:12, 8:12])/((sum(sum(sum(tophat_img_T1[7:13, 7:13, 7:13]))) - sum(sum(sum(tophat_img_T1[8:12, 8:12, 8:12]))))/152))\n",
      "C:\\Users\\ellen\\AppData\\Local\\Temp/ipykernel_29340/797585187.py:110: RuntimeWarning: divide by zero encountered in double_scalars\n",
      "  mid_med_ratio_th_T1.append(np.mean(tophat_img_T1[7:13, 7:13, 7:13])/((sum(sum(sum(tophat_img_T1[6:14, 6:14, 6:14]))) - sum(sum(sum(tophat_img_T1[7:13, 7:13, 7:13]))))/296))\n"
     ]
    },
    {
     "name": "stdout",
     "output_type": "stream",
     "text": [
      "29719\n",
      "29719\n",
      "29719\n",
      "29719\n",
      "29719\n",
      "29719\n",
      "29719\n",
      "29719\n",
      "29719\n",
      "29719\n",
      "29719\n",
      "29719\n",
      "29719\n",
      "29719\n",
      "29719\n",
      "29719\n",
      "29719\n",
      "29719\n",
      "29719\n",
      "29719\n",
      "29719\n",
      "29719\n",
      "29719\n",
      "29719\n",
      "29719\n",
      "29719\n",
      "29719\n",
      "29719\n",
      "29719\n",
      "29719\n",
      "29719\n",
      "29719\n",
      "29719\n",
      "29719\n",
      "29719\n",
      "29719\n",
      "29719\n",
      "29719\n"
     ]
    }
   ],
   "source": [
    "#Features\n",
    "filterSize =(5,5)\n",
    "kernel = cv2.getStructuringElement(cv2.MORPH_RECT,filterSize)\n",
    "\n",
    "min_T1 = []\n",
    "med_T1 = []\n",
    "mid_T1 = []\n",
    "mid_small_ratio_T1 = []\n",
    "mid_med_ratio_T1 = []\n",
    "mid_large_ratio_T1 = []\n",
    "mid_small_ratio_T1_inc = []\n",
    "mid_med_ratio_T1_inc = []\n",
    "mid_large_ratio_T1_inc = []\n",
    "mean_T1 = []\n",
    "max_T1 = []\n",
    "min_FLAIR = []\n",
    "med_FLAIR = []\n",
    "mid_FLAIR = []\n",
    "mid_small_ratio_FLAIR = []\n",
    "mid_med_ratio_FLAIR = []\n",
    "mid_large_ratio_FLAIR = []\n",
    "mid_small_ratio_FLAIR_inc = []\n",
    "mid_med_ratio_FLAIR_inc = []\n",
    "mid_large_ratio_FLAIR_inc = []\n",
    "mean_FLAIR = []\n",
    "max_FLAIR = []\n",
    "density_diff = []\n",
    "sum_soft_tiss_binary = []\n",
    "sum_percent_soft_tiss = []\n",
    "min_st = []\n",
    "med_st = []\n",
    "mid_st = []\n",
    "mid_small_ratio_st = []\n",
    "mid_med_ratio_st = []\n",
    "mid_large_ratio_st = []\n",
    "mid_small_ratio_st_inc = []\n",
    "mid_med_ratio_st_inc = []\n",
    "mid_large_ratio_st_inc = []\n",
    "mean_st = []\n",
    "max_st = []\n",
    "min_th_T1 = []\n",
    "med_th_T1 = []\n",
    "mid_th_T1 = []\n",
    "mid_small_ratio_th_T1 = []\n",
    "mid_med_ratio_th_T1 = []\n",
    "mid_large_ratio_th_T1 = []\n",
    "mid_small_ratio_th_T1_inc = []\n",
    "mid_med_ratio_th_T1_inc = []\n",
    "mid_large_ratio_th_T1_inc = []\n",
    "mean_th_T1 = []\n",
    "max_th_T1 = []\n",
    "min_th_st = []\n",
    "med_th_st = []\n",
    "mid_th_st = []\n",
    "mid_small_ratio_th_st = []\n",
    "mid_med_ratio_th_st = []\n",
    "mid_large_ratio_th_st = []\n",
    "mid_small_ratio_th_st_inc = []\n",
    "mid_med_ratio_th_st_inc = []\n",
    "mid_large_ratio_th_st_inc = []\n",
    "mean_th_st = []\n",
    "max_th_st = []\n",
    "x = []\n",
    "y = []\n",
    "z = []\n",
    "\n",
    "for index in range(len(X_train)):\n",
    "    tophat_img_T1 = cv2.morphologyEx(X_train[index][4], cv2.MORPH_BLACKHAT,kernel)\n",
    "    tophat_img_st = cv2.morphologyEx(X_train[index][7], cv2.MORPH_BLACKHAT,kernel)\n",
    "    min_T1.append(np.min(X_train[index][4]))\n",
    "    med_T1.append(np.median(X_train[index][4]))\n",
    "    mid_T1.append(X_train[index][4][10,10,10])\n",
    "    mid_small_ratio_T1.append(np.mean(X_train[index][4][8:12, 8:12, 8:12])/((sum(sum(sum(X_train[index][4][7:13, 7:13, 7:13]))) - sum(sum(sum(X_train[index][4][8:12, 8:12, 8:12]))))/152))\n",
    "    mid_med_ratio_T1.append(np.mean(X_train[index][4][7:13, 7:13, 7:13])/((sum(sum(sum(X_train[index][4][6:14, 6:14, 6:14]))) - sum(sum(sum(X_train[index][4][7:13, 7:13, 7:13]))))/296))\n",
    "    mid_large_ratio_T1.append(np.mean(X_train[index][4][6:14, 6:14, 6:14])/((sum(sum(sum(X_train[index][4][3:17, 3:17, 3:17]))) - sum(sum(sum(X_train[index][4][6:14, 6:14, 6:14]))))/2232))\n",
    "    mid_small_ratio_T1_inc.append(np.mean(X_train[index][4][8:12, 8:12, 8:12])/((sum(sum(sum(X_train[index][4][7:13, 7:13, 7:13]))))/216))\n",
    "    mid_med_ratio_T1_inc.append(np.mean(X_train[index][4][7:13, 7:13, 7:13])/((sum(sum(sum(X_train[index][4][6:14, 6:14, 6:14]))))/512))\n",
    "    mid_large_ratio_T1_inc.append(np.mean(X_train[index][4][6:14, 6:14, 6:14])/((sum(sum(sum(X_train[index][4][3:17, 3:17, 3:17]))))/2744))\n",
    "    mean_T1.append(np.mean(X_train[index][4]))\n",
    "    max_T1.append(np.max(X_train[index][4]))\n",
    "    min_FLAIR.append(np.min(X_train[index][5]))\n",
    "    med_FLAIR.append(np.median(X_train[index][5]))\n",
    "    mid_FLAIR.append(X_train[index][5][10,10,10])\n",
    "    mid_small_ratio_FLAIR.append(np.mean(X_train[index][5][8:12, 8:12, 8:12])/((sum(sum(sum(X_train[index][5][7:13, 7:13, 7:13]))) - sum(sum(sum(X_train[index][5][8:12, 8:12, 8:12]))))/152))\n",
    "    mid_med_ratio_FLAIR.append(np.mean(X_train[index][5][7:13, 7:13, 7:13])/((sum(sum(sum(X_train[index][5][6:14, 6:14, 6:14]))) - sum(sum(sum(X_train[index][5][7:13, 7:13, 7:13]))))/296))\n",
    "    mid_large_ratio_FLAIR.append(np.mean(X_train[index][5][6:14, 6:14, 6:14])/((sum(sum(sum(X_train[index][5][3:17, 3:17, 3:17]))) - sum(sum(sum(X_train[index][5][6:14, 6:14, 6:14]))))/2232))\n",
    "    mid_small_ratio_FLAIR_inc.append(np.mean(X_train[index][5][8:12, 8:12, 8:12])/((sum(sum(sum(X_train[index][5][7:13, 7:13, 7:13]))))/216))\n",
    "    mid_med_ratio_FLAIR_inc.append(np.mean(X_train[index][5][7:13, 7:13, 7:13])/((sum(sum(sum(X_train[index][5][6:14, 6:14, 6:14]))))/512))\n",
    "    mid_large_ratio_FLAIR_inc.append(np.mean(X_train[index][5][6:14, 6:14, 6:14])/((sum(sum(sum(X_train[index][5][3:17, 3:17, 3:17]))))/2744))\n",
    "    mean_FLAIR.append(np.mean(X_train[index][5]))\n",
    "    max_FLAIR.append(np.max(X_train[index][5]))\n",
    "    density_diff.append(X_train[index][5][10,10,10] - X_train[index][4][10,10,10])\n",
    "    sum_soft_tiss_binary.append(sum(sum(sum(X_train[index][6]))))\n",
    "    sum_percent_soft_tiss.append(sum(sum(sum(X_train[index][7]))))\n",
    "    min_st.append(np.min(X_train[index][6]))\n",
    "    med_st.append(np.median(X_train[index][6]))\n",
    "    mid_st.append(X_train[index][6][10,10,10])\n",
    "    mid_small_ratio_st.append(np.mean(X_train[index][6][8:12, 8:12, 8:12])/((sum(sum(sum(X_train[index][6][7:13, 7:13, 7:13]))) - sum(sum(sum(X_train[index][6][8:12, 8:12, 8:12]))))/152))\n",
    "    mid_med_ratio_st.append(np.mean(X_train[index][6][7:13, 7:13, 7:13])/((sum(sum(sum(X_train[index][6][6:14, 6:14, 6:14]))) - sum(sum(sum(X_train[index][6][7:13, 7:13, 7:13]))))/296))\n",
    "    mid_large_ratio_st.append(np.mean(X_train[index][6][6:14, 6:14, 6:14])/((sum(sum(sum(X_train[index][6][3:17, 3:17, 3:17]))) - sum(sum(sum(X_train[index][6][6:14, 6:14, 6:14]))))/2232))\n",
    "    mid_small_ratio_st_inc.append(np.mean(X_train[index][6][8:12, 8:12, 8:12])/((sum(sum(sum(X_train[index][6][7:13, 7:13, 7:13]))))/216))\n",
    "    mid_med_ratio_st_inc.append(np.mean(X_train[index][6][7:13, 7:13, 7:13])/((sum(sum(sum(X_train[index][6][6:14, 6:14, 6:14]))))/512))\n",
    "    mid_large_ratio_st_inc.append(np.mean(X_train[index][6][6:14, 6:14, 6:14])/((sum(sum(sum(X_train[index][6][3:17, 3:17, 3:17]))))/2744))\n",
    "    mean_st.append(np.mean(X_train[index][6]))\n",
    "    max_st.append(np.max(X_train[index][6]))\n",
    "    min_th_T1.append(np.min(tophat_img_T1))\n",
    "    med_th_T1.append(np.median(tophat_img_T1))\n",
    "    mid_th_T1.append(tophat_img_T1[10,10,10])\n",
    "    mid_small_ratio_th_T1.append(np.mean(tophat_img_T1[8:12, 8:12, 8:12])/((sum(sum(sum(tophat_img_T1[7:13, 7:13, 7:13]))) - sum(sum(sum(tophat_img_T1[8:12, 8:12, 8:12]))))/152))\n",
    "    mid_med_ratio_th_T1.append(np.mean(tophat_img_T1[7:13, 7:13, 7:13])/((sum(sum(sum(tophat_img_T1[6:14, 6:14, 6:14]))) - sum(sum(sum(tophat_img_T1[7:13, 7:13, 7:13]))))/296))\n",
    "    mid_large_ratio_th_T1.append(np.mean(tophat_img_T1[6:14, 6:14, 6:14])/((sum(sum(sum(tophat_img_T1[3:17, 3:17, 3:17]))) - sum(sum(sum(tophat_img_T1[6:14, 6:14, 6:14]))))/2232))\n",
    "    mid_small_ratio_th_T1_inc.append(np.mean(tophat_img_T1[8:12, 8:12, 8:12])/((sum(sum(sum(tophat_img_T1[7:13, 7:13, 7:13]))))/216))\n",
    "    mid_med_ratio_th_T1_inc.append(np.mean(tophat_img_T1[7:13, 7:13, 7:13])/((sum(sum(sum(tophat_img_T1[6:14, 6:14, 6:14]))))/512))\n",
    "    mid_large_ratio_th_T1_inc.append(np.mean(tophat_img_T1[6:14, 6:14, 6:14])/((sum(sum(sum(tophat_img_T1[3:17, 3:17, 3:17]))))/2744))\n",
    "    mean_th_T1.append(np.mean(tophat_img_T1))\n",
    "    max_th_T1.append(np.max(tophat_img_T1))\n",
    "    min_th_st.append(np.min(tophat_img_st))\n",
    "    med_th_st.append(np.median(tophat_img_st))\n",
    "    mid_th_st.append(tophat_img_st[10,10,10])\n",
    "    mid_small_ratio_th_st.append(np.mean(tophat_img_st[8:12, 8:12, 8:12])/((sum(sum(sum(tophat_img_st[7:13, 7:13, 7:13]))) - sum(sum(sum(tophat_img_st[8:12, 8:12, 8:12]))))/152))\n",
    "    mid_med_ratio_th_st.append(np.mean(tophat_img_st[7:13, 7:13, 7:13])/((sum(sum(sum(tophat_img_st[6:14, 6:14, 6:14]))) - sum(sum(sum(tophat_img_st[7:13, 7:13, 7:13]))))/296))\n",
    "    mid_large_ratio_th_st.append(np.mean(tophat_img_st[6:14, 6:14, 6:14])/((sum(sum(sum(tophat_img_st[3:17, 3:17, 3:17]))) - sum(sum(sum(tophat_img_st[6:14, 6:14, 6:14]))))/2232))\n",
    "    mid_small_ratio_th_st_inc.append(np.mean(tophat_img_st[8:12, 8:12, 8:12])/((sum(sum(sum(tophat_img_st[7:13, 7:13, 7:13]))))/216))\n",
    "    mid_med_ratio_th_st_inc.append(np.mean(tophat_img_st[7:13, 7:13, 7:13])/((sum(sum(sum(tophat_img_st[6:14, 6:14, 6:14]))))/512))\n",
    "    mid_large_ratio_th_st_inc.append(np.mean(tophat_img_st[6:14, 6:14, 6:14])/((sum(sum(sum(tophat_img_st[3:17, 3:17, 3:17]))))/2744))\n",
    "    mean_th_st.append(np.mean(tophat_img_st))\n",
    "    max_th_st.append(np.max(tophat_img_st))\n",
    "    x.append(X_train[index][1])\n",
    "    y.append(X_train[index][2])\n",
    "    z.append(X_train[index][3])\n",
    "    \n",
    "    #edges = canny(tophat_img)\n",
    "\n",
    "\n",
    "print(len(min_T1))\n",
    "print(len(med_T1))\n",
    "print(len(mid_T1))\n",
    "print(len(mid_small_ratio_T1))\n",
    "print(len(mid_med_ratio_T1))\n",
    "print(len(mid_large_ratio_T1))\n",
    "print(len(mid_small_ratio_T1_inc))\n",
    "print(len(mid_med_ratio_T1_inc))\n",
    "print(len(mid_large_ratio_T1_inc))\n",
    "print(len(mean_T1))\n",
    "print(len(max_T1))\n",
    "print(len(min_FLAIR))\n",
    "print(len(med_FLAIR))\n",
    "print(len(mid_FLAIR))\n",
    "print(len(mid_small_ratio_FLAIR))\n",
    "print(len(mid_med_ratio_FLAIR))\n",
    "print(len(mid_large_ratio_FLAIR))\n",
    "print(len(mid_small_ratio_FLAIR_inc))\n",
    "print(len(mid_med_ratio_FLAIR_inc))\n",
    "print(len(mid_large_ratio_FLAIR_inc))\n",
    "print(len(mean_FLAIR))\n",
    "print(len(max_FLAIR))\n",
    "print(len(sum_soft_tiss_binary))\n",
    "print(len(sum_percent_soft_tiss))\n",
    "print(len(min_st))\n",
    "print(len(med_st))\n",
    "print(len(mid_st))\n",
    "print(len(mid_small_ratio_st))\n",
    "print(len(mid_med_ratio_st))\n",
    "print(len(mid_large_ratio_st))\n",
    "print(len(mid_small_ratio_st_inc))\n",
    "print(len(mid_med_ratio_st_inc))\n",
    "print(len(mid_large_ratio_st_inc))\n",
    "print(len(mean_st))\n",
    "print(len(max_st))\n",
    "print(len(x))\n",
    "print(len(y))\n",
    "print(len(z))"
   ]
  },
  {
   "cell_type": "code",
   "execution_count": 217,
   "id": "596ff875",
   "metadata": {},
   "outputs": [
    {
     "name": "stderr",
     "output_type": "stream",
     "text": [
      "C:\\Users\\ellen\\AppData\\Local\\Temp/ipykernel_29340/2762236851.py:82: RuntimeWarning: invalid value encountered in double_scalars\n",
      "  mid_small_ratio_FLAIR_test.append(np.mean(X_test[index][5][8:12, 8:12, 8:12])/((sum(sum(sum(X_test[index][5][7:13, 7:13, 7:13]))) - sum(sum(sum(X_test[index][5][8:12, 8:12, 8:12]))))/152))\n",
      "C:\\Users\\ellen\\AppData\\Local\\Temp/ipykernel_29340/2762236851.py:83: RuntimeWarning: invalid value encountered in double_scalars\n",
      "  mid_med_ratio_FLAIR_test.append(np.mean(X_test[index][5][7:13, 7:13, 7:13])/((sum(sum(sum(X_test[index][5][6:14, 6:14, 6:14]))) - sum(sum(sum(X_test[index][5][7:13, 7:13, 7:13]))))/296))\n",
      "C:\\Users\\ellen\\AppData\\Local\\Temp/ipykernel_29340/2762236851.py:84: RuntimeWarning: invalid value encountered in double_scalars\n",
      "  mid_large_ratio_FLAIR_test.append(np.mean(X_test[index][5][6:14, 6:14, 6:14])/((sum(sum(sum(X_test[index][5][3:17, 3:17, 3:17]))) - sum(sum(sum(X_test[index][5][6:14, 6:14, 6:14]))))/2232))\n",
      "C:\\Users\\ellen\\AppData\\Local\\Temp/ipykernel_29340/2762236851.py:85: RuntimeWarning: invalid value encountered in double_scalars\n",
      "  mid_small_ratio_FLAIR_inc_test.append(np.mean(X_test[index][5][8:12, 8:12, 8:12])/((sum(sum(sum(X_test[index][5][7:13, 7:13, 7:13]))))/216))\n",
      "C:\\Users\\ellen\\AppData\\Local\\Temp/ipykernel_29340/2762236851.py:86: RuntimeWarning: invalid value encountered in double_scalars\n",
      "  mid_med_ratio_FLAIR_inc_test.append(np.mean(X_test[index][5][7:13, 7:13, 7:13])/((sum(sum(sum(X_test[index][5][6:14, 6:14, 6:14]))))/512))\n",
      "C:\\Users\\ellen\\AppData\\Local\\Temp/ipykernel_29340/2762236851.py:87: RuntimeWarning: invalid value encountered in double_scalars\n",
      "  mid_large_ratio_FLAIR_inc_test.append(np.mean(X_test[index][5][6:14, 6:14, 6:14])/((sum(sum(sum(X_test[index][5][3:17, 3:17, 3:17]))))/2744))\n",
      "C:\\Users\\ellen\\AppData\\Local\\Temp/ipykernel_29340/2762236851.py:97: RuntimeWarning: invalid value encountered in double_scalars\n",
      "  mid_small_ratio_st_test.append(np.mean(X_test[index][6][8:12, 8:12, 8:12])/((sum(sum(sum(X_test[index][6][7:13, 7:13, 7:13]))) - sum(sum(sum(X_test[index][6][8:12, 8:12, 8:12]))))/152))\n",
      "C:\\Users\\ellen\\AppData\\Local\\Temp/ipykernel_29340/2762236851.py:98: RuntimeWarning: invalid value encountered in double_scalars\n",
      "  mid_med_ratio_st_test.append(np.mean(X_test[index][6][7:13, 7:13, 7:13])/((sum(sum(sum(X_test[index][6][6:14, 6:14, 6:14]))) - sum(sum(sum(X_test[index][6][7:13, 7:13, 7:13]))))/296))\n",
      "C:\\Users\\ellen\\AppData\\Local\\Temp/ipykernel_29340/2762236851.py:99: RuntimeWarning: invalid value encountered in double_scalars\n",
      "  mid_large_ratio_st_test.append(np.mean(X_test[index][6][6:14, 6:14, 6:14])/((sum(sum(sum(X_test[index][6][3:17, 3:17, 3:17]))) - sum(sum(sum(X_test[index][6][6:14, 6:14, 6:14]))))/2232))\n",
      "C:\\Users\\ellen\\AppData\\Local\\Temp/ipykernel_29340/2762236851.py:100: RuntimeWarning: invalid value encountered in double_scalars\n",
      "  mid_small_ratio_st_inc_test.append(np.mean(X_test[index][6][8:12, 8:12, 8:12])/((sum(sum(sum(X_test[index][6][7:13, 7:13, 7:13]))))/216))\n",
      "C:\\Users\\ellen\\AppData\\Local\\Temp/ipykernel_29340/2762236851.py:101: RuntimeWarning: invalid value encountered in double_scalars\n",
      "  mid_med_ratio_st_inc_test.append(np.mean(X_test[index][6][7:13, 7:13, 7:13])/((sum(sum(sum(X_test[index][6][6:14, 6:14, 6:14]))))/512))\n",
      "C:\\Users\\ellen\\AppData\\Local\\Temp/ipykernel_29340/2762236851.py:102: RuntimeWarning: invalid value encountered in double_scalars\n",
      "  mid_large_ratio_st_inc_test.append(np.mean(X_test[index][6][6:14, 6:14, 6:14])/((sum(sum(sum(X_test[index][6][3:17, 3:17, 3:17]))))/2744))\n",
      "C:\\Users\\ellen\\AppData\\Local\\Temp/ipykernel_29340/2762236851.py:119: RuntimeWarning: invalid value encountered in double_scalars\n",
      "  mid_small_ratio_th_st_test.append(np.mean(tophat_img_st[8:12, 8:12, 8:12])/((sum(sum(sum(tophat_img_st[7:13, 7:13, 7:13]))) - sum(sum(sum(tophat_img_st[8:12, 8:12, 8:12]))))/152))\n",
      "C:\\Users\\ellen\\AppData\\Local\\Temp/ipykernel_29340/2762236851.py:120: RuntimeWarning: invalid value encountered in double_scalars\n",
      "  mid_med_ratio_th_st_test.append(np.mean(tophat_img_st[7:13, 7:13, 7:13])/((sum(sum(sum(tophat_img_st[6:14, 6:14, 6:14]))) - sum(sum(sum(tophat_img_st[7:13, 7:13, 7:13]))))/296))\n",
      "C:\\Users\\ellen\\AppData\\Local\\Temp/ipykernel_29340/2762236851.py:121: RuntimeWarning: invalid value encountered in double_scalars\n",
      "  mid_large_ratio_th_st_test.append(np.mean(tophat_img_st[6:14, 6:14, 6:14])/((sum(sum(sum(tophat_img_st[3:17, 3:17, 3:17]))) - sum(sum(sum(tophat_img_st[6:14, 6:14, 6:14]))))/2232))\n",
      "C:\\Users\\ellen\\AppData\\Local\\Temp/ipykernel_29340/2762236851.py:122: RuntimeWarning: invalid value encountered in double_scalars\n",
      "  mid_small_ratio_th_st_inc_test.append(np.mean(tophat_img_st[8:12, 8:12, 8:12])/((sum(sum(sum(tophat_img_st[7:13, 7:13, 7:13]))))/216))\n",
      "C:\\Users\\ellen\\AppData\\Local\\Temp/ipykernel_29340/2762236851.py:123: RuntimeWarning: invalid value encountered in double_scalars\n",
      "  mid_med_ratio_th_st_inc_test.append(np.mean(tophat_img_st[7:13, 7:13, 7:13])/((sum(sum(sum(tophat_img_st[6:14, 6:14, 6:14]))))/512))\n",
      "C:\\Users\\ellen\\AppData\\Local\\Temp/ipykernel_29340/2762236851.py:124: RuntimeWarning: invalid value encountered in double_scalars\n",
      "  mid_large_ratio_th_st_inc_test.append(np.mean(tophat_img_st[6:14, 6:14, 6:14])/((sum(sum(sum(tophat_img_st[3:17, 3:17, 3:17]))))/2744))\n",
      "C:\\Users\\ellen\\AppData\\Local\\Temp/ipykernel_29340/2762236851.py:91: RuntimeWarning: divide by zero encountered in double_scalars\n",
      "  density_diff_test.append(X_test[index][5][10,10,10]/X_test[index][4][10,10,10])\n",
      "C:\\Users\\ellen\\AppData\\Local\\Temp/ipykernel_29340/2762236851.py:91: RuntimeWarning: invalid value encountered in double_scalars\n",
      "  density_diff_test.append(X_test[index][5][10,10,10]/X_test[index][4][10,10,10])\n",
      "C:\\Users\\ellen\\AppData\\Local\\Temp/ipykernel_29340/2762236851.py:108: RuntimeWarning: invalid value encountered in double_scalars\n",
      "  mid_small_ratio_th_T1_test.append(np.mean(tophat_img_T1[8:12, 8:12, 8:12])/((sum(sum(sum(tophat_img_T1[7:13, 7:13, 7:13]))) - sum(sum(sum(tophat_img_T1[8:12, 8:12, 8:12]))))/152))\n",
      "C:\\Users\\ellen\\AppData\\Local\\Temp/ipykernel_29340/2762236851.py:111: RuntimeWarning: invalid value encountered in double_scalars\n",
      "  mid_small_ratio_th_T1_inc_test.append(np.mean(tophat_img_T1[8:12, 8:12, 8:12])/((sum(sum(sum(tophat_img_T1[7:13, 7:13, 7:13]))))/216))\n",
      "C:\\Users\\ellen\\AppData\\Local\\Temp/ipykernel_29340/2762236851.py:119: RuntimeWarning: divide by zero encountered in double_scalars\n",
      "  mid_small_ratio_th_st_test.append(np.mean(tophat_img_st[8:12, 8:12, 8:12])/((sum(sum(sum(tophat_img_st[7:13, 7:13, 7:13]))) - sum(sum(sum(tophat_img_st[8:12, 8:12, 8:12]))))/152))\n",
      "C:\\Users\\ellen\\AppData\\Local\\Temp/ipykernel_29340/2762236851.py:120: RuntimeWarning: divide by zero encountered in double_scalars\n",
      "  mid_med_ratio_th_st_test.append(np.mean(tophat_img_st[7:13, 7:13, 7:13])/((sum(sum(sum(tophat_img_st[6:14, 6:14, 6:14]))) - sum(sum(sum(tophat_img_st[7:13, 7:13, 7:13]))))/296))\n",
      "C:\\Users\\ellen\\AppData\\Local\\Temp/ipykernel_29340/2762236851.py:70: RuntimeWarning: invalid value encountered in double_scalars\n",
      "  mid_small_ratio_T1_test.append(np.mean(X_test[index][4][8:12, 8:12, 8:12])/((sum(sum(sum(X_test[index][4][7:13, 7:13, 7:13]))) - sum(sum(sum(X_test[index][4][8:12, 8:12, 8:12]))))/152))\n",
      "C:\\Users\\ellen\\AppData\\Local\\Temp/ipykernel_29340/2762236851.py:73: RuntimeWarning: invalid value encountered in double_scalars\n",
      "  mid_small_ratio_T1_inc_test.append(np.mean(X_test[index][4][8:12, 8:12, 8:12])/((sum(sum(sum(X_test[index][4][7:13, 7:13, 7:13]))))/216))\n",
      "C:\\Users\\ellen\\AppData\\Local\\Temp/ipykernel_29340/2762236851.py:109: RuntimeWarning: invalid value encountered in double_scalars\n",
      "  mid_med_ratio_th_T1_test.append(np.mean(tophat_img_T1[7:13, 7:13, 7:13])/((sum(sum(sum(tophat_img_T1[6:14, 6:14, 6:14]))) - sum(sum(sum(tophat_img_T1[7:13, 7:13, 7:13]))))/296))\n",
      "C:\\Users\\ellen\\AppData\\Local\\Temp/ipykernel_29340/2762236851.py:112: RuntimeWarning: invalid value encountered in double_scalars\n",
      "  mid_med_ratio_th_T1_inc_test.append(np.mean(tophat_img_T1[7:13, 7:13, 7:13])/((sum(sum(sum(tophat_img_T1[6:14, 6:14, 6:14]))))/512))\n",
      "C:\\Users\\ellen\\AppData\\Local\\Temp/ipykernel_29340/2762236851.py:70: RuntimeWarning: divide by zero encountered in double_scalars\n",
      "  mid_small_ratio_T1_test.append(np.mean(X_test[index][4][8:12, 8:12, 8:12])/((sum(sum(sum(X_test[index][4][7:13, 7:13, 7:13]))) - sum(sum(sum(X_test[index][4][8:12, 8:12, 8:12]))))/152))\n",
      "C:\\Users\\ellen\\AppData\\Local\\Temp/ipykernel_29340/2762236851.py:108: RuntimeWarning: divide by zero encountered in double_scalars\n",
      "  mid_small_ratio_th_T1_test.append(np.mean(tophat_img_T1[8:12, 8:12, 8:12])/((sum(sum(sum(tophat_img_T1[7:13, 7:13, 7:13]))) - sum(sum(sum(tophat_img_T1[8:12, 8:12, 8:12]))))/152))\n"
     ]
    },
    {
     "name": "stderr",
     "output_type": "stream",
     "text": [
      "C:\\Users\\ellen\\AppData\\Local\\Temp/ipykernel_29340/2762236851.py:71: RuntimeWarning: invalid value encountered in double_scalars\n",
      "  mid_med_ratio_T1_test.append(np.mean(X_test[index][4][7:13, 7:13, 7:13])/((sum(sum(sum(X_test[index][4][6:14, 6:14, 6:14]))) - sum(sum(sum(X_test[index][4][7:13, 7:13, 7:13]))))/296))\n",
      "C:\\Users\\ellen\\AppData\\Local\\Temp/ipykernel_29340/2762236851.py:74: RuntimeWarning: invalid value encountered in double_scalars\n",
      "  mid_med_ratio_T1_inc_test.append(np.mean(X_test[index][4][7:13, 7:13, 7:13])/((sum(sum(sum(X_test[index][4][6:14, 6:14, 6:14]))))/512))\n",
      "C:\\Users\\ellen\\AppData\\Local\\Temp/ipykernel_29340/2762236851.py:110: RuntimeWarning: invalid value encountered in double_scalars\n",
      "  mid_large_ratio_th_T1_test.append(np.mean(tophat_img_T1[6:14, 6:14, 6:14])/((sum(sum(sum(tophat_img_T1[3:17, 3:17, 3:17]))) - sum(sum(sum(tophat_img_T1[6:14, 6:14, 6:14]))))/2232))\n",
      "C:\\Users\\ellen\\AppData\\Local\\Temp/ipykernel_29340/2762236851.py:113: RuntimeWarning: invalid value encountered in double_scalars\n",
      "  mid_large_ratio_th_T1_inc_test.append(np.mean(tophat_img_T1[6:14, 6:14, 6:14])/((sum(sum(sum(tophat_img_T1[3:17, 3:17, 3:17]))))/2744))\n",
      "C:\\Users\\ellen\\AppData\\Local\\Temp/ipykernel_29340/2762236851.py:72: RuntimeWarning: invalid value encountered in double_scalars\n",
      "  mid_large_ratio_T1_test.append(np.mean(X_test[index][4][6:14, 6:14, 6:14])/((sum(sum(sum(X_test[index][4][3:17, 3:17, 3:17]))) - sum(sum(sum(X_test[index][4][6:14, 6:14, 6:14]))))/2232))\n",
      "C:\\Users\\ellen\\AppData\\Local\\Temp/ipykernel_29340/2762236851.py:75: RuntimeWarning: invalid value encountered in double_scalars\n",
      "  mid_large_ratio_T1_inc_test.append(np.mean(X_test[index][4][6:14, 6:14, 6:14])/((sum(sum(sum(X_test[index][4][3:17, 3:17, 3:17]))))/2744))\n",
      "C:\\Users\\ellen\\AppData\\Local\\Temp/ipykernel_29340/2762236851.py:109: RuntimeWarning: divide by zero encountered in double_scalars\n",
      "  mid_med_ratio_th_T1_test.append(np.mean(tophat_img_T1[7:13, 7:13, 7:13])/((sum(sum(sum(tophat_img_T1[6:14, 6:14, 6:14]))) - sum(sum(sum(tophat_img_T1[7:13, 7:13, 7:13]))))/296))\n"
     ]
    }
   ],
   "source": [
    "#Features\n",
    "min_T1_test = []\n",
    "med_T1_test = []\n",
    "mid_T1_test = []\n",
    "mid_small_ratio_T1_test = []\n",
    "mid_med_ratio_T1_test = []\n",
    "mid_large_ratio_T1_test = []\n",
    "mid_small_ratio_T1_inc_test = []\n",
    "mid_med_ratio_T1_inc_test = []\n",
    "mid_large_ratio_T1_inc_test = []\n",
    "mean_T1_test = []\n",
    "max_T1_test = []\n",
    "min_FLAIR_test = []\n",
    "med_FLAIR_test = []\n",
    "mid_FLAIR_test = []\n",
    "mid_small_ratio_FLAIR_test = []\n",
    "mid_med_ratio_FLAIR_test = []\n",
    "mid_large_ratio_FLAIR_test = []\n",
    "mid_small_ratio_FLAIR_inc_test = []\n",
    "mid_med_ratio_FLAIR_inc_test = []\n",
    "mid_large_ratio_FLAIR_inc_test = []\n",
    "mean_FLAIR_test = []\n",
    "max_FLAIR_test = []\n",
    "density_diff_test = []\n",
    "sum_soft_tiss_binary_test = []\n",
    "sum_percent_soft_tiss_test = []\n",
    "min_st_test = []\n",
    "med_st_test = []\n",
    "mid_st_test = []\n",
    "mid_small_ratio_st_test = []\n",
    "mid_med_ratio_st_test = []\n",
    "mid_large_ratio_st_test = []\n",
    "mid_small_ratio_st_inc_test = []\n",
    "mid_med_ratio_st_inc_test = []\n",
    "mid_large_ratio_st_inc_test = []\n",
    "mean_st_test = []\n",
    "max_st_test = []\n",
    "min_th_T1_test = []\n",
    "med_th_T1_test = []\n",
    "mid_th_T1_test = []\n",
    "mid_small_ratio_th_T1_test = []\n",
    "mid_med_ratio_th_T1_test = []\n",
    "mid_large_ratio_th_T1_test = []\n",
    "mid_small_ratio_th_T1_inc_test = []\n",
    "mid_med_ratio_th_T1_inc_test = []\n",
    "mid_large_ratio_th_T1_inc_test = []\n",
    "mean_th_T1_test = []\n",
    "max_th_T1_test = []\n",
    "min_th_st_test = []\n",
    "med_th_st_test = []\n",
    "mid_th_st_test = []\n",
    "mid_small_ratio_th_st_test = []\n",
    "mid_med_ratio_th_st_test = []\n",
    "mid_large_ratio_th_st_test = []\n",
    "mid_small_ratio_th_st_inc_test = []\n",
    "mid_med_ratio_th_st_inc_test = []\n",
    "mid_large_ratio_th_st_inc_test = []\n",
    "mean_th_st_test = []\n",
    "max_th_st_test = []\n",
    "x_test = []\n",
    "y_test = []\n",
    "z_test = []\n",
    "\n",
    "for index in range(len(X_test)):\n",
    "    tophat_img_T1 = cv2.morphologyEx(X_test[index][4], cv2.MORPH_BLACKHAT,kernel)\n",
    "    tophat_img_st = cv2.morphologyEx(X_test[index][7], cv2.MORPH_BLACKHAT,kernel)\n",
    "    min_T1_test.append(np.min(X_test[index][4]))\n",
    "    med_T1_test.append(np.median(X_test[index][4]))\n",
    "    mid_T1_test.append(X_test[index][4][10,10,10])\n",
    "    mid_small_ratio_T1_test.append(np.mean(X_test[index][4][8:12, 8:12, 8:12])/((sum(sum(sum(X_test[index][4][7:13, 7:13, 7:13]))) - sum(sum(sum(X_test[index][4][8:12, 8:12, 8:12]))))/152))\n",
    "    mid_med_ratio_T1_test.append(np.mean(X_test[index][4][7:13, 7:13, 7:13])/((sum(sum(sum(X_test[index][4][6:14, 6:14, 6:14]))) - sum(sum(sum(X_test[index][4][7:13, 7:13, 7:13]))))/296))\n",
    "    mid_large_ratio_T1_test.append(np.mean(X_test[index][4][6:14, 6:14, 6:14])/((sum(sum(sum(X_test[index][4][3:17, 3:17, 3:17]))) - sum(sum(sum(X_test[index][4][6:14, 6:14, 6:14]))))/2232))\n",
    "    mid_small_ratio_T1_inc_test.append(np.mean(X_test[index][4][8:12, 8:12, 8:12])/((sum(sum(sum(X_test[index][4][7:13, 7:13, 7:13]))))/216))\n",
    "    mid_med_ratio_T1_inc_test.append(np.mean(X_test[index][4][7:13, 7:13, 7:13])/((sum(sum(sum(X_test[index][4][6:14, 6:14, 6:14]))))/512))\n",
    "    mid_large_ratio_T1_inc_test.append(np.mean(X_test[index][4][6:14, 6:14, 6:14])/((sum(sum(sum(X_test[index][4][3:17, 3:17, 3:17]))))/2744))\n",
    "    mean_T1.append(np.mean(X_train[index][4]))\n",
    "    mean_T1_test.append(np.mean(X_test[index][4]))\n",
    "    max_T1_test.append(np.max(X_test[index][4]))\n",
    "    min_FLAIR_test.append(np.min(X_test[index][5]))\n",
    "    med_FLAIR_test.append(np.median(X_test[index][5]))\n",
    "    mid_FLAIR_test.append(X_train[index][5][10,10,10])\n",
    "    mid_small_ratio_FLAIR_test.append(np.mean(X_test[index][5][8:12, 8:12, 8:12])/((sum(sum(sum(X_test[index][5][7:13, 7:13, 7:13]))) - sum(sum(sum(X_test[index][5][8:12, 8:12, 8:12]))))/152))\n",
    "    mid_med_ratio_FLAIR_test.append(np.mean(X_test[index][5][7:13, 7:13, 7:13])/((sum(sum(sum(X_test[index][5][6:14, 6:14, 6:14]))) - sum(sum(sum(X_test[index][5][7:13, 7:13, 7:13]))))/296))\n",
    "    mid_large_ratio_FLAIR_test.append(np.mean(X_test[index][5][6:14, 6:14, 6:14])/((sum(sum(sum(X_test[index][5][3:17, 3:17, 3:17]))) - sum(sum(sum(X_test[index][5][6:14, 6:14, 6:14]))))/2232))\n",
    "    mid_small_ratio_FLAIR_inc_test.append(np.mean(X_test[index][5][8:12, 8:12, 8:12])/((sum(sum(sum(X_test[index][5][7:13, 7:13, 7:13]))))/216))\n",
    "    mid_med_ratio_FLAIR_inc_test.append(np.mean(X_test[index][5][7:13, 7:13, 7:13])/((sum(sum(sum(X_test[index][5][6:14, 6:14, 6:14]))))/512))\n",
    "    mid_large_ratio_FLAIR_inc_test.append(np.mean(X_test[index][5][6:14, 6:14, 6:14])/((sum(sum(sum(X_test[index][5][3:17, 3:17, 3:17]))))/2744))\n",
    "    mean_FLAIR.append(np.mean(X_train[index][5]))\n",
    "    mean_FLAIR_test.append(np.mean(X_test[index][5]))\n",
    "    max_FLAIR_test.append(np.max(X_test[index][5]))\n",
    "    density_diff_test.append(X_test[index][5][10,10,10]/X_test[index][4][10,10,10])\n",
    "    sum_soft_tiss_binary_test.append(sum(sum(sum(X_test[index][6]))))\n",
    "    sum_percent_soft_tiss_test.append(sum(sum(sum(X_test[index][7]))))\n",
    "    min_st_test.append(np.min(X_train[index][6]))\n",
    "    med_st_test.append(np.median(X_train[index][6]))\n",
    "    mid_st_test.append(X_train[index][6][10,10,10])\n",
    "    mid_small_ratio_st_test.append(np.mean(X_test[index][6][8:12, 8:12, 8:12])/((sum(sum(sum(X_test[index][6][7:13, 7:13, 7:13]))) - sum(sum(sum(X_test[index][6][8:12, 8:12, 8:12]))))/152))\n",
    "    mid_med_ratio_st_test.append(np.mean(X_test[index][6][7:13, 7:13, 7:13])/((sum(sum(sum(X_test[index][6][6:14, 6:14, 6:14]))) - sum(sum(sum(X_test[index][6][7:13, 7:13, 7:13]))))/296))\n",
    "    mid_large_ratio_st_test.append(np.mean(X_test[index][6][6:14, 6:14, 6:14])/((sum(sum(sum(X_test[index][6][3:17, 3:17, 3:17]))) - sum(sum(sum(X_test[index][6][6:14, 6:14, 6:14]))))/2232))\n",
    "    mid_small_ratio_st_inc_test.append(np.mean(X_test[index][6][8:12, 8:12, 8:12])/((sum(sum(sum(X_test[index][6][7:13, 7:13, 7:13]))))/216))\n",
    "    mid_med_ratio_st_inc_test.append(np.mean(X_test[index][6][7:13, 7:13, 7:13])/((sum(sum(sum(X_test[index][6][6:14, 6:14, 6:14]))))/512))\n",
    "    mid_large_ratio_st_inc_test.append(np.mean(X_test[index][6][6:14, 6:14, 6:14])/((sum(sum(sum(X_test[index][6][3:17, 3:17, 3:17]))))/2744))\n",
    "    mean_st_test.append(np.mean(X_test[index][6]))\n",
    "    max_st_test.append(np.max(X_test[index][6]))\n",
    "    min_th_T1_test.append(np.min(tophat_img_T1))\n",
    "    med_th_T1_test.append(np.median(tophat_img_T1))\n",
    "    mid_th_T1_test.append(tophat_img_T1[10,10,10])\n",
    "    mid_small_ratio_th_T1_test.append(np.mean(tophat_img_T1[8:12, 8:12, 8:12])/((sum(sum(sum(tophat_img_T1[7:13, 7:13, 7:13]))) - sum(sum(sum(tophat_img_T1[8:12, 8:12, 8:12]))))/152))\n",
    "    mid_med_ratio_th_T1_test.append(np.mean(tophat_img_T1[7:13, 7:13, 7:13])/((sum(sum(sum(tophat_img_T1[6:14, 6:14, 6:14]))) - sum(sum(sum(tophat_img_T1[7:13, 7:13, 7:13]))))/296))\n",
    "    mid_large_ratio_th_T1_test.append(np.mean(tophat_img_T1[6:14, 6:14, 6:14])/((sum(sum(sum(tophat_img_T1[3:17, 3:17, 3:17]))) - sum(sum(sum(tophat_img_T1[6:14, 6:14, 6:14]))))/2232))\n",
    "    mid_small_ratio_th_T1_inc_test.append(np.mean(tophat_img_T1[8:12, 8:12, 8:12])/((sum(sum(sum(tophat_img_T1[7:13, 7:13, 7:13]))))/216))\n",
    "    mid_med_ratio_th_T1_inc_test.append(np.mean(tophat_img_T1[7:13, 7:13, 7:13])/((sum(sum(sum(tophat_img_T1[6:14, 6:14, 6:14]))))/512))\n",
    "    mid_large_ratio_th_T1_inc_test.append(np.mean(tophat_img_T1[6:14, 6:14, 6:14])/((sum(sum(sum(tophat_img_T1[3:17, 3:17, 3:17]))))/2744))\n",
    "    mean_th_T1_test.append(np.mean(tophat_img_T1))\n",
    "    max_th_T1_test.append(np.max(tophat_img_T1))\n",
    "    min_th_st_test.append(np.min(tophat_img_st))\n",
    "    med_th_st_test.append(np.median(tophat_img_st))\n",
    "    mid_th_st_test.append(tophat_img_st[10,10,10])\n",
    "    mid_small_ratio_th_st_test.append(np.mean(tophat_img_st[8:12, 8:12, 8:12])/((sum(sum(sum(tophat_img_st[7:13, 7:13, 7:13]))) - sum(sum(sum(tophat_img_st[8:12, 8:12, 8:12]))))/152))\n",
    "    mid_med_ratio_th_st_test.append(np.mean(tophat_img_st[7:13, 7:13, 7:13])/((sum(sum(sum(tophat_img_st[6:14, 6:14, 6:14]))) - sum(sum(sum(tophat_img_st[7:13, 7:13, 7:13]))))/296))\n",
    "    mid_large_ratio_th_st_test.append(np.mean(tophat_img_st[6:14, 6:14, 6:14])/((sum(sum(sum(tophat_img_st[3:17, 3:17, 3:17]))) - sum(sum(sum(tophat_img_st[6:14, 6:14, 6:14]))))/2232))\n",
    "    mid_small_ratio_th_st_inc_test.append(np.mean(tophat_img_st[8:12, 8:12, 8:12])/((sum(sum(sum(tophat_img_st[7:13, 7:13, 7:13]))))/216))\n",
    "    mid_med_ratio_th_st_inc_test.append(np.mean(tophat_img_st[7:13, 7:13, 7:13])/((sum(sum(sum(tophat_img_st[6:14, 6:14, 6:14]))))/512))\n",
    "    mid_large_ratio_th_st_inc_test.append(np.mean(tophat_img_st[6:14, 6:14, 6:14])/((sum(sum(sum(tophat_img_st[3:17, 3:17, 3:17]))))/2744))\n",
    "    mean_th_st_test.append(np.mean(tophat_img_st))\n",
    "    max_th_st_test.append(np.max(tophat_img_st))\n",
    "    x_test.append(X_test[index][1])\n",
    "    y_test.append(X_test[index][2])\n",
    "    z_test.append(X_test[index][3])"
   ]
  },
  {
   "cell_type": "code",
   "execution_count": 220,
   "id": "d80630d3",
   "metadata": {},
   "outputs": [],
   "source": [
    "dataset = pd.DataFrame({'min_T1': min_T1, 'med_T1': med_T1, 'mid_T1': mid_T1, 'mid_small_ratio_T1': mid_small_ratio_T1, 'mid_med_ratio_T1': mid_med_ratio_T1, 'mid_large_ratio_T1': mid_large_ratio_T1, 'mid_small_ratio_T1_inc': mid_small_ratio_T1_inc, 'mid_med_ratio_T1_inc': mid_med_ratio_T1_inc, 'mid_large_ratio_T1_inc': mid_large_ratio_T1_inc, 'mean_T1': mean_T1, 'max_T1': max_T1, 'min_FLAIR': min_FLAIR, 'mid_FLAIR': mid_FLAIR, 'mean_FLAIR': mean_FLAIR, 'mid_FLAIR': mid_FLAIR, 'mid_small_ratio_FLAIR': mid_small_ratio_FLAIR, 'mid_med_ratio_FLAIR': mid_med_ratio_FLAIR, 'mid_large_ratio_FLAIR': mid_large_ratio_FLAIR, 'mid_small_ratio_FLAIR_inc': mid_small_ratio_FLAIR_inc, 'mid_med_ratio_FLAIR_inc': mid_med_ratio_FLAIR_inc, 'mid_large_ratio_FLAIR_inc': mid_large_ratio_FLAIR_inc,  'med_FLAIR': med_FLAIR, 'max_FLAIR': max_FLAIR, 'density_diff': density_diff, 'sum_soft_tiss_binary': sum_soft_tiss_binary, 'sum_percent_soft_tiss': sum_percent_soft_tiss, 'min_st': min_st, 'med_st': med_st, 'mid_st': mid_st, 'mid_small_ratio_st': mid_small_ratio_st, 'mid_med_ratio_st': mid_med_ratio_st, 'mid_large_ratio_st': mid_large_ratio_st, 'mid_small_ratio_st_inc': mid_small_ratio_st_inc, 'mid_med_ratio_st_inc': mid_med_ratio_st_inc, 'mid_large_ratio_st_inc': mid_large_ratio_st_inc, 'mean_st': mean_st, 'max_st': max_st, 'min_th_T1': min_th_T1, 'med_th_T1': med_th_T1, 'mid_th_T1': mid_th_T1, 'mid_small_ratio_th_T1': mid_small_ratio_th_T1, 'mid_med_ratio_th_T1': mid_med_ratio_th_T1, 'mid_large_ratio_th_T1': mid_large_ratio_th_T1, 'mid_small_ratio_th_T1_inc': mid_small_ratio_th_T1_inc, 'mid_med_ratio_th_T1_inc': mid_med_ratio_th_T1_inc, 'mid_large_ratio_th_T1_inc': mid_large_ratio_th_T1_inc, 'mean_th_T1': mean_th_T1, 'max_th_T1': max_th_T1, 'min_th_st': min_th_st, 'med_th_st': med_th_st, 'mid_th_st': mid_th_st, 'mid_small_ratio_th_st': mid_small_ratio_th_st, 'mid_med_ratio_th_st': mid_med_ratio_th_st, 'mid_large_ratio_th_st': mid_large_ratio_th_st, 'mid_small_ratio_th_st_inc': mid_small_ratio_th_st_inc, 'mid_med_ratio_th_st_inc': mid_med_ratio_th_st_inc, 'mid_large_ratio_th_st_inc': mid_large_ratio_th_st_inc, 'mean_th_st': mean_th_st, 'max_th_st': max_th_st, 'x': x, 'y': y, 'z': z})"
   ]
  },
  {
   "cell_type": "code",
   "execution_count": 221,
   "id": "0f2d5c6a",
   "metadata": {},
   "outputs": [],
   "source": [
    "names = dataset.columns"
   ]
  },
  {
   "cell_type": "code",
   "execution_count": 222,
   "id": "a3bd693b",
   "metadata": {},
   "outputs": [],
   "source": [
    "dataset=np.nan_to_num(dataset, nan=-1, posinf=99, neginf=-99)"
   ]
  },
  {
   "cell_type": "code",
   "execution_count": 223,
   "id": "e4e9f203",
   "metadata": {},
   "outputs": [],
   "source": [
    "dataset_test = pd.DataFrame({'min_T1': min_T1_test, 'med_T1': med_T1_test, 'mid_T1': mid_T1_test, 'mid_small_ratio_T1': mid_small_ratio_T1_test, 'mid_med_ratio_T1': mid_med_ratio_T1_test, 'mid_large_ratio_T1': mid_large_ratio_T1_test, 'mid_small_ratio_T1_inc': mid_small_ratio_T1_inc_test, 'mid_med_ratio_T1_inc': mid_med_ratio_T1_inc_test, 'mid_large_ratio_T1_inc': mid_large_ratio_T1_inc_test, 'mean_T1': mean_T1_test, 'max_T1': max_T1_test, 'min_FLAIR': min_FLAIR_test, 'mid_FLAIR': mid_FLAIR_test, 'mean_FLAIR': mean_FLAIR_test, 'mid_FLAIR': mid_FLAIR_test, 'mid_small_ratio_FLAIR': mid_small_ratio_FLAIR_test, 'mid_med_ratio_FLAIR': mid_med_ratio_FLAIR_test, 'mid_large_ratio_FLAIR': mid_large_ratio_FLAIR_test, 'mid_small_ratio_FLAIR_inc': mid_small_ratio_FLAIR_inc_test, 'mid_med_ratio_FLAIR_inc': mid_med_ratio_FLAIR_inc_test, 'mid_large_ratio_FLAIR_inc': mid_large_ratio_FLAIR_inc_test,  'med_FLAIR': med_FLAIR_test, 'max_FLAIR': max_FLAIR_test, 'density_diff': density_diff_test, 'sum_soft_tiss_binary': sum_soft_tiss_binary_test, 'sum_percent_soft_tiss': sum_percent_soft_tiss_test, 'min_st': min_st_test, 'med_st': med_st_test, 'mid_st': mid_st_test, 'mid_small_ratio_st': mid_small_ratio_st_test, 'mid_med_ratio_st': mid_med_ratio_st_test, 'mid_large_ratio_st': mid_large_ratio_st_test, 'mid_small_ratio_st_inc': mid_small_ratio_st_inc_test, 'mid_med_ratio_st_inc': mid_med_ratio_st_inc_test, 'mid_large_ratio_st_inc': mid_large_ratio_st_inc_test, 'mean_st': mean_st_test, 'max_st': max_st_test, 'min_th_T1': min_th_T1_test, 'med_th_T1': med_th_T1_test, 'mid_th_T1': mid_th_T1_test, 'mid_small_ratio_th_T1': mid_small_ratio_th_T1_test, 'mid_med_ratio_th_T1': mid_med_ratio_th_T1_test, 'mid_large_ratio_th_T1': mid_large_ratio_th_T1_test, 'mid_small_ratio_th_T1_inc': mid_small_ratio_th_T1_inc_test, 'mid_med_ratio_th_T1_inc': mid_med_ratio_th_T1_inc_test, 'mid_large_ratio_th_T1_inc': mid_large_ratio_th_T1_inc_test, 'mean_th_T1': mean_th_T1_test, 'max_th_T1': max_th_T1_test, 'min_th_st': min_th_st_test, 'med_th_st': med_th_st_test, 'mid_th_st': mid_th_st_test, 'mid_small_ratio_th_st': mid_small_ratio_th_st_test, 'mid_med_ratio_th_st': mid_med_ratio_th_st_test, 'mid_large_ratio_th_st': mid_large_ratio_th_st_test, 'mid_small_ratio_th_st_inc': mid_small_ratio_th_st_inc_test, 'mid_med_ratio_th_st_inc': mid_med_ratio_th_st_inc_test, 'mid_large_ratio_th_st_inc': mid_large_ratio_th_st_inc_test, 'mean_th_st': mean_th_st_test, 'max_th_st': max_th_st_test, 'x': x_test, 'y': y_test, 'z': z_test})"
   ]
  },
  {
   "cell_type": "code",
   "execution_count": 224,
   "id": "19536bda",
   "metadata": {},
   "outputs": [],
   "source": [
    "dataset_test=np.nan_to_num(dataset_test, nan=-1, posinf=99, neginf=-99)"
   ]
  },
  {
   "cell_type": "code",
   "execution_count": 323,
   "id": "cea281e1",
   "metadata": {},
   "outputs": [],
   "source": [
    "from sklearn.ensemble import RandomForestClassifier\n",
    "clf = RandomForestClassifier(n_estimators = 1000, min_samples_leaf = 40, criterion = 'gini', oob_score = True, bootstrap = True, random_state = 30)\n",
    "clf.fit(dataset, Y_train)\n",
    "prediction = clf.predict(dataset_test)"
   ]
  },
  {
   "cell_type": "code",
   "execution_count": 324,
   "id": "dc856f2f",
   "metadata": {},
   "outputs": [
    {
     "data": {
      "text/plain": [
       "array([[10930,    13],\n",
       "       [  694,   306]], dtype=int64)"
      ]
     },
     "execution_count": 324,
     "metadata": {},
     "output_type": "execute_result"
    }
   ],
   "source": [
    "from sklearn.metrics import confusion_matrix\n",
    "confusion_matrix(Y_test, prediction)"
   ]
  },
  {
   "cell_type": "code",
   "execution_count": 320,
   "id": "40d195a1",
   "metadata": {},
   "outputs": [
    {
     "name": "stdout",
     "output_type": "stream",
     "text": [
      "              precision    recall  f1-score   support\n",
      "\n",
      "           0       0.94      1.00      0.97     10943\n",
      "           1       0.96      0.34      0.50      1000\n",
      "\n",
      "    accuracy                           0.94     11943\n",
      "   macro avg       0.95      0.67      0.74     11943\n",
      "weighted avg       0.94      0.94      0.93     11943\n",
      "\n"
     ]
    }
   ],
   "source": [
    "from sklearn.metrics import classification_report\n",
    "print(classification_report(Y_test, prediction))"
   ]
  },
  {
   "cell_type": "code",
   "execution_count": 321,
   "id": "e6587e52",
   "metadata": {},
   "outputs": [
    {
     "name": "stdout",
     "output_type": "stream",
     "text": [
      "0.9886268044012249\n"
     ]
    }
   ],
   "source": [
    "print(clf.oob_score_)"
   ]
  },
  {
   "cell_type": "code",
   "execution_count": 322,
   "id": "5592ecfd",
   "metadata": {},
   "outputs": [
    {
     "data": {
      "image/png": "[encoded data removed]",
      "text/plain": [
       "<Figure size 720x576 with 1 Axes>"
      ]
     },
     "metadata": {
      "needs_background": "light"
     },
     "output_type": "display_data"
    }
   ],
   "source": [
    "def plot_feature_importance(importance,names,model_type):\n",
    "    #Create arrays from feature importance and feature names\n",
    "    feature_importance = np.array(importance)\n",
    "    feature_names = np.array(names)\n",
    "def plot_feature_importance(importance,names,model_type):\n",
    "    #Create arrays from feature importance and feature names\n",
    "    feature_importance = np.array(importance)\n",
    "    feature_names = np.array(names)\n",
    "\n",
    "    #Create a DataFrame using a Dictionary\n",
    "    data={'feature_names':feature_names,'feature_importance':feature_importance}\n",
    "    fi_df = pd.DataFrame(data)\n",
    "\n",
    "    #Sort the DataFrame in order decreasing feature importance\n",
    "    fi_df.sort_values(by=['feature_importance'], ascending=False,inplace=True)\n",
    "def plot_feature_importance(importance,names,model_type):\n",
    "    #Create arrays from feature importance and feature names\n",
    "    feature_importance = np.array(importance)\n",
    "    feature_names = np.array(names)\n",
    "\n",
    "    #Create a DataFrame using a Dictionary\n",
    "    data={'feature_names':feature_names,'feature_importance':feature_importance}\n",
    "    fi_df = pd.DataFrame(data)\n",
    "\n",
    "    #Sort the DataFrame in order decreasing feature importance\n",
    "    fi_df.sort_values(by=['feature_importance'], ascending=False,inplace=True)\n",
    "\n",
    "    #Define size of bar plot\n",
    "    plt.figure(figsize=(10,8))\n",
    "    #Plot Searborn bar chart\n",
    "    sns.barplot(x=fi_df['feature_importance'], y=fi_df['feature_names'])\n",
    "    #Add chart labels\n",
    "    plt.title(model_type + 'FEATURE IMPORTANCE')\n",
    "    plt.xlabel('FEATURE IMPORTANCE')\n",
    "    plt.ylabel('FEATURE NAMES')\n",
    "plot_feature_importance(clf.feature_importances_,names,'RANDOM FOREST')"
   ]
  },
  {
   "cell_type": "code",
   "execution_count": 166,
   "id": "a09eb2f9",
   "metadata": {},
   "outputs": [
    {
     "name": "stdout",
     "output_type": "stream",
     "text": [
      "Collecting PyDIP\n",
      "  Downloading pydip-0.1.8.tar.gz (14 kB)\n",
      "Building wheels for collected packages: PyDIP\n",
      "  Building wheel for PyDIP (setup.py): started\n",
      "  Building wheel for PyDIP (setup.py): finished with status 'done'\n",
      "  Created wheel for PyDIP: filename=pydip-0.1.8-py3-none-any.whl size=19843 sha256=8eff4e2c6d4459a4365a19a12477ce1c157394e73558d30521906c8c257fc4d5\n",
      "  Stored in directory: c:\\users\\ellen\\appdata\\local\\pip\\cache\\wheels\\92\\1b\\91\\8be2230d56da4a9cfcecf5956baa52c24a5be92aa85c030ed4\n",
      "Successfully built PyDIP\n",
      "Installing collected packages: PyDIP\n",
      "Successfully installed PyDIP-0.1.8\n",
      "Note: you may need to restart the kernel to use updated packages.\n"
     ]
    }
   ],
   "source": [
    "pip install PyDIP"
   ]
  },
  {
   "cell_type": "code",
   "execution_count": 7,
   "id": "a715c5f4",
   "metadata": {},
   "outputs": [
    {
     "ename": "ModuleNotFoundError",
     "evalue": "No module named 'PyDIP'",
     "output_type": "error",
     "traceback": [
      "\u001b[1;31m---------------------------------------------------------------------------\u001b[0m",
      "\u001b[1;31mModuleNotFoundError\u001b[0m                       Traceback (most recent call last)",
      "\u001b[1;32m~\\AppData\\Local\\Temp/ipykernel_5680/2568259878.py\u001b[0m in \u001b[0;36m<module>\u001b[1;34m\u001b[0m\n\u001b[0;32m      3\u001b[0m \u001b[1;32mfrom\u001b[0m \u001b[0mskimage\u001b[0m\u001b[1;33m.\u001b[0m\u001b[0mtransform\u001b[0m \u001b[1;32mimport\u001b[0m \u001b[0mhough_ellipse\u001b[0m\u001b[1;33m\u001b[0m\u001b[1;33m\u001b[0m\u001b[0m\n\u001b[0;32m      4\u001b[0m \u001b[1;32mfrom\u001b[0m \u001b[0mskimage\u001b[0m\u001b[1;33m.\u001b[0m\u001b[0mdraw\u001b[0m \u001b[1;32mimport\u001b[0m \u001b[0mellipse_perimeter\u001b[0m\u001b[1;33m\u001b[0m\u001b[1;33m\u001b[0m\u001b[0m\n\u001b[1;32m----> 5\u001b[1;33m \u001b[1;32mimport\u001b[0m \u001b[0mPyDIP\u001b[0m \u001b[1;32mas\u001b[0m \u001b[0mdip\u001b[0m\u001b[1;33m\u001b[0m\u001b[1;33m\u001b[0m\u001b[0m\n\u001b[0m\u001b[0;32m      6\u001b[0m \u001b[1;31m# global thresholding\u001b[0m\u001b[1;33m\u001b[0m\u001b[1;33m\u001b[0m\u001b[1;33m\u001b[0m\u001b[0m\n\u001b[0;32m      7\u001b[0m \u001b[0mkernel\u001b[0m \u001b[1;33m=\u001b[0m \u001b[1;33m(\u001b[0m\u001b[1;36m3\u001b[0m\u001b[1;33m,\u001b[0m\u001b[1;36m3\u001b[0m\u001b[1;33m)\u001b[0m\u001b[1;33m\u001b[0m\u001b[1;33m\u001b[0m\u001b[0m\n",
      "\u001b[1;31mModuleNotFoundError\u001b[0m: No module named 'PyDIP'"
     ]
    }
   ],
   "source": [
    "from skimage import data, color, img_as_ubyte\n",
    "from skimage.feature import canny\n",
    "from skimage.transform import hough_ellipse\n",
    "from skimage.draw import ellipse_perimeter\n",
    "import PyDIP as dip\n",
    "# global thresholding\n",
    "kernel = (3,3)\n",
    "img = X_train[105][5][:, 10, :]\n",
    "#opening = cv2.morphologyEx(img, cv2.MORPH_OPEN, kernel)\n",
    "#im_bin = (img < 0.6)\n",
    "#th1 = cv2.threshold(img,0.25,0.5,cv2.THRESH_BINARY)\n",
    "lines = dip.Tophat(img, 10, polarity='black')\n",
    "lines = dip.Tophat(img, 10, polarity='black')\n",
    "dip.SetBorder(lines, [0], [2])\n",
    "lines = dip.PathOpening(lines, length=100, polarity='opening', mode={'robust'})\n",
    "lines = dip.Threshold(lines, method='otsu')[0]\n",
    "contours = cv2.findContours(img, 150, 255, cv2.RETR_EXTERNAL, cv2.CHAIN_APPROX_SIMPLE)\n",
    "\n",
    "\n",
    "edges = canny(im_bin)\n",
    "plt.imshow(im_bin, cmap=\"gray\", origin=\"lower\")"
   ]
  },
  {
   "cell_type": "code",
   "execution_count": 17,
   "id": "b3f39907",
   "metadata": {},
   "outputs": [
    {
     "data": {
      "image/png": "[encoded data removed]",
      "text/plain": [
       "<Figure size 432x288 with 1 Axes>"
      ]
     },
     "metadata": {
      "needs_background": "light"
     },
     "output_type": "display_data"
    }
   ],
   "source": [
    "filterSize =(12,12)\n",
    "kernel = cv2.getStructuringElement(cv2.MORPH_RECT,filterSize)\n",
    "# Reading the image named 'input.jpg'\n",
    "input_image = X_train[5][5][:, 10, :]\n",
    "  \n",
    "# Applying the Black-Hat operation\n",
    "tophat_img = cv2.morphologyEx(input_image, cv2.MORPH_TOPHAT,kernel)\n",
    "edges = canny(tophat_img)\n",
    "plt.imshow(tophat_img, cmap=\"gray\", origin=\"lower\")\n",
    "plt.show()"
   ]
  },
  {
   "cell_type": "code",
   "execution_count": 210,
   "id": "5e9b2d6b",
   "metadata": {},
   "outputs": [
    {
     "data": {
      "text/plain": [
       "array([[0., 0., 0., 0., 0., 0., 0., 0., 0., 0., 0., 0., 0., 0., 0., 0.,\n",
       "        0., 0., 0., 0.],\n",
       "       [0., 0., 0., 0., 0., 0., 0., 0., 0., 0., 0., 0., 0., 0., 0., 0.,\n",
       "        0., 0., 0., 0.],\n",
       "       [0., 0., 0., 0., 0., 0., 0., 0., 0., 0., 0., 0., 0., 0., 0., 0.,\n",
       "        0., 0., 0., 0.],\n",
       "       [0., 0., 0., 0., 0., 0., 0., 0., 0., 0., 0., 0., 0., 0., 0., 0.,\n",
       "        0., 0., 0., 0.],\n",
       "       [0., 0., 0., 0., 0., 0., 0., 0., 0., 0., 0., 0., 0., 0., 0., 0.,\n",
       "        0., 0., 0., 0.],\n",
       "       [0., 0., 0., 0., 0., 0., 0., 0., 0., 0., 0., 0., 0., 0., 0., 0.,\n",
       "        0., 0., 0., 0.],\n",
       "       [0., 0., 0., 0., 0., 0., 0., 0., 0., 0., 0., 0., 0., 0., 0., 0.,\n",
       "        0., 0., 0., 0.],\n",
       "       [0., 0., 0., 0., 0., 0., 0., 0., 0., 0., 0., 0., 0., 0., 0., 0.,\n",
       "        0., 0., 0., 0.],\n",
       "       [0., 0., 0., 0., 0., 0., 0., 0., 0., 0., 0., 0., 0., 0., 0., 0.,\n",
       "        0., 0., 0., 0.],\n",
       "       [0., 0., 0., 0., 0., 0., 0., 0., 0., 0., 0., 0., 0., 0., 0., 0.,\n",
       "        0., 0., 0., 0.],\n",
       "       [0., 0., 0., 0., 0., 0., 0., 0., 0., 0., 0., 0., 0., 0., 0., 0.,\n",
       "        0., 0., 0., 0.],\n",
       "       [0., 0., 0., 0., 0., 0., 0., 0., 0., 0., 0., 0., 0., 0., 0., 0.,\n",
       "        0., 0., 0., 0.],\n",
       "       [0., 0., 0., 0., 0., 0., 0., 0., 0., 0., 0., 0., 0., 0., 0., 0.,\n",
       "        0., 0., 0., 0.],\n",
       "       [0., 0., 0., 0., 0., 0., 0., 0., 0., 0., 0., 0., 0., 0., 0., 0.,\n",
       "        0., 0., 0., 0.],\n",
       "       [0., 0., 0., 0., 0., 0., 0., 0., 0., 0., 0., 0., 0., 0., 0., 0.,\n",
       "        0., 0., 0., 0.],\n",
       "       [0., 0., 0., 0., 0., 0., 0., 0., 0., 0., 0., 0., 0., 0., 0., 0.,\n",
       "        0., 0., 0., 0.],\n",
       "       [0., 0., 0., 0., 0., 0., 0., 0., 0., 0., 0., 0., 0., 0., 0., 0.,\n",
       "        0., 0., 0., 0.],\n",
       "       [0., 0., 0., 0., 0., 0., 0., 0., 0., 0., 0., 0., 0., 0., 0., 0.,\n",
       "        0., 0., 0., 0.],\n",
       "       [0., 0., 0., 0., 0., 0., 0., 0., 0., 0., 0., 0., 0., 0., 0., 0.,\n",
       "        0., 0., 0., 0.],\n",
       "       [0., 0., 0., 0., 0., 0., 0., 0., 0., 0., 0., 0., 0., 0., 0., 0.,\n",
       "        0., 0., 0., 0.]])"
      ]
     },
     "execution_count": 210,
     "metadata": {},
     "output_type": "execute_result"
    }
   ],
   "source": [
    "tophat_img"
   ]
  },
  {
   "cell_type": "code",
   "execution_count": 244,
   "id": "381258f6",
   "metadata": {},
   "outputs": [
    {
     "data": {
      "text/plain": [
       "array([ 0.0108434 ,  0.00240962,  0.00963855,  0.01204818,  0.00963855,\n",
       "        0.04096386,  0.03493974,  0.03614458,  0.02650604,  0.01445784,\n",
       "        0.05301201,  0.06385544,  0.04939759,  0.04337347,  0.0590362 ,\n",
       "        0.04819275,  0.01927711, -0.02891566, -0.02650602,  0.01566264])"
      ]
     },
     "execution_count": 244,
     "metadata": {},
     "output_type": "execute_result"
    }
   ],
   "source": [
    "### Hessian Matrix\n",
    "import numpy as np\n",
    "\n",
    "def hessian(x):\n",
    "    \"\"\"\n",
    "    Calculate the hessian matrix with finite differences\n",
    "    Parameters:\n",
    "       - x : ndarray\n",
    "    Returns:\n",
    "       an array of shape (x.dim, x.ndim) + x.shape\n",
    "       where the array[i, j, ...] corresponds to the second derivative x_ij\n",
    "    \"\"\"\n",
    "    x_grad = np.gradient(x) \n",
    "    hessian = np.empty((x.ndim, x.ndim) + x.shape, dtype=x.dtype) \n",
    "    for k, grad_k in enumerate(x_grad):\n",
    "        # iterate over dimensions\n",
    "        # apply gradient again to every component of the first derivative.\n",
    "        tmp_grad = np.gradient(grad_k) \n",
    "        for l, grad_kl in enumerate(tmp_grad):\n",
    "            hessian[k, l, :, :] = grad_kl\n",
    "    return hessian\n",
    "\n",
    "hessian_slice = hessian(X_train[5][5][:, 10, :])\n",
    "hessian_slice[0][0][0]"
   ]
  },
  {
   "cell_type": "code",
   "execution_count": 246,
   "id": "9c5fc1c7",
   "metadata": {},
   "outputs": [
    {
     "name": "stdout",
     "output_type": "stream",
     "text": [
      "Collecting itkNote: you may need to restart the kernel to use updated packages.\n",
      "  Downloading itk-5.2.1.post1-cp38-cp38-win_amd64.whl (8.3 kB)\n",
      "Requirement already satisfied: numpy in c:\\users\\ellen\\appdata\\local\\r-miniconda\\lib\\site-packages (from itk) (1.21.2)\n",
      "Collecting itk-registration==5.2.1.post1\n",
      "  Downloading itk_registration-5.2.1.post1-cp38-cp38-win_amd64.whl (6.3 MB)\n",
      "\n",
      "Collecting itk-segmentation==5.2.1.post1\n",
      "  Downloading itk_segmentation-5.2.1.post1-cp38-cp38-win_amd64.whl (5.2 MB)\n",
      "Collecting itk-filtering==5.2.1.post1\n",
      "  Downloading itk_filtering-5.2.1.post1-cp38-cp38-win_amd64.whl (32.0 MB)\n",
      "Collecting itk-numerics==5.2.1.post1\n",
      "  Downloading itk_numerics-5.2.1.post1-cp38-cp38-win_amd64.whl (18.7 MB)\n",
      "Collecting itk-core==5.2.1.post1\n",
      "  Downloading itk_core-5.2.1.post1-cp38-cp38-win_amd64.whl (33.6 MB)\n",
      "Collecting itk-io==5.2.1.post1\n",
      "  Downloading itk_io-5.2.1.post1-cp38-cp38-win_amd64.whl (5.8 MB)\n",
      "Installing collected packages: itk-core, itk-numerics, itk-filtering, itk-registration, itk-segmentation, itk-io, itk\n",
      "Successfully installed itk-5.2.1.post1 itk-core-5.2.1.post1 itk-filtering-5.2.1.post1 itk-io-5.2.1.post1 itk-numerics-5.2.1.post1 itk-registration-5.2.1.post1 itk-segmentation-5.2.1.post1\n"
     ]
    }
   ],
   "source": [
    "pip install itk"
   ]
  },
  {
   "cell_type": "code",
   "execution_count": 248,
   "id": "db3a8348",
   "metadata": {},
   "outputs": [
    {
     "name": "stderr",
     "output_type": "stream",
     "text": [
      "usage: ipykernel_launcher.py [-h] [--sigma SIGMA] [--alpha1 ALPHA1] [--alpha2 ALPHA2] input_image output_image\n",
      "ipykernel_launcher.py: error: the following arguments are required: output_image\n"
     ]
    },
    {
     "ename": "SystemExit",
     "evalue": "2",
     "output_type": "error",
     "traceback": [
      "An exception has occurred, use %tb to see the full traceback.\n",
      "\u001b[1;31mSystemExit\u001b[0m\u001b[1;31m:\u001b[0m 2\n"
     ]
    }
   ],
   "source": [
    "import argparse\n",
    "\n",
    "import itk\n",
    "from distutils.version import StrictVersion as VS\n",
    "\n",
    "if VS(itk.Version.GetITKVersion()) < VS(\"5.0.0\"):\n",
    "    print(\"ITK 5.0.0 or newer is required.\")\n",
    "    sys.exit(1)\n",
    "\n",
    "parser = argparse.ArgumentParser(description=\"Segment blood vessels.\")\n",
    "parser.add_argument(\"input_image\")\n",
    "parser.add_argument(\"output_image\")\n",
    "parser.add_argument(\"--sigma\", type=float, default=1.0)\n",
    "parser.add_argument(\"--alpha1\", type=float, default=0.5)\n",
    "parser.add_argument(\"--alpha2\", type=float, default=2.0)\n",
    "args = parser.parse_args()\n",
    "\n",
    "input_image = itk.imread(X_train[5][5][:, 10, :], itk.ctype(\"float\"))\n",
    "\n",
    "hessian_image = itk.hessian_recursive_gaussian_image_filter(\n",
    "    input_image, sigma=args.sigma\n",
    ")\n",
    "\n",
    "vesselness_filter = itk.Hessian3DToVesselnessMeasureImageFilter[\n",
    "    itk.ctype(\"float\")\n",
    "].New()\n",
    "vesselness_filter.SetInput(hessian_image)\n",
    "vesselness_filter.SetAlpha1(args.alpha1)\n",
    "vesselness_filter.SetAlpha2(args.alpha2)\n",
    "\n",
    "itk.imwrite(vesselness_filter, args.output_image)"
   ]
  },
  {
   "cell_type": "code",
   "execution_count": 249,
   "id": "524e1a1b",
   "metadata": {},
   "outputs": [
    {
     "ename": "error",
     "evalue": "Unknown C++ exception from OpenCV code",
     "output_type": "error",
     "traceback": [
      "\u001b[1;31m---------------------------------------------------------------------------\u001b[0m",
      "\u001b[1;31merror\u001b[0m                                     Traceback (most recent call last)",
      "\u001b[1;32m~\\AppData\\Local\\Temp/ipykernel_29340/3917435940.py\u001b[0m in \u001b[0;36m<module>\u001b[1;34m\u001b[0m\n\u001b[0;32m      4\u001b[0m \u001b[0mdetector\u001b[0m \u001b[1;33m=\u001b[0m \u001b[0mcv2\u001b[0m\u001b[1;33m.\u001b[0m\u001b[0mSimpleBlobDetector\u001b[0m\u001b[1;33m(\u001b[0m\u001b[1;33m)\u001b[0m\u001b[1;33m\u001b[0m\u001b[1;33m\u001b[0m\u001b[0m\n\u001b[0;32m      5\u001b[0m \u001b[1;31m# Detect blobs.\u001b[0m\u001b[1;33m\u001b[0m\u001b[1;33m\u001b[0m\u001b[1;33m\u001b[0m\u001b[0m\n\u001b[1;32m----> 6\u001b[1;33m \u001b[0mkeypoints\u001b[0m \u001b[1;33m=\u001b[0m \u001b[0mdetector\u001b[0m\u001b[1;33m.\u001b[0m\u001b[0mdetect\u001b[0m\u001b[1;33m(\u001b[0m\u001b[0mim\u001b[0m\u001b[1;33m)\u001b[0m\u001b[1;33m\u001b[0m\u001b[1;33m\u001b[0m\u001b[0m\n\u001b[0m\u001b[0;32m      7\u001b[0m \u001b[1;31m# Draw detected blobs as red circles.\u001b[0m\u001b[1;33m\u001b[0m\u001b[1;33m\u001b[0m\u001b[1;33m\u001b[0m\u001b[0m\n\u001b[0;32m      8\u001b[0m \u001b[1;31m# cv2.DRAW_MATCHES_FLAGS_DRAW_RICH_KEYPOINTS ensures the size of the circle corresponds to the size of blob\u001b[0m\u001b[1;33m\u001b[0m\u001b[1;33m\u001b[0m\u001b[1;33m\u001b[0m\u001b[0m\n",
      "\u001b[1;31merror\u001b[0m: Unknown C++ exception from OpenCV code"
     ]
    }
   ],
   "source": [
    "# Read image\n",
    "im = X_train[5][5][:, 10, :]\n",
    "# Set up the detector with default parameters.\n",
    "detector = cv2.SimpleBlobDetector()\n",
    "# Detect blobs.\n",
    "keypoints = detector.detect(im)\n",
    "# Draw detected blobs as red circles.\n",
    "# cv2.DRAW_MATCHES_FLAGS_DRAW_RICH_KEYPOINTS ensures the size of the circle corresponds to the size of blob\n",
    "im_with_keypoints = cv2.drawKeypoints(im, keypoints, np.array([]), (0,0,255), cv2.DRAW_MATCHES_FLAGS_DRAW_RICH_KEYPOINTS)\n",
    "# Show keypoints\n",
    "cv2.imshow(\"Keypoints\", im_with_keypoints)\n",
    "cv2.waitKey(0)\n"
   ]
  },
  {
   "cell_type": "code",
   "execution_count": 250,
   "id": "b0e5fe0a",
   "metadata": {},
   "outputs": [],
   "source": [
    "import numpy as np\n",
    "import matplotlib.pyplot as plt\n",
    "from skimage.io import imread, imshow\n",
    "from skimage.feature import blob_dog, blob_log, blob_doh"
   ]
  },
  {
   "cell_type": "code",
   "execution_count": 287,
   "id": "c9b7f7e1",
   "metadata": {},
   "outputs": [
    {
     "data": {
      "image/png": "[encoded data removed]",
      "text/plain": [
       "<Figure size 864x432 with 2 Axes>"
      ]
     },
     "metadata": {
      "needs_background": "light"
     },
     "output_type": "display_data"
    }
   ],
   "source": [
    "leaves = tophat_img\n",
    "leaves_mask = Y_train_segment[5][:, 10, :]\n",
    "\n",
    "fig, axis = plt.subplots(1,2, figsize=(12,6))\n",
    "axis[0].imshow(leaves);\n",
    "axis[0].set_title('Original Image')\n",
    "axis[1].imshow(leaves_mask)\n",
    "axis[1].set_title('Binarized Image')\n",
    "plt.tight_layout()"
   ]
  },
  {
   "cell_type": "code",
   "execution_count": 288,
   "id": "460f94d7",
   "metadata": {
    "scrolled": true
   },
   "outputs": [
    {
     "data": {
      "image/png": "[encoded data removed]",
      "text/plain": [
       "<Figure size 432x432 with 1 Axes>"
      ]
     },
     "metadata": {
      "needs_background": "light"
     },
     "output_type": "display_data"
    }
   ],
   "source": [
    "blobs = blob_dog(leaves_mask, min_sigma=5)\n",
    "fig, ax = plt.subplots(figsize=(6,6))\n",
    "ax.imshow(leaves)\n",
    "for blob in blobs:\n",
    "    y, x, area = blob\n",
    "    ax.add_patch(plt.Circle((x, y), area*np.sqrt(2), \n",
    "                 color='r', fill=False))"
   ]
  },
  {
   "cell_type": "code",
   "execution_count": 299,
   "id": "bb8a8eaf",
   "metadata": {},
   "outputs": [
    {
     "data": {
      "image/png": "[encoded data removed]",
      "text/plain": [
       "<Figure size 432x288 with 1 Axes>"
      ]
     },
     "metadata": {
      "needs_background": "light"
     },
     "output_type": "display_data"
    }
   ],
   "source": [
    "filterSize =(5,5)\n",
    "kernel = cv2.getStructuringElement(cv2.MORPH_RECT,filterSize)\n",
    "# Reading the image named 'input.jpg'\n",
    "input_image = X_train[200][7][:, 10, :]\n",
    "  \n",
    "# Applying the Black-Hat operation\n",
    "tophat_img = cv2.morphologyEx(input_image, cv2.MORPH_BLACKHAT,kernel)\n",
    "edges = canny(tophat_img)\n",
    "plt.imshow(tophat_img, cmap=\"gray\", origin=\"lower\")\n",
    "plt.show()"
   ]
  },
  {
   "cell_type": "code",
   "execution_count": 297,
   "id": "a99e3c00",
   "metadata": {},
   "outputs": [],
   "source": [
    "sample_g = tophat_img"
   ]
  },
  {
   "cell_type": "code",
   "execution_count": 298,
   "id": "3e7aef54",
   "metadata": {},
   "outputs": [
    {
     "data": {
      "text/plain": [
       "<matplotlib.image.AxesImage at 0x1cb0ef8acd0>"
      ]
     },
     "execution_count": 298,
     "metadata": {},
     "output_type": "execute_result"
    },
    {
     "data": {
      "image/png": "[encoded data removed]",
      "text/plain": [
       "<Figure size 1080x360 with 3 Axes>"
      ]
     },
     "metadata": {
      "needs_background": "light"
     },
     "output_type": "display_data"
    }
   ],
   "source": [
    "fig, ax = plt.subplots(1,3,figsize=(15,5))\n",
    "sample_b = sample_g > 0.3\n",
    "ax[0].set_title('Grayscale Image',fontsize=20)\n",
    "ax[0].imshow(sample_g,cmap='gray')\n",
    "ax[1].plot(sample_g)\n",
    "ax[1].set_ylabel('Pixel Value')\n",
    "ax[1].set_xlabel('Width of Picture')\n",
    "ax[1].set_title('Plot of 1 Line',fontsize=15)\n",
    "ax[2].set_title('Binarized Image',fontsize=15)\n",
    "ax[2].imshow(sample_b,cmap='gray')"
   ]
  }
 ],
 "metadata": {
  "kernelspec": {
   "display_name": "Python 3 (ipykernel)",
   "language": "python",
   "name": "python3"
  },
  "language_info": {
   "codemirror_mode": {
    "name": "ipython",
    "version": 3
   },
   "file_extension": ".py",
   "mimetype": "text/x-python",
   "name": "python",
   "nbconvert_exporter": "python",
   "pygments_lexer": "ipython3",
   "version": "3.8.3"
  }
 },
 "nbformat": 4,
 "nbformat_minor": 5
}
