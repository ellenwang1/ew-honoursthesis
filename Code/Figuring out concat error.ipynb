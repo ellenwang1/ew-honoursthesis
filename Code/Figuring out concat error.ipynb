{
 "cells": [
  {
   "cell_type": "code",
   "execution_count": 2,
   "id": "804676a2",
   "metadata": {},
   "outputs": [],
   "source": [
    "from turtle import shape\n",
    "import nibabel as nib\n",
    "import os\n",
    "import sys\n",
    "import matplotlib.pyplot as plt\n",
    "from mpl_toolkits.mplot3d import Axes3D\n",
    "import numpy as np\n",
    "import cv2\n",
    "from PIL import Image\n",
    "from matplotlib import cm\n",
    "import pandas as pd\n",
    "import imblearn\n",
    "import re\n",
    "\n",
    "# Setting paths for different folders\n",
    "FLAIR_scan = r'C:\\Users\\ellen\\Documents\\ew-honoursthesis\\Data\\forAudrey.tar\\Normalised\\FLAIRinT1space_withLacunes_35.tar'\n",
    "T1_Lacunes_Incorrect = r'C:\\Users\\ellen\\Documents\\ew-honoursthesis\\Data\\forAudrey.tar\\Original\\lacune_T1space.tar'\n",
    "T1_Lacunes_Correct = r'C:\\Users\\ellen\\Documents\\ew-honoursthesis\\Data\\forAudrey.tar\\Original\\lacune_T1space_JiyangCorrected20210920'\n",
    "T1_scan = r'C:\\Users\\ellen\\Documents\\ew-honoursthesis\\Data\\forAudrey.tar\\Normalised\\T1_withLacunes_35.tar'\n",
    "T1_Soft_Tissue = r'C:\\Users\\ellen\\Documents\\ew-honoursthesis\\Data\\forAudrey.tar\\Normalised\\T1softTiss_withLacunes_35.tar'\n",
    "T1_Soft_Tissue_Mask = r'C:\\Users\\ellen\\Documents\\ew-honoursthesis\\Data\\forAudrey.tar\\Original\\T1softTissMask_withLacunes_35.tar'\n",
    "T1_Soft_Tissue_Binary_Mask = r'C:\\Users\\ellen\\Documents\\ew-honoursthesis\\Data\\forAudrey.tar\\Original\\T1softTissMask_withLacunes_35_binary.tar'\n"
   ]
  },
  {
   "cell_type": "code",
   "execution_count": 3,
   "id": "d9fc40a7",
   "metadata": {},
   "outputs": [
    {
     "name": "stdout",
     "output_type": "stream",
     "text": [
      "complete\n"
     ]
    }
   ],
   "source": [
    "def read_data():\n",
    "    #Read all data into list\n",
    "    T1_scan_data = []\n",
    "    for file in os.listdir(T1_scan):\n",
    "        if file.endswith(\".nii.gz\"):\n",
    "            Data_list = []\n",
    "            file_id = int(re.search(r'\\d+', file)[0])\n",
    "            imgpath = os.path.join(T1_scan, file)\n",
    "            img = nib.load(imgpath)\n",
    "            data = img.get_fdata()\n",
    "            Data_list.append(file_id)\n",
    "            Data_list.append(data)\n",
    "            T1_scan_data.append(Data_list)\n",
    "\n",
    "    #Read all FLAIR data into list\n",
    "    FLAIR_scan_data = []\n",
    "    for file in os.listdir(FLAIR_scan):\n",
    "        if file.endswith(\".nii.gz\"):\n",
    "            Data_list = []\n",
    "            file_id = int(re.search(r'\\d+', file)[0])\n",
    "            imgpath = os.path.join(FLAIR_scan, file)\n",
    "            img = nib.load(imgpath)\n",
    "            data = img.get_fdata()\n",
    "            Data_list.append(file_id)\n",
    "            Data_list.append(data)\n",
    "            FLAIR_scan_data.append(Data_list)\n",
    "\n",
    "    #Lacune Exists\n",
    "    Lacune_indicator_data = []\n",
    "    for file in os.listdir(T1_Lacunes_Correct):\n",
    "        if file.endswith(\".nii.gz\"):\n",
    "            Data_list = []\n",
    "            file_id = int(re.search(r'\\d+', file)[0])\n",
    "            imgpath = os.path.join(T1_Lacunes_Correct, file)\n",
    "            img = nib.load(imgpath)\n",
    "            data = img.get_fdata()\n",
    "            Data_list.append(file_id)\n",
    "            Data_list.append(data)\n",
    "            Lacune_indicator_data.append(Data_list)\n",
    "\n",
    "    Soft_tiss_data = []\n",
    "    for file in os.listdir(T1_Soft_Tissue):\n",
    "        if file.endswith(\".nii.gz\"):\n",
    "            Data_list = []\n",
    "            file_id = int(re.search(r'\\d+', file)[0])\n",
    "            imgpath = os.path.join(T1_Soft_Tissue, file)\n",
    "            img = nib.load(imgpath)\n",
    "            data = img.get_fdata()\n",
    "            Data_list.append(file_id)\n",
    "            Data_list.append(data)\n",
    "            Soft_tiss_data.append(Data_list)\n",
    "\n",
    "    return T1_scan_data, FLAIR_scan_data, Lacune_indicator_data, Soft_tiss_data\n",
    "T1_scan_data, FLAIR_scan_data, Lacune_indicator_data, Soft_tiss_data = read_data()\n",
    "print(\"complete\")"
   ]
  },
  {
   "cell_type": "code",
   "execution_count": 346,
   "id": "c9cdd163",
   "metadata": {},
   "outputs": [
    {
     "name": "stdout",
     "output_type": "stream",
     "text": [
      "1\n",
      "2\n",
      "3\n",
      "4\n",
      "5\n",
      "6\n",
      "7\n",
      "8\n",
      "9\n",
      "10\n",
      "11\n",
      "12\n",
      "13\n",
      "14\n",
      "15\n",
      "16\n",
      "17\n",
      "18\n",
      "19\n",
      "20\n",
      "21\n",
      "22\n",
      "23\n",
      "24\n",
      "25\n",
      "26\n",
      "27\n",
      "28\n",
      "29\n",
      "30\n",
      "31\n",
      "32\n",
      "33\n",
      "34\n",
      "35\n"
     ]
    }
   ],
   "source": [
    "def sample_lacunes(T1_scan_data, FLAIR_scan_data, Lacune_indicator_data, Soft_tiss_data):\n",
    "    # Lacune not as centred, random sampling all around brain\n",
    "    X_train_3D_lacune = []\n",
    "    X_test_3D_lacune = []\n",
    "    Y_train_3D_lacune = []\n",
    "    Y_test_3D_lacune = []\n",
    "    Y_train_segment_3D_lacune = []\n",
    "    Y_test_segment_3D_lacune = []\n",
    "\n",
    "    brain_image = 0\n",
    "    for file in os.listdir(T1_Soft_Tissue_Binary_Mask):\n",
    "        if file.endswith(\".nii.gz\"):\n",
    "            file_id = int(re.search(r'\\d+', file)[0])\n",
    "            imgpath = os.path.join(T1_Soft_Tissue_Binary_Mask, file)\n",
    "            img = nib.load(imgpath)\n",
    "            data = img.get_fdata()\n",
    "            data = data.astype(np.uint8)  # converting array of ints to floats\n",
    "            T1_data_scans = T1_scan_data[brain_image][1]\n",
    "            FLAIR_data_scans = FLAIR_scan_data[brain_image][1]\n",
    "            SoftTiss = Soft_tiss_data[brain_image][1]\n",
    "            Lacune_data = Lacune_indicator_data[brain_image][1]\n",
    "\n",
    "            #Sample lacunes\n",
    "            for x in range(0, data.shape[0]):\n",
    "                for y in range(0, data.shape[1]):\n",
    "                    for z in range(0, data.shape[2]):\n",
    "                        #filter for soft tissue\n",
    "                        if (x < 50) | (y < 70) | (z < 15) | (x > 200) | (y > 210) | (z > 165):\n",
    "                            next\n",
    "                        else:\n",
    "                            brain_values = []\n",
    "                            brain_values.append(file_id)\n",
    "                            brain_values.append(x)\n",
    "                            brain_values.append(y)\n",
    "                            brain_values.append(z)\n",
    "\n",
    "                            patch_3D_T1 = T1_data_scans[x-15:x+15, y-15:y+15, z-15:z+15]\n",
    "                            brain_values.append(patch_3D_T1)\n",
    "\n",
    "                            patch_3D_FLAIR = FLAIR_data_scans[x-15:x+15, y-15:y+15, z-15:z+15]\n",
    "                            brain_values.append(patch_3D_FLAIR)\n",
    "\n",
    "                            patch_3D_softtiss_binary = data[x-15:x+15, y-15:y+15, z-15:z+15]\n",
    "                            brain_values.append(patch_3D_softtiss_binary)\n",
    "\n",
    "                            patch_3D_softtiss = SoftTiss[x-15:x+15, y-15:y+15, z-15:z+15]\n",
    "                            brain_values.append(patch_3D_softtiss)\n",
    "\n",
    "                            lacune_binary = Lacune_data[x-15:x+15, y-15:y+15, z-15:z+15] \n",
    "\n",
    "                            if brain_image <= 24:\n",
    "                                if (Lacune_data[x,y,z] == 1):\n",
    "                                    X_train_3D_lacune.append(brain_values)\n",
    "                                    Y_train_3D_lacune.append(1)\n",
    "                                    Y_train_segment_3D_lacune.append(lacune_binary)\n",
    "\n",
    "                            else:\n",
    "                                if (Lacune_data[x,y,z] == 1):\n",
    "                                    X_test_3D_lacune.append(brain_values)\n",
    "                                    Y_test_3D_lacune.append(1)\n",
    "                                    Y_test_segment_3D_lacune.append(lacune_binary)\n",
    "                            \n",
    "            brain_image += 1\n",
    "            print(brain_image)\n",
    "    return X_train_3D_lacune, X_test_3D_lacune, Y_train_3D_lacune, Y_test_3D_lacune, Y_train_segment_3D_lacune, Y_test_segment_3D_lacune\n",
    "X_train_3D_lacune, X_test_3D_lacune, Y_train_3D_lacune, Y_test_3D_lacune, Y_train_segment_3D_lacune, Y_test_segment_3D_lacune = sample_lacunes(T1_scan_data, FLAIR_scan_data, Lacune_indicator_data, Soft_tiss_data)"
   ]
  },
  {
   "cell_type": "code",
   "execution_count": 347,
   "id": "2afbaee1",
   "metadata": {},
   "outputs": [
    {
     "name": "stdout",
     "output_type": "stream",
     "text": [
      "1\n",
      "2\n",
      "3\n",
      "4\n",
      "5\n",
      "6\n",
      "7\n",
      "8\n",
      "9\n",
      "10\n",
      "11\n",
      "12\n",
      "13\n",
      "14\n",
      "15\n",
      "16\n",
      "17\n",
      "18\n",
      "19\n",
      "20\n",
      "21\n",
      "22\n",
      "23\n",
      "24\n",
      "25\n",
      "26\n",
      "27\n",
      "28\n",
      "29\n",
      "30\n",
      "31\n",
      "32\n",
      "33\n",
      "34\n",
      "35\n"
     ]
    }
   ],
   "source": [
    "def non_lacune_sampling(T1_scan_data, FLAIR_scan_data, Lacune_indicator_data, Soft_tiss_data):\n",
    "    # Lacune not as centred, random sampling all around brain\n",
    "    X_train_3D_nlacune = []\n",
    "    X_test_3D_nlacune = []\n",
    "    Y_train_3D_nlacune = []\n",
    "    Y_test_3D_nlacune = []\n",
    "    Y_train_segment_3D_nlacune = []\n",
    "    Y_test_segment_3D_nlacune = []\n",
    "\n",
    "    brain_image = 0\n",
    "    for file in os.listdir(T1_Soft_Tissue_Binary_Mask):\n",
    "        if file.endswith(\".nii.gz\"):\n",
    "            file_id = int(re.search(r'\\d+', file)[0])\n",
    "            imgpath = os.path.join(T1_Soft_Tissue_Binary_Mask, file)\n",
    "            img = nib.load(imgpath)\n",
    "            data = img.get_fdata()\n",
    "            data = data.astype(np.uint8)  # converting array of ints to floats\n",
    "            T1_data_scans = T1_scan_data[brain_image][1]\n",
    "            FLAIR_data_scans = FLAIR_scan_data[brain_image][1]\n",
    "            SoftTiss = Soft_tiss_data[brain_image][1]\n",
    "            Lacune_data = Lacune_indicator_data[brain_image][1]\n",
    "            \n",
    "            #Sample lacunes\n",
    "            for x in range(0, data.shape[0], 15):\n",
    "                for y in range(0, data.shape[1], 15):\n",
    "                    for z in range(0, data.shape[2], 15):\n",
    "                        #filter for soft tissue\n",
    "                        if (x < 50) | (y < 70) | (z < 15) | (x > 200) | (y > 210) | (z > 165):\n",
    "                            next\n",
    "                        else:\n",
    "                            brain_values = []\n",
    "                            brain_values.append(file_id)\n",
    "                            brain_values.append(x)\n",
    "                            brain_values.append(y)\n",
    "                            brain_values.append(z)\n",
    "\n",
    "                            patch_3D_T1 = T1_data_scans[x-15:x+15, y-15:y+15, z-15:z+15]\n",
    "                            brain_values.append(patch_3D_T1)\n",
    "\n",
    "                            patch_3D_FLAIR = FLAIR_data_scans[x-15:x+15, y-15:y+15, z-15:z+15]\n",
    "                            brain_values.append(patch_3D_FLAIR)\n",
    "\n",
    "                            patch_3D_softtiss_binary = data[x-15:x+15, y-15:y+15, z-15:z+15]\n",
    "                            brain_values.append(patch_3D_softtiss_binary)\n",
    "\n",
    "                            patch_3D_softtiss = SoftTiss[x-15:x+15, y-15:y+15, z-15:z+15]\n",
    "                            brain_values.append(patch_3D_softtiss)\n",
    "\n",
    "                            lacune_binary = Lacune_data[x-15:x+15, y-15:y+15, z-15:z+15]\n",
    "\n",
    "                            if brain_image <= 24:\n",
    "                                # No lacune exists in the 3D patch, add to train set\n",
    "                                if any(1 in sublist for sublist in lacune_binary):\n",
    "                                    next\n",
    "                                else:\n",
    "                                    X_train_3D_nlacune.append(brain_values)\n",
    "                                    Y_train_3D_nlacune.append(0)\n",
    "                                    Y_train_segment_3D_nlacune.append(lacune_binary)\n",
    "                                    \n",
    "                            else:\n",
    "                                if any(1 in sublist for sublist in lacune_binary):\n",
    "                                    next\n",
    "                                else:\n",
    "                                    X_test_3D_nlacune.append(brain_values)\n",
    "                                    Y_test_3D_nlacune.append(0)\n",
    "                                    Y_test_segment_3D_nlacune.append(lacune_binary)\n",
    "            brain_image += 1\n",
    "            print(brain_image)\n",
    "\n",
    "    return X_train_3D_nlacune, X_test_3D_nlacune, Y_train_3D_nlacune, Y_test_3D_nlacune, Y_train_segment_3D_nlacune, Y_test_segment_3D_nlacune\n",
    "X_train_3D_nlacune, X_test_3D_nlacune, Y_train_3D_nlacune, Y_test_3D_nlacune, Y_train_segment_3D_nlacune, Y_test_segment_3D_nlacune = non_lacune_sampling(T1_scan_data, FLAIR_scan_data, Lacune_indicator_data, Soft_tiss_data)"
   ]
  },
  {
   "cell_type": "code",
   "execution_count": 348,
   "id": "71e6b28c",
   "metadata": {},
   "outputs": [
    {
     "name": "stdout",
     "output_type": "stream",
     "text": [
      "27106\n",
      "2351\n",
      "done\n"
     ]
    }
   ],
   "source": [
    "X_train = np.concatenate((X_train_3D_lacune, X_train_3D_nlacune), axis=0)\n",
    "X_test = np.concatenate((X_test_3D_lacune, X_test_3D_nlacune), axis=0)\n",
    "Y_train = np.concatenate((Y_train_3D_lacune, Y_train_3D_nlacune), axis=0)\n",
    "Y_test = np.concatenate((Y_test_3D_lacune, Y_test_3D_nlacune), axis=0)\n",
    "Y_train_segment = np.concatenate((Y_train_segment_3D_lacune, Y_train_segment_3D_nlacune), axis=0)\n",
    "Y_test_segment = np.concatenate((Y_test_segment_3D_lacune, Y_test_segment_3D_nlacune), axis=0)\n",
    "print(len(X_train_3D_nlacune))\n",
    "print(len(X_train_3D_lacune))\n",
    "print(\"done\")"
   ]
  },
  {
   "cell_type": "code",
   "execution_count": null,
   "id": "35422171",
   "metadata": {},
   "outputs": [],
   "source": [
    "import scipy.misc\n",
    "rgb = scipy.misc.toimage(X_train[4][4][:, 15, :])\n",
    "rgb"
   ]
  },
  {
   "cell_type": "code",
   "execution_count": 18,
   "id": "4076d3c1",
   "metadata": {},
   "outputs": [
    {
     "data": {
      "text/plain": [
       "0.980886333907486"
      ]
     },
     "execution_count": 18,
     "metadata": {},
     "output_type": "execute_result"
    }
   ],
   "source": [
    "np.mean(X_train[3000][4][7:23, 7:23, 7:23])/((sum(sum(sum(X_train[3000][4]))) - sum(sum(sum(X_train[3000][4][7:23, 7:23, 7:23]))))/22904)"
   ]
  },
  {
   "cell_type": "code",
   "execution_count": 202,
   "id": "880b900d",
   "metadata": {
    "scrolled": false
   },
   "outputs": [
    {
     "data": {
      "text/plain": [
       "array([[[0, 0, 0, 0],\n",
       "        [0, 0, 0, 0],\n",
       "        [0, 0, 0, 0],\n",
       "        [0, 0, 0, 1]],\n",
       "\n",
       "       [[0, 0, 0, 0],\n",
       "        [0, 0, 0, 0],\n",
       "        [0, 0, 0, 0],\n",
       "        [0, 0, 0, 0]],\n",
       "\n",
       "       [[0, 0, 0, 0],\n",
       "        [0, 0, 0, 0],\n",
       "        [0, 0, 0, 0],\n",
       "        [0, 0, 0, 0]],\n",
       "\n",
       "       [[0, 0, 0, 0],\n",
       "        [0, 0, 0, 0],\n",
       "        [0, 0, 0, 0],\n",
       "        [0, 0, 0, 0]]], dtype=uint8)"
      ]
     },
     "execution_count": 202,
     "metadata": {},
     "output_type": "execute_result"
    }
   ],
   "source": [
    "X_train[5000][6][13:17, 13:17, 13:17]"
   ]
  },
  {
   "cell_type": "code",
   "execution_count": 492,
   "id": "813227f3",
   "metadata": {},
   "outputs": [
    {
     "ename": "error",
     "evalue": "OpenCV(4.5.5) :-1: error: (-5:Bad argument) in function 'adaptiveThreshold'\n> Overload resolution failed:\n>  - adaptiveThreshold() missing required argument 'blockSize' (pos 5)\n>  - adaptiveThreshold() missing required argument 'blockSize' (pos 5)\n",
     "output_type": "error",
     "traceback": [
      "\u001b[1;31m---------------------------------------------------------------------------\u001b[0m",
      "\u001b[1;31merror\u001b[0m                                     Traceback (most recent call last)",
      "\u001b[1;32m<ipython-input-492-006ba0f0b52b>\u001b[0m in \u001b[0;36m<module>\u001b[1;34m\u001b[0m\n\u001b[0;32m     11\u001b[0m \u001b[0mimg_blur\u001b[0m \u001b[1;33m=\u001b[0m \u001b[0mcv2\u001b[0m\u001b[1;33m.\u001b[0m\u001b[0mGaussianBlur\u001b[0m\u001b[1;33m(\u001b[0m\u001b[0mimage_gray\u001b[0m\u001b[1;33m,\u001b[0m \u001b[1;33m(\u001b[0m\u001b[1;36m7\u001b[0m\u001b[1;33m,\u001b[0m\u001b[1;36m7\u001b[0m\u001b[1;33m)\u001b[0m\u001b[1;33m,\u001b[0m \u001b[1;36m0\u001b[0m\u001b[1;33m)\u001b[0m\u001b[1;33m\u001b[0m\u001b[1;33m\u001b[0m\u001b[0m\n\u001b[0;32m     12\u001b[0m \u001b[0medges\u001b[0m \u001b[1;33m=\u001b[0m \u001b[0mcanny\u001b[0m\u001b[1;33m(\u001b[0m\u001b[0mimg_blur\u001b[0m\u001b[1;33m)\u001b[0m\u001b[1;33m\u001b[0m\u001b[1;33m\u001b[0m\u001b[0m\n\u001b[1;32m---> 13\u001b[1;33m \u001b[0mth3\u001b[0m \u001b[1;33m=\u001b[0m \u001b[0mcv2\u001b[0m\u001b[1;33m.\u001b[0m\u001b[0madaptiveThreshold\u001b[0m\u001b[1;33m(\u001b[0m\u001b[0mimg\u001b[0m\u001b[1;33m,\u001b[0m\u001b[1;36m200\u001b[0m\u001b[1;33m,\u001b[0m \u001b[1;36m255\u001b[0m\u001b[1;33m,\u001b[0m \u001b[0mcv2\u001b[0m\u001b[1;33m.\u001b[0m\u001b[0mTHRESH_BINARY\u001b[0m\u001b[1;33m)\u001b[0m\u001b[1;33m\u001b[0m\u001b[1;33m\u001b[0m\u001b[0m\n\u001b[0m\u001b[0;32m     14\u001b[0m \u001b[0mplt\u001b[0m\u001b[1;33m.\u001b[0m\u001b[0mimshow\u001b[0m\u001b[1;33m(\u001b[0m\u001b[0mth3\u001b[0m\u001b[1;33m,\u001b[0m \u001b[0mcmap\u001b[0m\u001b[1;33m=\u001b[0m\u001b[1;34m\"gray\"\u001b[0m\u001b[1;33m,\u001b[0m \u001b[0morigin\u001b[0m\u001b[1;33m=\u001b[0m\u001b[1;34m\"lower\"\u001b[0m\u001b[1;33m)\u001b[0m\u001b[1;33m\u001b[0m\u001b[1;33m\u001b[0m\u001b[0m\n\u001b[0;32m     15\u001b[0m \u001b[1;31m# Perform a Hough Transform\u001b[0m\u001b[1;33m\u001b[0m\u001b[1;33m\u001b[0m\u001b[1;33m\u001b[0m\u001b[0m\n",
      "\u001b[1;31merror\u001b[0m: OpenCV(4.5.5) :-1: error: (-5:Bad argument) in function 'adaptiveThreshold'\n> Overload resolution failed:\n>  - adaptiveThreshold() missing required argument 'blockSize' (pos 5)\n>  - adaptiveThreshold() missing required argument 'blockSize' (pos 5)\n"
     ]
    }
   ],
   "source": [
    "import matplotlib.pyplot as plt\n",
    "\n",
    "from skimage import data, color, img_as_ubyte\n",
    "from skimage.feature import canny\n",
    "from skimage.transform import hough_ellipse\n",
    "from skimage.draw import ellipse_perimeter\n",
    "\n",
    "# Load picture, convert to grayscale and detect edges\n",
    "image_rgb = X_train[500][4][:, 15, :]*255\n",
    "image_gray = color.rgb2gray(image_rgb)\n",
    "img_blur = cv2.GaussianBlur(image_gray, (7,7), 0)\n",
    "edges = canny(img_blur)\n",
    "th3 = cv2.adaptiveThreshold(img,200, 255, cv2.THRESH_BINARY)\n",
    "plt.imshow(th3, cmap=\"gray\", origin=\"lower\")\n",
    "# Perform a Hough Transform\n",
    "# The accuracy corresponds to the bin size of a major axis.\n",
    "# The value is chosen in order to get a single high accumulator.\n",
    "# The threshold eliminates low accumulators\n",
    "result = hough_ellipse(edges, accuracy=20, threshold=250,\n",
    "                       min_size=100, max_size=120)\n",
    "result.sort(order='accumulator')\n",
    "#print(edges)\n",
    "\n",
    "# Estimated parameters for the ellipse\n",
    "best = list(result[-1])\n",
    "yc, xc, a, b = [int(round(x)) for x in best[1:5]]\n",
    "orientation = best[5]\n",
    "\n",
    "# Draw the ellipse on the original image\n",
    "cy, cx = ellipse_perimeter(yc, xc, a, b, orientation)\n",
    "image_rgb[cy, cx] = (0, 0, 255)\n",
    "# Draw the edge (white) and the resulting ellipse (red)\n",
    "edges = color.gray2rgb(img_as_ubyte(edges))\n",
    "edges[cy, cx] = (250, 0, 0)\n",
    "\n",
    "fig2, (ax1, ax2) = plt.subplots(ncols=2, nrows=1, figsize=(8, 4), sharex=True,\n",
    "                                sharey=True,\n",
    "                                subplot_kw={'adjustable':'box'})\n",
    "\n",
    "ax1.set_title('Original picture')\n",
    "ax1.imshow(image_rgb)\n",
    "\n",
    "ax2.set_title('Edge (white) and result (red)')\n",
    "ax2.imshow(edges)"
   ]
  },
  {
   "cell_type": "code",
   "execution_count": null,
   "id": "85936227",
   "metadata": {},
   "outputs": [],
   "source": [
    "# global thresholding\n",
    "kernel = (5,5)\n",
    "img = X_train[100][7][:, 15, :]\n",
    "opening = cv2.morphologyEx(img, cv2.MORPH_OPEN, kernel)\n",
    "im_bin = (img < 0.25)*img\n",
    "#th1 = cv2.threshold(img,0.25,0.5,cv2.THRESH_BINARY)\n",
    "#contours = cv2.findContours(im_bin, cv2.RETR_EXTERNAL, cv2.CHAIN_APPROX_SIMPLE)\n",
    "\n",
    "\n",
    "edges = canny(im_bin)\n",
    "plt.imshow(edges, cmap=\"gray\", origin=\"lower\")\n"
   ]
  },
  {
   "cell_type": "code",
   "execution_count": 497,
   "id": "6018592c",
   "metadata": {
    "scrolled": true
   },
   "outputs": [
    {
     "data": {
      "image/png": "[encoded data removed]",
      "text/plain": [
       "<Figure size 432x288 with 1 Axes>"
      ]
     },
     "metadata": {
      "needs_background": "light"
     },
     "output_type": "display_data"
    }
   ],
   "source": [
    "filterSize =(16, 16)\n",
    "kernel = cv2.getStructuringElement(cv2.MORPH_RECT,\n",
    "                                   filterSize)\n",
    "# Reading the image named 'input.jpg'\n",
    "input_image = X_train[520][4][:, 15, :]\n",
    "  \n",
    "# Applying the Black-Hat operation\n",
    "tophat_img = cv2.morphologyEx(input_image, \n",
    "                              cv2.MORPH_TOPHAT,\n",
    "                              kernel)\n",
    "\n",
    "plt.imshow(tophat_img, cmap=\"gray\", origin=\"lower\")\n",
    "plt.show()"
   ]
  },
  {
   "cell_type": "code",
   "execution_count": null,
   "id": "4d346226",
   "metadata": {},
   "outputs": [],
   "source": [
    "# binarization"
   ]
  },
  {
   "cell_type": "code",
   "execution_count": 447,
   "id": "e19ca4d3",
   "metadata": {},
   "outputs": [],
   "source": [
    "a3d = Image.fromarray(tophat_img)\n",
    "a3d = a3d.convert(\"L\")\n",
    "a3d.save('image.png')"
   ]
  },
  {
   "cell_type": "code",
   "execution_count": 448,
   "id": "9e3b6225",
   "metadata": {},
   "outputs": [
    {
     "data": {
      "text/plain": [
       "900"
      ]
     },
     "execution_count": 448,
     "metadata": {},
     "output_type": "execute_result"
    }
   ],
   "source": [
    "a3d = np.array(Image.open('image.png'))\n",
    "a3d.size"
   ]
  },
  {
   "cell_type": "code",
   "execution_count": 449,
   "id": "cf700c00",
   "metadata": {},
   "outputs": [
    {
     "ename": "TypeError",
     "evalue": "'NoneType' object is not subscriptable",
     "output_type": "error",
     "traceback": [
      "\u001b[1;31m---------------------------------------------------------------------------\u001b[0m",
      "\u001b[1;31mTypeError\u001b[0m                                 Traceback (most recent call last)",
      "\u001b[1;32m<ipython-input-449-aa250eb9381c>\u001b[0m in \u001b[0;36m<module>\u001b[1;34m\u001b[0m\n\u001b[0;32m      6\u001b[0m \u001b[1;31m#circles = np.uint16(np.around(circles))\u001b[0m\u001b[1;33m\u001b[0m\u001b[1;33m\u001b[0m\u001b[1;33m\u001b[0m\u001b[0m\n\u001b[0;32m      7\u001b[0m \u001b[1;33m\u001b[0m\u001b[0m\n\u001b[1;32m----> 8\u001b[1;33m \u001b[1;32mfor\u001b[0m \u001b[0mi\u001b[0m \u001b[1;32min\u001b[0m \u001b[0mcircles\u001b[0m\u001b[1;33m[\u001b[0m\u001b[1;36m0\u001b[0m\u001b[1;33m,\u001b[0m\u001b[1;33m:\u001b[0m\u001b[1;33m]\u001b[0m\u001b[1;33m:\u001b[0m\u001b[1;33m\u001b[0m\u001b[1;33m\u001b[0m\u001b[0m\n\u001b[0m\u001b[0;32m      9\u001b[0m     \u001b[1;31m# draw the outer circle\u001b[0m\u001b[1;33m\u001b[0m\u001b[1;33m\u001b[0m\u001b[1;33m\u001b[0m\u001b[0m\n\u001b[0;32m     10\u001b[0m     \u001b[0mcv2\u001b[0m\u001b[1;33m.\u001b[0m\u001b[0mcircle\u001b[0m\u001b[1;33m(\u001b[0m\u001b[0mcimg\u001b[0m\u001b[1;33m,\u001b[0m\u001b[1;33m(\u001b[0m\u001b[0mi\u001b[0m\u001b[1;33m[\u001b[0m\u001b[1;36m0\u001b[0m\u001b[1;33m]\u001b[0m\u001b[1;33m,\u001b[0m\u001b[0mi\u001b[0m\u001b[1;33m[\u001b[0m\u001b[1;36m1\u001b[0m\u001b[1;33m]\u001b[0m\u001b[1;33m)\u001b[0m\u001b[1;33m,\u001b[0m\u001b[0mi\u001b[0m\u001b[1;33m[\u001b[0m\u001b[1;36m2\u001b[0m\u001b[1;33m]\u001b[0m\u001b[1;33m,\u001b[0m\u001b[1;33m(\u001b[0m\u001b[1;36m0\u001b[0m\u001b[1;33m,\u001b[0m\u001b[1;36m255\u001b[0m\u001b[1;33m,\u001b[0m\u001b[1;36m0\u001b[0m\u001b[1;33m)\u001b[0m\u001b[1;33m,\u001b[0m\u001b[1;36m2\u001b[0m\u001b[1;33m)\u001b[0m\u001b[1;33m\u001b[0m\u001b[1;33m\u001b[0m\u001b[0m\n",
      "\u001b[1;31mTypeError\u001b[0m: 'NoneType' object is not subscriptable"
     ]
    }
   ],
   "source": [
    "a3d = cv2.medianBlur(img,5)\n",
    "#cimg = cv2.cvtColor(input_image,cv2.COLOR_GRAY2BGR)\n",
    "# Find circles\n",
    "circles = cv2.HoughCircles(a3d,cv2.HOUGH_GRADIENT,1,10,\n",
    "                            param1=50,param2=10,minRadius=3,maxRadius=15)\n",
    "#circles = np.uint16(np.around(circles))\n",
    "\n",
    "for i in circles[0,:]:\n",
    "    # draw the outer circle\n",
    "    cv2.circle(cimg,(i[0],i[1]),i[2],(0,255,0),2)\n",
    "    # draw the center of the circle\n",
    "    cv2.circle(cimg,(i[0],i[1]),2,(0,0,255),3)\n",
    "cv2.imshow('detected circles',a3d)\n",
    "cv2.waitKey(0)\n",
    "cv2.destroyAllWindows()"
   ]
  },
  {
   "cell_type": "code",
   "execution_count": 441,
   "id": "93e76984",
   "metadata": {},
   "outputs": [
    {
     "ename": "TypeError",
     "evalue": "Image data of dtype object cannot be converted to float",
     "output_type": "error",
     "traceback": [
      "\u001b[1;31m---------------------------------------------------------------------------\u001b[0m",
      "\u001b[1;31mTypeError\u001b[0m                                 Traceback (most recent call last)",
      "\u001b[1;32m<ipython-input-441-56cb5c2a6c60>\u001b[0m in \u001b[0;36m<module>\u001b[1;34m\u001b[0m\n\u001b[1;32m----> 1\u001b[1;33m \u001b[0mplt\u001b[0m\u001b[1;33m.\u001b[0m\u001b[0mimshow\u001b[0m\u001b[1;33m(\u001b[0m\u001b[0mcircles\u001b[0m\u001b[1;33m,\u001b[0m \u001b[0mcmap\u001b[0m\u001b[1;33m=\u001b[0m\u001b[1;34m\"gray\"\u001b[0m\u001b[1;33m,\u001b[0m \u001b[0morigin\u001b[0m\u001b[1;33m=\u001b[0m\u001b[1;34m\"lower\"\u001b[0m\u001b[1;33m)\u001b[0m\u001b[1;33m\u001b[0m\u001b[1;33m\u001b[0m\u001b[0m\n\u001b[0m",
      "\u001b[1;32m~\\anaconda3\\lib\\site-packages\\matplotlib\\pyplot.py\u001b[0m in \u001b[0;36mimshow\u001b[1;34m(X, cmap, norm, aspect, interpolation, alpha, vmin, vmax, origin, extent, shape, filternorm, filterrad, imlim, resample, url, data, **kwargs)\u001b[0m\n\u001b[0;32m   2682\u001b[0m         \u001b[0mfilternorm\u001b[0m\u001b[1;33m=\u001b[0m\u001b[0mfilternorm\u001b[0m\u001b[1;33m,\u001b[0m \u001b[0mfilterrad\u001b[0m\u001b[1;33m=\u001b[0m\u001b[0mfilterrad\u001b[0m\u001b[1;33m,\u001b[0m \u001b[0mimlim\u001b[0m\u001b[1;33m=\u001b[0m\u001b[0mimlim\u001b[0m\u001b[1;33m,\u001b[0m\u001b[1;33m\u001b[0m\u001b[1;33m\u001b[0m\u001b[0m\n\u001b[0;32m   2683\u001b[0m         resample=resample, url=url, **({\"data\": data} if data is not\n\u001b[1;32m-> 2684\u001b[1;33m         None else {}), **kwargs)\n\u001b[0m\u001b[0;32m   2685\u001b[0m     \u001b[0msci\u001b[0m\u001b[1;33m(\u001b[0m\u001b[0m__ret\u001b[0m\u001b[1;33m)\u001b[0m\u001b[1;33m\u001b[0m\u001b[1;33m\u001b[0m\u001b[0m\n\u001b[0;32m   2686\u001b[0m     \u001b[1;32mreturn\u001b[0m \u001b[0m__ret\u001b[0m\u001b[1;33m\u001b[0m\u001b[1;33m\u001b[0m\u001b[0m\n",
      "\u001b[1;32m~\\anaconda3\\lib\\site-packages\\matplotlib\\__init__.py\u001b[0m in \u001b[0;36minner\u001b[1;34m(ax, data, *args, **kwargs)\u001b[0m\n\u001b[0;32m   1597\u001b[0m     \u001b[1;32mdef\u001b[0m \u001b[0minner\u001b[0m\u001b[1;33m(\u001b[0m\u001b[0max\u001b[0m\u001b[1;33m,\u001b[0m \u001b[1;33m*\u001b[0m\u001b[0margs\u001b[0m\u001b[1;33m,\u001b[0m \u001b[0mdata\u001b[0m\u001b[1;33m=\u001b[0m\u001b[1;32mNone\u001b[0m\u001b[1;33m,\u001b[0m \u001b[1;33m**\u001b[0m\u001b[0mkwargs\u001b[0m\u001b[1;33m)\u001b[0m\u001b[1;33m:\u001b[0m\u001b[1;33m\u001b[0m\u001b[1;33m\u001b[0m\u001b[0m\n\u001b[0;32m   1598\u001b[0m         \u001b[1;32mif\u001b[0m \u001b[0mdata\u001b[0m \u001b[1;32mis\u001b[0m \u001b[1;32mNone\u001b[0m\u001b[1;33m:\u001b[0m\u001b[1;33m\u001b[0m\u001b[1;33m\u001b[0m\u001b[0m\n\u001b[1;32m-> 1599\u001b[1;33m             \u001b[1;32mreturn\u001b[0m \u001b[0mfunc\u001b[0m\u001b[1;33m(\u001b[0m\u001b[0max\u001b[0m\u001b[1;33m,\u001b[0m \u001b[1;33m*\u001b[0m\u001b[0mmap\u001b[0m\u001b[1;33m(\u001b[0m\u001b[0msanitize_sequence\u001b[0m\u001b[1;33m,\u001b[0m \u001b[0margs\u001b[0m\u001b[1;33m)\u001b[0m\u001b[1;33m,\u001b[0m \u001b[1;33m**\u001b[0m\u001b[0mkwargs\u001b[0m\u001b[1;33m)\u001b[0m\u001b[1;33m\u001b[0m\u001b[1;33m\u001b[0m\u001b[0m\n\u001b[0m\u001b[0;32m   1600\u001b[0m \u001b[1;33m\u001b[0m\u001b[0m\n\u001b[0;32m   1601\u001b[0m         \u001b[0mbound\u001b[0m \u001b[1;33m=\u001b[0m \u001b[0mnew_sig\u001b[0m\u001b[1;33m.\u001b[0m\u001b[0mbind\u001b[0m\u001b[1;33m(\u001b[0m\u001b[0max\u001b[0m\u001b[1;33m,\u001b[0m \u001b[1;33m*\u001b[0m\u001b[0margs\u001b[0m\u001b[1;33m,\u001b[0m \u001b[1;33m**\u001b[0m\u001b[0mkwargs\u001b[0m\u001b[1;33m)\u001b[0m\u001b[1;33m\u001b[0m\u001b[1;33m\u001b[0m\u001b[0m\n",
      "\u001b[1;32m~\\anaconda3\\lib\\site-packages\\matplotlib\\cbook\\deprecation.py\u001b[0m in \u001b[0;36mwrapper\u001b[1;34m(*args, **kwargs)\u001b[0m\n\u001b[0;32m    367\u001b[0m                 \u001b[1;34mf\"%(removal)s.  If any parameter follows {name!r}, they \"\u001b[0m\u001b[1;33m\u001b[0m\u001b[1;33m\u001b[0m\u001b[0m\n\u001b[0;32m    368\u001b[0m                 f\"should be pass as keyword, not positionally.\")\n\u001b[1;32m--> 369\u001b[1;33m         \u001b[1;32mreturn\u001b[0m \u001b[0mfunc\u001b[0m\u001b[1;33m(\u001b[0m\u001b[1;33m*\u001b[0m\u001b[0margs\u001b[0m\u001b[1;33m,\u001b[0m \u001b[1;33m**\u001b[0m\u001b[0mkwargs\u001b[0m\u001b[1;33m)\u001b[0m\u001b[1;33m\u001b[0m\u001b[1;33m\u001b[0m\u001b[0m\n\u001b[0m\u001b[0;32m    370\u001b[0m \u001b[1;33m\u001b[0m\u001b[0m\n\u001b[0;32m    371\u001b[0m     \u001b[1;32mreturn\u001b[0m \u001b[0mwrapper\u001b[0m\u001b[1;33m\u001b[0m\u001b[1;33m\u001b[0m\u001b[0m\n",
      "\u001b[1;32m~\\anaconda3\\lib\\site-packages\\matplotlib\\cbook\\deprecation.py\u001b[0m in \u001b[0;36mwrapper\u001b[1;34m(*args, **kwargs)\u001b[0m\n\u001b[0;32m    367\u001b[0m                 \u001b[1;34mf\"%(removal)s.  If any parameter follows {name!r}, they \"\u001b[0m\u001b[1;33m\u001b[0m\u001b[1;33m\u001b[0m\u001b[0m\n\u001b[0;32m    368\u001b[0m                 f\"should be pass as keyword, not positionally.\")\n\u001b[1;32m--> 369\u001b[1;33m         \u001b[1;32mreturn\u001b[0m \u001b[0mfunc\u001b[0m\u001b[1;33m(\u001b[0m\u001b[1;33m*\u001b[0m\u001b[0margs\u001b[0m\u001b[1;33m,\u001b[0m \u001b[1;33m**\u001b[0m\u001b[0mkwargs\u001b[0m\u001b[1;33m)\u001b[0m\u001b[1;33m\u001b[0m\u001b[1;33m\u001b[0m\u001b[0m\n\u001b[0m\u001b[0;32m    370\u001b[0m \u001b[1;33m\u001b[0m\u001b[0m\n\u001b[0;32m    371\u001b[0m     \u001b[1;32mreturn\u001b[0m \u001b[0mwrapper\u001b[0m\u001b[1;33m\u001b[0m\u001b[1;33m\u001b[0m\u001b[0m\n",
      "\u001b[1;32m~\\anaconda3\\lib\\site-packages\\matplotlib\\axes\\_axes.py\u001b[0m in \u001b[0;36mimshow\u001b[1;34m(self, X, cmap, norm, aspect, interpolation, alpha, vmin, vmax, origin, extent, shape, filternorm, filterrad, imlim, resample, url, **kwargs)\u001b[0m\n\u001b[0;32m   5677\u001b[0m                               resample=resample, **kwargs)\n\u001b[0;32m   5678\u001b[0m \u001b[1;33m\u001b[0m\u001b[0m\n\u001b[1;32m-> 5679\u001b[1;33m         \u001b[0mim\u001b[0m\u001b[1;33m.\u001b[0m\u001b[0mset_data\u001b[0m\u001b[1;33m(\u001b[0m\u001b[0mX\u001b[0m\u001b[1;33m)\u001b[0m\u001b[1;33m\u001b[0m\u001b[1;33m\u001b[0m\u001b[0m\n\u001b[0m\u001b[0;32m   5680\u001b[0m         \u001b[0mim\u001b[0m\u001b[1;33m.\u001b[0m\u001b[0mset_alpha\u001b[0m\u001b[1;33m(\u001b[0m\u001b[0malpha\u001b[0m\u001b[1;33m)\u001b[0m\u001b[1;33m\u001b[0m\u001b[1;33m\u001b[0m\u001b[0m\n\u001b[0;32m   5681\u001b[0m         \u001b[1;32mif\u001b[0m \u001b[0mim\u001b[0m\u001b[1;33m.\u001b[0m\u001b[0mget_clip_path\u001b[0m\u001b[1;33m(\u001b[0m\u001b[1;33m)\u001b[0m \u001b[1;32mis\u001b[0m \u001b[1;32mNone\u001b[0m\u001b[1;33m:\u001b[0m\u001b[1;33m\u001b[0m\u001b[1;33m\u001b[0m\u001b[0m\n",
      "\u001b[1;32m~\\anaconda3\\lib\\site-packages\\matplotlib\\image.py\u001b[0m in \u001b[0;36mset_data\u001b[1;34m(self, A)\u001b[0m\n\u001b[0;32m    683\u001b[0m                 not np.can_cast(self._A.dtype, float, \"same_kind\")):\n\u001b[0;32m    684\u001b[0m             raise TypeError(\"Image data of dtype {} cannot be converted to \"\n\u001b[1;32m--> 685\u001b[1;33m                             \"float\".format(self._A.dtype))\n\u001b[0m\u001b[0;32m    686\u001b[0m \u001b[1;33m\u001b[0m\u001b[0m\n\u001b[0;32m    687\u001b[0m         if not (self._A.ndim == 2\n",
      "\u001b[1;31mTypeError\u001b[0m: Image data of dtype object cannot be converted to float"
     ]
    },
    {
     "data": {
      "image/png": "[encoded data removed]",
      "text/plain": [
       "<Figure size 432x288 with 1 Axes>"
      ]
     },
     "metadata": {
      "needs_background": "light"
     },
     "output_type": "display_data"
    }
   ],
   "source": [
    "plt.imshow(circles, cmap=\"gray\", origin=\"lower\")"
   ]
  },
  {
   "cell_type": "code",
   "execution_count": 383,
   "id": "e7b5bec6",
   "metadata": {},
   "outputs": [],
   "source": [
    "img = Image.fromarray(np.uint8(tophat_img*255) , 'L')\n",
    "img.show()"
   ]
  },
  {
   "cell_type": "code",
   "execution_count": 368,
   "id": "69df1556",
   "metadata": {},
   "outputs": [
    {
     "name": "stderr",
     "output_type": "stream",
     "text": [
      "C:\\Users\\ellen\\anaconda3\\lib\\site-packages\\sklearn\\cluster\\_kmeans.py:1037: UserWarning: KMeans is known to have a memory leak on Windows with MKL, when there are less chunks than available threads. You can avoid it by setting the environment variable OMP_NUM_THREADS=1.\n",
      "  \"KMeans is known to have a memory leak on Windows \"\n"
     ]
    }
   ],
   "source": [
    "from sklearn.cluster import KMeans\n",
    "distortions = []\n",
    "K = range(1,10)\n",
    "for k in K:\n",
    "    kmeanModel = KMeans(n_clusters=k)\n",
    "    kmeanModel.fit(img)\n",
    "    distortions.append(kmeanModel.inertia_)"
   ]
  },
  {
   "cell_type": "code",
   "execution_count": 369,
   "id": "8e1005e2",
   "metadata": {},
   "outputs": [
    {
     "data": {
      "image/png": "[encoded data removed]",
      "text/plain": [
       "<Figure size 1152x576 with 1 Axes>"
      ]
     },
     "metadata": {
      "needs_background": "light"
     },
     "output_type": "display_data"
    }
   ],
   "source": [
    "plt.figure(figsize=(16,8))\n",
    "plt.plot(K, distortions, 'bx-')\n",
    "plt.xlabel('k')\n",
    "plt.ylabel('Distortion')\n",
    "plt.title('The Elbow Method showing the optimal k')\n",
    "plt.show()"
   ]
  },
  {
   "cell_type": "code",
   "execution_count": 351,
   "id": "03c0cf48",
   "metadata": {},
   "outputs": [
    {
     "data": {
      "text/plain": [
       "KMeans(n_clusters=2)"
      ]
     },
     "execution_count": 351,
     "metadata": {},
     "output_type": "execute_result"
    }
   ],
   "source": [
    "kmeanModel = KMeans(n_clusters=2)\n",
    "kmeanModel.fit(X_train[4][4][:, 15, :])"
   ]
  },
  {
   "cell_type": "code",
   "execution_count": 370,
   "id": "680db8ef",
   "metadata": {},
   "outputs": [
    {
     "ename": "error",
     "evalue": "OpenCV(4.5.5) :-1: error: (-5:Bad argument) in function 'kmeans'\n> Overload resolution failed:\n>  - data is not a numpy array, neither a scalar\n>  - Expected Ptr<cv::UMat> for argument 'data'\n",
     "output_type": "error",
     "traceback": [
      "\u001b[1;31m---------------------------------------------------------------------------\u001b[0m",
      "\u001b[1;31merror\u001b[0m                                     Traceback (most recent call last)",
      "\u001b[1;32m<ipython-input-370-3291373e3f50>\u001b[0m in \u001b[0;36m<module>\u001b[1;34m\u001b[0m\n\u001b[0;32m      1\u001b[0m \u001b[0mcriteria\u001b[0m \u001b[1;33m=\u001b[0m \u001b[1;33m(\u001b[0m\u001b[0mcv2\u001b[0m\u001b[1;33m.\u001b[0m\u001b[0mTERM_CRITERIA_EPS\u001b[0m \u001b[1;33m+\u001b[0m \u001b[0mcv2\u001b[0m\u001b[1;33m.\u001b[0m\u001b[0mTERM_CRITERIA_MAX_ITER\u001b[0m\u001b[1;33m,\u001b[0m \u001b[1;36m100\u001b[0m\u001b[1;33m,\u001b[0m \u001b[1;36m0.2\u001b[0m\u001b[1;33m)\u001b[0m\u001b[1;33m\u001b[0m\u001b[1;33m\u001b[0m\u001b[0m\n\u001b[0;32m      2\u001b[0m \u001b[0mk\u001b[0m \u001b[1;33m=\u001b[0m \u001b[1;36m3\u001b[0m\u001b[1;33m\u001b[0m\u001b[1;33m\u001b[0m\u001b[0m\n\u001b[1;32m----> 3\u001b[1;33m \u001b[0m_\u001b[0m\u001b[1;33m,\u001b[0m \u001b[0mlabels\u001b[0m\u001b[1;33m,\u001b[0m \u001b[1;33m(\u001b[0m\u001b[0mcenters\u001b[0m\u001b[1;33m)\u001b[0m \u001b[1;33m=\u001b[0m \u001b[0mcv2\u001b[0m\u001b[1;33m.\u001b[0m\u001b[0mkmeans\u001b[0m\u001b[1;33m(\u001b[0m\u001b[0mimg\u001b[0m\u001b[1;33m,\u001b[0m \u001b[0mk\u001b[0m\u001b[1;33m,\u001b[0m \u001b[1;32mNone\u001b[0m\u001b[1;33m,\u001b[0m \u001b[0mcriteria\u001b[0m\u001b[1;33m,\u001b[0m \u001b[1;36m10\u001b[0m\u001b[1;33m,\u001b[0m \u001b[0mcv2\u001b[0m\u001b[1;33m.\u001b[0m\u001b[0mKMEANS_RANDOM_CENTERS\u001b[0m\u001b[1;33m)\u001b[0m\u001b[1;33m\u001b[0m\u001b[1;33m\u001b[0m\u001b[0m\n\u001b[0m\u001b[0;32m      4\u001b[0m \u001b[0mcenters\u001b[0m \u001b[1;33m=\u001b[0m \u001b[0mnp\u001b[0m\u001b[1;33m.\u001b[0m\u001b[0muint8\u001b[0m\u001b[1;33m(\u001b[0m\u001b[0mcenters\u001b[0m\u001b[1;33m)\u001b[0m\u001b[1;33m\u001b[0m\u001b[1;33m\u001b[0m\u001b[0m\n\u001b[0;32m      5\u001b[0m \u001b[0mlabels\u001b[0m \u001b[1;33m=\u001b[0m \u001b[0mlabels\u001b[0m\u001b[1;33m.\u001b[0m\u001b[0mflatten\u001b[0m\u001b[1;33m(\u001b[0m\u001b[1;33m)\u001b[0m\u001b[1;33m\u001b[0m\u001b[1;33m\u001b[0m\u001b[0m\n",
      "\u001b[1;31merror\u001b[0m: OpenCV(4.5.5) :-1: error: (-5:Bad argument) in function 'kmeans'\n> Overload resolution failed:\n>  - data is not a numpy array, neither a scalar\n>  - Expected Ptr<cv::UMat> for argument 'data'\n"
     ]
    }
   ],
   "source": [
    "criteria = (cv2.TERM_CRITERIA_EPS + cv2.TERM_CRITERIA_MAX_ITER, 100, 0.2)\n",
    "k = 3\n",
    "_, labels, (centers) = cv2.kmeans(img, k, None, criteria, 10, cv2.KMEANS_RANDOM_CENTERS)\n",
    "centers = np.uint8(centers)\n",
    "labels = labels.flatten()\n",
    "segmented_image = centers[labels.flatten()]\n",
    "# reshape back to the original image dimension\n",
    "segmented_image = segmented_image.reshape(image.shape)\n",
    "# show the image\n",
    "plt.imshow(segmented_image)\n",
    "plt.show()"
   ]
  },
  {
   "cell_type": "code",
   "execution_count": 60,
   "id": "62423d83",
   "metadata": {
    "scrolled": true
   },
   "outputs": [
    {
     "ename": "IndexError",
     "evalue": "index 11830 is out of bounds for axis 0 with size 11830",
     "output_type": "error",
     "traceback": [
      "\u001b[1;31m---------------------------------------------------------------------------\u001b[0m",
      "\u001b[1;31mIndexError\u001b[0m                                Traceback (most recent call last)",
      "\u001b[1;32m<ipython-input-60-2dd859201fd1>\u001b[0m in \u001b[0;36m<module>\u001b[1;34m\u001b[0m\n\u001b[1;32m----> 1\u001b[1;33m \u001b[0mnp\u001b[0m\u001b[1;33m.\u001b[0m\u001b[0mmean\u001b[0m\u001b[1;33m(\u001b[0m\u001b[0mX_train\u001b[0m\u001b[1;33m[\u001b[0m\u001b[0mindex\u001b[0m\u001b[1;33m]\u001b[0m\u001b[1;33m[\u001b[0m\u001b[1;36m4\u001b[0m\u001b[1;33m]\u001b[0m\u001b[1;33m[\u001b[0m\u001b[1;36m13\u001b[0m\u001b[1;33m:\u001b[0m\u001b[1;36m17\u001b[0m\u001b[1;33m,\u001b[0m \u001b[1;36m13\u001b[0m\u001b[1;33m:\u001b[0m\u001b[1;36m17\u001b[0m\u001b[1;33m,\u001b[0m \u001b[1;36m13\u001b[0m\u001b[1;33m:\u001b[0m\u001b[1;36m17\u001b[0m\u001b[1;33m]\u001b[0m\u001b[1;33m)\u001b[0m\u001b[1;33m/\u001b[0m\u001b[1;33m(\u001b[0m\u001b[1;33m(\u001b[0m\u001b[0msum\u001b[0m\u001b[1;33m(\u001b[0m\u001b[0msum\u001b[0m\u001b[1;33m(\u001b[0m\u001b[0msum\u001b[0m\u001b[1;33m(\u001b[0m\u001b[0mX_train\u001b[0m\u001b[1;33m[\u001b[0m\u001b[0mindex\u001b[0m\u001b[1;33m]\u001b[0m\u001b[1;33m[\u001b[0m\u001b[1;36m4\u001b[0m\u001b[1;33m]\u001b[0m\u001b[1;33m[\u001b[0m\u001b[1;36m10\u001b[0m\u001b[1;33m:\u001b[0m\u001b[1;36m20\u001b[0m\u001b[1;33m,\u001b[0m \u001b[1;36m10\u001b[0m\u001b[1;33m:\u001b[0m\u001b[1;36m20\u001b[0m\u001b[1;33m,\u001b[0m \u001b[1;36m10\u001b[0m\u001b[1;33m:\u001b[0m\u001b[1;36m20\u001b[0m\u001b[1;33m]\u001b[0m\u001b[1;33m)\u001b[0m\u001b[1;33m)\u001b[0m\u001b[1;33m)\u001b[0m \u001b[1;33m-\u001b[0m \u001b[0msum\u001b[0m\u001b[1;33m(\u001b[0m\u001b[0msum\u001b[0m\u001b[1;33m(\u001b[0m\u001b[0msum\u001b[0m\u001b[1;33m(\u001b[0m\u001b[0mX_test\u001b[0m\u001b[1;33m[\u001b[0m\u001b[0mindex\u001b[0m\u001b[1;33m]\u001b[0m\u001b[1;33m[\u001b[0m\u001b[1;36m4\u001b[0m\u001b[1;33m]\u001b[0m\u001b[1;33m[\u001b[0m\u001b[1;36m13\u001b[0m\u001b[1;33m:\u001b[0m\u001b[1;36m17\u001b[0m\u001b[1;33m,\u001b[0m \u001b[1;36m13\u001b[0m\u001b[1;33m:\u001b[0m\u001b[1;36m17\u001b[0m\u001b[1;33m,\u001b[0m \u001b[1;36m13\u001b[0m\u001b[1;33m:\u001b[0m\u001b[1;36m17\u001b[0m\u001b[1;33m]\u001b[0m\u001b[1;33m)\u001b[0m\u001b[1;33m)\u001b[0m\u001b[1;33m)\u001b[0m\u001b[1;33m)\u001b[0m\u001b[1;33m/\u001b[0m\u001b[1;36m936\u001b[0m\u001b[1;33m)\u001b[0m\u001b[1;33m\u001b[0m\u001b[1;33m\u001b[0m\u001b[0m\n\u001b[0m",
      "\u001b[1;31mIndexError\u001b[0m: index 11830 is out of bounds for axis 0 with size 11830"
     ]
    }
   ],
   "source": [
    "np.mean(X_train[index][4][13:17, 13:17, 13:17])/((sum(sum(sum(X_train[index][4][10:20, 10:20, 10:20]))) - sum(sum(sum(X_test[index][4][13:17, 13:17, 13:17]))))/936)"
   ]
  },
  {
   "cell_type": "code",
   "execution_count": 64,
   "id": "4f405e94",
   "metadata": {},
   "outputs": [
    {
     "data": {
      "text/plain": [
       "304.9265915751457"
      ]
     },
     "execution_count": 64,
     "metadata": {},
     "output_type": "execute_result"
    }
   ],
   "source": [
    "(sum(sum(sum(X_train[index][4][10:20, 10:20, 10:20]))))"
   ]
  },
  {
   "cell_type": "code",
   "execution_count": 68,
   "id": "5ee3a4a3",
   "metadata": {},
   "outputs": [
    {
     "data": {
      "text/plain": [
       "15.553691022098064"
      ]
     },
     "execution_count": 68,
     "metadata": {},
     "output_type": "execute_result"
    }
   ],
   "source": [
    "sum(sum(sum(X_train[index][4][13:17, 13:17, 13:17])))"
   ]
  },
  {
   "cell_type": "code",
   "execution_count": 220,
   "id": "c6846fda",
   "metadata": {},
   "outputs": [
    {
     "name": "stderr",
     "output_type": "stream",
     "text": [
      "C:\\Users\\ellen\\anaconda3\\lib\\site-packages\\ipykernel_launcher.py:56: RuntimeWarning: invalid value encountered in double_scalars\n",
      "C:\\Users\\ellen\\anaconda3\\lib\\site-packages\\ipykernel_launcher.py:57: RuntimeWarning: invalid value encountered in double_scalars\n",
      "C:\\Users\\ellen\\anaconda3\\lib\\site-packages\\ipykernel_launcher.py:58: RuntimeWarning: invalid value encountered in double_scalars\n",
      "C:\\Users\\ellen\\anaconda3\\lib\\site-packages\\ipykernel_launcher.py:59: RuntimeWarning: invalid value encountered in double_scalars\n",
      "C:\\Users\\ellen\\anaconda3\\lib\\site-packages\\ipykernel_launcher.py:60: RuntimeWarning: invalid value encountered in double_scalars\n",
      "C:\\Users\\ellen\\anaconda3\\lib\\site-packages\\ipykernel_launcher.py:61: RuntimeWarning: invalid value encountered in double_scalars\n",
      "C:\\Users\\ellen\\anaconda3\\lib\\site-packages\\ipykernel_launcher.py:69: RuntimeWarning: invalid value encountered in double_scalars\n",
      "C:\\Users\\ellen\\anaconda3\\lib\\site-packages\\ipykernel_launcher.py:70: RuntimeWarning: invalid value encountered in double_scalars\n",
      "C:\\Users\\ellen\\anaconda3\\lib\\site-packages\\ipykernel_launcher.py:71: RuntimeWarning: invalid value encountered in double_scalars\n",
      "C:\\Users\\ellen\\anaconda3\\lib\\site-packages\\ipykernel_launcher.py:72: RuntimeWarning: invalid value encountered in double_scalars\n",
      "C:\\Users\\ellen\\anaconda3\\lib\\site-packages\\ipykernel_launcher.py:73: RuntimeWarning: invalid value encountered in double_scalars\n",
      "C:\\Users\\ellen\\anaconda3\\lib\\site-packages\\ipykernel_launcher.py:74: RuntimeWarning: invalid value encountered in double_scalars\n",
      "C:\\Users\\ellen\\anaconda3\\lib\\site-packages\\ipykernel_launcher.py:73: RuntimeWarning: divide by zero encountered in double_scalars\n",
      "C:\\Users\\ellen\\anaconda3\\lib\\site-packages\\ipykernel_launcher.py:45: RuntimeWarning: invalid value encountered in double_scalars\n",
      "C:\\Users\\ellen\\anaconda3\\lib\\site-packages\\ipykernel_launcher.py:48: RuntimeWarning: invalid value encountered in double_scalars\n",
      "C:\\Users\\ellen\\anaconda3\\lib\\site-packages\\ipykernel_launcher.py:71: RuntimeWarning: divide by zero encountered in double_scalars\n",
      "C:\\Users\\ellen\\anaconda3\\lib\\site-packages\\ipykernel_launcher.py:46: RuntimeWarning: invalid value encountered in double_scalars\n",
      "C:\\Users\\ellen\\anaconda3\\lib\\site-packages\\ipykernel_launcher.py:49: RuntimeWarning: invalid value encountered in double_scalars\n"
     ]
    },
    {
     "name": "stdout",
     "output_type": "stream",
     "text": [
      "29457\n",
      "29457\n",
      "29457\n",
      "29457\n",
      "29457\n",
      "29457\n",
      "29457\n",
      "29457\n",
      "29457\n",
      "29457\n",
      "29457\n",
      "29457\n",
      "29457\n",
      "29457\n",
      "29457\n",
      "29457\n",
      "29457\n",
      "29457\n",
      "29457\n",
      "29457\n",
      "29457\n",
      "29457\n",
      "29457\n",
      "29457\n",
      "29457\n",
      "29457\n",
      "29457\n",
      "29457\n",
      "29457\n",
      "29457\n",
      "29457\n",
      "29457\n",
      "29457\n",
      "29457\n",
      "29457\n",
      "29457\n",
      "29457\n",
      "29457\n"
     ]
    }
   ],
   "source": [
    "#Features\n",
    "min_T1 = []\n",
    "med_T1 = []\n",
    "mid_T1 = []\n",
    "mid_small_ratio_T1 = []\n",
    "mid_med_ratio_T1 = []\n",
    "mid_large_ratio_T1 = []\n",
    "mid_small_ratio_T1_inc = []\n",
    "mid_med_ratio_T1_inc = []\n",
    "mid_large_ratio_T1_inc = []\n",
    "mean_T1 = []\n",
    "max_T1 = []\n",
    "min_FLAIR = []\n",
    "med_FLAIR = []\n",
    "mid_FLAIR = []\n",
    "mid_small_ratio_FLAIR = []\n",
    "mid_med_ratio_FLAIR = []\n",
    "mid_large_ratio_FLAIR = []\n",
    "mid_small_ratio_FLAIR_inc = []\n",
    "mid_med_ratio_FLAIR_inc = []\n",
    "mid_large_ratio_FLAIR_inc = []\n",
    "mean_FLAIR = []\n",
    "max_FLAIR = []\n",
    "density_diff = []\n",
    "sum_soft_tiss_binary = []\n",
    "sum_percent_soft_tiss = []\n",
    "min_st = []\n",
    "med_st = []\n",
    "mid_st = []\n",
    "mid_small_ratio_st = []\n",
    "mid_med_ratio_st = []\n",
    "mid_large_ratio_st = []\n",
    "mid_small_ratio_st_inc = []\n",
    "mid_med_ratio_st_inc = []\n",
    "mid_large_ratio_st_inc = []\n",
    "mean_st = []\n",
    "max_st = []\n",
    "x = []\n",
    "y = []\n",
    "z = []\n",
    "\n",
    "for index in range(len(X_train)):\n",
    "    min_T1.append(np.min(X_train[index][4]))\n",
    "    med_T1.append(np.median(X_train[index][4]))\n",
    "    mid_T1.append(X_train[index][4][10,10,10])\n",
    "    mid_small_ratio_T1.append(np.mean(X_train[index][4][13:17, 13:17, 13:17])/((sum(sum(sum(X_train[index][4][10:20, 10:20, 10:20]))) - sum(sum(sum(X_train[index][4][13:17, 13:17, 13:17]))))/936))\n",
    "    mid_med_ratio_T1.append(np.mean(X_train[index][4][10:20, 10:20, 10:20])/((sum(sum(sum(X_train[index][4][7:23, 7:23, 7:23]))) - sum(sum(sum(X_train[index][4][10:20, 10:20, 10:20]))))/3096))\n",
    "    mid_large_ratio_T1.append(np.mean(X_train[index][4][7:23, 7:23, 7:23])/((sum(sum(sum(X_train[index][4][4:27, 4:27, 4:27]))) - sum(sum(sum(X_train[index][4][7:23, 7:23, 7:23]))))/9071))\n",
    "    mid_small_ratio_T1_inc.append(np.mean(X_train[index][4][13:17, 13:17, 13:17])/((sum(sum(sum(X_train[index][4][10:20, 10:20, 10:20]))))/1000))\n",
    "    mid_med_ratio_T1_inc.append(np.mean(X_train[index][4][10:20, 10:20, 10:20])/((sum(sum(sum(X_train[index][4][7:23, 7:23, 7:23]))))/4096))\n",
    "    mid_large_ratio_T1_inc.append(np.mean(X_train[index][4][7:23, 7:23, 7:23])/((sum(sum(sum(X_train[index][4][4:27, 4:27, 4:27]))))/12167))\n",
    "    mean_T1.append(np.mean(X_train[index][4]))\n",
    "    max_T1.append(np.max(X_train[index][4]))\n",
    "    min_FLAIR.append(np.min(X_train[index][5]))\n",
    "    med_FLAIR.append(np.median(X_train[index][5]))\n",
    "    mid_FLAIR.append(X_train[index][5][15, 15, 15])\n",
    "    mid_small_ratio_FLAIR.append(np.mean(X_train[index][5][13:17, 13:17, 13:17])/((sum(sum(sum(X_train[index][5][10:20, 10:20, 10:20]))) - sum(sum(sum(X_train[index][5][13:17, 13:17, 13:17]))))/936))\n",
    "    mid_med_ratio_FLAIR.append(np.mean(X_train[index][5][10:20, 10:20, 10:20])/((sum(sum(sum(X_train[index][5][7:23, 7:23, 7:23]))) - sum(sum(sum(X_train[index][5][10:20, 10:20, 10:20]))))/3096))\n",
    "    mid_large_ratio_FLAIR.append(np.mean(X_train[index][5][7:23, 7:23, 7:23])/((sum(sum(sum(X_train[index][5][4:27, 4:27, 4:27]))) - sum(sum(sum(X_train[index][5][7:23, 7:23, 7:23]))))/9071))\n",
    "    mid_small_ratio_FLAIR_inc.append(np.mean(X_train[index][5][13:17, 13:17, 13:17])/((sum(sum(sum(X_train[index][5][10:20, 10:20, 10:20]))))/1000))\n",
    "    mid_med_ratio_FLAIR_inc.append(np.mean(X_train[index][5][10:20, 10:20, 10:20])/((sum(sum(sum(X_train[index][5][7:23, 7:23, 7:23]))))/4096))\n",
    "    mid_large_ratio_FLAIR_inc.append(np.mean(X_train[index][5][7:23, 7:23, 7:23])/((sum(sum(sum(X_train[index][5][4:27, 4:27, 4:27]))))/12167))\n",
    "    mean_FLAIR.append(np.mean(X_train[index][5]))\n",
    "    max_FLAIR.append(np.max(X_train[index][5]))\n",
    "    density_diff.append(X_train[index][5][15, 15, 15] - X_train[index][4][15, 15, 15])\n",
    "    sum_soft_tiss_binary.append(sum(sum(sum(X_train[index][6]))))\n",
    "    sum_percent_soft_tiss.append(sum(sum(sum(X_train[index][7]))))\n",
    "    min_st.append(np.min(X_train[index][6]))\n",
    "    med_st.append(np.median(X_train[index][6]))\n",
    "    mid_st.append(X_train[index][6][15, 15, 15])\n",
    "    mid_small_ratio_st.append(np.mean(X_train[index][6][13:17, 13:17, 13:17])/((sum(sum(sum(X_train[index][6][10:20, 10:20, 10:20]))) - sum(sum(sum(X_train[index][6][13:17, 13:17, 13:17]))))/936))\n",
    "    mid_med_ratio_st.append(np.mean(X_train[index][6][10:20, 10:20, 10:20])/((sum(sum(sum(X_train[index][6][7:23, 7:23, 7:23]))) - sum(sum(sum(X_train[index][6][10:20, 10:20, 10:20]))))/3096))\n",
    "    mid_large_ratio_st.append(np.mean(X_train[index][6][7:23, 7:23, 7:23])/((sum(sum(sum(X_train[index][6][4:27, 4:27, 4:27]))) - sum(sum(sum(X_train[index][6][7:23, 7:23, 7:23]))))/9071))\n",
    "    mid_small_ratio_st_inc.append(np.mean(X_train[index][6][13:17, 13:17, 13:17])/((sum(sum(sum(X_train[index][6][10:20, 10:20, 10:20]))))/1000))\n",
    "    mid_med_ratio_st_inc.append(np.mean(X_train[index][6][10:20, 10:20, 10:20])/((sum(sum(sum(X_train[index][6][7:23, 7:23, 7:23]))))/4096))\n",
    "    mid_large_ratio_st_inc.append(np.mean(X_train[index][6][7:23, 7:23, 7:23])/((sum(sum(sum(X_train[index][6][4:27, 4:27, 4:27]))))/12167))\n",
    "    mean_st.append(np.mean(X_train[index][6]))\n",
    "    max_st.append(np.max(X_train[index][6]))\n",
    "    x.append(X_train[index][1])\n",
    "    y.append(X_train[index][2])\n",
    "    z.append(X_train[index][3])\n",
    "\n",
    "\n",
    "print(len(min_T1))\n",
    "print(len(med_T1))\n",
    "print(len(mid_T1))\n",
    "print(len(mid_small_ratio_T1))\n",
    "print(len(mid_med_ratio_T1))\n",
    "print(len(mid_large_ratio_T1))\n",
    "print(len(mid_small_ratio_T1_inc))\n",
    "print(len(mid_med_ratio_T1_inc))\n",
    "print(len(mid_large_ratio_T1_inc))\n",
    "print(len(mean_T1))\n",
    "print(len(max_T1))\n",
    "print(len(min_FLAIR))\n",
    "print(len(med_FLAIR))\n",
    "print(len(mid_FLAIR))\n",
    "print(len(mid_small_ratio_FLAIR))\n",
    "print(len(mid_med_ratio_FLAIR))\n",
    "print(len(mid_large_ratio_FLAIR))\n",
    "print(len(mid_small_ratio_FLAIR_inc))\n",
    "print(len(mid_med_ratio_FLAIR_inc))\n",
    "print(len(mid_large_ratio_FLAIR_inc))\n",
    "print(len(mean_FLAIR))\n",
    "print(len(max_FLAIR))\n",
    "print(len(sum_soft_tiss_binary))\n",
    "print(len(sum_percent_soft_tiss))\n",
    "print(len(min_st))\n",
    "print(len(med_st))\n",
    "print(len(mid_st))\n",
    "print(len(mid_small_ratio_st))\n",
    "print(len(mid_med_ratio_st))\n",
    "print(len(mid_large_ratio_st))\n",
    "print(len(mid_small_ratio_st_inc))\n",
    "print(len(mid_med_ratio_st_inc))\n",
    "print(len(mid_large_ratio_st_inc))\n",
    "print(len(mean_st))\n",
    "print(len(max_st))\n",
    "print(len(x))\n",
    "print(len(y))\n",
    "print(len(z))"
   ]
  },
  {
   "cell_type": "code",
   "execution_count": 204,
   "id": "b5edb3f0",
   "metadata": {},
   "outputs": [
    {
     "name": "stderr",
     "output_type": "stream",
     "text": [
      "C:\\Users\\ellen\\anaconda3\\lib\\site-packages\\ipykernel_launcher.py:57: RuntimeWarning: invalid value encountered in double_scalars\n",
      "C:\\Users\\ellen\\anaconda3\\lib\\site-packages\\ipykernel_launcher.py:58: RuntimeWarning: invalid value encountered in double_scalars\n",
      "C:\\Users\\ellen\\anaconda3\\lib\\site-packages\\ipykernel_launcher.py:59: RuntimeWarning: invalid value encountered in double_scalars\n",
      "C:\\Users\\ellen\\anaconda3\\lib\\site-packages\\ipykernel_launcher.py:60: RuntimeWarning: invalid value encountered in double_scalars\n",
      "C:\\Users\\ellen\\anaconda3\\lib\\site-packages\\ipykernel_launcher.py:61: RuntimeWarning: invalid value encountered in double_scalars\n",
      "C:\\Users\\ellen\\anaconda3\\lib\\site-packages\\ipykernel_launcher.py:62: RuntimeWarning: invalid value encountered in double_scalars\n",
      "C:\\Users\\ellen\\anaconda3\\lib\\site-packages\\ipykernel_launcher.py:71: RuntimeWarning: invalid value encountered in double_scalars\n",
      "C:\\Users\\ellen\\anaconda3\\lib\\site-packages\\ipykernel_launcher.py:72: RuntimeWarning: invalid value encountered in double_scalars\n",
      "C:\\Users\\ellen\\anaconda3\\lib\\site-packages\\ipykernel_launcher.py:73: RuntimeWarning: invalid value encountered in double_scalars\n",
      "C:\\Users\\ellen\\anaconda3\\lib\\site-packages\\ipykernel_launcher.py:74: RuntimeWarning: invalid value encountered in double_scalars\n",
      "C:\\Users\\ellen\\anaconda3\\lib\\site-packages\\ipykernel_launcher.py:75: RuntimeWarning: invalid value encountered in double_scalars\n",
      "C:\\Users\\ellen\\anaconda3\\lib\\site-packages\\ipykernel_launcher.py:76: RuntimeWarning: invalid value encountered in double_scalars\n",
      "C:\\Users\\ellen\\anaconda3\\lib\\site-packages\\ipykernel_launcher.py:73: RuntimeWarning: divide by zero encountered in double_scalars\n",
      "C:\\Users\\ellen\\anaconda3\\lib\\site-packages\\ipykernel_launcher.py:75: RuntimeWarning: divide by zero encountered in double_scalars\n",
      "C:\\Users\\ellen\\anaconda3\\lib\\site-packages\\ipykernel_launcher.py:45: RuntimeWarning: invalid value encountered in double_scalars\n",
      "C:\\Users\\ellen\\anaconda3\\lib\\site-packages\\ipykernel_launcher.py:48: RuntimeWarning: invalid value encountered in double_scalars\n"
     ]
    }
   ],
   "source": [
    "#Features\n",
    "min_T1_test = []\n",
    "med_T1_test = []\n",
    "mid_T1_test = []\n",
    "mid_small_ratio_T1_test = []\n",
    "mid_med_ratio_T1_test = []\n",
    "mid_large_ratio_T1_test = []\n",
    "mid_small_ratio_T1_inc_test = []\n",
    "mid_med_ratio_T1_inc_test = []\n",
    "mid_large_ratio_T1_inc_test = []\n",
    "mean_T1_test = []\n",
    "max_T1_test = []\n",
    "min_FLAIR_test = []\n",
    "med_FLAIR_test = []\n",
    "mid_FLAIR_test = []\n",
    "mid_small_ratio_FLAIR_test = []\n",
    "mid_med_ratio_FLAIR_test = []\n",
    "mid_large_ratio_FLAIR_test = []\n",
    "mid_small_ratio_FLAIR_inc_test = []\n",
    "mid_med_ratio_FLAIR_inc_test = []\n",
    "mid_large_ratio_FLAIR_inc_test = []\n",
    "mean_FLAIR_test = []\n",
    "max_FLAIR_test = []\n",
    "sum_soft_tiss_binary_test = []\n",
    "sum_percent_soft_tiss_test = []\n",
    "min_st_test = []\n",
    "med_st_test = []\n",
    "mid_st_test = []\n",
    "mid_small_ratio_st_test = []\n",
    "mid_med_ratio_st_test = []\n",
    "mid_large_ratio_st_test = []\n",
    "mid_small_ratio_st_inc_test = []\n",
    "mid_med_ratio_st_inc_test = []\n",
    "mid_large_ratio_st_inc_test = []\n",
    "mean_st_test = []\n",
    "max_st_test = []\n",
    "x_test = []\n",
    "y_test = []\n",
    "z_test = []\n",
    "\n",
    "for index in range(len(X_test)):\n",
    "    min_T1_test.append(np.min(X_test[index][4]))\n",
    "    med_T1_test.append(np.median(X_test[index][4]))\n",
    "    mid_T1_test.append(X_test[index][4][15, 15, 15,])\n",
    "    mid_small_ratio_T1_test.append(np.mean(X_test[index][4][13:17, 13:17, 13:17])/((sum(sum(sum(X_test[index][4][10:20, 10:20, 10:20]))) - sum(sum(sum(X_test[index][4][13:17, 13:17, 13:17]))))/936))\n",
    "    mid_med_ratio_T1_test.append(np.mean(X_test[index][4][10:20, 10:20, 10:20])/((sum(sum(sum(X_test[index][4][7:23, 7:23, 7:23]))) - sum(sum(sum(X_test[index][4][10:20, 10:20, 10:20]))))/3096))\n",
    "    mid_large_ratio_T1_test.append(np.mean(X_test[index][4][7:23, 7:23, 7:23])/((sum(sum(sum(X_test[index][4][4:27, 4:27, 4:27]))) - sum(sum(sum(X_test[index][4][7:23, 7:23, 7:23]))))/9071))\n",
    "    mid_small_ratio_T1_inc_test.append(np.mean(X_test[index][4][13:17, 13:17, 13:17])/((sum(sum(sum(X_test[index][4][10:20, 10:20, 10:20]))))/1000))\n",
    "    mid_med_ratio_T1_inc_test.append(np.mean(X_test[index][4][10:20, 10:20, 10:20])/((sum(sum(sum(X_test[index][4][7:23, 7:23, 7:23]))))/4096))\n",
    "    mid_large_ratio_T1_inc_test.append(np.mean(X_test[index][4][7:23, 7:23, 7:23])/((sum(sum(sum(X_test[index][4][4:27, 4:27, 4:27]))))/12167))\n",
    "    mean_T1.append(np.mean(X_train[index][4]))\n",
    "    mean_T1_test.append(np.mean(X_test[index][4]))\n",
    "    max_T1_test.append(np.max(X_test[index][4]))\n",
    "    min_FLAIR_test.append(np.min(X_test[index][5]))\n",
    "    med_FLAIR_test.append(np.median(X_test[index][5]))\n",
    "    mid_FLAIR_test.append(X_train[index][5][15, 15, 15])\n",
    "    mid_small_ratio_FLAIR_test.append(np.mean(X_test[index][5][13:17, 13:17, 13:17])/((sum(sum(sum(X_test[index][5][10:20, 10:20, 10:20]))) - sum(sum(sum(X_test[index][5][13:17, 13:17, 13:17]))))/26936))\n",
    "    mid_med_ratio_FLAIR_test.append(np.mean(X_test[index][5][10:20, 10:20, 10:20])/((sum(sum(sum(X_test[index][5][7:23, 7:23, 7:23]))) - sum(sum(sum(X_test[index][5][10:20, 10:20, 10:20]))))/26000))\n",
    "    mid_large_ratio_FLAIR_test.append(np.mean(X_test[index][5][7:23, 7:23, 7:23])/((sum(sum(sum(X_test[index][5][4:27, 4:27, 4:27]))) - sum(sum(sum(X_test[index][5][7:23, 7:23, 7:23]))))/22904))\n",
    "    mid_small_ratio_FLAIR_inc_test.append(np.mean(X_test[index][5][13:17, 13:17, 13:17])/((sum(sum(sum(X_test[index][5][10:20, 10:20, 10:20]))))/1000))\n",
    "    mid_med_ratio_FLAIR_inc_test.append(np.mean(X_test[index][5][10:20, 10:20, 10:20])/((sum(sum(sum(X_test[index][5][7:23, 7:23, 7:23]))))/4096))\n",
    "    mid_large_ratio_FLAIR_inc_test.append(np.mean(X_test[index][5][7:23, 7:23, 7:23])/((sum(sum(sum(X_test[index][5][4:27, 4:27, 4:27]))))/12167))\n",
    "    mean_FLAIR.append(np.mean(X_train[index][5]))\n",
    "    mean_FLAIR_test.append(np.mean(X_test[index][5]))\n",
    "    max_FLAIR_test.append(np.max(X_test[index][5]))\n",
    "    sum_soft_tiss_binary_test.append(sum(sum(sum(X_test[index][6]))))\n",
    "    sum_percent_soft_tiss_test.append(sum(sum(sum(X_test[index][7]))))\n",
    "    min_st_test.append(np.min(X_train[index][6]))\n",
    "    med_st_test.append(np.median(X_train[index][6]))\n",
    "    mid_st_test.append(X_train[index][6][15, 15, 15])\n",
    "    mid_small_ratio_st_test.append(np.mean(X_test[index][6][13:17, 13:17, 13:17])/((sum(sum(sum(X_test[index][6][10:20, 10:20, 10:20]))) - sum(sum(sum(X_test[index][6][13:17, 13:17, 13:17]))))/936))\n",
    "    mid_med_ratio_st_test.append(np.mean(X_test[index][6][10:20, 10:20, 10:20])/((sum(sum(sum(X_test[index][6][7:23, 7:23, 7:23]))) - sum(sum(sum(X_test[index][6][10:20, 10:20, 10:20]))))/3096))\n",
    "    mid_large_ratio_st_test.append(np.mean(X_test[index][6][7:23, 7:23, 7:23])/((sum(sum(sum(X_test[index][6][4:27, 4:27, 4:27]))) - sum(sum(sum(X_test[index][6][7:23, 7:23, 7:23]))))/9071))\n",
    "    mid_small_ratio_st_inc_test.append(np.mean(X_test[index][6][13:17, 13:17, 13:17])/((sum(sum(sum(X_test[index][6][10:20, 10:20, 10:20]))))/1000))\n",
    "    mid_med_ratio_st_inc_test.append(np.mean(X_test[index][6][10:20, 10:20, 10:20])/((sum(sum(sum(X_test[index][6][7:23, 7:23, 7:23]))))/4096))\n",
    "    mid_large_ratio_st_inc_test.append(np.mean(X_test[index][6][7:23, 7:23, 7:23])/((sum(sum(sum(X_test[index][6][4:27, 4:27, 4:27]))))/12167))\n",
    "    mean_st_test.append(np.mean(X_test[index][6]))\n",
    "    max_st_test.append(np.max(X_test[index][6]))\n",
    "    x_test.append(X_test[index][1])\n",
    "    y_test.append(X_test[index][2])\n",
    "    z_test.append(X_test[index][3])"
   ]
  },
  {
   "cell_type": "code",
   "execution_count": 241,
   "id": "c92c0e49",
   "metadata": {},
   "outputs": [
    {
     "data": {
      "text/plain": [
       "29457"
      ]
     },
     "execution_count": 241,
     "metadata": {},
     "output_type": "execute_result"
    }
   ],
   "source": [
    "len(max_FLAIR)"
   ]
  },
  {
   "cell_type": "code",
   "execution_count": 510,
   "id": "9d56f318",
   "metadata": {},
   "outputs": [],
   "source": [
    "dataset = pd.DataFrame({'min_T1': min_T1, 'med_T1': med_T1, 'mid_T1': mid_T1, 'mid_small_ratio_T1': mid_small_ratio_T1, 'mid_med_ratio_T1': mid_med_ratio_T1, 'mid_large_ratio_T1': mid_large_ratio_T1, 'mid_small_ratio_T1_inc': mid_small_ratio_T1_inc, 'mid_med_ratio_T1_inc': mid_med_ratio_T1_inc, 'mid_large_ratio_T1_inc': mid_large_ratio_T1_inc, 'mean_T1': mean_T1, 'max_T1': max_T1, 'min_FLAIR': med_FLAIR, 'mid_FLAIR': mid_FLAIR, 'mean_FLAIR': mean_FLAIR, 'mid_FLAIR': mid_FLAIR, 'mid_small_ratio_FLAIR': mid_small_ratio_FLAIR, 'mid_med_ratio_FLAIR': mid_med_ratio_FLAIR, 'mid_large_ratio_FLAIR': mid_large_ratio_FLAIR, 'mid_small_ratio_FLAIR_inc': mid_small_ratio_FLAIR_inc, 'mid_med_ratio_FLAIR_inc': mid_med_ratio_FLAIR_inc, 'mid_large_ratio_FLAIR_inc': mid_large_ratio_FLAIR_inc,  'med_FLAIR': med_FLAIR, 'max_FLAIR': max_FLAIR, 'sum_soft_tiss_binary': sum_soft_tiss_binary, 'sum_percent_soft_tiss': sum_percent_soft_tiss, 'min_st': min_st, 'med_st': med_st, 'mid_st': mid_st, 'mid_small_ratio_st': mid_small_ratio_st, 'mid_med_ratio_st': mid_med_ratio_st, 'mid_large_ratio_st': mid_large_ratio_st, 'mid_small_ratio_st_inc': mid_small_ratio_st_inc, 'mid_med_ratio_st_inc': mid_med_ratio_st_inc, 'mid_large_ratio_st_inc': mid_large_ratio_st_inc, 'mean_st': mean_st, 'max_st': max_st, 'x': x, 'y': y, 'z': z, 'Y_train': Y_train})"
   ]
  },
  {
   "cell_type": "code",
   "execution_count": 376,
   "id": "c1d81245",
   "metadata": {},
   "outputs": [],
   "source": [
    "dataset=np.nan_to_num(dataset, nan=-1, posinf=99, neginf=-99)"
   ]
  },
  {
   "cell_type": "code",
   "execution_count": 534,
   "id": "27de9f1c",
   "metadata": {},
   "outputs": [
    {
     "data": {
      "text/html": [
       "<div>\n",
       "<style scoped>\n",
       "    .dataframe tbody tr th:only-of-type {\n",
       "        vertical-align: middle;\n",
       "    }\n",
       "\n",
       "    .dataframe tbody tr th {\n",
       "        vertical-align: top;\n",
       "    }\n",
       "\n",
       "    .dataframe thead th {\n",
       "        text-align: right;\n",
       "    }\n",
       "</style>\n",
       "<table border=\"1\" class=\"dataframe\">\n",
       "  <thead>\n",
       "    <tr style=\"text-align: right;\">\n",
       "      <th></th>\n",
       "      <th>min_T1</th>\n",
       "      <th>med_T1</th>\n",
       "      <th>mid_T1</th>\n",
       "      <th>mid_small_ratio_T1</th>\n",
       "      <th>mid_med_ratio_T1</th>\n",
       "      <th>mid_large_ratio_T1</th>\n",
       "      <th>mid_small_ratio_T1_inc</th>\n",
       "      <th>mid_med_ratio_T1_inc</th>\n",
       "      <th>mid_large_ratio_T1_inc</th>\n",
       "      <th>mean_T1</th>\n",
       "      <th>...</th>\n",
       "      <th>mid_large_ratio_st</th>\n",
       "      <th>mid_small_ratio_st_inc</th>\n",
       "      <th>mid_med_ratio_st_inc</th>\n",
       "      <th>mid_large_ratio_st_inc</th>\n",
       "      <th>mean_st</th>\n",
       "      <th>max_st</th>\n",
       "      <th>x</th>\n",
       "      <th>y</th>\n",
       "      <th>z</th>\n",
       "      <th>Y_train</th>\n",
       "    </tr>\n",
       "  </thead>\n",
       "  <tbody>\n",
       "    <tr>\n",
       "      <th>0</th>\n",
       "      <td>0.013945</td>\n",
       "      <td>0.446907</td>\n",
       "      <td>0.458897</td>\n",
       "      <td>0.988340</td>\n",
       "      <td>0.995552</td>\n",
       "      <td>1.349572</td>\n",
       "      <td>0.989078</td>\n",
       "      <td>0.996634</td>\n",
       "      <td>1.124763</td>\n",
       "      <td>0.395756</td>\n",
       "      <td>...</td>\n",
       "      <td>17.773919</td>\n",
       "      <td>0.958878</td>\n",
       "      <td>2.038770</td>\n",
       "      <td>4.804281</td>\n",
       "      <td>0.826926</td>\n",
       "      <td>1</td>\n",
       "      <td>105</td>\n",
       "      <td>147</td>\n",
       "      <td>103</td>\n",
       "      <td>1</td>\n",
       "    </tr>\n",
       "    <tr>\n",
       "      <th>1</th>\n",
       "      <td>0.013945</td>\n",
       "      <td>0.442754</td>\n",
       "      <td>0.457603</td>\n",
       "      <td>1.019348</td>\n",
       "      <td>1.028426</td>\n",
       "      <td>1.339139</td>\n",
       "      <td>1.018087</td>\n",
       "      <td>1.021338</td>\n",
       "      <td>1.119345</td>\n",
       "      <td>0.389943</td>\n",
       "      <td>...</td>\n",
       "      <td>29.167366</td>\n",
       "      <td>0.958878</td>\n",
       "      <td>1.829853</td>\n",
       "      <td>4.716337</td>\n",
       "      <td>0.814148</td>\n",
       "      <td>1</td>\n",
       "      <td>105</td>\n",
       "      <td>147</td>\n",
       "      <td>104</td>\n",
       "      <td>1</td>\n",
       "    </tr>\n",
       "    <tr>\n",
       "      <th>2</th>\n",
       "      <td>0.013945</td>\n",
       "      <td>0.448826</td>\n",
       "      <td>0.401774</td>\n",
       "      <td>0.960165</td>\n",
       "      <td>0.987683</td>\n",
       "      <td>1.341009</td>\n",
       "      <td>0.962619</td>\n",
       "      <td>0.990662</td>\n",
       "      <td>1.120318</td>\n",
       "      <td>0.397989</td>\n",
       "      <td>...</td>\n",
       "      <td>11.751055</td>\n",
       "      <td>0.943159</td>\n",
       "      <td>2.045942</td>\n",
       "      <td>4.360128</td>\n",
       "      <td>0.834778</td>\n",
       "      <td>1</td>\n",
       "      <td>105</td>\n",
       "      <td>148</td>\n",
       "      <td>102</td>\n",
       "      <td>1</td>\n",
       "    </tr>\n",
       "    <tr>\n",
       "      <th>3</th>\n",
       "      <td>0.013945</td>\n",
       "      <td>0.445007</td>\n",
       "      <td>0.415562</td>\n",
       "      <td>0.989756</td>\n",
       "      <td>1.012561</td>\n",
       "      <td>1.339487</td>\n",
       "      <td>0.990406</td>\n",
       "      <td>1.009465</td>\n",
       "      <td>1.119526</td>\n",
       "      <td>0.392646</td>\n",
       "      <td>...</td>\n",
       "      <td>14.975623</td>\n",
       "      <td>0.927440</td>\n",
       "      <td>1.835628</td>\n",
       "      <td>4.237474</td>\n",
       "      <td>0.821556</td>\n",
       "      <td>1</td>\n",
       "      <td>105</td>\n",
       "      <td>148</td>\n",
       "      <td>103</td>\n",
       "      <td>1</td>\n",
       "    </tr>\n",
       "    <tr>\n",
       "      <th>4</th>\n",
       "      <td>0.013945</td>\n",
       "      <td>0.441302</td>\n",
       "      <td>0.441275</td>\n",
       "      <td>1.025451</td>\n",
       "      <td>1.043353</td>\n",
       "      <td>1.321944</td>\n",
       "      <td>1.023784</td>\n",
       "      <td>1.032426</td>\n",
       "      <td>1.110344</td>\n",
       "      <td>0.387147</td>\n",
       "      <td>...</td>\n",
       "      <td>21.832765</td>\n",
       "      <td>0.927440</td>\n",
       "      <td>1.670670</td>\n",
       "      <td>4.155505</td>\n",
       "      <td>0.809222</td>\n",
       "      <td>1</td>\n",
       "      <td>105</td>\n",
       "      <td>148</td>\n",
       "      <td>104</td>\n",
       "      <td>1</td>\n",
       "    </tr>\n",
       "    <tr>\n",
       "      <th>...</th>\n",
       "      <td>...</td>\n",
       "      <td>...</td>\n",
       "      <td>...</td>\n",
       "      <td>...</td>\n",
       "      <td>...</td>\n",
       "      <td>...</td>\n",
       "      <td>...</td>\n",
       "      <td>...</td>\n",
       "      <td>...</td>\n",
       "      <td>...</td>\n",
       "      <td>...</td>\n",
       "      <td>...</td>\n",
       "      <td>...</td>\n",
       "      <td>...</td>\n",
       "      <td>...</td>\n",
       "      <td>...</td>\n",
       "      <td>...</td>\n",
       "      <td>...</td>\n",
       "      <td>...</td>\n",
       "      <td>...</td>\n",
       "      <td>...</td>\n",
       "    </tr>\n",
       "    <tr>\n",
       "      <th>2346</th>\n",
       "      <td>0.040642</td>\n",
       "      <td>0.460355</td>\n",
       "      <td>0.331340</td>\n",
       "      <td>1.009078</td>\n",
       "      <td>0.958005</td>\n",
       "      <td>0.935682</td>\n",
       "      <td>1.008493</td>\n",
       "      <td>0.967929</td>\n",
       "      <td>0.882272</td>\n",
       "      <td>0.394140</td>\n",
       "      <td>...</td>\n",
       "      <td>-10.209177</td>\n",
       "      <td>0.873447</td>\n",
       "      <td>1.094079</td>\n",
       "      <td>3.793314</td>\n",
       "      <td>0.705444</td>\n",
       "      <td>1</td>\n",
       "      <td>142</td>\n",
       "      <td>162</td>\n",
       "      <td>78</td>\n",
       "      <td>1</td>\n",
       "    </tr>\n",
       "    <tr>\n",
       "      <th>2347</th>\n",
       "      <td>0.040607</td>\n",
       "      <td>0.467003</td>\n",
       "      <td>0.434604</td>\n",
       "      <td>1.000713</td>\n",
       "      <td>1.064531</td>\n",
       "      <td>1.075903</td>\n",
       "      <td>1.000667</td>\n",
       "      <td>1.048020</td>\n",
       "      <td>0.971258</td>\n",
       "      <td>0.401050</td>\n",
       "      <td>...</td>\n",
       "      <td>-11.868412</td>\n",
       "      <td>0.972840</td>\n",
       "      <td>1.137055</td>\n",
       "      <td>3.651887</td>\n",
       "      <td>0.725444</td>\n",
       "      <td>1</td>\n",
       "      <td>143</td>\n",
       "      <td>161</td>\n",
       "      <td>78</td>\n",
       "      <td>1</td>\n",
       "    </tr>\n",
       "    <tr>\n",
       "      <th>2348</th>\n",
       "      <td>0.040607</td>\n",
       "      <td>0.472448</td>\n",
       "      <td>0.455755</td>\n",
       "      <td>1.081980</td>\n",
       "      <td>1.086940</td>\n",
       "      <td>1.076733</td>\n",
       "      <td>1.076332</td>\n",
       "      <td>1.064349</td>\n",
       "      <td>0.971762</td>\n",
       "      <td>0.403622</td>\n",
       "      <td>...</td>\n",
       "      <td>-11.942869</td>\n",
       "      <td>1.025884</td>\n",
       "      <td>1.141461</td>\n",
       "      <td>3.646671</td>\n",
       "      <td>0.725630</td>\n",
       "      <td>1</td>\n",
       "      <td>143</td>\n",
       "      <td>161</td>\n",
       "      <td>79</td>\n",
       "      <td>1</td>\n",
       "    </tr>\n",
       "    <tr>\n",
       "      <th>2349</th>\n",
       "      <td>0.040607</td>\n",
       "      <td>0.461659</td>\n",
       "      <td>0.256043</td>\n",
       "      <td>0.864342</td>\n",
       "      <td>0.994664</td>\n",
       "      <td>0.997077</td>\n",
       "      <td>0.871912</td>\n",
       "      <td>0.995961</td>\n",
       "      <td>0.922190</td>\n",
       "      <td>0.395914</td>\n",
       "      <td>...</td>\n",
       "      <td>-15.843365</td>\n",
       "      <td>1.019965</td>\n",
       "      <td>1.114137</td>\n",
       "      <td>3.453142</td>\n",
       "      <td>0.725037</td>\n",
       "      <td>1</td>\n",
       "      <td>143</td>\n",
       "      <td>162</td>\n",
       "      <td>77</td>\n",
       "      <td>1</td>\n",
       "    </tr>\n",
       "    <tr>\n",
       "      <th>2350</th>\n",
       "      <td>0.040607</td>\n",
       "      <td>0.465649</td>\n",
       "      <td>0.365924</td>\n",
       "      <td>0.994526</td>\n",
       "      <td>1.017101</td>\n",
       "      <td>0.997920</td>\n",
       "      <td>0.994875</td>\n",
       "      <td>1.012872</td>\n",
       "      <td>0.922727</td>\n",
       "      <td>0.398469</td>\n",
       "      <td>...</td>\n",
       "      <td>-15.841531</td>\n",
       "      <td>0.949586</td>\n",
       "      <td>1.114432</td>\n",
       "      <td>3.453207</td>\n",
       "      <td>0.725148</td>\n",
       "      <td>1</td>\n",
       "      <td>143</td>\n",
       "      <td>162</td>\n",
       "      <td>78</td>\n",
       "      <td>1</td>\n",
       "    </tr>\n",
       "  </tbody>\n",
       "</table>\n",
       "<p>2351 rows × 39 columns</p>\n",
       "</div>"
      ],
      "text/plain": [
       "        min_T1    med_T1    mid_T1  mid_small_ratio_T1  mid_med_ratio_T1  \\\n",
       "0     0.013945  0.446907  0.458897            0.988340          0.995552   \n",
       "1     0.013945  0.442754  0.457603            1.019348          1.028426   \n",
       "2     0.013945  0.448826  0.401774            0.960165          0.987683   \n",
       "3     0.013945  0.445007  0.415562            0.989756          1.012561   \n",
       "4     0.013945  0.441302  0.441275            1.025451          1.043353   \n",
       "...        ...       ...       ...                 ...               ...   \n",
       "2346  0.040642  0.460355  0.331340            1.009078          0.958005   \n",
       "2347  0.040607  0.467003  0.434604            1.000713          1.064531   \n",
       "2348  0.040607  0.472448  0.455755            1.081980          1.086940   \n",
       "2349  0.040607  0.461659  0.256043            0.864342          0.994664   \n",
       "2350  0.040607  0.465649  0.365924            0.994526          1.017101   \n",
       "\n",
       "      mid_large_ratio_T1  mid_small_ratio_T1_inc  mid_med_ratio_T1_inc  \\\n",
       "0               1.349572                0.989078              0.996634   \n",
       "1               1.339139                1.018087              1.021338   \n",
       "2               1.341009                0.962619              0.990662   \n",
       "3               1.339487                0.990406              1.009465   \n",
       "4               1.321944                1.023784              1.032426   \n",
       "...                  ...                     ...                   ...   \n",
       "2346            0.935682                1.008493              0.967929   \n",
       "2347            1.075903                1.000667              1.048020   \n",
       "2348            1.076733                1.076332              1.064349   \n",
       "2349            0.997077                0.871912              0.995961   \n",
       "2350            0.997920                0.994875              1.012872   \n",
       "\n",
       "      mid_large_ratio_T1_inc   mean_T1  ...  mid_large_ratio_st  \\\n",
       "0                   1.124763  0.395756  ...           17.773919   \n",
       "1                   1.119345  0.389943  ...           29.167366   \n",
       "2                   1.120318  0.397989  ...           11.751055   \n",
       "3                   1.119526  0.392646  ...           14.975623   \n",
       "4                   1.110344  0.387147  ...           21.832765   \n",
       "...                      ...       ...  ...                 ...   \n",
       "2346                0.882272  0.394140  ...          -10.209177   \n",
       "2347                0.971258  0.401050  ...          -11.868412   \n",
       "2348                0.971762  0.403622  ...          -11.942869   \n",
       "2349                0.922190  0.395914  ...          -15.843365   \n",
       "2350                0.922727  0.398469  ...          -15.841531   \n",
       "\n",
       "      mid_small_ratio_st_inc  mid_med_ratio_st_inc  mid_large_ratio_st_inc  \\\n",
       "0                   0.958878              2.038770                4.804281   \n",
       "1                   0.958878              1.829853                4.716337   \n",
       "2                   0.943159              2.045942                4.360128   \n",
       "3                   0.927440              1.835628                4.237474   \n",
       "4                   0.927440              1.670670                4.155505   \n",
       "...                      ...                   ...                     ...   \n",
       "2346                0.873447              1.094079                3.793314   \n",
       "2347                0.972840              1.137055                3.651887   \n",
       "2348                1.025884              1.141461                3.646671   \n",
       "2349                1.019965              1.114137                3.453142   \n",
       "2350                0.949586              1.114432                3.453207   \n",
       "\n",
       "       mean_st  max_st    x    y    z  Y_train  \n",
       "0     0.826926       1  105  147  103        1  \n",
       "1     0.814148       1  105  147  104        1  \n",
       "2     0.834778       1  105  148  102        1  \n",
       "3     0.821556       1  105  148  103        1  \n",
       "4     0.809222       1  105  148  104        1  \n",
       "...        ...     ...  ...  ...  ...      ...  \n",
       "2346  0.705444       1  142  162   78        1  \n",
       "2347  0.725444       1  143  161   78        1  \n",
       "2348  0.725630       1  143  161   79        1  \n",
       "2349  0.725037       1  143  162   77        1  \n",
       "2350  0.725148       1  143  162   78        1  \n",
       "\n",
       "[2351 rows x 39 columns]"
      ]
     },
     "execution_count": 534,
     "metadata": {},
     "output_type": "execute_result"
    }
   ],
   "source": [
    "lacunes =dataset[Y_train == 1]\n",
    "lacunes"
   ]
  },
  {
   "cell_type": "code",
   "execution_count": 377,
   "id": "cee76046",
   "metadata": {},
   "outputs": [],
   "source": [
    "dataset_test = pd.DataFrame({'min_T1': min_T1_test, 'med_T1': med_T1_test, 'mid_T1': mid_T1_test, 'mid_small_ratio_T1': mid_small_ratio_T1_test, 'mid_med_ratio_T1': mid_med_ratio_T1_test, 'mid_large_ratio_T1': mid_large_ratio_T1_test, 'mid_small_ratio_T1_inc': mid_small_ratio_T1_inc_test, 'mid_med_ratio_T1_inc': mid_med_ratio_T1_inc_test, 'mid_large_ratio_T1_inc': mid_large_ratio_T1_inc_test, 'mean_T1': mean_T1_test, 'max_T1': max_T1_test, 'min_FLAIR': med_FLAIR_test, 'mid_FLAIR': mid_FLAIR_test, 'mean_FLAIR': mean_FLAIR_test, 'mid_FLAIR': mid_FLAIR_test, 'mid_small_ratio_FLAIR': mid_small_ratio_FLAIR_test, 'mid_med_ratio_FLAIR': mid_med_ratio_FLAIR_test, 'mid_large_ratio_FLAIR': mid_large_ratio_FLAIR_test, 'mid_small_ratio_FLAIR_inc': mid_small_ratio_FLAIR_inc_test, 'mid_med_ratio_FLAIR_inc': mid_med_ratio_FLAIR_inc_test, 'mid_large_ratio_FLAIR_inc': mid_large_ratio_FLAIR_inc_test,  'med_FLAIR': med_FLAIR_test, 'max_FLAIR': max_FLAIR_test, 'sum_soft_tiss_binary': sum_soft_tiss_binary_test, 'sum_percent_soft_tiss': sum_percent_soft_tiss_test, 'min_st': min_st_test, 'med_st': med_st_test, 'mid_st': mid_st_test, 'mid_small_ratio_st': mid_small_ratio_st_test, 'mid_med_ratio_st': mid_med_ratio_st_test, 'mid_large_ratio_st': mid_large_ratio_st_test, 'mid_small_ratio_st_inc': mid_small_ratio_st_inc_test, 'mid_med_ratio_st_inc': mid_med_ratio_st_inc_test, 'mid_large_ratio_st_inc': mid_large_ratio_st_inc_test, 'mean_st': mean_st_test, 'max_st': max_st_test, 'x': x_test, 'y': y_test, 'z': z_test})"
   ]
  },
  {
   "cell_type": "code",
   "execution_count": 378,
   "id": "a1d4ebd6",
   "metadata": {},
   "outputs": [],
   "source": [
    "dataset_test=np.nan_to_num(dataset_test, nan=-1, posinf=99, neginf=-99)"
   ]
  },
  {
   "cell_type": "code",
   "execution_count": 381,
   "id": "79751b23",
   "metadata": {},
   "outputs": [],
   "source": [
    "from sklearn.ensemble import RandomForestClassifier\n",
    "clf = RandomForestClassifier(random_state = 50)\n",
    "clf.fit(dataset, Y_train)\n",
    "prediction = clf.predict(dataset_test)"
   ]
  },
  {
   "cell_type": "code",
   "execution_count": 382,
   "id": "9936096b",
   "metadata": {},
   "outputs": [
    {
     "data": {
      "text/plain": [
       "array([[10827,     3],\n",
       "       [  792,   208]], dtype=int64)"
      ]
     },
     "execution_count": 382,
     "metadata": {},
     "output_type": "execute_result"
    }
   ],
   "source": [
    "from sklearn.metrics import confusion_matrix\n",
    "confusion_matrix(Y_test, prediction)"
   ]
  },
  {
   "cell_type": "code",
   "execution_count": 298,
   "id": "f628a2c9",
   "metadata": {},
   "outputs": [
    {
     "name": "stdout",
     "output_type": "stream",
     "text": [
      "              precision    recall  f1-score   support\n",
      "\n",
      "           0       0.93      1.00      0.96     10830\n",
      "           1       0.97      0.20      0.33      1000\n",
      "\n",
      "    accuracy                           0.93     11830\n",
      "   macro avg       0.95      0.60      0.65     11830\n",
      "weighted avg       0.93      0.93      0.91     11830\n",
      "\n"
     ]
    }
   ],
   "source": [
    "from sklearn.metrics import classification_report\n",
    "print(classification_report(Y_test, prediction))"
   ]
  },
  {
   "cell_type": "code",
   "execution_count": null,
   "id": "9e862c38",
   "metadata": {},
   "outputs": [],
   "source": [
    "$"
   ]
  },
  {
   "cell_type": "code",
   "execution_count": null,
   "id": "00185257",
   "metadata": {},
   "outputs": [],
   "source": []
  },
  {
   "cell_type": "code",
   "execution_count": null,
   "id": "96676097",
   "metadata": {},
   "outputs": [],
   "source": []
  }
 ],
 "metadata": {
  "kernelspec": {
   "display_name": "Python 3.7.6 64-bit ('base': conda)",
   "language": "python",
   "name": "python37664bitbaseconda6a3bfc74b3554e5fbc2806f6468fe92b"
  },
  "language_info": {
   "codemirror_mode": {
    "name": "ipython",
    "version": 3
   },
   "file_extension": ".py",
   "mimetype": "text/x-python",
   "name": "python",
   "nbconvert_exporter": "python",
   "pygments_lexer": "ipython3",
   "version": "3.7.6"
  }
 },
 "nbformat": 4,
 "nbformat_minor": 5
}
