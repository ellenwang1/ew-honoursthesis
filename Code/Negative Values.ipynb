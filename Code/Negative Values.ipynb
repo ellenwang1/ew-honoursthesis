{
 "cells": [
  {
   "cell_type": "code",
   "execution_count": 2,
   "id": "d2e408c5",
   "metadata": {},
   "outputs": [],
   "source": [
    "from turtle import shape\n",
    "import nibabel as nib\n",
    "import os\n",
    "import sys\n",
    "import matplotlib.pyplot as plt\n",
    "from mpl_toolkits.mplot3d import Axes3D\n",
    "import numpy as np\n",
    "import cv2\n",
    "from PIL import Image\n",
    "from matplotlib import cm\n",
    "import pandas as pd\n",
    "import imblearn\n",
    "import re\n",
    "import seaborn as sns\n",
    "\n",
    "# Setting paths for different folders\n",
    "FLAIR_scan = r'C:\\Users\\ellen\\Documents\\ew-honoursthesis\\Data\\forAudrey.tar\\Normalised\\FLAIRinT1space_withLacunes_35.tar'\n",
    "T1_Lacunes_Incorrect = r'C:\\Users\\ellen\\Documents\\ew-honoursthesis\\Data\\forAudrey.tar\\Original\\lacune_T1space.tar'\n",
    "T1_Lacunes_Correct = r'C:\\Users\\ellen\\Documents\\ew-honoursthesis\\Data\\forAudrey.tar\\Original\\lacune_T1space_JiyangCorrected20210920'\n",
    "T1_scan = r'C:\\Users\\ellen\\Documents\\ew-honoursthesis\\Data\\forAudrey.tar\\Normalised\\T1_withLacunes_35.tar'\n",
    "T1_Soft_Tissue = r'C:\\Users\\ellen\\Documents\\ew-honoursthesis\\Data\\forAudrey.tar\\Normalised\\T1softTiss_withLacunes_35.tar'\n",
    "T1_Soft_Tissue_Mask = r'C:\\Users\\ellen\\Documents\\ew-honoursthesis\\Data\\forAudrey.tar\\Original\\T1softTissMask_withLacunes_35.tar'\n",
    "T1_Soft_Tissue_Binary_Mask = r'C:\\Users\\ellen\\Documents\\ew-honoursthesis\\Data\\forAudrey.tar\\Original\\T1softTissMask_withLacunes_35_binary.tar'"
   ]
  },
  {
   "cell_type": "code",
   "execution_count": 61,
   "id": "8d4e8aa4",
   "metadata": {},
   "outputs": [
    {
     "data": {
      "text/plain": [
       "(array([1.1266017e+07, 0.0000000e+00, 0.0000000e+00, 0.0000000e+00,\n",
       "        0.0000000e+00, 3.7000000e+01, 1.1740000e+03, 6.3370000e+03,\n",
       "        1.5234000e+04, 2.5050000e+04, 3.4655000e+04, 4.2493000e+04,\n",
       "        4.9407000e+04, 5.3738000e+04, 5.6105000e+04, 5.6969000e+04,\n",
       "        5.6876000e+04, 5.6604000e+04, 5.6106000e+04, 5.5534000e+04,\n",
       "        5.4392000e+04, 5.3639000e+04, 5.3007000e+04, 5.3214000e+04,\n",
       "        5.1535000e+04, 4.7157000e+04, 4.0784000e+04, 3.6242000e+04,\n",
       "        3.3059000e+04, 2.9245000e+04, 2.5579000e+04, 2.2427000e+04,\n",
       "        1.9579000e+04, 1.6866000e+04, 1.4465000e+04, 1.3048000e+04,\n",
       "        1.1908000e+04, 1.1158000e+04, 9.7000000e+03, 7.6990000e+03,\n",
       "        5.9170000e+03, 4.0740000e+03, 2.3110000e+03, 1.2760000e+03,\n",
       "        6.4000000e+02, 3.1700000e+02, 1.6200000e+02, 7.2000000e+01,\n",
       "        2.0000000e+01, 1.2000000e+01]),\n",
       " array([     0.   ,  14154.265,  28308.53 ,  42462.795,  56617.06 ,\n",
       "         70771.325,  84925.59 ,  99079.855, 113234.12 , 127388.385,\n",
       "        141542.65 , 155696.915, 169851.18 , 184005.445, 198159.71 ,\n",
       "        212313.975, 226468.24 , 240622.505, 254776.77 , 268931.035,\n",
       "        283085.3  , 297239.565, 311393.83 , 325548.095, 339702.36 ,\n",
       "        353856.625, 368010.89 , 382165.155, 396319.42 , 410473.685,\n",
       "        424627.95 , 438782.215, 452936.48 , 467090.745, 481245.01 ,\n",
       "        495399.275, 509553.54 , 523707.805, 537862.07 , 552016.335,\n",
       "        566170.6  , 580324.865, 594479.13 , 608633.395, 622787.66 ,\n",
       "        636941.925, 651096.19 , 665250.455, 679404.72 , 693558.985,\n",
       "        707713.25 ]),\n",
       " <BarContainer object of 50 artists>)"
      ]
     },
     "execution_count": 61,
     "metadata": {},
     "output_type": "execute_result"
    },
    {
     "data": {
      "image/png": "[encoded data removed]",
      "text/plain": [
       "<Figure size 432x288 with 1 Axes>"
      ]
     },
     "metadata": {
      "needs_background": "light"
     },
     "output_type": "display_data"
    }
   ],
   "source": [
    "# Histogram of all values\n",
    "img = nib.load(r'C:\\Users\\ellen\\Documents\\ew-honoursthesis\\Data\\forAudrey.tar\\Original\\T1softTiss_withLacunes_35.tar\\0046_T1softTiss.nii.gz')\n",
    "data = img.get_fdata()\n",
    "plt.hist(data.ravel(), bins=50)"
   ]
  },
  {
   "cell_type": "code",
   "execution_count": 62,
   "id": "bc4a7968",
   "metadata": {},
   "outputs": [
    {
     "data": {
      "text/plain": [
       "0"
      ]
     },
     "execution_count": 62,
     "metadata": {},
     "output_type": "execute_result"
    }
   ],
   "source": [
    "len(data[data<0])"
   ]
  },
  {
   "cell_type": "code",
   "execution_count": 15,
   "id": "7c50ee40",
   "metadata": {},
   "outputs": [
    {
     "data": {
      "text/plain": [
       "array([-56.15296173, -56.15296173, -56.15296173, ..., -56.15296173,\n",
       "       -56.15296173, -56.15296173])"
      ]
     },
     "execution_count": 15,
     "metadata": {},
     "output_type": "execute_result"
    }
   ],
   "source": [
    "data[data<0]"
   ]
  },
  {
   "cell_type": "code",
   "execution_count": 24,
   "id": "55981a0f",
   "metadata": {},
   "outputs": [
    {
     "data": {
      "text/plain": [
       "1108"
      ]
     },
     "execution_count": 24,
     "metadata": {},
     "output_type": "execute_result"
    }
   ],
   "source": [
    "len(data[31][data[31] < 0])"
   ]
  },
  {
   "cell_type": "code",
   "execution_count": 51,
   "id": "cc73c2a2",
   "metadata": {},
   "outputs": [
    {
     "data": {
      "text/plain": [
       "1873"
      ]
     },
     "execution_count": 51,
     "metadata": {},
     "output_type": "execute_result"
    }
   ],
   "source": [
    "len(data[29][data[29] < 0])"
   ]
  },
  {
   "cell_type": "code",
   "execution_count": 35,
   "id": "60461634",
   "metadata": {},
   "outputs": [
    {
     "data": {
      "text/plain": [
       "array([   0.        ,    0.        ,    0.        ,    0.        ,\n",
       "          0.        ,    0.        ,    0.        ,    0.        ,\n",
       "          0.        ,    0.        ,    0.        ,    0.        ,\n",
       "        -56.15296173,    0.        ,    0.        ,    0.        ,\n",
       "          0.        ,    0.        ,    0.        ,    0.        ,\n",
       "        -56.15296173,    0.        ,  -56.15296173,    0.        ,\n",
       "          0.        ,  -56.15296173,  -56.15296173,  -56.15296173,\n",
       "       -112.30592346,    0.        ,  -56.15296173,  -56.15296173,\n",
       "        -56.15296173,  -56.15296173,  -56.15296173,  -56.15296173,\n",
       "          0.        ,  -56.15296173,    0.        ,    0.        ,\n",
       "        -56.15296173,  -56.15296173,  -56.15296173,  -56.15296173,\n",
       "          0.        , -112.30592346, -112.30592346,  -56.15296173,\n",
       "        -56.15296173,  -56.15296173, -168.45889282, -112.30592346,\n",
       "       -112.30592346, -112.30592346,  -56.15296173,    0.        ,\n",
       "          0.        ,    0.        ,   56.15296173,  224.61184692,\n",
       "        112.30592346,  168.45889282,  168.45889282,  280.76480103,\n",
       "        280.76480103,  168.45889282,  224.61184692,  112.30592346,\n",
       "        336.91778564,   56.15296173,  112.30592346,    0.        ,\n",
       "        280.76480103,  224.61184692,  280.76480103,   56.15296173,\n",
       "        280.76480103,  112.30592346,  393.07073975,    0.        ,\n",
       "        505.37664795, 1066.90625   ,  898.4473877 ,  561.52960205,\n",
       "        336.91778564,  336.91778564,  224.61184692,  224.61184692,\n",
       "        168.45889282,  336.91778564,  561.52960205,   56.15296173,\n",
       "        449.22369385,  449.22369385,  280.76480103,  168.45889282,\n",
       "        168.45889282,  729.98852539,  112.30592346,  449.22369385,\n",
       "        224.61184692,  505.37664795,  336.91778564,  224.61184692,\n",
       "        168.45889282,  280.76480103,  224.61184692,  224.61184692,\n",
       "        449.22369385,  280.76480103,  224.61184692,  280.76480103,\n",
       "        954.6003418 ,  449.22369385,  280.76480103,  280.76480103,\n",
       "        112.30592346,  280.76480103,  224.61184692,  168.45889282,\n",
       "        280.76480103,  224.61184692,  224.61184692,  393.07073975,\n",
       "         56.15296173,   56.15296173,  112.30592346,  449.22369385,\n",
       "        336.91778564,  168.45889282,  224.61184692,  112.30592346,\n",
       "         56.15296173,  393.07073975,    0.        ,   56.15296173,\n",
       "       -112.30592346,  -56.15296173, -112.30592346,  -56.15296173,\n",
       "        -56.15296173,  -56.15296173,  -56.15296173,  -56.15296173,\n",
       "        -56.15296173,  -56.15296173,  -56.15296173,    0.        ,\n",
       "          0.        ,  -56.15296173,    0.        ,  -56.15296173,\n",
       "        -56.15296173,  -56.15296173, -112.30592346,  -56.15296173,\n",
       "       -224.61184692, -280.76480103,  -56.15296173, -280.76480103,\n",
       "       -168.45889282,  -56.15296173,  -56.15296173,  -56.15296173,\n",
       "          0.        ,  -56.15296173,    0.        ,  -56.15296173,\n",
       "        -56.15296173,  -56.15296173,  -56.15296173,  -56.15296173,\n",
       "        -56.15296173,    0.        ,  -56.15296173,  -56.15296173,\n",
       "        -56.15296173,  -56.15296173,  -56.15296173,    0.        ,\n",
       "          0.        ,  -56.15296173,  -56.15296173,    0.        ,\n",
       "          0.        ,    0.        ,    0.        ,    0.        ,\n",
       "          0.        ,    0.        ])"
      ]
     },
     "execution_count": 35,
     "metadata": {},
     "output_type": "execute_result"
    }
   ],
   "source": [
    "data[31][120]"
   ]
  },
  {
   "cell_type": "code",
   "execution_count": 55,
   "id": "8160aabc",
   "metadata": {},
   "outputs": [
    {
     "data": {
      "text/plain": [
       "array([  0.        ,   0.        ,   0.        ,   0.        ,\n",
       "         0.        ,   0.        ,   0.        ,   0.        ,\n",
       "         0.        ,   0.        ,   0.        ,   0.        ,\n",
       "         0.        ,   0.        ,   0.        ,   0.        ,\n",
       "         0.        ,   0.        ,   0.        ,   0.        ,\n",
       "         0.        ,   0.        ,   0.        ,   0.        ,\n",
       "         0.        ,   0.        ,   0.        ,   0.        ,\n",
       "       -56.15296173,   0.        ,   0.        ,   0.        ,\n",
       "         0.        ,   0.        , -56.15296173,   0.        ,\n",
       "         0.        ,   0.        ,   0.        ,   0.        ,\n",
       "         0.        ,   0.        ,   0.        ,   0.        ,\n",
       "         0.        ,   0.        ,   0.        ,   0.        ,\n",
       "         0.        ,   0.        ,   0.        ,   0.        ,\n",
       "         0.        ,   0.        ,   0.        ,   0.        ,\n",
       "         0.        ,   0.        ,   0.        ,   0.        ,\n",
       "         0.        ,   0.        ,   0.        ,   0.        ,\n",
       "         0.        ,   0.        ,   0.        ,   0.        ,\n",
       "         0.        ,   0.        ,   0.        ,   0.        ,\n",
       "         0.        ,   0.        ,   0.        ,   0.        ,\n",
       "         0.        ,   0.        ,   0.        ,   0.        ,\n",
       "         0.        ,   0.        ,   0.        ,   0.        ,\n",
       "         0.        ,   0.        ,   0.        ,   0.        ,\n",
       "         0.        ,   0.        ,   0.        ,   0.        ,\n",
       "         0.        ,   0.        ,   0.        ,   0.        ,\n",
       "         0.        ,  56.15296173,   0.        ,   0.        ,\n",
       "         0.        ,   0.        ,   0.        ,   0.        ,\n",
       "         0.        ,   0.        ,  56.15296173,   0.        ,\n",
       "         0.        ,   0.        ,  56.15296173,  56.15296173,\n",
       "         0.        ,   0.        ,  56.15296173,   0.        ,\n",
       "        56.15296173,  56.15296173,   0.        ,   0.        ,\n",
       "         0.        ,  56.15296173,  56.15296173,   0.        ,\n",
       "        56.15296173, 112.30592346,   0.        ,  56.15296173,\n",
       "        56.15296173,   0.        ,   0.        ,  56.15296173,\n",
       "        56.15296173,  56.15296173,  56.15296173,  56.15296173,\n",
       "       112.30592346,  56.15296173, 112.30592346,  56.15296173,\n",
       "         0.        ,   0.        ,  56.15296173,   0.        ,\n",
       "        56.15296173,  56.15296173,  56.15296173,  56.15296173,\n",
       "        56.15296173,   0.        ,   0.        ,  56.15296173,\n",
       "        56.15296173,   0.        ,  56.15296173,  56.15296173,\n",
       "        56.15296173,  56.15296173, 112.30592346,  56.15296173,\n",
       "        56.15296173,  56.15296173,  56.15296173,  56.15296173,\n",
       "        56.15296173,  56.15296173,   0.        ,   0.        ,\n",
       "         0.        ,   0.        ,   0.        ,   0.        ,\n",
       "         0.        ,   0.        ,  56.15296173,  56.15296173,\n",
       "        56.15296173, 112.30592346,   0.        ,  56.15296173,\n",
       "       168.45889282,  56.15296173, 112.30592346,   0.        ,\n",
       "       112.30592346,  56.15296173,   0.        ,   0.        ,\n",
       "         0.        ,   0.        ])"
      ]
     },
     "execution_count": 55,
     "metadata": {},
     "output_type": "execute_result"
    }
   ],
   "source": [
    "data[29][190]"
   ]
  },
  {
   "cell_type": "code",
   "execution_count": 45,
   "id": "b8a4860c",
   "metadata": {},
   "outputs": [
    {
     "data": {
      "image/png": "[encoded data removed]",
      "text/plain": [
       "<Figure size 432x288 with 1 Axes>"
      ]
     },
     "metadata": {
      "needs_background": "light"
     },
     "output_type": "display_data"
    }
   ],
   "source": [
    "plt.imshow(data[29].T, cmap=\"gray\", origin=\"lower\")\n",
    "plt.show()"
   ]
  }
 ],
 "metadata": {
  "kernelspec": {
   "display_name": "Python 3 (ipykernel)",
   "language": "python",
   "name": "python3"
  },
  "language_info": {
   "codemirror_mode": {
    "name": "ipython",
    "version": 3
   },
   "file_extension": ".py",
   "mimetype": "text/x-python",
   "name": "python",
   "nbconvert_exporter": "python",
   "pygments_lexer": "ipython3",
   "version": "3.8.3"
  }
 },
 "nbformat": 4,
 "nbformat_minor": 5
}
