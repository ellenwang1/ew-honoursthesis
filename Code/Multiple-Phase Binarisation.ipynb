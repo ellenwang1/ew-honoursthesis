{
 "cells": [
  {
   "cell_type": "code",
   "execution_count": 1,
   "id": "277fa1fd",
   "metadata": {},
   "outputs": [],
   "source": [
    "from turtle import shape\n",
    "import nibabel as nib\n",
    "import os\n",
    "import sys\n",
    "import matplotlib.pyplot as plt\n",
    "from mpl_toolkits.mplot3d import Axes3D\n",
    "import numpy as np\n",
    "import cv2\n",
    "from PIL import Image\n",
    "from matplotlib import cm\n",
    "import pandas as pd\n",
    "import imblearn\n",
    "import re\n",
    "import seaborn as sns\n",
    "import math\n",
    "\n",
    "# Setting paths for different folders\n",
    "FLAIR_scan = r'C:\\Users\\ellen\\Documents\\ew-honoursthesis\\Data\\forAudrey.tar\\Normalised\\FLAIRinT1space_withLacunes_35.tar'\n",
    "T1_Lacunes_Incorrect = r'C:\\Users\\ellen\\Documents\\ew-honoursthesis\\Data\\forAudrey.tar\\Original\\lacune_T1space.tar'\n",
    "T1_Lacunes_Correct = r'C:\\Users\\ellen\\Documents\\ew-honoursthesis\\Data\\forAudrey.tar\\Original\\lacune_T1space_JiyangCorrected20210920'\n",
    "T1_scan = r'C:\\Users\\ellen\\Documents\\ew-honoursthesis\\Data\\forAudrey.tar\\Normalised\\T1_withLacunes_35.tar'\n",
    "T1_Soft_Tissue = r'C:\\Users\\ellen\\Documents\\ew-honoursthesis\\Data\\forAudrey.tar\\Normalised\\T1softTiss_withLacunes_35.tar'\n",
    "T1_Soft_Tissue_Mask = r'C:\\Users\\ellen\\Documents\\ew-honoursthesis\\Data\\forAudrey.tar\\Original\\T1softTissMask_withLacunes_35.tar'\n",
    "T1_Soft_Tissue_Binary_Mask = r'C:\\Users\\ellen\\Documents\\ew-honoursthesis\\Data\\forAudrey.tar\\Original\\T1softTissMask_withLacunes_35_binary.tar'\n"
   ]
  },
  {
   "cell_type": "code",
   "execution_count": null,
   "id": "53704f11",
   "metadata": {},
   "outputs": [],
   "source": []
  }
 ],
 "metadata": {
  "kernelspec": {
   "display_name": "Python 3 (ipykernel)",
   "language": "python",
   "name": "python3"
  },
  "language_info": {
   "codemirror_mode": {
    "name": "ipython",
    "version": 3
   },
   "file_extension": ".py",
   "mimetype": "text/x-python",
   "name": "python",
   "nbconvert_exporter": "python",
   "pygments_lexer": "ipython3",
   "version": "3.8.3"
  }
 },
 "nbformat": 4,
 "nbformat_minor": 5
}
