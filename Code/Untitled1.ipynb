{
 "cells": [
  {
   "cell_type": "code",
   "execution_count": 14,
   "id": "36877141",
   "metadata": {},
   "outputs": [],
   "source": [
    "import numpy as np\n",
    "from sklearn import metrics\n",
    "from sklearn import model_selection\n",
    "import cv2\n",
    "\n",
    "from sklearn.ensemble import RandomForestClassifier\n",
    "import random\n",
    "from sklearn.metrics import confusion_matrix"
   ]
  },
  {
   "cell_type": "code",
   "execution_count": 12,
   "id": "4769bb85",
   "metadata": {},
   "outputs": [],
   "source": [
    "dataset = np.load('dataset.npy')\n",
    "Y_train = np.load('y_train.npy')"
   ]
  },
  {
   "cell_type": "code",
   "execution_count": null,
   "id": "d6cf760c",
   "metadata": {},
   "outputs": [],
   "source": []
  },
  {
   "cell_type": "code",
   "execution_count": 17,
   "id": "cc37b0cb",
   "metadata": {},
   "outputs": [
    {
     "ename": "IndexError",
     "evalue": "invalid index to scalar variable.",
     "output_type": "error",
     "traceback": [
      "\u001b[1;31m---------------------------------------------------------------------------\u001b[0m",
      "\u001b[1;31mIndexError\u001b[0m                                Traceback (most recent call last)",
      "\u001b[1;32m~\\AppData\\Local\\Temp/ipykernel_3588/1552971706.py\u001b[0m in \u001b[0;36m<module>\u001b[1;34m\u001b[0m\n\u001b[0;32m      2\u001b[0m \u001b[0mkernel\u001b[0m \u001b[1;33m=\u001b[0m \u001b[0mcv2\u001b[0m\u001b[1;33m.\u001b[0m\u001b[0mgetStructuringElement\u001b[0m\u001b[1;33m(\u001b[0m\u001b[0mcv2\u001b[0m\u001b[1;33m.\u001b[0m\u001b[0mMORPH_RECT\u001b[0m\u001b[1;33m,\u001b[0m\u001b[0mfilterSize\u001b[0m\u001b[1;33m)\u001b[0m\u001b[1;33m\u001b[0m\u001b[1;33m\u001b[0m\u001b[0m\n\u001b[0;32m      3\u001b[0m \u001b[1;31m# Reading the image named 'input.jpg'\u001b[0m\u001b[1;33m\u001b[0m\u001b[1;33m\u001b[0m\u001b[1;33m\u001b[0m\u001b[0m\n\u001b[1;32m----> 4\u001b[1;33m \u001b[0minput_image\u001b[0m \u001b[1;33m=\u001b[0m \u001b[0mdataset\u001b[0m\u001b[1;33m[\u001b[0m\u001b[1;36m733\u001b[0m\u001b[1;33m]\u001b[0m\u001b[1;33m[\u001b[0m\u001b[1;36m7\u001b[0m\u001b[1;33m]\u001b[0m\u001b[1;33m[\u001b[0m\u001b[1;33m:\u001b[0m\u001b[1;33m,\u001b[0m \u001b[1;36m15\u001b[0m\u001b[1;33m,\u001b[0m \u001b[1;33m:\u001b[0m\u001b[1;33m]\u001b[0m\u001b[1;33m*\u001b[0m\u001b[1;36m255\u001b[0m\u001b[1;33m\u001b[0m\u001b[1;33m\u001b[0m\u001b[0m\n\u001b[0m\u001b[0;32m      5\u001b[0m \u001b[1;33m\u001b[0m\u001b[0m\n\u001b[0;32m      6\u001b[0m \u001b[1;31m# Applying the Black-Hat operation\u001b[0m\u001b[1;33m\u001b[0m\u001b[1;33m\u001b[0m\u001b[1;33m\u001b[0m\u001b[0m\n",
      "\u001b[1;31mIndexError\u001b[0m: invalid index to scalar variable."
     ]
    }
   ],
   "source": [
    "filterSize =(16,16)\n",
    "kernel = cv2.getStructuringElement(cv2.MORPH_RECT,filterSize)\n",
    "# Reading the image named 'input.jpg'\n",
    "input_image = dataset[733][7][:, 15, :]*255\n",
    "  \n",
    "# Applying the Black-Hat operation\n",
    "tophat_img = cv2.morphologyEx(input_image, cv2.MORPH_BLACKHAT,kernel)\n",
    "edges = canny(tophat_img)\n",
    "plt.imshow(tophat_img, cmap=\"gray\", origin=\"lower\")\n",
    "plt.show()"
   ]
  },
  {
   "cell_type": "code",
   "execution_count": 35,
   "id": "f7dd87b4",
   "metadata": {},
   "outputs": [
    {
     "data": {
      "text/plain": [
       "(33880, 193)"
      ]
     },
     "execution_count": 35,
     "metadata": {},
     "output_type": "execute_result"
    }
   ],
   "source": [
    "dataset.shape"
   ]
  },
  {
   "cell_type": "code",
   "execution_count": 36,
   "id": "fe8af17a",
   "metadata": {},
   "outputs": [
    {
     "data": {
      "text/plain": [
       "(33880, 192)"
      ]
     },
     "execution_count": 36,
     "metadata": {},
     "output_type": "execute_result"
    }
   ],
   "source": [
    "dataset = dataset[:,1:]\n",
    "dataset.shape"
   ]
  },
  {
   "cell_type": "code",
   "execution_count": 29,
   "id": "551fa70e",
   "metadata": {},
   "outputs": [
    {
     "data": {
      "text/plain": [
       "192"
      ]
     },
     "execution_count": 29,
     "metadata": {},
     "output_type": "execute_result"
    }
   ],
   "source": [
    "len(dataset_nb[0])"
   ]
  },
  {
   "cell_type": "code",
   "execution_count": 37,
   "id": "03a62de9",
   "metadata": {},
   "outputs": [],
   "source": [
    "classifier = RandomForestClassifier(criterion = \"gini\", n_estimators = 5, min_samples_split = 5, max_features =15, oob_score = True)"
   ]
  },
  {
   "cell_type": "code",
   "execution_count": 38,
   "id": "77aae1fd",
   "metadata": {},
   "outputs": [
    {
     "name": "stderr",
     "output_type": "stream",
     "text": [
      "C:\\Users\\ellen\\AppData\\Local\\R-MINI~1\\lib\\site-packages\\sklearn\\ensemble\\_forest.py:550: UserWarning: Some inputs do not have OOB scores. This probably means too few trees were used to compute any reliable OOB estimates.\n",
      "  warn(\n"
     ]
    },
    {
     "data": {
      "text/plain": [
       "RandomForestClassifier(max_features=15, min_samples_split=5, n_estimators=5,\n",
       "                       oob_score=True)"
      ]
     },
     "execution_count": 38,
     "metadata": {},
     "output_type": "execute_result"
    }
   ],
   "source": [
    "classifier.fit(dataset_nb, Y_train)"
   ]
  },
  {
   "cell_type": "code",
   "execution_count": 24,
   "id": "f3389fcb",
   "metadata": {},
   "outputs": [
    {
     "data": {
      "text/plain": [
       "(33880, 1)"
      ]
     },
     "execution_count": 24,
     "metadata": {},
     "output_type": "execute_result"
    }
   ],
   "source": [
    "Y_train.shape"
   ]
  },
  {
   "cell_type": "code",
   "execution_count": 25,
   "id": "37993701",
   "metadata": {},
   "outputs": [
    {
     "ename": "AttributeError",
     "evalue": "'list' object has no attribute 'shape'",
     "output_type": "error",
     "traceback": [
      "\u001b[1;31m---------------------------------------------------------------------------\u001b[0m",
      "\u001b[1;31mAttributeError\u001b[0m                            Traceback (most recent call last)",
      "\u001b[1;32m~\\AppData\\Local\\Temp/ipykernel_21332/3852733788.py\u001b[0m in \u001b[0;36m<module>\u001b[1;34m\u001b[0m\n\u001b[1;32m----> 1\u001b[1;33m \u001b[0mdataset_nb\u001b[0m\u001b[1;33m.\u001b[0m\u001b[0mshape\u001b[0m\u001b[1;33m\u001b[0m\u001b[1;33m\u001b[0m\u001b[0m\n\u001b[0m",
      "\u001b[1;31mAttributeError\u001b[0m: 'list' object has no attribute 'shape'"
     ]
    }
   ],
   "source": [
    "dataset_nb"
   ]
  },
  {
   "cell_type": "code",
   "execution_count": 55,
   "id": "1cfdd7ba",
   "metadata": {},
   "outputs": [
    {
     "data": {
      "text/plain": [
       "33880"
      ]
     },
     "execution_count": 55,
     "metadata": {},
     "output_type": "execute_result"
    }
   ],
   "source": [
    "len(dataset)"
   ]
  },
  {
   "cell_type": "code",
   "execution_count": 60,
   "id": "bff6df09",
   "metadata": {},
   "outputs": [
    {
     "data": {
      "text/plain": [
       "array([0.8, 1. , 1. , ..., 0. , 0. , 0. ])"
      ]
     },
     "execution_count": 60,
     "metadata": {},
     "output_type": "execute_result"
    }
   ],
   "source": [
    "predictions = classifier.predict_proba(dataset)\n",
    "predictions[:,1]"
   ]
  },
  {
   "cell_type": "code",
   "execution_count": 61,
   "id": "43b594dd",
   "metadata": {},
   "outputs": [
    {
     "name": "stdout",
     "output_type": "stream",
     "text": [
      "[[16491     9]\n",
      " [    5 17375]]\n"
     ]
    }
   ],
   "source": [
    "predictions = (classifier.predict_proba(dataset)[:,1] >= 0.5)\n",
    "Y_train=Y_train.reshape((len(Y_train),1))\n",
    "print(confusion_matrix(Y_train, predictions))"
   ]
  },
  {
   "cell_type": "code",
   "execution_count": 11,
   "id": "45456291",
   "metadata": {},
   "outputs": [],
   "source": [
    "Y_test = np.load('y_test.npy')"
   ]
  },
  {
   "cell_type": "code",
   "execution_count": 12,
   "id": "044c0f79",
   "metadata": {},
   "outputs": [
    {
     "data": {
      "text/plain": [
       "(84070,)"
      ]
     },
     "execution_count": 12,
     "metadata": {},
     "output_type": "execute_result"
    }
   ],
   "source": [
    "np.shape(Y_test)"
   ]
  },
  {
   "cell_type": "code",
   "execution_count": 4,
   "id": "31a3d5a9",
   "metadata": {},
   "outputs": [
    {
     "data": {
      "text/plain": [
       "84070"
      ]
     },
     "execution_count": 4,
     "metadata": {},
     "output_type": "execute_result"
    }
   ],
   "source": [
    "len(Y_test)"
   ]
  },
  {
   "cell_type": "code",
   "execution_count": 14,
   "id": "ae53bdff",
   "metadata": {},
   "outputs": [
    {
     "data": {
      "text/plain": [
       "0.0"
      ]
     },
     "execution_count": 14,
     "metadata": {},
     "output_type": "execute_result"
    }
   ],
   "source": [
    "dataset[0][189]"
   ]
  },
  {
   "cell_type": "code",
   "execution_count": 14,
   "id": "06c24f5e",
   "metadata": {},
   "outputs": [
    {
     "data": {
      "text/plain": [
       "0.014298134483397007"
      ]
     },
     "execution_count": 14,
     "metadata": {},
     "output_type": "execute_result"
    }
   ],
   "source": [
    "dataset[0][1]"
   ]
  },
  {
   "cell_type": "code",
   "execution_count": 4,
   "id": "38105957",
   "metadata": {},
   "outputs": [
    {
     "name": "stdout",
     "output_type": "stream",
     "text": [
      "{1183.0, 2208.0, 1448.0, 2733.0, 1070.0, 430.0, 46.0, 6324.0, 5568.0, 1477.0, 1224.0, 1873.0, 4689.0, 2777.0, 4442.0, 1243.0, 1242.0, 2396.0, 4837.0, 4968.0, 4848.0, 3318.0, 4602.0, 891.0, 1535.0}\n"
     ]
    }
   ],
   "source": [
    "list_brain = []\n",
    "for i in range(dataset.shape[0]):\n",
    "    list_brain.append(dataset[i][0])\n",
    "print(set(list_brain))"
   ]
  },
  {
   "cell_type": "code",
   "execution_count": 17,
   "id": "98f840f0",
   "metadata": {},
   "outputs": [
    {
     "name": "stdout",
     "output_type": "stream",
     "text": [
      "[891.0, 4837.0, 1535.0, 4689.0, 2396.0, 1243.0, 1070.0, 1448.0, 1477.0, 1873.0, 2777.0, 1242.0, 1224.0, 4848.0, 46.0, 4442.0, 4968.0, 430.0, 1183.0, 3318.0, 2208.0, 5568.0, 6324.0, 2733.0, 4602.0]\n"
     ]
    },
    {
     "data": {
      "text/plain": [
       "[[891.0, 4837.0, 1535.0, 4689.0, 2396.0],\n",
       " [1243.0, 1070.0, 1448.0, 1477.0, 1873.0],\n",
       " [2777.0, 1242.0, 1224.0, 4848.0, 46.0],\n",
       " [4442.0, 4968.0, 430.0, 1183.0, 3318.0],\n",
       " [2208.0, 5568.0, 6324.0, 2733.0, 4602.0]]"
      ]
     },
     "execution_count": 17,
     "metadata": {},
     "output_type": "execute_result"
    }
   ],
   "source": [
    "set_brain = list(set(list_brain))\n",
    "def partition(list_brain, n):\n",
    "    random.shuffle(list_brain)\n",
    "    print(list_brain)\n",
    "    result = []\n",
    "    for i in range(0, len(list_brain), n):\n",
    "        result.append(list_brain[i:i + n])\n",
    "    return result\n",
    "\n",
    "ret = partition(set_brain, 5)\n",
    "ret"
   ]
  },
  {
   "cell_type": "code",
   "execution_count": 3,
   "id": "80460f34",
   "metadata": {},
   "outputs": [],
   "source": [
    "cv_1_data = []\n",
    "cv_2_data = []\n",
    "cv_3_data = []\n",
    "cv_4_data = []\n",
    "cv_5_data = []\n",
    "cv_1_idx = []\n",
    "cv_2_idx = []\n",
    "cv_3_idx = []\n",
    "cv_4_idx = []\n",
    "cv_5_idx = []\n",
    "cv_1_brains = [1183, 2208, 1448, 2733, 1070]\n",
    "cv_2_brains = [430, 46, 6324, 5568, 1477]\n",
    "cv_3_brains = [1224, 1873, 4689, 2777, 4442]\n",
    "cv_4_brains = [1243, 1242, 2396, 4837, 4968]\n",
    "cv_5_brains = [4848, 3318, 4602, 891, 1535]\n",
    "cv_1_train = []\n",
    "cv_2_train = []\n",
    "cv_3_train = []\n",
    "cv_4_train = []\n",
    "cv_5_train = []\n",
    "for i in range(dataset.shape[0]):\n",
    "    if dataset[i][0] in cv_1_brains:\n",
    "        cv_1_idx.append(i)\n",
    "        cv_1_data.append(np.delete(dataset[i], 0))\n",
    "        cv_1_train.append(Y_train[i])\n",
    "    elif dataset[i][0] in cv_2_brains:\n",
    "        cv_2_idx.append(i)\n",
    "        cv_2_data.append(np.delete(dataset[i], 0))\n",
    "        cv_2_train.append(Y_train[i])\n",
    "    elif dataset[i][0] in cv_3_brains:\n",
    "        cv_3_idx.append(i)\n",
    "        cv_3_data.append(np.delete(dataset[i], 0))\n",
    "        cv_3_train.append(Y_train[i])\n",
    "    elif dataset[i][0] in cv_4_brains:\n",
    "        cv_4_idx.append(i)\n",
    "        cv_4_data.append(np.delete(dataset[i], 0))\n",
    "        cv_4_train.append(Y_train[i])\n",
    "    elif dataset[i][0] in cv_5_brains:\n",
    "        cv_5_idx.append(i)\n",
    "        cv_5_data.append(np.delete(dataset[i], 0))\n",
    "        cv_5_train.append(Y_train[i])"
   ]
  },
  {
   "cell_type": "code",
   "execution_count": 4,
   "id": "52f3077e",
   "metadata": {},
   "outputs": [
    {
     "data": {
      "text/plain": [
       "(33880, 192)"
      ]
     },
     "execution_count": 4,
     "metadata": {},
     "output_type": "execute_result"
    }
   ],
   "source": [
    "dataset_new = np.concatenate([cv_1_data, cv_2_data, cv_3_data, cv_4_data, cv_5_data])\n",
    "dataset_new.shape"
   ]
  },
  {
   "cell_type": "code",
   "execution_count": 7,
   "id": "acef8f2c",
   "metadata": {},
   "outputs": [
    {
     "data": {
      "text/plain": [
       "(33882,)"
      ]
     },
     "execution_count": 7,
     "metadata": {},
     "output_type": "execute_result"
    }
   ],
   "source": [
    "Y_train.shape"
   ]
  },
  {
   "cell_type": "code",
   "execution_count": 18,
   "id": "fb53870c",
   "metadata": {},
   "outputs": [
    {
     "data": {
      "text/plain": [
       "{0, 1}"
      ]
     },
     "execution_count": 18,
     "metadata": {},
     "output_type": "execute_result"
    }
   ],
   "source": [
    "set(cv_5_train)"
   ]
  },
  {
   "cell_type": "code",
   "execution_count": 34,
   "id": "8ff842dd",
   "metadata": {},
   "outputs": [],
   "source": [
    "# tree convergence\n",
    "accuracy_list = []\n",
    "no_trees = [50, 100, 200, 300, 500, 1000, 2000, 3000, 4000, 5000]\n",
    "for i in no_trees:\n",
    "    from sklearn.ensemble import RandomForestClassifier\n",
    "    #max features, min sample split \n",
    "    clf = RandomForestClassifier(n_estimators = i, max_features = 'sqrt', min_samples_split = 2, criterion = 'gini', oob_score = True, bootstrap = True, random_state = 30)\n",
    "    clf.fit(dataset_new, Y_train)\n",
    "    y_pred = (clf.oob_decision_function_[:,1] >= 0.50).astype(bool)\n",
    "    accuracy = metrics.accuracy_score(Y_train, y_pred)\n",
    "    accuracy_list.append(accuracy)"
   ]
  },
  {
   "cell_type": "code",
   "execution_count": 38,
   "id": "13bf55b9",
   "metadata": {},
   "outputs": [
    {
     "data": {
      "text/plain": [
       "[0.8364323239478189,\n",
       " 0.8449324124904078,\n",
       " 0.8496841980992857,\n",
       " 0.8507762233634378,\n",
       " 0.8522224189835311,\n",
       " 0.8534620152293253,\n",
       " 0.8526651319284576,\n",
       " 0.8523699899651732,\n",
       " 0.853166873266041,\n",
       " 0.8533439584440116]"
      ]
     },
     "execution_count": 38,
     "metadata": {},
     "output_type": "execute_result"
    }
   ],
   "source": [
    "accuracy_list"
   ]
  },
  {
   "cell_type": "code",
   "execution_count": 37,
   "id": "231420ee",
   "metadata": {},
   "outputs": [
    {
     "ename": "AttributeError",
     "evalue": "module 'matplotlib.pyplot' has no attribute 'fig'",
     "output_type": "error",
     "traceback": [
      "\u001b[1;31m---------------------------------------------------------------------------\u001b[0m",
      "\u001b[1;31mAttributeError\u001b[0m                            Traceback (most recent call last)",
      "\u001b[1;32m~\\AppData\\Local\\Temp/ipykernel_24816/1554863807.py\u001b[0m in \u001b[0;36m<module>\u001b[1;34m\u001b[0m\n\u001b[0;32m      7\u001b[0m \u001b[0mplt\u001b[0m\u001b[1;33m.\u001b[0m\u001b[0mtitle\u001b[0m\u001b[1;33m(\u001b[0m\u001b[1;34m'Performance of Random Forest on different number of trees'\u001b[0m\u001b[1;33m)\u001b[0m\u001b[1;33m\u001b[0m\u001b[1;33m\u001b[0m\u001b[0m\n\u001b[0;32m      8\u001b[0m \u001b[0mplt\u001b[0m\u001b[1;33m.\u001b[0m\u001b[0mlegend\u001b[0m\u001b[1;33m(\u001b[0m\u001b[1;33m)\u001b[0m\u001b[1;33m\u001b[0m\u001b[1;33m\u001b[0m\u001b[0m\n\u001b[1;32m----> 9\u001b[1;33m \u001b[0mplt\u001b[0m\u001b[1;33m.\u001b[0m\u001b[0mfig\u001b[0m\u001b[1;33m(\u001b[0m\u001b[1;33m)\u001b[0m\u001b[1;33m\u001b[0m\u001b[1;33m\u001b[0m\u001b[0m\n\u001b[0m",
      "\u001b[1;31mAttributeError\u001b[0m: module 'matplotlib.pyplot' has no attribute 'fig'"
     ]
    },
    {
     "data": {
      "image/png": "[encoded data removed]",
      "text/plain": [
       "<Figure size 432x288 with 1 Axes>"
      ]
     },
     "metadata": {
      "needs_background": "light"
     },
     "output_type": "display_data"
    }
   ],
   "source": [
    "index = np.arange(0,10)\n",
    "no_trees = [50, 100, 200, 300, 500, 1000, 2000, 3000, 4000, 5000]\n",
    "plt.plot(index, accuracy_list, label = \"accuracy\", linestyle=\"--\")\n",
    "plt.xlabel('No. of Trees')\n",
    "plt.ylabel('OOB_Error')\n",
    "plt.xticks(index, no_trees)\n",
    "plt.title('Performance of Random Forest on different number of trees')\n",
    "plt.legend()\n",
    "plt.fig()"
   ]
  },
  {
   "cell_type": "code",
   "execution_count": 21,
   "id": "3a1962d1",
   "metadata": {
    "scrolled": true
   },
   "outputs": [
    {
     "name": "stdout",
     "output_type": "stream",
     "text": [
      "Fitting 5 folds for each of 5 candidates, totalling 25 fits\n",
      "[CV 1/5] END bootstrap=True, criterion=gini, max_features=17, min_samples_split=7, n_estimators=20, oob_score=True; oob_error: (test=0.863) total time=   0.6s\n"
     ]
    },
    {
     "name": "stderr",
     "output_type": "stream",
     "text": [
      "C:\\Users\\ellen\\AppData\\Local\\R-MINI~1\\lib\\site-packages\\sklearn\\ensemble\\_forest.py:550: UserWarning: Some inputs do not have OOB scores. This probably means too few trees were used to compute any reliable OOB estimates.\n",
      "  warn(\n"
     ]
    },
    {
     "name": "stdout",
     "output_type": "stream",
     "text": [
      "[CV 2/5] END bootstrap=True, criterion=gini, max_features=17, min_samples_split=7, n_estimators=20, oob_score=True; oob_error: (test=0.923) total time=   1.5s\n"
     ]
    },
    {
     "name": "stderr",
     "output_type": "stream",
     "text": [
      "C:\\Users\\ellen\\AppData\\Local\\R-MINI~1\\lib\\site-packages\\sklearn\\ensemble\\_forest.py:550: UserWarning: Some inputs do not have OOB scores. This probably means too few trees were used to compute any reliable OOB estimates.\n",
      "  warn(\n"
     ]
    },
    {
     "name": "stdout",
     "output_type": "stream",
     "text": [
      "[CV 3/5] END bootstrap=True, criterion=gini, max_features=17, min_samples_split=7, n_estimators=20, oob_score=True; oob_error: (test=0.876) total time=   1.5s\n"
     ]
    },
    {
     "name": "stderr",
     "output_type": "stream",
     "text": [
      "C:\\Users\\ellen\\AppData\\Local\\R-MINI~1\\lib\\site-packages\\sklearn\\ensemble\\_forest.py:550: UserWarning: Some inputs do not have OOB scores. This probably means too few trees were used to compute any reliable OOB estimates.\n",
      "  warn(\n"
     ]
    },
    {
     "name": "stdout",
     "output_type": "stream",
     "text": [
      "[CV 4/5] END bootstrap=True, criterion=gini, max_features=17, min_samples_split=7, n_estimators=20, oob_score=True; oob_error: (test=0.939) total time=   0.6s\n"
     ]
    },
    {
     "name": "stderr",
     "output_type": "stream",
     "text": [
      "C:\\Users\\ellen\\AppData\\Local\\R-MINI~1\\lib\\site-packages\\sklearn\\ensemble\\_forest.py:550: UserWarning: Some inputs do not have OOB scores. This probably means too few trees were used to compute any reliable OOB estimates.\n",
      "  warn(\n"
     ]
    },
    {
     "name": "stdout",
     "output_type": "stream",
     "text": [
      "[CV 5/5] END bootstrap=True, criterion=gini, max_features=17, min_samples_split=7, n_estimators=20, oob_score=True; oob_error: (test=0.806) total time=   0.9s\n",
      "[CV 1/5] END bootstrap=True, criterion=gini, max_features=9, min_samples_split=19, n_estimators=20, oob_score=True; oob_error: (test=0.850) total time=   0.3s\n"
     ]
    },
    {
     "name": "stderr",
     "output_type": "stream",
     "text": [
      "C:\\Users\\ellen\\AppData\\Local\\R-MINI~1\\lib\\site-packages\\sklearn\\ensemble\\_forest.py:550: UserWarning: Some inputs do not have OOB scores. This probably means too few trees were used to compute any reliable OOB estimates.\n",
      "  warn(\n"
     ]
    },
    {
     "name": "stdout",
     "output_type": "stream",
     "text": [
      "[CV 2/5] END bootstrap=True, criterion=gini, max_features=9, min_samples_split=19, n_estimators=20, oob_score=True; oob_error: (test=0.924) total time=   0.9s\n"
     ]
    },
    {
     "name": "stderr",
     "output_type": "stream",
     "text": [
      "C:\\Users\\ellen\\AppData\\Local\\R-MINI~1\\lib\\site-packages\\sklearn\\ensemble\\_forest.py:550: UserWarning: Some inputs do not have OOB scores. This probably means too few trees were used to compute any reliable OOB estimates.\n",
      "  warn(\n"
     ]
    },
    {
     "name": "stdout",
     "output_type": "stream",
     "text": [
      "[CV 3/5] END bootstrap=True, criterion=gini, max_features=9, min_samples_split=19, n_estimators=20, oob_score=True; oob_error: (test=0.875) total time=   0.8s\n"
     ]
    },
    {
     "name": "stderr",
     "output_type": "stream",
     "text": [
      "C:\\Users\\ellen\\AppData\\Local\\R-MINI~1\\lib\\site-packages\\sklearn\\ensemble\\_forest.py:550: UserWarning: Some inputs do not have OOB scores. This probably means too few trees were used to compute any reliable OOB estimates.\n",
      "  warn(\n"
     ]
    },
    {
     "name": "stdout",
     "output_type": "stream",
     "text": [
      "[CV 4/5] END bootstrap=True, criterion=gini, max_features=9, min_samples_split=19, n_estimators=20, oob_score=True; oob_error: (test=0.934) total time=   0.3s\n"
     ]
    },
    {
     "name": "stderr",
     "output_type": "stream",
     "text": [
      "C:\\Users\\ellen\\AppData\\Local\\R-MINI~1\\lib\\site-packages\\sklearn\\ensemble\\_forest.py:550: UserWarning: Some inputs do not have OOB scores. This probably means too few trees were used to compute any reliable OOB estimates.\n",
      "  warn(\n"
     ]
    },
    {
     "name": "stdout",
     "output_type": "stream",
     "text": [
      "[CV 5/5] END bootstrap=True, criterion=gini, max_features=9, min_samples_split=19, n_estimators=20, oob_score=True; oob_error: (test=0.796) total time=   0.5s\n",
      "[CV 1/5] END bootstrap=True, criterion=gini, max_features=9, min_samples_split=2, n_estimators=20, oob_score=True; oob_error: (test=0.844) total time=   0.3s\n"
     ]
    },
    {
     "name": "stderr",
     "output_type": "stream",
     "text": [
      "C:\\Users\\ellen\\AppData\\Local\\R-MINI~1\\lib\\site-packages\\sklearn\\ensemble\\_forest.py:550: UserWarning: Some inputs do not have OOB scores. This probably means too few trees were used to compute any reliable OOB estimates.\n",
      "  warn(\n"
     ]
    },
    {
     "name": "stdout",
     "output_type": "stream",
     "text": [
      "[CV 2/5] END bootstrap=True, criterion=gini, max_features=9, min_samples_split=2, n_estimators=20, oob_score=True; oob_error: (test=0.921) total time=   0.9s\n"
     ]
    },
    {
     "name": "stderr",
     "output_type": "stream",
     "text": [
      "C:\\Users\\ellen\\AppData\\Local\\R-MINI~1\\lib\\site-packages\\sklearn\\ensemble\\_forest.py:550: UserWarning: Some inputs do not have OOB scores. This probably means too few trees were used to compute any reliable OOB estimates.\n",
      "  warn(\n"
     ]
    },
    {
     "name": "stdout",
     "output_type": "stream",
     "text": [
      "[CV 3/5] END bootstrap=True, criterion=gini, max_features=9, min_samples_split=2, n_estimators=20, oob_score=True; oob_error: (test=0.867) total time=   0.9s\n"
     ]
    },
    {
     "name": "stderr",
     "output_type": "stream",
     "text": [
      "C:\\Users\\ellen\\AppData\\Local\\R-MINI~1\\lib\\site-packages\\sklearn\\ensemble\\_forest.py:550: UserWarning: Some inputs do not have OOB scores. This probably means too few trees were used to compute any reliable OOB estimates.\n",
      "  warn(\n"
     ]
    },
    {
     "name": "stdout",
     "output_type": "stream",
     "text": [
      "[CV 4/5] END bootstrap=True, criterion=gini, max_features=9, min_samples_split=2, n_estimators=20, oob_score=True; oob_error: (test=0.938) total time=   0.3s\n"
     ]
    },
    {
     "name": "stderr",
     "output_type": "stream",
     "text": [
      "C:\\Users\\ellen\\AppData\\Local\\R-MINI~1\\lib\\site-packages\\sklearn\\ensemble\\_forest.py:550: UserWarning: Some inputs do not have OOB scores. This probably means too few trees were used to compute any reliable OOB estimates.\n",
      "  warn(\n"
     ]
    },
    {
     "name": "stdout",
     "output_type": "stream",
     "text": [
      "[CV 5/5] END bootstrap=True, criterion=gini, max_features=9, min_samples_split=2, n_estimators=20, oob_score=True; oob_error: (test=0.785) total time=   0.5s\n",
      "[CV 1/5] END bootstrap=True, criterion=gini, max_features=9, min_samples_split=13, n_estimators=20, oob_score=True; oob_error: (test=0.851) total time=   0.3s\n"
     ]
    },
    {
     "name": "stderr",
     "output_type": "stream",
     "text": [
      "C:\\Users\\ellen\\AppData\\Local\\R-MINI~1\\lib\\site-packages\\sklearn\\ensemble\\_forest.py:550: UserWarning: Some inputs do not have OOB scores. This probably means too few trees were used to compute any reliable OOB estimates.\n",
      "  warn(\n"
     ]
    },
    {
     "name": "stdout",
     "output_type": "stream",
     "text": [
      "[CV 2/5] END bootstrap=True, criterion=gini, max_features=9, min_samples_split=13, n_estimators=20, oob_score=True; oob_error: (test=0.922) total time=   0.9s\n"
     ]
    },
    {
     "name": "stderr",
     "output_type": "stream",
     "text": [
      "C:\\Users\\ellen\\AppData\\Local\\R-MINI~1\\lib\\site-packages\\sklearn\\ensemble\\_forest.py:550: UserWarning: Some inputs do not have OOB scores. This probably means too few trees were used to compute any reliable OOB estimates.\n",
      "  warn(\n"
     ]
    },
    {
     "name": "stdout",
     "output_type": "stream",
     "text": [
      "[CV 3/5] END bootstrap=True, criterion=gini, max_features=9, min_samples_split=13, n_estimators=20, oob_score=True; oob_error: (test=0.873) total time=   1.1s\n"
     ]
    },
    {
     "name": "stderr",
     "output_type": "stream",
     "text": [
      "C:\\Users\\ellen\\AppData\\Local\\R-MINI~1\\lib\\site-packages\\sklearn\\ensemble\\_forest.py:550: UserWarning: Some inputs do not have OOB scores. This probably means too few trees were used to compute any reliable OOB estimates.\n",
      "  warn(\n"
     ]
    },
    {
     "name": "stdout",
     "output_type": "stream",
     "text": [
      "[CV 4/5] END bootstrap=True, criterion=gini, max_features=9, min_samples_split=13, n_estimators=20, oob_score=True; oob_error: (test=0.937) total time=   0.3s\n"
     ]
    },
    {
     "name": "stderr",
     "output_type": "stream",
     "text": [
      "C:\\Users\\ellen\\AppData\\Local\\R-MINI~1\\lib\\site-packages\\sklearn\\ensemble\\_forest.py:550: UserWarning: Some inputs do not have OOB scores. This probably means too few trees were used to compute any reliable OOB estimates.\n",
      "  warn(\n"
     ]
    },
    {
     "name": "stdout",
     "output_type": "stream",
     "text": [
      "[CV 5/5] END bootstrap=True, criterion=gini, max_features=9, min_samples_split=13, n_estimators=20, oob_score=True; oob_error: (test=0.793) total time=   0.5s\n",
      "[CV 1/5] END bootstrap=True, criterion=gini, max_features=19, min_samples_split=3, n_estimators=20, oob_score=True; oob_error: (test=0.850) total time=   0.7s\n"
     ]
    },
    {
     "name": "stderr",
     "output_type": "stream",
     "text": [
      "C:\\Users\\ellen\\AppData\\Local\\R-MINI~1\\lib\\site-packages\\sklearn\\ensemble\\_forest.py:550: UserWarning: Some inputs do not have OOB scores. This probably means too few trees were used to compute any reliable OOB estimates.\n",
      "  warn(\n"
     ]
    },
    {
     "name": "stdout",
     "output_type": "stream",
     "text": [
      "[CV 2/5] END bootstrap=True, criterion=gini, max_features=19, min_samples_split=3, n_estimators=20, oob_score=True; oob_error: (test=0.929) total time=   1.8s\n"
     ]
    },
    {
     "name": "stderr",
     "output_type": "stream",
     "text": [
      "C:\\Users\\ellen\\AppData\\Local\\R-MINI~1\\lib\\site-packages\\sklearn\\ensemble\\_forest.py:550: UserWarning: Some inputs do not have OOB scores. This probably means too few trees were used to compute any reliable OOB estimates.\n",
      "  warn(\n"
     ]
    },
    {
     "name": "stdout",
     "output_type": "stream",
     "text": [
      "[CV 3/5] END bootstrap=True, criterion=gini, max_features=19, min_samples_split=3, n_estimators=20, oob_score=True; oob_error: (test=0.870) total time=   1.8s\n"
     ]
    },
    {
     "name": "stderr",
     "output_type": "stream",
     "text": [
      "C:\\Users\\ellen\\AppData\\Local\\R-MINI~1\\lib\\site-packages\\sklearn\\ensemble\\_forest.py:550: UserWarning: Some inputs do not have OOB scores. This probably means too few trees were used to compute any reliable OOB estimates.\n",
      "  warn(\n"
     ]
    },
    {
     "name": "stdout",
     "output_type": "stream",
     "text": [
      "[CV 4/5] END bootstrap=True, criterion=gini, max_features=19, min_samples_split=3, n_estimators=20, oob_score=True; oob_error: (test=0.938) total time=   0.8s\n"
     ]
    },
    {
     "name": "stderr",
     "output_type": "stream",
     "text": [
      "C:\\Users\\ellen\\AppData\\Local\\R-MINI~1\\lib\\site-packages\\sklearn\\ensemble\\_forest.py:550: UserWarning: Some inputs do not have OOB scores. This probably means too few trees were used to compute any reliable OOB estimates.\n",
      "  warn(\n"
     ]
    },
    {
     "name": "stdout",
     "output_type": "stream",
     "text": [
      "[CV 5/5] END bootstrap=True, criterion=gini, max_features=19, min_samples_split=3, n_estimators=20, oob_score=True; oob_error: (test=0.802) total time=   1.1s\n",
      "{'oob_score': True, 'n_estimators': 20, 'min_samples_split': 7, 'max_features': 17, 'criterion': 'gini', 'bootstrap': True}\n"
     ]
    },
    {
     "name": "stderr",
     "output_type": "stream",
     "text": [
      "C:\\Users\\ellen\\AppData\\Local\\R-MINI~1\\lib\\site-packages\\sklearn\\ensemble\\_forest.py:550: UserWarning: Some inputs do not have OOB scores. This probably means too few trees were used to compute any reliable OOB estimates.\n",
      "  warn(\n"
     ]
    }
   ],
   "source": [
    "from sklearn.metrics import recall_score\n",
    "from sklearn.metrics import make_scorer\n",
    "# Number of trees in Random Forest\n",
    "n_estimators = 20\n",
    "\n",
    "# Number of features to consider at every split\n",
    "rf_max_features = ['sqrt', 9, 10, 11, 12, 13, 14,15, 16, 17, 18, 19, 20]\n",
    "\n",
    "# Minimum number of samples required to split a node\n",
    "rf_min_samples_split = [int(x) for x in np.linspace(2, 20, 19)]\n",
    "\n",
    "# Create the grid\n",
    "rf_grid = {'criterion' : [\"gini\"],\n",
    "'n_estimators': [n_estimators],\n",
    "'bootstrap': [True],\n",
    "'oob_score': [True],\n",
    "'max_features': rf_max_features,\n",
    "'min_samples_split': rf_min_samples_split}\n",
    "\n",
    "# Custom CV splits\n",
    "cv_splits = [(cv_1_idx, cv_1_train), (cv_2_idx, cv_2_train), (cv_3_idx, cv_3_train), (cv_4_idx, cv_4_train), (cv_5_idx, cv_5_train)]\n",
    "\n",
    "def custom_oob_score(estimator, cv_data, cv_train):\n",
    "    return estimator.oob_score_\n",
    "\n",
    "scoring_list = {\n",
    "'oob_error': custom_oob_score,\n",
    "}\n",
    "\n",
    "# Add trees here\n",
    "rf_base = RandomForestClassifier(random_state = 42)\n",
    "\n",
    "# Create the random search Random Forest\n",
    "rf_random = model_selection.RandomizedSearchCV(estimator = rf_base, scoring = scoring_list, param_distributions = rf_grid, refit = 'oob_error', cv = cv_splits, verbose = 3, n_iter = 5)\n",
    "# Fit the random search model\n",
    "rf_random.fit(dataset_new, Y_train)\n",
    "# View the best parameters from the random search\n",
    "print(rf_random.best_params_)"
   ]
  },
  {
   "cell_type": "code",
   "execution_count": 22,
   "id": "45319254",
   "metadata": {},
   "outputs": [
    {
     "data": {
      "text/plain": [
       "{'oob_score': True,\n",
       " 'n_estimators': 20,\n",
       " 'min_samples_split': 7,\n",
       " 'max_features': 17,\n",
       " 'criterion': 'gini',\n",
       " 'bootstrap': True}"
      ]
     },
     "execution_count": 22,
     "metadata": {},
     "output_type": "execute_result"
    }
   ],
   "source": [
    "rf_random.best_params_"
   ]
  },
  {
   "cell_type": "code",
   "execution_count": 39,
   "id": "75702395",
   "metadata": {},
   "outputs": [
    {
     "data": {
      "text/plain": [
       "RandomForestClassifier(max_features=20, min_samples_split=8, n_estimators=20,\n",
       "                       oob_score=True)"
      ]
     },
     "execution_count": 39,
     "metadata": {},
     "output_type": "execute_result"
    }
   ],
   "source": [
    "clf = RandomForestClassifier()\n",
    "clf.set_params(**rf_random.best_params_)"
   ]
  },
  {
   "cell_type": "code",
   "execution_count": 9,
   "id": "ce7e4368",
   "metadata": {},
   "outputs": [],
   "source": [
    "clf = RandomForestClassifier(criterion = \"gini\", n_estimators = 50, min_samples_split = 5, max_features =15, oob_score = True)"
   ]
  },
  {
   "cell_type": "code",
   "execution_count": 40,
   "id": "feed5c45",
   "metadata": {},
   "outputs": [
    {
     "name": "stderr",
     "output_type": "stream",
     "text": [
      "C:\\Users\\ellen\\AppData\\Local\\R-MINI~1\\lib\\site-packages\\sklearn\\ensemble\\_forest.py:550: UserWarning: Some inputs do not have OOB scores. This probably means too few trees were used to compute any reliable OOB estimates.\n",
      "  warn(\n"
     ]
    },
    {
     "data": {
      "text/plain": [
       "RandomForestClassifier(max_features=20, min_samples_split=8, n_estimators=20,\n",
       "                       oob_score=True)"
      ]
     },
     "execution_count": 40,
     "metadata": {},
     "output_type": "execute_result"
    }
   ],
   "source": [
    "clf.fit(dataset, Y_train)"
   ]
  },
  {
   "cell_type": "code",
   "execution_count": 26,
   "id": "8bdbff3c",
   "metadata": {},
   "outputs": [
    {
     "data": {
      "image/png": "[encoded data removed]",
      "text/plain": [
       "<Figure size 432x288 with 1 Axes>"
      ]
     },
     "metadata": {
      "needs_background": "light"
     },
     "output_type": "display_data"
    }
   ],
   "source": [
    "import sklearn.metrics as metrics\n",
    "# calculate the fpr and tpr for all thresholds of the classification\n",
    "probs = clf.predict_proba(dataset)\n",
    "preds = probs[:,1]\n",
    "fpr, tpr, threshold = metrics.roc_curve(Y_train, preds)\n",
    "roc_auc = metrics.auc(fpr, tpr)\n",
    "\n",
    "# method I: plt\n",
    "import matplotlib.pyplot as plt\n",
    "plt.title('Receiver Operating Characteristic')\n",
    "plt.plot(fpr, tpr, 'b', label = 'AUC = %0.2f' % roc_auc)\n",
    "plt.legend(loc = 'lower right')\n",
    "plt.plot([0, 1], [0, 1],'r--')\n",
    "plt.xlim([0, 1])\n",
    "plt.ylim([0, 1])\n",
    "plt.ylabel('True Positive Rate')\n",
    "plt.xlabel('False Positive Rate')\n",
    "plt.show()"
   ]
  },
  {
   "cell_type": "code",
   "execution_count": 37,
   "id": "65d87b01",
   "metadata": {
    "scrolled": true
   },
   "outputs": [
    {
     "name": "stdout",
     "output_type": "stream",
     "text": [
      "[[2901  121]\n",
      " [  43  917]]\n"
     ]
    },
    {
     "data": {
      "image/png": "[encoded data removed]",
      "text/plain": [
       "<Figure size 432x288 with 1 Axes>"
      ]
     },
     "metadata": {
      "needs_background": "light"
     },
     "output_type": "display_data"
    },
    {
     "name": "stdout",
     "output_type": "stream",
     "text": [
      "[[3330  233]\n",
      " [ 416 5314]]\n"
     ]
    },
    {
     "data": {
      "image/png": "[encoded data removed]",
      "text/plain": [
       "<Figure size 432x288 with 1 Axes>"
      ]
     },
     "metadata": {
      "needs_background": "light"
     },
     "output_type": "display_data"
    },
    {
     "name": "stdout",
     "output_type": "stream",
     "text": [
      "[[3500  167]\n",
      " [ 762 5478]]\n"
     ]
    },
    {
     "data": {
      "image/png": "[encoded data removed]",
      "text/plain": [
       "<Figure size 432x288 with 1 Axes>"
      ]
     },
     "metadata": {
      "needs_background": "light"
     },
     "output_type": "display_data"
    },
    {
     "name": "stdout",
     "output_type": "stream",
     "text": [
      "[[2802  183]\n",
      " [ 127 1233]]\n"
     ]
    },
    {
     "data": {
      "image/png": "[encoded data removed]",
      "text/plain": [
       "<Figure size 432x288 with 1 Axes>"
      ]
     },
     "metadata": {
      "needs_background": "light"
     },
     "output_type": "display_data"
    },
    {
     "name": "stdout",
     "output_type": "stream",
     "text": [
      "[[3065  200]\n",
      " [   0 3090]]\n"
     ]
    },
    {
     "data": {
      "image/png": "[encoded data removed]",
      "text/plain": [
       "<Figure size 432x288 with 1 Axes>"
      ]
     },
     "metadata": {
      "needs_background": "light"
     },
     "output_type": "display_data"
    }
   ],
   "source": [
    "# Define cv\n",
    "cv_splits = [(np.concatenate([cv_2_idx, cv_3_idx, cv_4_idx, cv_5_idx]), cv_1_idx), \n",
    "             (np.concatenate([cv_1_idx, cv_3_idx, cv_4_idx, cv_5_idx]), cv_2_idx), \n",
    "             (np.concatenate([cv_1_idx, cv_2_idx, cv_4_idx, cv_5_idx]), cv_3_idx), \n",
    "             (np.concatenate([cv_1_idx, cv_2_idx, cv_3_idx, cv_5_idx]), cv_4_idx), \n",
    "             (np.concatenate([cv_1_idx, cv_2_idx, cv_3_idx, cv_4_idx]), cv_5_idx)]\n",
    "\n",
    "\n",
    "# Run classifier with cross-validation and plot ROC curves\n",
    "#classifier = RandomForestClassifier(criterion = \"gini\", n_estimators = 20, min_samples_leaf = 9, min_samples_split = 2, max_features =20, oob_score = True)\n",
    "\n",
    "tprs = []\n",
    "aucs = []\n",
    "mean_fpr = np.linspace(0, 1, 100)\n",
    "\n",
    "fig, ax = plt.subplots()\n",
    "for i, (train, test) in enumerate(cv_splits):\n",
    "    # calculate the fpr and tpr for all thresholds of the classification\n",
    "    clf = RandomForestClassifier(criterion = \"gini\", bootstrap = True, n_estimators = 50, min_samples_split = 5, max_features =15, oob_score = True)\n",
    "    clf.fit(dataset[train],Y_train[train])\n",
    "    probs = clf.predict_proba(dataset[test])\n",
    "    preds = (probs[:,1]>= 0.15).astype(bool)\n",
    "    fpr, tpr, threshold = metrics.roc_curve(Y_train[test], probs[:,1])\n",
    "    print(confusion_matrix(Y_train[test], preds))\n",
    "    roc_auc = metrics.auc(fpr, tpr)\n",
    "    plt.title('Receiver Operating Characteristic')\n",
    "    plt.plot(fpr, tpr, 'b', label = 'AUC = %0.2f' % roc_auc)\n",
    "    plt.legend(loc = 'lower right')\n",
    "    plt.plot([0, 1], [0, 1],'r--')\n",
    "    plt.xlim([0, 1])\n",
    "    plt.ylim([0, 1])\n",
    "    plt.ylabel('True Positive Rate')\n",
    "    plt.xlabel('False Positive Rate')\n",
    "    plt.show()"
   ]
  },
  {
   "cell_type": "code",
   "execution_count": 13,
   "id": "2a7fc67a",
   "metadata": {},
   "outputs": [
    {
     "ename": "TypeError",
     "evalue": "'list' object is not callable",
     "output_type": "error",
     "traceback": [
      "\u001b[1;31m---------------------------------------------------------------------------\u001b[0m",
      "\u001b[1;31mTypeError\u001b[0m                                 Traceback (most recent call last)",
      "\u001b[1;32m~\\AppData\\Local\\Temp/ipykernel_21388/469625031.py\u001b[0m in \u001b[0;36m<module>\u001b[1;34m\u001b[0m\n\u001b[0;32m     29\u001b[0m     \u001b[1;31m# whose contents are duplicates.\u001b[0m\u001b[1;33m\u001b[0m\u001b[1;33m\u001b[0m\u001b[1;33m\u001b[0m\u001b[0m\n\u001b[0;32m     30\u001b[0m     \u001b[1;32mreturn\u001b[0m \u001b[0mlist\u001b[0m\u001b[1;33m(\u001b[0m\u001b[0mduplicateColumnNames\u001b[0m\u001b[1;33m)\u001b[0m\u001b[1;33m\u001b[0m\u001b[1;33m\u001b[0m\u001b[0m\n\u001b[1;32m---> 31\u001b[1;33m \u001b[0mgetDuplicateColumns\u001b[0m\u001b[1;33m(\u001b[0m\u001b[0mdataset_pd\u001b[0m\u001b[1;33m)\u001b[0m\u001b[1;33m\u001b[0m\u001b[1;33m\u001b[0m\u001b[0m\n\u001b[0m",
      "\u001b[1;32m~\\AppData\\Local\\Temp/ipykernel_21388/469625031.py\u001b[0m in \u001b[0;36mgetDuplicateColumns\u001b[1;34m(df)\u001b[0m\n\u001b[0;32m     28\u001b[0m     \u001b[1;31m# Return list of unique column names\u001b[0m\u001b[1;33m\u001b[0m\u001b[1;33m\u001b[0m\u001b[1;33m\u001b[0m\u001b[0m\n\u001b[0;32m     29\u001b[0m     \u001b[1;31m# whose contents are duplicates.\u001b[0m\u001b[1;33m\u001b[0m\u001b[1;33m\u001b[0m\u001b[1;33m\u001b[0m\u001b[0m\n\u001b[1;32m---> 30\u001b[1;33m     \u001b[1;32mreturn\u001b[0m \u001b[0mlist\u001b[0m\u001b[1;33m(\u001b[0m\u001b[0mduplicateColumnNames\u001b[0m\u001b[1;33m)\u001b[0m\u001b[1;33m\u001b[0m\u001b[1;33m\u001b[0m\u001b[0m\n\u001b[0m\u001b[0;32m     31\u001b[0m \u001b[0mgetDuplicateColumns\u001b[0m\u001b[1;33m(\u001b[0m\u001b[0mdataset_pd\u001b[0m\u001b[1;33m)\u001b[0m\u001b[1;33m\u001b[0m\u001b[1;33m\u001b[0m\u001b[0m\n",
      "\u001b[1;31mTypeError\u001b[0m: 'list' object is not callable"
     ]
    }
   ],
   "source": [
    "def getDuplicateColumns(df):\n",
    "  \n",
    "    # Create an empty set\n",
    "    duplicateColumnNames = set()\n",
    "\n",
    "    # Iterate through all the columns \n",
    "    # of dataframe\n",
    "    for x in range(df.shape[1]):\n",
    "\n",
    "        # Take column at xth index.\n",
    "        col = df.iloc[:, x]\n",
    "\n",
    "        # Iterate through all the columns in\n",
    "        # DataFrame from (x + 1)th index to\n",
    "        # last index\n",
    "        for y in range(x + 1, df.shape[1]):\n",
    "\n",
    "            # Take column at yth index.\n",
    "            otherCol = df.iloc[:, y]\n",
    "\n",
    "            # Check if two columns at x & y\n",
    "            # index are equal or not,\n",
    "            # if equal then adding \n",
    "            # to the set\n",
    "            if col.equals(otherCol):\n",
    "                duplicateColumnNames.add(df.columns.values[y])\n",
    "\n",
    "    # Return list of unique column names \n",
    "    # whose contents are duplicates.\n",
    "    return list(duplicateColumnNames)\n",
    "getDuplicateColumns(dataset_pd)"
   ]
  },
  {
   "cell_type": "code",
   "execution_count": 5,
   "id": "7cf8a93f",
   "metadata": {},
   "outputs": [
    {
     "ename": "NameError",
     "evalue": "name 'dataset_pd' is not defined",
     "output_type": "error",
     "traceback": [
      "\u001b[1;31m---------------------------------------------------------------------------\u001b[0m",
      "\u001b[1;31mNameError\u001b[0m                                 Traceback (most recent call last)",
      "\u001b[1;32m~\\AppData\\Local\\Temp/ipykernel_21388/2951338583.py\u001b[0m in \u001b[0;36m<module>\u001b[1;34m\u001b[0m\n\u001b[1;32m----> 1\u001b[1;33m \u001b[0mdataset_pd\u001b[0m\u001b[1;33m[\u001b[0m\u001b[1;34m'WM'\u001b[0m\u001b[1;33m]\u001b[0m\u001b[1;33m\u001b[0m\u001b[1;33m\u001b[0m\u001b[0m\n\u001b[0m",
      "\u001b[1;31mNameError\u001b[0m: name 'dataset_pd' is not defined"
     ]
    }
   ],
   "source": [
    "dataset_pd['WM']"
   ]
  },
  {
   "cell_type": "code",
   "execution_count": 18,
   "id": "76124e45",
   "metadata": {},
   "outputs": [],
   "source": [
    "list = ['min_T1', 'min_T1','med_T1', 'mid_T1', 'mid_vsmall_ratio_T1', 'mid_small_ratio_T1', 'mid_med_ratio_T1', 'mid_large_ratio_T1', 'mid_vsmall_ratio_T1_inc', 'mid_small_ratio_T1_inc', 'mid_med_ratio_T1_inc', 'mid_large_ratio_T1_inc', 'mean_T1', 'max_T1', 'var_T1','range_T1', 'H_T1_e1', 'H_T1_e2', 'H_T1_e3', 'min_FLAIR', 'mid_FLAIR', 'med_FLAIR', 'mid_vsmall_ratio_FLAIR', 'mid_small_ratio_FLAIR', 'mid_med_ratio_FLAIR', 'mid_large_ratio_FLAIR', 'mid_vsmall_ratio_FLAIR_inc', 'mid_small_ratio_FLAIR_inc', 'mid_med_ratio_FLAIR_inc', 'mid_large_ratio_FLAIR_inc','mean_FLAIR', 'max_FLAIR', 'var_FLAIR','range_FLAIR','H_FLAIR_e1', 'H_FLAIR_e2', 'H_FLAIR_e3','density_diff', 'sum_soft_tiss_binary', 'sum_percent_soft_tiss', 'min_st', 'med_st', 'mid_st', 'mid_vsmall_ratio_st', 'mid_small_ratio_st','mid_med_ratio_st', 'mid_large_ratio_st', 'mid_vsmall_ratio_st_inc','mid_small_ratio_st_inc', 'mid_med_ratio_st_inc', 'mid_large_ratio_st_inc', 'mean_st', 'max_st', 'var_st','range_st','H_st_e1', 'H_st_e2', 'H_st_e3','min_stm', 'med_stm', 'mid_stm', 'mid_vsmall_ratio_stm', 'mid_small_ratio_stm','mid_med_ratio_stm', 'mid_large_ratio_stm', 'mid_vsmall_ratio_stm_inc','mid_small_ratio_stm_inc', 'mid_med_ratio_stm_inc', 'mid_large_ratio_stm_inc', 'mean_stm', 'max_stm','var_stm','range_stm', 'H_stm_e1', 'H_stm_e2', 'H_stm_e3','min_th_T1', 'med_th_T1', 'mid_th_T1', 'mid_vsmall_ratio_th_T1', 'mid_small_ratio_th_T1', 'mid_med_ratio_th_T1', 'mid_large_ratio_th_T1', 'mid_vsmall_ratio_th_T1_inc', 'mid_small_ratio_th_T1_inc', 'mid_med_ratio_th_T1_inc', 'mid_large_ratio_th_T1_inc', 'mean_th_T1', 'max_th_T1', 'var_th_T1','range_th_T1','H_th_T1_e1', 'H_th_T1_e2', 'H_th_T1_e3','min_th_FLAIR', 'med_th_FLAIR', 'mid_th_FLAIR', 'mid_vsmall_ratio_th_FLAIR', 'mid_small_ratio_th_FLAIR', 'mid_med_ratio_th_FLAIR', 'mid_large_ratio_th_FLAIR', 'mid_vsmall_ratio_th_FLAIR_inc', 'mid_small_ratio_th_FLAIR_inc', 'mid_med_ratio_th_FLAIR_inc', 'mid_large_ratio_th_FLAIR_inc', 'mean_th_FLAIR', 'max_th_FLAIR', 'var_th_FLAIR','range_th_FLAIR','H_th_FLAIR_e1', 'H_th_FLAIR_e2', 'H_th_FLAIR_e3','min_th_st', 'med_th_st', 'mid_th_st', 'mid_vsmall_ratio_th_st','mid_small_ratio_th_st', 'mid_med_ratio_th_st', 'mid_large_ratio_th_st', 'mid_vsmall_ratio_th_st_inc','mid_small_ratio_th_st_inc', 'mid_med_ratio_th_st_inc', 'mid_large_ratio_th_st_inc', 'mean_th_st', 'max_th_st','var_th_st','range_th_st', 'H_th_st_e1', 'H_th_st_e2', 'H_th_st_e3','min_bh_T1', 'med_bh_T1', 'mid_bh_T1', 'mid_vsmall_ratio_bh_T1','mid_small_ratio_bh_T1', 'mid_med_ratio_bh_T1', 'mid_large_ratio_bh_T1', 'mid_vsmall_ratio_bh_T1_inc','mid_small_ratio_bh_T1_inc', 'mid_med_ratio_bh_T1_inc', 'mid_large_ratio_bh_T1_inc', 'mean_bh_T1', 'max_bh_T1', 'var_bh_T1','range_bh_T1', 'H_bh_T1_e1', 'H_bh_T1_e2', 'H_bh_T1_e3','min_bh_FLAIR', 'med_bh_FLAIR', 'mid_bh_FLAIR', 'mid_vsmall_ratio_bh_FLAIR', 'mid_small_ratio_bh_FLAIR', 'mid_med_ratio_bh_FLAIR', 'mid_large_ratio_bh_FLAIR', 'mid_vsmall_ratio_bh_FLAIR_inc', 'mid_small_ratio_bh_FLAIR_inc', 'mid_med_ratio_bh_FLAIR_inc', 'mid_large_ratio_bh_FLAIR_inc', 'mean_bh_FLAIR', 'max_bh_FLAIR','var_bh_FLAIR','range_bh_FLAIR','H_bh_FLAIR_e1', 'H_bh_FLAIR_e2', 'H_bh_FLAIR_e3','min_bh_st', 'med_bh_st', 'mid_bh_st', 'mid_vsmall_ratio_bh_st','mid_small_ratio_bh_st', 'mid_med_ratio_bh_st', 'mid_large_ratio_bh_st', 'mid_vsmall_ratio_bh_st_inc','mid_small_ratio_bh_st_inc', 'mid_med_ratio_bh_st_inc', 'mid_large_ratio_bh_st_inc', 'mean_bh_st', 'max_bh_st', 'var_bh_st','range_bh_st', 'H_bh_st_e1', 'H_bh_st_e2', 'H_bh_st_e3', 'x', 'y', 'z', 'WMH_x', 'WMH_y' , 'WMH_z', 'CSF', 'GM', 'WM']"
   ]
  },
  {
   "cell_type": "code",
   "execution_count": 21,
   "id": "e4549793",
   "metadata": {
    "scrolled": true
   },
   "outputs": [
    {
     "data": {
      "text/plain": [
       "{'CSF',\n",
       " 'GM',\n",
       " 'H_FLAIR_e1',\n",
       " 'H_FLAIR_e2',\n",
       " 'H_FLAIR_e3',\n",
       " 'H_T1_e1',\n",
       " 'H_T1_e2',\n",
       " 'H_T1_e3',\n",
       " 'H_bh_FLAIR_e1',\n",
       " 'H_bh_FLAIR_e2',\n",
       " 'H_bh_FLAIR_e3',\n",
       " 'H_bh_T1_e1',\n",
       " 'H_bh_T1_e2',\n",
       " 'H_bh_T1_e3',\n",
       " 'H_bh_st_e1',\n",
       " 'H_bh_st_e2',\n",
       " 'H_bh_st_e3',\n",
       " 'H_st_e1',\n",
       " 'H_st_e2',\n",
       " 'H_st_e3',\n",
       " 'H_stm_e1',\n",
       " 'H_stm_e2',\n",
       " 'H_stm_e3',\n",
       " 'H_th_FLAIR_e1',\n",
       " 'H_th_FLAIR_e2',\n",
       " 'H_th_FLAIR_e3',\n",
       " 'H_th_T1_e1',\n",
       " 'H_th_T1_e2',\n",
       " 'H_th_T1_e3',\n",
       " 'H_th_st_e1',\n",
       " 'H_th_st_e2',\n",
       " 'H_th_st_e3',\n",
       " 'WM',\n",
       " 'WMH_x',\n",
       " 'WMH_y',\n",
       " 'WMH_z',\n",
       " 'density_diff',\n",
       " 'max_FLAIR',\n",
       " 'max_T1',\n",
       " 'max_bh_FLAIR',\n",
       " 'max_bh_T1',\n",
       " 'max_bh_st',\n",
       " 'max_st',\n",
       " 'max_stm',\n",
       " 'max_th_FLAIR',\n",
       " 'max_th_T1',\n",
       " 'max_th_st',\n",
       " 'mean_FLAIR',\n",
       " 'mean_T1',\n",
       " 'mean_bh_FLAIR',\n",
       " 'mean_bh_T1',\n",
       " 'mean_bh_st',\n",
       " 'mean_st',\n",
       " 'mean_stm',\n",
       " 'mean_th_FLAIR',\n",
       " 'mean_th_T1',\n",
       " 'mean_th_st',\n",
       " 'med_FLAIR',\n",
       " 'med_T1',\n",
       " 'med_bh_FLAIR',\n",
       " 'med_bh_T1',\n",
       " 'med_bh_st',\n",
       " 'med_st',\n",
       " 'med_stm',\n",
       " 'med_th_FLAIR',\n",
       " 'med_th_T1',\n",
       " 'med_th_st',\n",
       " 'mid_FLAIR',\n",
       " 'mid_T1',\n",
       " 'mid_bh_FLAIR',\n",
       " 'mid_bh_T1',\n",
       " 'mid_bh_st',\n",
       " 'mid_large_ratio_FLAIR',\n",
       " 'mid_large_ratio_FLAIR_inc',\n",
       " 'mid_large_ratio_T1',\n",
       " 'mid_large_ratio_T1_inc',\n",
       " 'mid_large_ratio_bh_FLAIR',\n",
       " 'mid_large_ratio_bh_FLAIR_inc',\n",
       " 'mid_large_ratio_bh_T1',\n",
       " 'mid_large_ratio_bh_T1_inc',\n",
       " 'mid_large_ratio_bh_st',\n",
       " 'mid_large_ratio_bh_st_inc',\n",
       " 'mid_large_ratio_st',\n",
       " 'mid_large_ratio_st_inc',\n",
       " 'mid_large_ratio_stm',\n",
       " 'mid_large_ratio_stm_inc',\n",
       " 'mid_large_ratio_th_FLAIR',\n",
       " 'mid_large_ratio_th_FLAIR_inc',\n",
       " 'mid_large_ratio_th_T1',\n",
       " 'mid_large_ratio_th_T1_inc',\n",
       " 'mid_large_ratio_th_st',\n",
       " 'mid_large_ratio_th_st_inc',\n",
       " 'mid_med_ratio_FLAIR',\n",
       " 'mid_med_ratio_FLAIR_inc',\n",
       " 'mid_med_ratio_T1',\n",
       " 'mid_med_ratio_T1_inc',\n",
       " 'mid_med_ratio_bh_FLAIR',\n",
       " 'mid_med_ratio_bh_FLAIR_inc',\n",
       " 'mid_med_ratio_bh_T1',\n",
       " 'mid_med_ratio_bh_T1_inc',\n",
       " 'mid_med_ratio_bh_st',\n",
       " 'mid_med_ratio_bh_st_inc',\n",
       " 'mid_med_ratio_st',\n",
       " 'mid_med_ratio_st_inc',\n",
       " 'mid_med_ratio_stm',\n",
       " 'mid_med_ratio_stm_inc',\n",
       " 'mid_med_ratio_th_FLAIR',\n",
       " 'mid_med_ratio_th_FLAIR_inc',\n",
       " 'mid_med_ratio_th_T1',\n",
       " 'mid_med_ratio_th_T1_inc',\n",
       " 'mid_med_ratio_th_st',\n",
       " 'mid_med_ratio_th_st_inc',\n",
       " 'mid_small_ratio_FLAIR',\n",
       " 'mid_small_ratio_FLAIR_inc',\n",
       " 'mid_small_ratio_T1',\n",
       " 'mid_small_ratio_T1_inc',\n",
       " 'mid_small_ratio_bh_FLAIR',\n",
       " 'mid_small_ratio_bh_FLAIR_inc',\n",
       " 'mid_small_ratio_bh_T1',\n",
       " 'mid_small_ratio_bh_T1_inc',\n",
       " 'mid_small_ratio_bh_st',\n",
       " 'mid_small_ratio_bh_st_inc',\n",
       " 'mid_small_ratio_st',\n",
       " 'mid_small_ratio_st_inc',\n",
       " 'mid_small_ratio_stm',\n",
       " 'mid_small_ratio_stm_inc',\n",
       " 'mid_small_ratio_th_FLAIR',\n",
       " 'mid_small_ratio_th_FLAIR_inc',\n",
       " 'mid_small_ratio_th_T1',\n",
       " 'mid_small_ratio_th_T1_inc',\n",
       " 'mid_small_ratio_th_st',\n",
       " 'mid_small_ratio_th_st_inc',\n",
       " 'mid_st',\n",
       " 'mid_stm',\n",
       " 'mid_th_FLAIR',\n",
       " 'mid_th_T1',\n",
       " 'mid_th_st',\n",
       " 'mid_vsmall_ratio_FLAIR',\n",
       " 'mid_vsmall_ratio_FLAIR_inc',\n",
       " 'mid_vsmall_ratio_T1',\n",
       " 'mid_vsmall_ratio_T1_inc',\n",
       " 'mid_vsmall_ratio_bh_FLAIR',\n",
       " 'mid_vsmall_ratio_bh_FLAIR_inc',\n",
       " 'mid_vsmall_ratio_bh_T1',\n",
       " 'mid_vsmall_ratio_bh_T1_inc',\n",
       " 'mid_vsmall_ratio_bh_st',\n",
       " 'mid_vsmall_ratio_bh_st_inc',\n",
       " 'mid_vsmall_ratio_st',\n",
       " 'mid_vsmall_ratio_st_inc',\n",
       " 'mid_vsmall_ratio_stm',\n",
       " 'mid_vsmall_ratio_stm_inc',\n",
       " 'mid_vsmall_ratio_th_FLAIR',\n",
       " 'mid_vsmall_ratio_th_FLAIR_inc',\n",
       " 'mid_vsmall_ratio_th_T1',\n",
       " 'mid_vsmall_ratio_th_T1_inc',\n",
       " 'mid_vsmall_ratio_th_st',\n",
       " 'mid_vsmall_ratio_th_st_inc',\n",
       " 'min_FLAIR',\n",
       " 'min_T1',\n",
       " 'min_bh_FLAIR',\n",
       " 'min_bh_T1',\n",
       " 'min_bh_st',\n",
       " 'min_st',\n",
       " 'min_stm',\n",
       " 'min_th_FLAIR',\n",
       " 'min_th_T1',\n",
       " 'min_th_st',\n",
       " 'range_FLAIR',\n",
       " 'range_T1',\n",
       " 'range_bh_FLAIR',\n",
       " 'range_bh_T1',\n",
       " 'range_bh_st',\n",
       " 'range_st',\n",
       " 'range_stm',\n",
       " 'range_th_FLAIR',\n",
       " 'range_th_T1',\n",
       " 'range_th_st',\n",
       " 'sum_percent_soft_tiss',\n",
       " 'sum_soft_tiss_binary',\n",
       " 'var_FLAIR',\n",
       " 'var_T1',\n",
       " 'var_bh_FLAIR',\n",
       " 'var_bh_T1',\n",
       " 'var_bh_st',\n",
       " 'var_st',\n",
       " 'var_stm',\n",
       " 'var_th_FLAIR',\n",
       " 'var_th_T1',\n",
       " 'var_th_st',\n",
       " 'x',\n",
       " 'y',\n",
       " 'z'}"
      ]
     },
     "execution_count": 21,
     "metadata": {},
     "output_type": "execute_result"
    }
   ],
   "source": [
    "set(list)"
   ]
  },
  {
   "cell_type": "code",
   "execution_count": 14,
   "id": "e12ca3ad",
   "metadata": {},
   "outputs": [
    {
     "ename": "NameError",
     "evalue": "name 'min_T1' is not defined",
     "output_type": "error",
     "traceback": [
      "\u001b[1;31m---------------------------------------------------------------------------\u001b[0m",
      "\u001b[1;31mNameError\u001b[0m                                 Traceback (most recent call last)",
      "\u001b[1;32m~\\AppData\\Local\\Temp/ipykernel_21388/243549742.py\u001b[0m in \u001b[0;36m<module>\u001b[1;34m\u001b[0m\n\u001b[1;32m----> 1\u001b[1;33m \u001b[0mhi\u001b[0m \u001b[1;33m=\u001b[0m \u001b[1;33m[\u001b[0m\u001b[0mmin_T1\u001b[0m\u001b[1;33m,\u001b[0m \u001b[0mmed_T1\u001b[0m\u001b[1;33m,\u001b[0m \u001b[0mmid_T1\u001b[0m\u001b[1;33m,\u001b[0m \u001b[0mmid_vsmall_ratio_T1\u001b[0m\u001b[1;33m,\u001b[0m \u001b[0mmid_small_ratio_T1\u001b[0m\u001b[1;33m,\u001b[0m \u001b[0mmid_med_ratio_T1\u001b[0m\u001b[1;33m,\u001b[0m \u001b[0mmid_large_ratio_T1\u001b[0m\u001b[1;33m,\u001b[0m \u001b[0mmid_vsmall_ratio_T1_inc\u001b[0m\u001b[1;33m,\u001b[0m \u001b[0mmid_small_ratio_T1_inc\u001b[0m\u001b[1;33m,\u001b[0m \u001b[0mmid_med_ratio_T1_inc\u001b[0m\u001b[1;33m,\u001b[0m \u001b[0mmid_large_ratio_T1_inc\u001b[0m\u001b[1;33m,\u001b[0m \u001b[0mmean_T1\u001b[0m\u001b[1;33m,\u001b[0m \u001b[0mmax_T1\u001b[0m\u001b[1;33m,\u001b[0m \u001b[0mvar_T1\u001b[0m\u001b[1;33m,\u001b[0m \u001b[0mrange_T1\u001b[0m\u001b[1;33m,\u001b[0m \u001b[0mH_T1_e1\u001b[0m\u001b[1;33m,\u001b[0m \u001b[0mH_T1_e2\u001b[0m\u001b[1;33m,\u001b[0m \u001b[0mH_T1_e3\u001b[0m\u001b[1;33m,\u001b[0m \u001b[0mmin_FLAIR\u001b[0m\u001b[1;33m,\u001b[0m \u001b[0mmid_FLAIR\u001b[0m\u001b[1;33m,\u001b[0m \u001b[0mmean_FLAIR\u001b[0m\u001b[1;33m,\u001b[0m \u001b[0mmid_FLAIR\u001b[0m\u001b[1;33m,\u001b[0m \u001b[0mmid_vsmall_ratio_FLAIR\u001b[0m\u001b[1;33m,\u001b[0m \u001b[0mmid_small_ratio_FLAIR\u001b[0m\u001b[1;33m,\u001b[0m \u001b[0mmid_med_ratio_FLAIR\u001b[0m\u001b[1;33m,\u001b[0m \u001b[0mmid_large_ratio_FLAIR\u001b[0m\u001b[1;33m,\u001b[0m \u001b[0mmid_vsmall_ratio_FLAIR_inc\u001b[0m\u001b[1;33m,\u001b[0m \u001b[0mmid_small_ratio_FLAIR_inc\u001b[0m\u001b[1;33m,\u001b[0m \u001b[0mmid_med_ratio_FLAIR_inc\u001b[0m\u001b[1;33m,\u001b[0m \u001b[0mmid_large_ratio_FLAIR_inc\u001b[0m\u001b[1;33m,\u001b[0m \u001b[0mmed_FLAIR\u001b[0m\u001b[1;33m,\u001b[0m \u001b[0mmax_FLAIR\u001b[0m\u001b[1;33m,\u001b[0m \u001b[0mvar_FLAIR\u001b[0m\u001b[1;33m,\u001b[0m \u001b[0mrange_FLAIR\u001b[0m\u001b[1;33m,\u001b[0m \u001b[0mH_FLAIR_e1\u001b[0m\u001b[1;33m,\u001b[0m \u001b[0mH_FLAIR_e2\u001b[0m\u001b[1;33m,\u001b[0m \u001b[0mH_FLAIR_e3\u001b[0m\u001b[1;33m,\u001b[0m \u001b[0mdensity_diff\u001b[0m\u001b[1;33m,\u001b[0m \u001b[0msum_soft_tiss_binary\u001b[0m\u001b[1;33m,\u001b[0m \u001b[0msum_percent_soft_tiss\u001b[0m\u001b[1;33m,\u001b[0m \u001b[0mmin_st\u001b[0m\u001b[1;33m,\u001b[0m \u001b[0mmed_st\u001b[0m\u001b[1;33m,\u001b[0m \u001b[0mmid_st\u001b[0m\u001b[1;33m,\u001b[0m \u001b[0mmid_vsmall_ratio_st\u001b[0m\u001b[1;33m,\u001b[0m \u001b[0mmid_small_ratio_st\u001b[0m\u001b[1;33m,\u001b[0m \u001b[0mmid_med_ratio_st\u001b[0m\u001b[1;33m,\u001b[0m \u001b[0mmid_large_ratio_st\u001b[0m\u001b[1;33m,\u001b[0m \u001b[0mmid_vsmall_ratio_st_inc\u001b[0m\u001b[1;33m,\u001b[0m \u001b[0mmid_small_ratio_st_inc\u001b[0m\u001b[1;33m,\u001b[0m \u001b[0mmid_med_ratio_st_inc\u001b[0m\u001b[1;33m,\u001b[0m \u001b[0mmid_large_ratio_st_inc\u001b[0m\u001b[1;33m,\u001b[0m \u001b[0mmean_st\u001b[0m\u001b[1;33m,\u001b[0m \u001b[0mmax_st\u001b[0m\u001b[1;33m,\u001b[0m \u001b[0mvar_st\u001b[0m\u001b[1;33m,\u001b[0m \u001b[0mrange_st\u001b[0m\u001b[1;33m,\u001b[0m \u001b[0mH_st_e1\u001b[0m\u001b[1;33m,\u001b[0m \u001b[0mH_st_e2\u001b[0m\u001b[1;33m,\u001b[0m \u001b[0mH_st_e3\u001b[0m\u001b[1;33m,\u001b[0m \u001b[0mmin_stm\u001b[0m\u001b[1;33m,\u001b[0m \u001b[0mmed_stm\u001b[0m\u001b[1;33m,\u001b[0m \u001b[0mmid_stm\u001b[0m\u001b[1;33m,\u001b[0m \u001b[0mmid_vsmall_ratio_stm\u001b[0m\u001b[1;33m,\u001b[0m \u001b[0mmid_small_ratio_stm\u001b[0m\u001b[1;33m,\u001b[0m \u001b[0mmid_med_ratio_stm\u001b[0m\u001b[1;33m,\u001b[0m \u001b[0mmid_large_ratio_stm\u001b[0m\u001b[1;33m,\u001b[0m \u001b[0mmid_vsmall_ratio_stm_inc\u001b[0m\u001b[1;33m,\u001b[0m \u001b[0mmid_small_ratio_stm_inc\u001b[0m\u001b[1;33m,\u001b[0m \u001b[0mmid_med_ratio_stm_inc\u001b[0m\u001b[1;33m,\u001b[0m \u001b[0mmid_large_ratio_stm_inc\u001b[0m\u001b[1;33m,\u001b[0m \u001b[0mmean_stm\u001b[0m\u001b[1;33m,\u001b[0m \u001b[0mmax_stm\u001b[0m\u001b[1;33m,\u001b[0m \u001b[0mvar_stm\u001b[0m\u001b[1;33m,\u001b[0m \u001b[0mrange_stm\u001b[0m\u001b[1;33m,\u001b[0m \u001b[0mH_stm_e1\u001b[0m\u001b[1;33m,\u001b[0m \u001b[0mH_stm_e2\u001b[0m\u001b[1;33m,\u001b[0m \u001b[0mH_stm_e3\u001b[0m\u001b[1;33m,\u001b[0m \u001b[0mmin_th_T1\u001b[0m\u001b[1;33m,\u001b[0m \u001b[0mmed_th_T1\u001b[0m\u001b[1;33m,\u001b[0m \u001b[0mmid_th_T1\u001b[0m\u001b[1;33m,\u001b[0m \u001b[0mmid_vsmall_ratio_th_T1\u001b[0m\u001b[1;33m,\u001b[0m \u001b[0mmid_small_ratio_th_T1\u001b[0m\u001b[1;33m,\u001b[0m \u001b[0mmid_med_ratio_th_T1\u001b[0m\u001b[1;33m,\u001b[0m \u001b[0mmid_large_ratio_th_T1\u001b[0m\u001b[1;33m,\u001b[0m \u001b[0mmid_vsmall_ratio_th_T1_inc\u001b[0m\u001b[1;33m,\u001b[0m \u001b[0mmid_small_ratio_th_T1_inc\u001b[0m\u001b[1;33m,\u001b[0m \u001b[0mmid_med_ratio_th_T1_inc\u001b[0m\u001b[1;33m,\u001b[0m \u001b[0mmid_large_ratio_th_T1_inc\u001b[0m\u001b[1;33m,\u001b[0m \u001b[0mmean_th_T1\u001b[0m\u001b[1;33m,\u001b[0m \u001b[0mmax_th_T1\u001b[0m\u001b[1;33m,\u001b[0m \u001b[0mvar_th_T1\u001b[0m\u001b[1;33m,\u001b[0m \u001b[0mrange_th_T1\u001b[0m\u001b[1;33m,\u001b[0m \u001b[0mH_th_T1_e1\u001b[0m\u001b[1;33m,\u001b[0m \u001b[0mH_th_T1_e2\u001b[0m\u001b[1;33m,\u001b[0m \u001b[0mH_th_T1_e3\u001b[0m\u001b[1;33m,\u001b[0m \u001b[0mmin_th_FLAIR\u001b[0m\u001b[1;33m,\u001b[0m \u001b[0mmed_th_FLAIR\u001b[0m\u001b[1;33m,\u001b[0m \u001b[0mmid_th_FLAIR\u001b[0m\u001b[1;33m,\u001b[0m \u001b[0mmid_vsmall_ratio_th_FLAIR\u001b[0m\u001b[1;33m,\u001b[0m \u001b[0mmid_small_ratio_th_FLAIR\u001b[0m\u001b[1;33m,\u001b[0m \u001b[0mmid_med_ratio_th_FLAIR\u001b[0m\u001b[1;33m,\u001b[0m \u001b[0mmid_large_ratio_th_FLAIR\u001b[0m\u001b[1;33m,\u001b[0m \u001b[0mmid_vsmall_ratio_th_FLAIR_inc\u001b[0m\u001b[1;33m,\u001b[0m \u001b[0mmid_small_ratio_th_FLAIR_inc\u001b[0m\u001b[1;33m,\u001b[0m \u001b[0mmid_med_ratio_th_FLAIR_inc\u001b[0m\u001b[1;33m,\u001b[0m \u001b[0mmid_large_ratio_th_FLAIR_inc\u001b[0m\u001b[1;33m,\u001b[0m \u001b[0mmean_th_FLAIR\u001b[0m\u001b[1;33m,\u001b[0m \u001b[0mmax_th_FLAIR\u001b[0m\u001b[1;33m,\u001b[0m \u001b[0mvar_th_FLAIR\u001b[0m\u001b[1;33m,\u001b[0m \u001b[0mrange_th_FLAIR\u001b[0m\u001b[1;33m,\u001b[0m\u001b[0mH_th_FLAIR_e1\u001b[0m\u001b[1;33m,\u001b[0m \u001b[0mH_th_FLAIR_e2\u001b[0m\u001b[1;33m,\u001b[0m \u001b[0mH_th_FLAIR_e3\u001b[0m\u001b[1;33m,\u001b[0m \u001b[0mmin_th_st\u001b[0m\u001b[1;33m,\u001b[0m \u001b[0mmed_th_st\u001b[0m\u001b[1;33m,\u001b[0m \u001b[0mmid_th_st\u001b[0m\u001b[1;33m,\u001b[0m \u001b[0mmid_vsmall_ratio_th_st\u001b[0m\u001b[1;33m,\u001b[0m \u001b[0mmid_small_ratio_th_st\u001b[0m\u001b[1;33m,\u001b[0m \u001b[0mmid_med_ratio_th_st\u001b[0m\u001b[1;33m,\u001b[0m \u001b[0mmid_large_ratio_th_st\u001b[0m\u001b[1;33m,\u001b[0m \u001b[0mmid_vsmall_ratio_th_st_inc\u001b[0m\u001b[1;33m,\u001b[0m \u001b[0mmid_small_ratio_th_st_inc\u001b[0m\u001b[1;33m,\u001b[0m \u001b[0mmid_med_ratio_th_st_inc\u001b[0m\u001b[1;33m,\u001b[0m \u001b[0mmid_large_ratio_th_st_inc\u001b[0m\u001b[1;33m,\u001b[0m \u001b[0mmean_th_st\u001b[0m\u001b[1;33m,\u001b[0m \u001b[0mmax_th_st\u001b[0m\u001b[1;33m,\u001b[0m \u001b[0mvar_th_st\u001b[0m\u001b[1;33m,\u001b[0m \u001b[0mrange_th_st\u001b[0m\u001b[1;33m,\u001b[0m \u001b[0mH_th_st_e1\u001b[0m\u001b[1;33m,\u001b[0m \u001b[0mH_th_st_e2\u001b[0m\u001b[1;33m,\u001b[0m \u001b[0mH_th_st_e3\u001b[0m\u001b[1;33m,\u001b[0m \u001b[0mmin_bh_T1\u001b[0m\u001b[1;33m,\u001b[0m \u001b[0mmed_bh_T1\u001b[0m\u001b[1;33m,\u001b[0m \u001b[0mmid_bh_T1\u001b[0m\u001b[1;33m,\u001b[0m \u001b[0mmid_vsmall_ratio_bh_T1\u001b[0m\u001b[1;33m,\u001b[0m\u001b[0mmid_small_ratio_bh_T1\u001b[0m\u001b[1;33m,\u001b[0m \u001b[0mmid_med_ratio_bh_T1\u001b[0m\u001b[1;33m,\u001b[0m \u001b[0mmid_large_ratio_bh_T1\u001b[0m\u001b[1;33m,\u001b[0m \u001b[0mmid_vsmall_ratio_bh_T1_inc\u001b[0m\u001b[1;33m,\u001b[0m \u001b[0mmid_small_ratio_bh_T1_inc\u001b[0m\u001b[1;33m,\u001b[0m \u001b[0mmid_med_ratio_bh_T1_inc\u001b[0m\u001b[1;33m,\u001b[0m \u001b[0mmid_large_ratio_bh_T1_inc\u001b[0m\u001b[1;33m,\u001b[0m \u001b[0mmean_bh_T1\u001b[0m\u001b[1;33m,\u001b[0m \u001b[0mmax_bh_T1\u001b[0m\u001b[1;33m,\u001b[0m \u001b[0mvar_bh_T1\u001b[0m\u001b[1;33m,\u001b[0m \u001b[0mrange_bh_T1\u001b[0m\u001b[1;33m,\u001b[0m \u001b[0mH_bh_T1_e1\u001b[0m\u001b[1;33m,\u001b[0m \u001b[0mH_bh_T1_e2\u001b[0m\u001b[1;33m,\u001b[0m \u001b[0mH_bh_T1_e3\u001b[0m\u001b[1;33m,\u001b[0m \u001b[0mmin_bh_FLAIR\u001b[0m\u001b[1;33m,\u001b[0m \u001b[0mmed_bh_FLAIR\u001b[0m\u001b[1;33m,\u001b[0m \u001b[0mmid_bh_FLAIR\u001b[0m\u001b[1;33m,\u001b[0m \u001b[0mmid_vsmall_ratio_bh_FLAIR\u001b[0m\u001b[1;33m,\u001b[0m \u001b[0mmid_small_ratio_bh_FLAIR\u001b[0m\u001b[1;33m,\u001b[0m \u001b[0mmid_med_ratio_bh_FLAIR\u001b[0m\u001b[1;33m,\u001b[0m \u001b[0mmid_large_ratio_bh_FLAIR\u001b[0m\u001b[1;33m,\u001b[0m \u001b[0mmid_vsmall_ratio_bh_FLAIR_inc\u001b[0m\u001b[1;33m,\u001b[0m \u001b[0mmid_small_ratio_bh_FLAIR_inc\u001b[0m\u001b[1;33m,\u001b[0m \u001b[0mmid_med_ratio_bh_FLAIR_inc\u001b[0m\u001b[1;33m,\u001b[0m \u001b[0mmid_large_ratio_bh_FLAIR_inc\u001b[0m\u001b[1;33m,\u001b[0m \u001b[0mmean_bh_FLAIR\u001b[0m\u001b[1;33m,\u001b[0m \u001b[0mmax_bh_FLAIR\u001b[0m\u001b[1;33m,\u001b[0m \u001b[0mvar_bh_FLAIR\u001b[0m\u001b[1;33m,\u001b[0m \u001b[0mrange_bh_FLAIR\u001b[0m\u001b[1;33m,\u001b[0m \u001b[0mH_bh_FLAIR_e1\u001b[0m\u001b[1;33m,\u001b[0m \u001b[0mH_bh_FLAIR_e2\u001b[0m\u001b[1;33m,\u001b[0m \u001b[0mH_bh_FLAIR_e3\u001b[0m\u001b[1;33m,\u001b[0m \u001b[0mmin_bh_st\u001b[0m\u001b[1;33m,\u001b[0m \u001b[0mmed_bh_st\u001b[0m\u001b[1;33m,\u001b[0m \u001b[0mmid_bh_st\u001b[0m\u001b[1;33m,\u001b[0m \u001b[0mmid_vsmall_ratio_bh_st\u001b[0m\u001b[1;33m,\u001b[0m \u001b[0mmid_small_ratio_bh_st\u001b[0m\u001b[1;33m,\u001b[0m \u001b[0mmid_med_ratio_bh_st\u001b[0m\u001b[1;33m,\u001b[0m \u001b[0mmid_large_ratio_bh_st\u001b[0m\u001b[1;33m,\u001b[0m \u001b[0mmid_vsmall_ratio_bh_st_inc\u001b[0m\u001b[1;33m,\u001b[0m \u001b[0mmid_small_ratio_bh_st_inc\u001b[0m\u001b[1;33m,\u001b[0m \u001b[0mmid_med_ratio_bh_st_inc\u001b[0m\u001b[1;33m,\u001b[0m \u001b[0mmid_large_ratio_bh_st_inc\u001b[0m\u001b[1;33m,\u001b[0m \u001b[0mmean_bh_st\u001b[0m\u001b[1;33m,\u001b[0m \u001b[0mmax_bh_st\u001b[0m\u001b[1;33m,\u001b[0m \u001b[0mvar_bh_st\u001b[0m\u001b[1;33m,\u001b[0m \u001b[0mrange_bh_st\u001b[0m\u001b[1;33m,\u001b[0m \u001b[0mH_bh_st_e1\u001b[0m\u001b[1;33m,\u001b[0m \u001b[0mH_bh_st_e2\u001b[0m\u001b[1;33m,\u001b[0m \u001b[0mH_bh_st_e3\u001b[0m\u001b[1;33m,\u001b[0m \u001b[0mx\u001b[0m\u001b[1;33m,\u001b[0m \u001b[0my\u001b[0m\u001b[1;33m,\u001b[0m \u001b[0mz\u001b[0m\u001b[1;33m,\u001b[0m \u001b[0mWMH_x\u001b[0m\u001b[1;33m,\u001b[0m \u001b[0mWMH_y\u001b[0m\u001b[1;33m,\u001b[0m \u001b[0mWMH_z\u001b[0m\u001b[1;33m,\u001b[0m \u001b[0mCSF_feat\u001b[0m\u001b[1;33m,\u001b[0m \u001b[0mGM_feat\u001b[0m\u001b[1;33m,\u001b[0m \u001b[0mWM_feat\u001b[0m\u001b[1;33m]\u001b[0m\u001b[1;33m\u001b[0m\u001b[1;33m\u001b[0m\u001b[0m\n\u001b[0m",
      "\u001b[1;31mNameError\u001b[0m: name 'min_T1' is not defined"
     ]
    }
   ],
   "source": [
    "hi = [min_T1, med_T1, mid_T1, mid_vsmall_ratio_T1, mid_small_ratio_T1, mid_med_ratio_T1, mid_large_ratio_T1, mid_vsmall_ratio_T1_inc, mid_small_ratio_T1_inc, mid_med_ratio_T1_inc, mid_large_ratio_T1_inc, mean_T1, max_T1, var_T1, range_T1, H_T1_e1, H_T1_e2, H_T1_e3, min_FLAIR, mid_FLAIR, mean_FLAIR, mid_FLAIR, mid_vsmall_ratio_FLAIR, mid_small_ratio_FLAIR, mid_med_ratio_FLAIR, mid_large_ratio_FLAIR, mid_vsmall_ratio_FLAIR_inc, mid_small_ratio_FLAIR_inc, mid_med_ratio_FLAIR_inc, mid_large_ratio_FLAIR_inc, med_FLAIR, max_FLAIR, var_FLAIR, range_FLAIR, H_FLAIR_e1, H_FLAIR_e2, H_FLAIR_e3, density_diff, sum_soft_tiss_binary, sum_percent_soft_tiss, min_st, med_st, mid_st, mid_vsmall_ratio_st, mid_small_ratio_st, mid_med_ratio_st, mid_large_ratio_st, mid_vsmall_ratio_st_inc, mid_small_ratio_st_inc, mid_med_ratio_st_inc, mid_large_ratio_st_inc, mean_st, max_st, var_st, range_st, H_st_e1, H_st_e2, H_st_e3, min_stm, med_stm, mid_stm, mid_vsmall_ratio_stm, mid_small_ratio_stm, mid_med_ratio_stm, mid_large_ratio_stm, mid_vsmall_ratio_stm_inc, mid_small_ratio_stm_inc, mid_med_ratio_stm_inc, mid_large_ratio_stm_inc, mean_stm, max_stm, var_stm, range_stm, H_stm_e1, H_stm_e2, H_stm_e3, min_th_T1, med_th_T1, mid_th_T1, mid_vsmall_ratio_th_T1, mid_small_ratio_th_T1, mid_med_ratio_th_T1, mid_large_ratio_th_T1, mid_vsmall_ratio_th_T1_inc, mid_small_ratio_th_T1_inc, mid_med_ratio_th_T1_inc, mid_large_ratio_th_T1_inc, mean_th_T1, max_th_T1, var_th_T1, range_th_T1, H_th_T1_e1, H_th_T1_e2, H_th_T1_e3, min_th_FLAIR, med_th_FLAIR, mid_th_FLAIR, mid_vsmall_ratio_th_FLAIR, mid_small_ratio_th_FLAIR, mid_med_ratio_th_FLAIR, mid_large_ratio_th_FLAIR, mid_vsmall_ratio_th_FLAIR_inc, mid_small_ratio_th_FLAIR_inc, mid_med_ratio_th_FLAIR_inc, mid_large_ratio_th_FLAIR_inc, mean_th_FLAIR, max_th_FLAIR, var_th_FLAIR, range_th_FLAIR,H_th_FLAIR_e1, H_th_FLAIR_e2, H_th_FLAIR_e3, min_th_st, med_th_st, mid_th_st, mid_vsmall_ratio_th_st, mid_small_ratio_th_st, mid_med_ratio_th_st, mid_large_ratio_th_st, mid_vsmall_ratio_th_st_inc, mid_small_ratio_th_st_inc, mid_med_ratio_th_st_inc, mid_large_ratio_th_st_inc, mean_th_st, max_th_st, var_th_st, range_th_st, H_th_st_e1, H_th_st_e2, H_th_st_e3, min_bh_T1, med_bh_T1, mid_bh_T1, mid_vsmall_ratio_bh_T1,mid_small_ratio_bh_T1, mid_med_ratio_bh_T1, mid_large_ratio_bh_T1, mid_vsmall_ratio_bh_T1_inc, mid_small_ratio_bh_T1_inc, mid_med_ratio_bh_T1_inc, mid_large_ratio_bh_T1_inc, mean_bh_T1, max_bh_T1, var_bh_T1, range_bh_T1, H_bh_T1_e1, H_bh_T1_e2, H_bh_T1_e3, min_bh_FLAIR, med_bh_FLAIR, mid_bh_FLAIR, mid_vsmall_ratio_bh_FLAIR, mid_small_ratio_bh_FLAIR, mid_med_ratio_bh_FLAIR, mid_large_ratio_bh_FLAIR, mid_vsmall_ratio_bh_FLAIR_inc, mid_small_ratio_bh_FLAIR_inc, mid_med_ratio_bh_FLAIR_inc, mid_large_ratio_bh_FLAIR_inc, mean_bh_FLAIR, max_bh_FLAIR, var_bh_FLAIR, range_bh_FLAIR, H_bh_FLAIR_e1, H_bh_FLAIR_e2, H_bh_FLAIR_e3, min_bh_st, med_bh_st, mid_bh_st, mid_vsmall_ratio_bh_st, mid_small_ratio_bh_st, mid_med_ratio_bh_st, mid_large_ratio_bh_st, mid_vsmall_ratio_bh_st_inc, mid_small_ratio_bh_st_inc, mid_med_ratio_bh_st_inc, mid_large_ratio_bh_st_inc, mean_bh_st, max_bh_st, var_bh_st, range_bh_st, H_bh_st_e1, H_bh_st_e2, H_bh_st_e3, x, y, z, WMH_x, WMH_y, WMH_z, CSF_feat, GM_feat, WM_feat]"
   ]
  },
  {
   "cell_type": "code",
   "execution_count": 19,
   "id": "e107c3e5",
   "metadata": {},
   "outputs": [],
   "source": [
    "import pandas as pd\n",
    "dataset_pd = pd.DataFrame(dataset_new, columns = ['min_T1', 'med_T1', 'mid_T1', 'mid_vsmall_ratio_T1', 'mid_small_ratio_T1', 'mid_med_ratio_T1', 'mid_large_ratio_T1', 'mid_vsmall_ratio_T1_inc', 'mid_small_ratio_T1_inc', 'mid_med_ratio_T1_inc', 'mid_large_ratio_T1_inc', 'mean_T1', 'max_T1', 'var_T1','range_T1', 'H_T1_e1', 'H_T1_e2', 'H_T1_e3', 'min_FLAIR', 'med_FLAIR', 'mid_FLAIR', 'mid_vsmall_ratio_FLAIR', 'mid_small_ratio_FLAIR', 'mid_med_ratio_FLAIR', 'mid_large_ratio_FLAIR', 'mid_vsmall_ratio_FLAIR_inc', 'mid_small_ratio_FLAIR_inc', 'mid_med_ratio_FLAIR_inc', 'mid_large_ratio_FLAIR_inc', 'mean_FLAIR', 'max_FLAIR', 'var_FLAIR','range_FLAIR','H_FLAIR_e1', 'H_FLAIR_e2', 'H_FLAIR_e3','density_diff', 'sum_soft_tiss_binary', 'sum_percent_soft_tiss', 'min_st', 'med_st', 'mid_st', 'mid_vsmall_ratio_st', 'mid_small_ratio_st','mid_med_ratio_st', 'mid_large_ratio_st', 'mid_vsmall_ratio_st_inc','mid_small_ratio_st_inc', 'mid_med_ratio_st_inc', 'mid_large_ratio_st_inc', 'mean_st', 'max_st', 'var_st','range_st','H_st_e1', 'H_st_e2', 'H_st_e3','min_stm', 'med_stm', 'mid_stm', 'mid_vsmall_ratio_stm', 'mid_small_ratio_stm','mid_med_ratio_stm', 'mid_large_ratio_stm', 'mid_vsmall_ratio_stm_inc','mid_small_ratio_stm_inc', 'mid_med_ratio_stm_inc', 'mid_large_ratio_stm_inc', 'mean_stm', 'max_stm','var_stm','range_stm', 'H_stm_e1', 'H_stm_e2', 'H_stm_e3','min_th_T1', 'med_th_T1', 'mid_th_T1', 'mid_vsmall_ratio_th_T1', 'mid_small_ratio_th_T1', 'mid_med_ratio_th_T1', 'mid_large_ratio_th_T1', 'mid_vsmall_ratio_th_T1_inc', 'mid_small_ratio_th_T1_inc', 'mid_med_ratio_th_T1_inc', 'mid_large_ratio_th_T1_inc', 'mean_th_T1', 'max_th_T1', 'var_th_T1','range_th_T1','H_th_T1_e1', 'H_th_T1_e2', 'H_th_T1_e3','min_th_FLAIR', 'med_th_FLAIR', 'mid_th_FLAIR', 'mid_vsmall_ratio_th_FLAIR', 'mid_small_ratio_th_FLAIR', 'mid_med_ratio_th_FLAIR', 'mid_large_ratio_th_FLAIR', 'mid_vsmall_ratio_th_FLAIR_inc', 'mid_small_ratio_th_FLAIR_inc', 'mid_med_ratio_th_FLAIR_inc', 'mid_large_ratio_th_FLAIR_inc', 'mean_th_FLAIR', 'max_th_FLAIR', 'var_th_FLAIR','range_th_FLAIR','H_th_FLAIR_e1', 'H_th_FLAIR_e2', 'H_th_FLAIR_e3','min_th_st', 'med_th_st', 'mid_th_st', 'mid_vsmall_ratio_th_st','mid_small_ratio_th_st', 'mid_med_ratio_th_st', 'mid_large_ratio_th_st', 'mid_vsmall_ratio_th_st_inc','mid_small_ratio_th_st_inc', 'mid_med_ratio_th_st_inc', 'mid_large_ratio_th_st_inc', 'mean_th_st', 'max_th_st','var_th_st','range_th_st', 'H_th_st_e1', 'H_th_st_e2', 'H_th_st_e3','min_bh_T1', 'med_bh_T1', 'mid_bh_T1', 'mid_vsmall_ratio_bh_T1','mid_small_ratio_bh_T1', 'mid_med_ratio_bh_T1', 'mid_large_ratio_bh_T1', 'mid_vsmall_ratio_bh_T1_inc','mid_small_ratio_bh_T1_inc', 'mid_med_ratio_bh_T1_inc', 'mid_large_ratio_bh_T1_inc', 'mean_bh_T1', 'max_bh_T1', 'var_bh_T1','range_bh_T1', 'H_bh_T1_e1', 'H_bh_T1_e2', 'H_bh_T1_e3','min_bh_FLAIR', 'med_bh_FLAIR', 'mid_bh_FLAIR', 'mid_vsmall_ratio_bh_FLAIR', 'mid_small_ratio_bh_FLAIR', 'mid_med_ratio_bh_FLAIR', 'mid_large_ratio_bh_FLAIR', 'mid_vsmall_ratio_bh_FLAIR_inc', 'mid_small_ratio_bh_FLAIR_inc', 'mid_med_ratio_bh_FLAIR_inc', 'mid_large_ratio_bh_FLAIR_inc', 'mean_bh_FLAIR', 'max_bh_FLAIR','var_bh_FLAIR','range_bh_FLAIR','H_bh_FLAIR_e1', 'H_bh_FLAIR_e2', 'H_bh_FLAIR_e3','min_bh_st', 'med_bh_st', 'mid_bh_st', 'mid_vsmall_ratio_bh_st','mid_small_ratio_bh_st', 'mid_med_ratio_bh_st', 'mid_large_ratio_bh_st', 'mid_vsmall_ratio_bh_st_inc','mid_small_ratio_bh_st_inc', 'mid_med_ratio_bh_st_inc', 'mid_large_ratio_bh_st_inc', 'mean_bh_st', 'max_bh_st', 'var_bh_st','range_bh_st', 'H_bh_st_e1', 'H_bh_st_e2', 'H_bh_st_e3', 'x', 'y', 'z', 'WMH_x', 'WMH_y' , 'WMH_z', 'CSF', 'GM', 'WM'])"
   ]
  },
  {
   "cell_type": "code",
   "execution_count": 20,
   "id": "b6defe91",
   "metadata": {},
   "outputs": [
    {
     "data": {
      "text/html": [
       "<div>\n",
       "<style scoped>\n",
       "    .dataframe tbody tr th:only-of-type {\n",
       "        vertical-align: middle;\n",
       "    }\n",
       "\n",
       "    .dataframe tbody tr th {\n",
       "        vertical-align: top;\n",
       "    }\n",
       "\n",
       "    .dataframe thead th {\n",
       "        text-align: right;\n",
       "    }\n",
       "</style>\n",
       "<table border=\"1\" class=\"dataframe\">\n",
       "  <thead>\n",
       "    <tr style=\"text-align: right;\">\n",
       "      <th></th>\n",
       "      <th>min_T1</th>\n",
       "      <th>med_T1</th>\n",
       "      <th>mid_T1</th>\n",
       "      <th>mid_vsmall_ratio_T1</th>\n",
       "      <th>mid_small_ratio_T1</th>\n",
       "      <th>mid_med_ratio_T1</th>\n",
       "      <th>mid_large_ratio_T1</th>\n",
       "      <th>mid_vsmall_ratio_T1_inc</th>\n",
       "      <th>mid_small_ratio_T1_inc</th>\n",
       "      <th>mid_med_ratio_T1_inc</th>\n",
       "      <th>...</th>\n",
       "      <th>H_bh_st_e3</th>\n",
       "      <th>x</th>\n",
       "      <th>y</th>\n",
       "      <th>z</th>\n",
       "      <th>WMH_x</th>\n",
       "      <th>WMH_y</th>\n",
       "      <th>WMH_z</th>\n",
       "      <th>CSF</th>\n",
       "      <th>GM</th>\n",
       "      <th>WM</th>\n",
       "    </tr>\n",
       "  </thead>\n",
       "  <tbody>\n",
       "    <tr>\n",
       "      <th>0</th>\n",
       "      <td>0.014733</td>\n",
       "      <td>0.242122</td>\n",
       "      <td>0.200264</td>\n",
       "      <td>0.980420</td>\n",
       "      <td>0.976504</td>\n",
       "      <td>1.019009</td>\n",
       "      <td>1.070813</td>\n",
       "      <td>0.982825</td>\n",
       "      <td>0.983350</td>\n",
       "      <td>1.010902</td>\n",
       "      <td>...</td>\n",
       "      <td>-0.019455</td>\n",
       "      <td>104.0</td>\n",
       "      <td>158.0</td>\n",
       "      <td>65.0</td>\n",
       "      <td>0.0</td>\n",
       "      <td>0.0</td>\n",
       "      <td>0.0</td>\n",
       "      <td>0.387854</td>\n",
       "      <td>0.214931</td>\n",
       "      <td>0.214931</td>\n",
       "    </tr>\n",
       "    <tr>\n",
       "      <th>1</th>\n",
       "      <td>0.014733</td>\n",
       "      <td>0.242122</td>\n",
       "      <td>0.222064</td>\n",
       "      <td>0.980420</td>\n",
       "      <td>0.976504</td>\n",
       "      <td>1.019009</td>\n",
       "      <td>1.070813</td>\n",
       "      <td>0.982825</td>\n",
       "      <td>0.983350</td>\n",
       "      <td>1.010902</td>\n",
       "      <td>...</td>\n",
       "      <td>-0.006364</td>\n",
       "      <td>104.0</td>\n",
       "      <td>158.0</td>\n",
       "      <td>65.0</td>\n",
       "      <td>0.0</td>\n",
       "      <td>0.0</td>\n",
       "      <td>0.0</td>\n",
       "      <td>0.387854</td>\n",
       "      <td>0.214931</td>\n",
       "      <td>0.214931</td>\n",
       "    </tr>\n",
       "    <tr>\n",
       "      <th>2</th>\n",
       "      <td>0.014733</td>\n",
       "      <td>0.242122</td>\n",
       "      <td>0.205223</td>\n",
       "      <td>0.980420</td>\n",
       "      <td>0.976504</td>\n",
       "      <td>1.019009</td>\n",
       "      <td>1.070813</td>\n",
       "      <td>0.982825</td>\n",
       "      <td>0.983350</td>\n",
       "      <td>1.010902</td>\n",
       "      <td>...</td>\n",
       "      <td>0.028543</td>\n",
       "      <td>104.0</td>\n",
       "      <td>158.0</td>\n",
       "      <td>65.0</td>\n",
       "      <td>0.0</td>\n",
       "      <td>0.0</td>\n",
       "      <td>0.0</td>\n",
       "      <td>0.387854</td>\n",
       "      <td>0.214931</td>\n",
       "      <td>0.214931</td>\n",
       "    </tr>\n",
       "    <tr>\n",
       "      <th>3</th>\n",
       "      <td>0.014733</td>\n",
       "      <td>0.242122</td>\n",
       "      <td>0.205223</td>\n",
       "      <td>0.980420</td>\n",
       "      <td>0.976504</td>\n",
       "      <td>1.019009</td>\n",
       "      <td>1.070813</td>\n",
       "      <td>0.982825</td>\n",
       "      <td>0.983350</td>\n",
       "      <td>1.010902</td>\n",
       "      <td>...</td>\n",
       "      <td>0.015470</td>\n",
       "      <td>104.0</td>\n",
       "      <td>158.0</td>\n",
       "      <td>65.0</td>\n",
       "      <td>0.0</td>\n",
       "      <td>0.0</td>\n",
       "      <td>0.0</td>\n",
       "      <td>0.387854</td>\n",
       "      <td>0.214931</td>\n",
       "      <td>0.214931</td>\n",
       "    </tr>\n",
       "    <tr>\n",
       "      <th>4</th>\n",
       "      <td>0.014733</td>\n",
       "      <td>0.242122</td>\n",
       "      <td>0.223202</td>\n",
       "      <td>0.980420</td>\n",
       "      <td>0.976504</td>\n",
       "      <td>1.019009</td>\n",
       "      <td>1.070813</td>\n",
       "      <td>0.982825</td>\n",
       "      <td>0.983350</td>\n",
       "      <td>1.010902</td>\n",
       "      <td>...</td>\n",
       "      <td>0.022547</td>\n",
       "      <td>104.0</td>\n",
       "      <td>158.0</td>\n",
       "      <td>65.0</td>\n",
       "      <td>0.0</td>\n",
       "      <td>0.0</td>\n",
       "      <td>0.0</td>\n",
       "      <td>0.387854</td>\n",
       "      <td>0.214931</td>\n",
       "      <td>0.214931</td>\n",
       "    </tr>\n",
       "    <tr>\n",
       "      <th>...</th>\n",
       "      <td>...</td>\n",
       "      <td>...</td>\n",
       "      <td>...</td>\n",
       "      <td>...</td>\n",
       "      <td>...</td>\n",
       "      <td>...</td>\n",
       "      <td>...</td>\n",
       "      <td>...</td>\n",
       "      <td>...</td>\n",
       "      <td>...</td>\n",
       "      <td>...</td>\n",
       "      <td>...</td>\n",
       "      <td>...</td>\n",
       "      <td>...</td>\n",
       "      <td>...</td>\n",
       "      <td>...</td>\n",
       "      <td>...</td>\n",
       "      <td>...</td>\n",
       "      <td>...</td>\n",
       "      <td>...</td>\n",
       "      <td>...</td>\n",
       "    </tr>\n",
       "    <tr>\n",
       "      <th>33875</th>\n",
       "      <td>0.000884</td>\n",
       "      <td>0.096496</td>\n",
       "      <td>0.360444</td>\n",
       "      <td>1.257167</td>\n",
       "      <td>1.233158</td>\n",
       "      <td>1.253062</td>\n",
       "      <td>1.578827</td>\n",
       "      <td>1.218013</td>\n",
       "      <td>1.153472</td>\n",
       "      <td>1.132189</td>\n",
       "      <td>...</td>\n",
       "      <td>0.000000</td>\n",
       "      <td>76.0</td>\n",
       "      <td>116.0</td>\n",
       "      <td>160.0</td>\n",
       "      <td>89.0</td>\n",
       "      <td>58.0</td>\n",
       "      <td>63.0</td>\n",
       "      <td>0.036075</td>\n",
       "      <td>0.001998</td>\n",
       "      <td>0.001998</td>\n",
       "    </tr>\n",
       "    <tr>\n",
       "      <th>33876</th>\n",
       "      <td>0.002141</td>\n",
       "      <td>0.061147</td>\n",
       "      <td>0.012550</td>\n",
       "      <td>0.501496</td>\n",
       "      <td>0.665762</td>\n",
       "      <td>0.734694</td>\n",
       "      <td>0.602888</td>\n",
       "      <td>0.534823</td>\n",
       "      <td>0.738942</td>\n",
       "      <td>0.827289</td>\n",
       "      <td>...</td>\n",
       "      <td>0.000000</td>\n",
       "      <td>145.0</td>\n",
       "      <td>201.0</td>\n",
       "      <td>73.0</td>\n",
       "      <td>0.0</td>\n",
       "      <td>0.0</td>\n",
       "      <td>0.0</td>\n",
       "      <td>0.235642</td>\n",
       "      <td>0.359216</td>\n",
       "      <td>0.359216</td>\n",
       "    </tr>\n",
       "    <tr>\n",
       "      <th>33877</th>\n",
       "      <td>0.005584</td>\n",
       "      <td>0.126929</td>\n",
       "      <td>0.099959</td>\n",
       "      <td>1.005072</td>\n",
       "      <td>0.845470</td>\n",
       "      <td>0.835864</td>\n",
       "      <td>1.029687</td>\n",
       "      <td>1.004435</td>\n",
       "      <td>0.886039</td>\n",
       "      <td>0.898049</td>\n",
       "      <td>...</td>\n",
       "      <td>0.097059</td>\n",
       "      <td>146.0</td>\n",
       "      <td>165.0</td>\n",
       "      <td>31.0</td>\n",
       "      <td>0.0</td>\n",
       "      <td>0.0</td>\n",
       "      <td>0.0</td>\n",
       "      <td>0.393780</td>\n",
       "      <td>0.284069</td>\n",
       "      <td>0.284069</td>\n",
       "    </tr>\n",
       "    <tr>\n",
       "      <th>33878</th>\n",
       "      <td>0.010087</td>\n",
       "      <td>0.230311</td>\n",
       "      <td>0.368910</td>\n",
       "      <td>1.542627</td>\n",
       "      <td>1.145199</td>\n",
       "      <td>0.950912</td>\n",
       "      <td>0.995483</td>\n",
       "      <td>1.444640</td>\n",
       "      <td>1.097962</td>\n",
       "      <td>0.971021</td>\n",
       "      <td>...</td>\n",
       "      <td>0.000000</td>\n",
       "      <td>126.0</td>\n",
       "      <td>83.0</td>\n",
       "      <td>83.0</td>\n",
       "      <td>5.0</td>\n",
       "      <td>32.0</td>\n",
       "      <td>21.0</td>\n",
       "      <td>0.000000</td>\n",
       "      <td>0.021494</td>\n",
       "      <td>0.021494</td>\n",
       "    </tr>\n",
       "    <tr>\n",
       "      <th>33879</th>\n",
       "      <td>0.000006</td>\n",
       "      <td>0.005431</td>\n",
       "      <td>0.013440</td>\n",
       "      <td>1.353596</td>\n",
       "      <td>1.350934</td>\n",
       "      <td>1.155415</td>\n",
       "      <td>1.122402</td>\n",
       "      <td>1.296300</td>\n",
       "      <td>1.223694</td>\n",
       "      <td>1.084321</td>\n",
       "      <td>...</td>\n",
       "      <td>0.000000</td>\n",
       "      <td>65.0</td>\n",
       "      <td>85.0</td>\n",
       "      <td>158.0</td>\n",
       "      <td>0.0</td>\n",
       "      <td>0.0</td>\n",
       "      <td>0.0</td>\n",
       "      <td>0.000000</td>\n",
       "      <td>0.000000</td>\n",
       "      <td>0.000000</td>\n",
       "    </tr>\n",
       "  </tbody>\n",
       "</table>\n",
       "<p>33880 rows × 192 columns</p>\n",
       "</div>"
      ],
      "text/plain": [
       "         min_T1    med_T1    mid_T1  mid_vsmall_ratio_T1  mid_small_ratio_T1  \\\n",
       "0      0.014733  0.242122  0.200264             0.980420            0.976504   \n",
       "1      0.014733  0.242122  0.222064             0.980420            0.976504   \n",
       "2      0.014733  0.242122  0.205223             0.980420            0.976504   \n",
       "3      0.014733  0.242122  0.205223             0.980420            0.976504   \n",
       "4      0.014733  0.242122  0.223202             0.980420            0.976504   \n",
       "...         ...       ...       ...                  ...                 ...   \n",
       "33875  0.000884  0.096496  0.360444             1.257167            1.233158   \n",
       "33876  0.002141  0.061147  0.012550             0.501496            0.665762   \n",
       "33877  0.005584  0.126929  0.099959             1.005072            0.845470   \n",
       "33878  0.010087  0.230311  0.368910             1.542627            1.145199   \n",
       "33879  0.000006  0.005431  0.013440             1.353596            1.350934   \n",
       "\n",
       "       mid_med_ratio_T1  mid_large_ratio_T1  mid_vsmall_ratio_T1_inc  \\\n",
       "0              1.019009            1.070813                 0.982825   \n",
       "1              1.019009            1.070813                 0.982825   \n",
       "2              1.019009            1.070813                 0.982825   \n",
       "3              1.019009            1.070813                 0.982825   \n",
       "4              1.019009            1.070813                 0.982825   \n",
       "...                 ...                 ...                      ...   \n",
       "33875          1.253062            1.578827                 1.218013   \n",
       "33876          0.734694            0.602888                 0.534823   \n",
       "33877          0.835864            1.029687                 1.004435   \n",
       "33878          0.950912            0.995483                 1.444640   \n",
       "33879          1.155415            1.122402                 1.296300   \n",
       "\n",
       "       mid_small_ratio_T1_inc  mid_med_ratio_T1_inc  ...  H_bh_st_e3      x  \\\n",
       "0                    0.983350              1.010902  ...   -0.019455  104.0   \n",
       "1                    0.983350              1.010902  ...   -0.006364  104.0   \n",
       "2                    0.983350              1.010902  ...    0.028543  104.0   \n",
       "3                    0.983350              1.010902  ...    0.015470  104.0   \n",
       "4                    0.983350              1.010902  ...    0.022547  104.0   \n",
       "...                       ...                   ...  ...         ...    ...   \n",
       "33875                1.153472              1.132189  ...    0.000000   76.0   \n",
       "33876                0.738942              0.827289  ...    0.000000  145.0   \n",
       "33877                0.886039              0.898049  ...    0.097059  146.0   \n",
       "33878                1.097962              0.971021  ...    0.000000  126.0   \n",
       "33879                1.223694              1.084321  ...    0.000000   65.0   \n",
       "\n",
       "           y      z  WMH_x  WMH_y  WMH_z       CSF        GM        WM  \n",
       "0      158.0   65.0    0.0    0.0    0.0  0.387854  0.214931  0.214931  \n",
       "1      158.0   65.0    0.0    0.0    0.0  0.387854  0.214931  0.214931  \n",
       "2      158.0   65.0    0.0    0.0    0.0  0.387854  0.214931  0.214931  \n",
       "3      158.0   65.0    0.0    0.0    0.0  0.387854  0.214931  0.214931  \n",
       "4      158.0   65.0    0.0    0.0    0.0  0.387854  0.214931  0.214931  \n",
       "...      ...    ...    ...    ...    ...       ...       ...       ...  \n",
       "33875  116.0  160.0   89.0   58.0   63.0  0.036075  0.001998  0.001998  \n",
       "33876  201.0   73.0    0.0    0.0    0.0  0.235642  0.359216  0.359216  \n",
       "33877  165.0   31.0    0.0    0.0    0.0  0.393780  0.284069  0.284069  \n",
       "33878   83.0   83.0    5.0   32.0   21.0  0.000000  0.021494  0.021494  \n",
       "33879   85.0  158.0    0.0    0.0    0.0  0.000000  0.000000  0.000000  \n",
       "\n",
       "[33880 rows x 192 columns]"
      ]
     },
     "execution_count": 20,
     "metadata": {},
     "output_type": "execute_result"
    }
   ],
   "source": [
    "dataset_pd"
   ]
  },
  {
   "cell_type": "code",
   "execution_count": 12,
   "id": "03714120",
   "metadata": {},
   "outputs": [
    {
     "ename": "AttributeError",
     "evalue": "'numpy.ndarray' object has no attribute 'index'",
     "output_type": "error",
     "traceback": [
      "\u001b[1;31m---------------------------------------------------------------------------\u001b[0m",
      "\u001b[1;31mAttributeError\u001b[0m                            Traceback (most recent call last)",
      "\u001b[1;32m~\\AppData\\Local\\Temp/ipykernel_15124/608515760.py\u001b[0m in \u001b[0;36m<module>\u001b[1;34m\u001b[0m\n\u001b[1;32m----> 1\u001b[1;33m \u001b[0mdataset_new\u001b[0m\u001b[1;33m.\u001b[0m\u001b[0mindex\u001b[0m\u001b[1;33m.\u001b[0m\u001b[0mis_unique\u001b[0m\u001b[1;33m\u001b[0m\u001b[1;33m\u001b[0m\u001b[0m\n\u001b[0m",
      "\u001b[1;31mAttributeError\u001b[0m: 'numpy.ndarray' object has no attribute 'index'"
     ]
    }
   ],
   "source": [
    "dataset_new.index.is_unique"
   ]
  },
  {
   "cell_type": "code",
   "execution_count": 84,
   "id": "624462c5",
   "metadata": {},
   "outputs": [
    {
     "name": "stderr",
     "output_type": "stream",
     "text": [
      "C:\\Users\\ellen\\AppData\\Local\\R-MINI~1\\lib\\site-packages\\sklearn\\base.py:438: UserWarning: X has feature names, but RandomForestClassifier was fitted without feature names\n",
      "  warnings.warn(\n",
      "C:\\Users\\ellen\\AppData\\Local\\R-MINI~1\\lib\\site-packages\\sklearn\\base.py:438: UserWarning: X has feature names, but RandomForestClassifier was fitted without feature names\n",
      "  warnings.warn(\n",
      "C:\\Users\\ellen\\AppData\\Local\\R-MINI~1\\lib\\site-packages\\sklearn\\base.py:438: UserWarning: X has feature names, but RandomForestClassifier was fitted without feature names\n",
      "  warnings.warn(\n",
      "C:\\Users\\ellen\\AppData\\Local\\R-MINI~1\\lib\\site-packages\\sklearn\\base.py:438: UserWarning: X has feature names, but RandomForestClassifier was fitted without feature names\n",
      "  warnings.warn(\n",
      "C:\\Users\\ellen\\AppData\\Local\\R-MINI~1\\lib\\site-packages\\sklearn\\base.py:438: UserWarning: X has feature names, but RandomForestClassifier was fitted without feature names\n",
      "  warnings.warn(\n",
      "C:\\Users\\ellen\\AppData\\Local\\R-MINI~1\\lib\\site-packages\\sklearn\\base.py:438: UserWarning: X has feature names, but RandomForestClassifier was fitted without feature names\n",
      "  warnings.warn(\n",
      "C:\\Users\\ellen\\AppData\\Local\\R-MINI~1\\lib\\site-packages\\sklearn\\base.py:438: UserWarning: X has feature names, but RandomForestClassifier was fitted without feature names\n",
      "  warnings.warn(\n",
      "C:\\Users\\ellen\\AppData\\Local\\R-MINI~1\\lib\\site-packages\\sklearn\\base.py:438: UserWarning: X has feature names, but RandomForestClassifier was fitted without feature names\n",
      "  warnings.warn(\n",
      "C:\\Users\\ellen\\AppData\\Local\\R-MINI~1\\lib\\site-packages\\sklearn\\base.py:438: UserWarning: X has feature names, but RandomForestClassifier was fitted without feature names\n",
      "  warnings.warn(\n",
      "C:\\Users\\ellen\\AppData\\Local\\R-MINI~1\\lib\\site-packages\\sklearn\\base.py:438: UserWarning: X has feature names, but RandomForestClassifier was fitted without feature names\n",
      "  warnings.warn(\n",
      "C:\\Users\\ellen\\AppData\\Local\\R-MINI~1\\lib\\site-packages\\sklearn\\base.py:438: UserWarning: X has feature names, but RandomForestClassifier was fitted without feature names\n",
      "  warnings.warn(\n",
      "C:\\Users\\ellen\\AppData\\Local\\R-MINI~1\\lib\\site-packages\\sklearn\\base.py:438: UserWarning: X has feature names, but RandomForestClassifier was fitted without feature names\n",
      "  warnings.warn(\n",
      "C:\\Users\\ellen\\AppData\\Local\\R-MINI~1\\lib\\site-packages\\sklearn\\base.py:438: UserWarning: X has feature names, but RandomForestClassifier was fitted without feature names\n",
      "  warnings.warn(\n",
      "C:\\Users\\ellen\\AppData\\Local\\R-MINI~1\\lib\\site-packages\\sklearn\\base.py:438: UserWarning: X has feature names, but RandomForestClassifier was fitted without feature names\n",
      "  warnings.warn(\n",
      "C:\\Users\\ellen\\AppData\\Local\\R-MINI~1\\lib\\site-packages\\sklearn\\base.py:438: UserWarning: X has feature names, but RandomForestClassifier was fitted without feature names\n",
      "  warnings.warn(\n",
      "C:\\Users\\ellen\\AppData\\Local\\R-MINI~1\\lib\\site-packages\\sklearn\\base.py:438: UserWarning: X has feature names, but RandomForestClassifier was fitted without feature names\n",
      "  warnings.warn(\n",
      "C:\\Users\\ellen\\AppData\\Local\\R-MINI~1\\lib\\site-packages\\sklearn\\base.py:438: UserWarning: X has feature names, but RandomForestClassifier was fitted without feature names\n",
      "  warnings.warn(\n",
      "C:\\Users\\ellen\\AppData\\Local\\R-MINI~1\\lib\\site-packages\\sklearn\\base.py:438: UserWarning: X has feature names, but RandomForestClassifier was fitted without feature names\n",
      "  warnings.warn(\n",
      "C:\\Users\\ellen\\AppData\\Local\\R-MINI~1\\lib\\site-packages\\sklearn\\base.py:438: UserWarning: X has feature names, but RandomForestClassifier was fitted without feature names\n",
      "  warnings.warn(\n",
      "C:\\Users\\ellen\\AppData\\Local\\R-MINI~1\\lib\\site-packages\\sklearn\\base.py:438: UserWarning: X has feature names, but RandomForestClassifier was fitted without feature names\n",
      "  warnings.warn(\n",
      "C:\\Users\\ellen\\AppData\\Local\\R-MINI~1\\lib\\site-packages\\sklearn\\base.py:438: UserWarning: X has feature names, but RandomForestClassifier was fitted without feature names\n",
      "  warnings.warn(\n",
      "C:\\Users\\ellen\\AppData\\Local\\R-MINI~1\\lib\\site-packages\\sklearn\\base.py:438: UserWarning: X has feature names, but RandomForestClassifier was fitted without feature names\n",
      "  warnings.warn(\n",
      "C:\\Users\\ellen\\AppData\\Local\\R-MINI~1\\lib\\site-packages\\sklearn\\base.py:438: UserWarning: X has feature names, but RandomForestClassifier was fitted without feature names\n",
      "  warnings.warn(\n",
      "C:\\Users\\ellen\\AppData\\Local\\R-MINI~1\\lib\\site-packages\\sklearn\\base.py:438: UserWarning: X has feature names, but RandomForestClassifier was fitted without feature names\n",
      "  warnings.warn(\n",
      "C:\\Users\\ellen\\AppData\\Local\\R-MINI~1\\lib\\site-packages\\sklearn\\base.py:438: UserWarning: X has feature names, but RandomForestClassifier was fitted without feature names\n",
      "  warnings.warn(\n",
      "C:\\Users\\ellen\\AppData\\Local\\R-MINI~1\\lib\\site-packages\\sklearn\\base.py:438: UserWarning: X has feature names, but RandomForestClassifier was fitted without feature names\n",
      "  warnings.warn(\n",
      "C:\\Users\\ellen\\AppData\\Local\\R-MINI~1\\lib\\site-packages\\sklearn\\base.py:438: UserWarning: X has feature names, but RandomForestClassifier was fitted without feature names\n",
      "  warnings.warn(\n",
      "C:\\Users\\ellen\\AppData\\Local\\R-MINI~1\\lib\\site-packages\\sklearn\\base.py:438: UserWarning: X has feature names, but RandomForestClassifier was fitted without feature names\n",
      "  warnings.warn(\n",
      "C:\\Users\\ellen\\AppData\\Local\\R-MINI~1\\lib\\site-packages\\sklearn\\base.py:438: UserWarning: X has feature names, but RandomForestClassifier was fitted without feature names\n",
      "  warnings.warn(\n",
      "C:\\Users\\ellen\\AppData\\Local\\R-MINI~1\\lib\\site-packages\\sklearn\\base.py:438: UserWarning: X has feature names, but RandomForestClassifier was fitted without feature names\n",
      "  warnings.warn(\n",
      "C:\\Users\\ellen\\AppData\\Local\\R-MINI~1\\lib\\site-packages\\sklearn\\base.py:438: UserWarning: X has feature names, but RandomForestClassifier was fitted without feature names\n",
      "  warnings.warn(\n",
      "C:\\Users\\ellen\\AppData\\Local\\R-MINI~1\\lib\\site-packages\\sklearn\\base.py:438: UserWarning: X has feature names, but RandomForestClassifier was fitted without feature names\n",
      "  warnings.warn(\n",
      "C:\\Users\\ellen\\AppData\\Local\\R-MINI~1\\lib\\site-packages\\sklearn\\base.py:438: UserWarning: X has feature names, but RandomForestClassifier was fitted without feature names\n",
      "  warnings.warn(\n",
      "C:\\Users\\ellen\\AppData\\Local\\R-MINI~1\\lib\\site-packages\\sklearn\\base.py:438: UserWarning: X has feature names, but RandomForestClassifier was fitted without feature names\n",
      "  warnings.warn(\n",
      "C:\\Users\\ellen\\AppData\\Local\\R-MINI~1\\lib\\site-packages\\sklearn\\base.py:438: UserWarning: X has feature names, but RandomForestClassifier was fitted without feature names\n",
      "  warnings.warn(\n",
      "C:\\Users\\ellen\\AppData\\Local\\R-MINI~1\\lib\\site-packages\\sklearn\\base.py:438: UserWarning: X has feature names, but RandomForestClassifier was fitted without feature names\n",
      "  warnings.warn(\n",
      "C:\\Users\\ellen\\AppData\\Local\\R-MINI~1\\lib\\site-packages\\sklearn\\base.py:438: UserWarning: X has feature names, but RandomForestClassifier was fitted without feature names\n",
      "  warnings.warn(\n",
      "C:\\Users\\ellen\\AppData\\Local\\R-MINI~1\\lib\\site-packages\\sklearn\\base.py:438: UserWarning: X has feature names, but RandomForestClassifier was fitted without feature names\n",
      "  warnings.warn(\n",
      "C:\\Users\\ellen\\AppData\\Local\\R-MINI~1\\lib\\site-packages\\sklearn\\base.py:438: UserWarning: X has feature names, but RandomForestClassifier was fitted without feature names\n",
      "  warnings.warn(\n",
      "C:\\Users\\ellen\\AppData\\Local\\R-MINI~1\\lib\\site-packages\\sklearn\\base.py:438: UserWarning: X has feature names, but RandomForestClassifier was fitted without feature names\n",
      "  warnings.warn(\n",
      "C:\\Users\\ellen\\AppData\\Local\\R-MINI~1\\lib\\site-packages\\sklearn\\base.py:438: UserWarning: X has feature names, but RandomForestClassifier was fitted without feature names\n",
      "  warnings.warn(\n",
      "C:\\Users\\ellen\\AppData\\Local\\R-MINI~1\\lib\\site-packages\\sklearn\\base.py:438: UserWarning: X has feature names, but RandomForestClassifier was fitted without feature names\n",
      "  warnings.warn(\n",
      "C:\\Users\\ellen\\AppData\\Local\\R-MINI~1\\lib\\site-packages\\sklearn\\base.py:438: UserWarning: X has feature names, but RandomForestClassifier was fitted without feature names\n",
      "  warnings.warn(\n",
      "C:\\Users\\ellen\\AppData\\Local\\R-MINI~1\\lib\\site-packages\\sklearn\\base.py:438: UserWarning: X has feature names, but RandomForestClassifier was fitted without feature names\n",
      "  warnings.warn(\n"
     ]
    },
    {
     "name": "stderr",
     "output_type": "stream",
     "text": [
      "C:\\Users\\ellen\\AppData\\Local\\R-MINI~1\\lib\\site-packages\\sklearn\\base.py:438: UserWarning: X has feature names, but RandomForestClassifier was fitted without feature names\n",
      "  warnings.warn(\n",
      "C:\\Users\\ellen\\AppData\\Local\\R-MINI~1\\lib\\site-packages\\sklearn\\base.py:438: UserWarning: X has feature names, but RandomForestClassifier was fitted without feature names\n",
      "  warnings.warn(\n",
      "C:\\Users\\ellen\\AppData\\Local\\R-MINI~1\\lib\\site-packages\\sklearn\\base.py:438: UserWarning: X has feature names, but RandomForestClassifier was fitted without feature names\n",
      "  warnings.warn(\n",
      "C:\\Users\\ellen\\AppData\\Local\\R-MINI~1\\lib\\site-packages\\sklearn\\base.py:438: UserWarning: X has feature names, but RandomForestClassifier was fitted without feature names\n",
      "  warnings.warn(\n",
      "C:\\Users\\ellen\\AppData\\Local\\R-MINI~1\\lib\\site-packages\\sklearn\\base.py:438: UserWarning: X has feature names, but RandomForestClassifier was fitted without feature names\n",
      "  warnings.warn(\n",
      "C:\\Users\\ellen\\AppData\\Local\\R-MINI~1\\lib\\site-packages\\sklearn\\base.py:438: UserWarning: X has feature names, but RandomForestClassifier was fitted without feature names\n",
      "  warnings.warn(\n",
      "C:\\Users\\ellen\\AppData\\Local\\R-MINI~1\\lib\\site-packages\\sklearn\\base.py:438: UserWarning: X has feature names, but RandomForestClassifier was fitted without feature names\n",
      "  warnings.warn(\n",
      "C:\\Users\\ellen\\AppData\\Local\\R-MINI~1\\lib\\site-packages\\sklearn\\base.py:438: UserWarning: X has feature names, but RandomForestClassifier was fitted without feature names\n",
      "  warnings.warn(\n",
      "C:\\Users\\ellen\\AppData\\Local\\R-MINI~1\\lib\\site-packages\\sklearn\\base.py:438: UserWarning: X has feature names, but RandomForestClassifier was fitted without feature names\n",
      "  warnings.warn(\n",
      "C:\\Users\\ellen\\AppData\\Local\\R-MINI~1\\lib\\site-packages\\sklearn\\base.py:438: UserWarning: X has feature names, but RandomForestClassifier was fitted without feature names\n",
      "  warnings.warn(\n",
      "C:\\Users\\ellen\\AppData\\Local\\R-MINI~1\\lib\\site-packages\\sklearn\\base.py:438: UserWarning: X has feature names, but RandomForestClassifier was fitted without feature names\n",
      "  warnings.warn(\n",
      "C:\\Users\\ellen\\AppData\\Local\\R-MINI~1\\lib\\site-packages\\sklearn\\base.py:438: UserWarning: X has feature names, but RandomForestClassifier was fitted without feature names\n",
      "  warnings.warn(\n",
      "C:\\Users\\ellen\\AppData\\Local\\R-MINI~1\\lib\\site-packages\\sklearn\\base.py:438: UserWarning: X has feature names, but RandomForestClassifier was fitted without feature names\n",
      "  warnings.warn(\n",
      "C:\\Users\\ellen\\AppData\\Local\\R-MINI~1\\lib\\site-packages\\sklearn\\base.py:438: UserWarning: X has feature names, but RandomForestClassifier was fitted without feature names\n",
      "  warnings.warn(\n",
      "C:\\Users\\ellen\\AppData\\Local\\R-MINI~1\\lib\\site-packages\\sklearn\\base.py:438: UserWarning: X has feature names, but RandomForestClassifier was fitted without feature names\n",
      "  warnings.warn(\n",
      "C:\\Users\\ellen\\AppData\\Local\\R-MINI~1\\lib\\site-packages\\sklearn\\base.py:438: UserWarning: X has feature names, but RandomForestClassifier was fitted without feature names\n",
      "  warnings.warn(\n",
      "C:\\Users\\ellen\\AppData\\Local\\R-MINI~1\\lib\\site-packages\\sklearn\\base.py:438: UserWarning: X has feature names, but RandomForestClassifier was fitted without feature names\n",
      "  warnings.warn(\n",
      "C:\\Users\\ellen\\AppData\\Local\\R-MINI~1\\lib\\site-packages\\sklearn\\base.py:438: UserWarning: X has feature names, but RandomForestClassifier was fitted without feature names\n",
      "  warnings.warn(\n",
      "C:\\Users\\ellen\\AppData\\Local\\R-MINI~1\\lib\\site-packages\\sklearn\\base.py:438: UserWarning: X has feature names, but RandomForestClassifier was fitted without feature names\n",
      "  warnings.warn(\n",
      "C:\\Users\\ellen\\AppData\\Local\\R-MINI~1\\lib\\site-packages\\sklearn\\base.py:438: UserWarning: X has feature names, but RandomForestClassifier was fitted without feature names\n",
      "  warnings.warn(\n",
      "C:\\Users\\ellen\\AppData\\Local\\R-MINI~1\\lib\\site-packages\\sklearn\\base.py:438: UserWarning: X has feature names, but RandomForestClassifier was fitted without feature names\n",
      "  warnings.warn(\n",
      "C:\\Users\\ellen\\AppData\\Local\\R-MINI~1\\lib\\site-packages\\sklearn\\base.py:438: UserWarning: X has feature names, but RandomForestClassifier was fitted without feature names\n",
      "  warnings.warn(\n",
      "C:\\Users\\ellen\\AppData\\Local\\R-MINI~1\\lib\\site-packages\\sklearn\\base.py:438: UserWarning: X has feature names, but RandomForestClassifier was fitted without feature names\n",
      "  warnings.warn(\n",
      "C:\\Users\\ellen\\AppData\\Local\\R-MINI~1\\lib\\site-packages\\sklearn\\base.py:438: UserWarning: X has feature names, but RandomForestClassifier was fitted without feature names\n",
      "  warnings.warn(\n",
      "C:\\Users\\ellen\\AppData\\Local\\R-MINI~1\\lib\\site-packages\\sklearn\\base.py:438: UserWarning: X has feature names, but RandomForestClassifier was fitted without feature names\n",
      "  warnings.warn(\n",
      "C:\\Users\\ellen\\AppData\\Local\\R-MINI~1\\lib\\site-packages\\sklearn\\base.py:438: UserWarning: X has feature names, but RandomForestClassifier was fitted without feature names\n",
      "  warnings.warn(\n",
      "C:\\Users\\ellen\\AppData\\Local\\R-MINI~1\\lib\\site-packages\\sklearn\\base.py:438: UserWarning: X has feature names, but RandomForestClassifier was fitted without feature names\n",
      "  warnings.warn(\n",
      "C:\\Users\\ellen\\AppData\\Local\\R-MINI~1\\lib\\site-packages\\sklearn\\base.py:438: UserWarning: X has feature names, but RandomForestClassifier was fitted without feature names\n",
      "  warnings.warn(\n",
      "C:\\Users\\ellen\\AppData\\Local\\R-MINI~1\\lib\\site-packages\\sklearn\\base.py:438: UserWarning: X has feature names, but RandomForestClassifier was fitted without feature names\n",
      "  warnings.warn(\n",
      "C:\\Users\\ellen\\AppData\\Local\\R-MINI~1\\lib\\site-packages\\sklearn\\base.py:438: UserWarning: X has feature names, but RandomForestClassifier was fitted without feature names\n",
      "  warnings.warn(\n",
      "C:\\Users\\ellen\\AppData\\Local\\R-MINI~1\\lib\\site-packages\\sklearn\\base.py:438: UserWarning: X has feature names, but RandomForestClassifier was fitted without feature names\n",
      "  warnings.warn(\n",
      "C:\\Users\\ellen\\AppData\\Local\\R-MINI~1\\lib\\site-packages\\sklearn\\base.py:438: UserWarning: X has feature names, but RandomForestClassifier was fitted without feature names\n",
      "  warnings.warn(\n",
      "C:\\Users\\ellen\\AppData\\Local\\R-MINI~1\\lib\\site-packages\\sklearn\\base.py:438: UserWarning: X has feature names, but RandomForestClassifier was fitted without feature names\n",
      "  warnings.warn(\n",
      "C:\\Users\\ellen\\AppData\\Local\\R-MINI~1\\lib\\site-packages\\sklearn\\base.py:438: UserWarning: X has feature names, but RandomForestClassifier was fitted without feature names\n",
      "  warnings.warn(\n",
      "C:\\Users\\ellen\\AppData\\Local\\R-MINI~1\\lib\\site-packages\\sklearn\\base.py:438: UserWarning: X has feature names, but RandomForestClassifier was fitted without feature names\n",
      "  warnings.warn(\n",
      "C:\\Users\\ellen\\AppData\\Local\\R-MINI~1\\lib\\site-packages\\sklearn\\base.py:438: UserWarning: X has feature names, but RandomForestClassifier was fitted without feature names\n",
      "  warnings.warn(\n",
      "C:\\Users\\ellen\\AppData\\Local\\R-MINI~1\\lib\\site-packages\\sklearn\\base.py:438: UserWarning: X has feature names, but RandomForestClassifier was fitted without feature names\n",
      "  warnings.warn(\n",
      "C:\\Users\\ellen\\AppData\\Local\\R-MINI~1\\lib\\site-packages\\sklearn\\base.py:438: UserWarning: X has feature names, but RandomForestClassifier was fitted without feature names\n",
      "  warnings.warn(\n",
      "C:\\Users\\ellen\\AppData\\Local\\R-MINI~1\\lib\\site-packages\\sklearn\\base.py:438: UserWarning: X has feature names, but RandomForestClassifier was fitted without feature names\n",
      "  warnings.warn(\n",
      "C:\\Users\\ellen\\AppData\\Local\\R-MINI~1\\lib\\site-packages\\sklearn\\base.py:438: UserWarning: X has feature names, but RandomForestClassifier was fitted without feature names\n",
      "  warnings.warn(\n",
      "C:\\Users\\ellen\\AppData\\Local\\R-MINI~1\\lib\\site-packages\\sklearn\\base.py:438: UserWarning: X has feature names, but RandomForestClassifier was fitted without feature names\n",
      "  warnings.warn(\n",
      "C:\\Users\\ellen\\AppData\\Local\\R-MINI~1\\lib\\site-packages\\sklearn\\base.py:438: UserWarning: X has feature names, but RandomForestClassifier was fitted without feature names\n",
      "  warnings.warn(\n",
      "C:\\Users\\ellen\\AppData\\Local\\R-MINI~1\\lib\\site-packages\\sklearn\\base.py:438: UserWarning: X has feature names, but RandomForestClassifier was fitted without feature names\n",
      "  warnings.warn(\n",
      "C:\\Users\\ellen\\AppData\\Local\\R-MINI~1\\lib\\site-packages\\sklearn\\base.py:438: UserWarning: X has feature names, but RandomForestClassifier was fitted without feature names\n",
      "  warnings.warn(\n"
     ]
    },
    {
     "name": "stderr",
     "output_type": "stream",
     "text": [
      "C:\\Users\\ellen\\AppData\\Local\\R-MINI~1\\lib\\site-packages\\sklearn\\base.py:438: UserWarning: X has feature names, but RandomForestClassifier was fitted without feature names\n",
      "  warnings.warn(\n",
      "C:\\Users\\ellen\\AppData\\Local\\R-MINI~1\\lib\\site-packages\\sklearn\\base.py:438: UserWarning: X has feature names, but RandomForestClassifier was fitted without feature names\n",
      "  warnings.warn(\n",
      "C:\\Users\\ellen\\AppData\\Local\\R-MINI~1\\lib\\site-packages\\sklearn\\base.py:438: UserWarning: X has feature names, but RandomForestClassifier was fitted without feature names\n",
      "  warnings.warn(\n",
      "C:\\Users\\ellen\\AppData\\Local\\R-MINI~1\\lib\\site-packages\\sklearn\\base.py:438: UserWarning: X has feature names, but RandomForestClassifier was fitted without feature names\n",
      "  warnings.warn(\n",
      "C:\\Users\\ellen\\AppData\\Local\\R-MINI~1\\lib\\site-packages\\sklearn\\base.py:438: UserWarning: X has feature names, but RandomForestClassifier was fitted without feature names\n",
      "  warnings.warn(\n",
      "C:\\Users\\ellen\\AppData\\Local\\R-MINI~1\\lib\\site-packages\\sklearn\\base.py:438: UserWarning: X has feature names, but RandomForestClassifier was fitted without feature names\n",
      "  warnings.warn(\n",
      "C:\\Users\\ellen\\AppData\\Local\\R-MINI~1\\lib\\site-packages\\sklearn\\base.py:438: UserWarning: X has feature names, but RandomForestClassifier was fitted without feature names\n",
      "  warnings.warn(\n",
      "C:\\Users\\ellen\\AppData\\Local\\R-MINI~1\\lib\\site-packages\\sklearn\\base.py:438: UserWarning: X has feature names, but RandomForestClassifier was fitted without feature names\n",
      "  warnings.warn(\n",
      "C:\\Users\\ellen\\AppData\\Local\\R-MINI~1\\lib\\site-packages\\sklearn\\base.py:438: UserWarning: X has feature names, but RandomForestClassifier was fitted without feature names\n",
      "  warnings.warn(\n",
      "C:\\Users\\ellen\\AppData\\Local\\R-MINI~1\\lib\\site-packages\\sklearn\\base.py:438: UserWarning: X has feature names, but RandomForestClassifier was fitted without feature names\n",
      "  warnings.warn(\n",
      "C:\\Users\\ellen\\AppData\\Local\\R-MINI~1\\lib\\site-packages\\sklearn\\base.py:438: UserWarning: X has feature names, but RandomForestClassifier was fitted without feature names\n",
      "  warnings.warn(\n",
      "C:\\Users\\ellen\\AppData\\Local\\R-MINI~1\\lib\\site-packages\\sklearn\\base.py:438: UserWarning: X has feature names, but RandomForestClassifier was fitted without feature names\n",
      "  warnings.warn(\n",
      "C:\\Users\\ellen\\AppData\\Local\\R-MINI~1\\lib\\site-packages\\sklearn\\base.py:438: UserWarning: X has feature names, but RandomForestClassifier was fitted without feature names\n",
      "  warnings.warn(\n",
      "C:\\Users\\ellen\\AppData\\Local\\R-MINI~1\\lib\\site-packages\\sklearn\\base.py:438: UserWarning: X has feature names, but RandomForestClassifier was fitted without feature names\n",
      "  warnings.warn(\n",
      "C:\\Users\\ellen\\AppData\\Local\\R-MINI~1\\lib\\site-packages\\sklearn\\base.py:438: UserWarning: X has feature names, but RandomForestClassifier was fitted without feature names\n",
      "  warnings.warn(\n",
      "C:\\Users\\ellen\\AppData\\Local\\R-MINI~1\\lib\\site-packages\\sklearn\\base.py:438: UserWarning: X has feature names, but RandomForestClassifier was fitted without feature names\n",
      "  warnings.warn(\n",
      "C:\\Users\\ellen\\AppData\\Local\\R-MINI~1\\lib\\site-packages\\sklearn\\base.py:438: UserWarning: X has feature names, but RandomForestClassifier was fitted without feature names\n",
      "  warnings.warn(\n",
      "C:\\Users\\ellen\\AppData\\Local\\R-MINI~1\\lib\\site-packages\\sklearn\\base.py:438: UserWarning: X has feature names, but RandomForestClassifier was fitted without feature names\n",
      "  warnings.warn(\n",
      "C:\\Users\\ellen\\AppData\\Local\\R-MINI~1\\lib\\site-packages\\sklearn\\base.py:438: UserWarning: X has feature names, but RandomForestClassifier was fitted without feature names\n",
      "  warnings.warn(\n",
      "C:\\Users\\ellen\\AppData\\Local\\R-MINI~1\\lib\\site-packages\\sklearn\\base.py:438: UserWarning: X has feature names, but RandomForestClassifier was fitted without feature names\n",
      "  warnings.warn(\n",
      "C:\\Users\\ellen\\AppData\\Local\\R-MINI~1\\lib\\site-packages\\sklearn\\base.py:438: UserWarning: X has feature names, but RandomForestClassifier was fitted without feature names\n",
      "  warnings.warn(\n",
      "C:\\Users\\ellen\\AppData\\Local\\R-MINI~1\\lib\\site-packages\\sklearn\\base.py:438: UserWarning: X has feature names, but RandomForestClassifier was fitted without feature names\n",
      "  warnings.warn(\n",
      "C:\\Users\\ellen\\AppData\\Local\\R-MINI~1\\lib\\site-packages\\sklearn\\base.py:438: UserWarning: X has feature names, but RandomForestClassifier was fitted without feature names\n",
      "  warnings.warn(\n",
      "C:\\Users\\ellen\\AppData\\Local\\R-MINI~1\\lib\\site-packages\\sklearn\\base.py:438: UserWarning: X has feature names, but RandomForestClassifier was fitted without feature names\n",
      "  warnings.warn(\n",
      "C:\\Users\\ellen\\AppData\\Local\\R-MINI~1\\lib\\site-packages\\sklearn\\base.py:438: UserWarning: X has feature names, but RandomForestClassifier was fitted without feature names\n",
      "  warnings.warn(\n",
      "C:\\Users\\ellen\\AppData\\Local\\R-MINI~1\\lib\\site-packages\\sklearn\\base.py:438: UserWarning: X has feature names, but RandomForestClassifier was fitted without feature names\n",
      "  warnings.warn(\n",
      "C:\\Users\\ellen\\AppData\\Local\\R-MINI~1\\lib\\site-packages\\sklearn\\base.py:438: UserWarning: X has feature names, but RandomForestClassifier was fitted without feature names\n",
      "  warnings.warn(\n",
      "C:\\Users\\ellen\\AppData\\Local\\R-MINI~1\\lib\\site-packages\\sklearn\\base.py:438: UserWarning: X has feature names, but RandomForestClassifier was fitted without feature names\n",
      "  warnings.warn(\n",
      "C:\\Users\\ellen\\AppData\\Local\\R-MINI~1\\lib\\site-packages\\sklearn\\base.py:438: UserWarning: X has feature names, but RandomForestClassifier was fitted without feature names\n",
      "  warnings.warn(\n",
      "C:\\Users\\ellen\\AppData\\Local\\R-MINI~1\\lib\\site-packages\\sklearn\\base.py:438: UserWarning: X has feature names, but RandomForestClassifier was fitted without feature names\n",
      "  warnings.warn(\n",
      "C:\\Users\\ellen\\AppData\\Local\\R-MINI~1\\lib\\site-packages\\sklearn\\base.py:438: UserWarning: X has feature names, but RandomForestClassifier was fitted without feature names\n",
      "  warnings.warn(\n",
      "C:\\Users\\ellen\\AppData\\Local\\R-MINI~1\\lib\\site-packages\\sklearn\\base.py:438: UserWarning: X has feature names, but RandomForestClassifier was fitted without feature names\n",
      "  warnings.warn(\n",
      "C:\\Users\\ellen\\AppData\\Local\\R-MINI~1\\lib\\site-packages\\sklearn\\base.py:438: UserWarning: X has feature names, but RandomForestClassifier was fitted without feature names\n",
      "  warnings.warn(\n",
      "C:\\Users\\ellen\\AppData\\Local\\R-MINI~1\\lib\\site-packages\\sklearn\\base.py:438: UserWarning: X has feature names, but RandomForestClassifier was fitted without feature names\n",
      "  warnings.warn(\n",
      "C:\\Users\\ellen\\AppData\\Local\\R-MINI~1\\lib\\site-packages\\sklearn\\base.py:438: UserWarning: X has feature names, but RandomForestClassifier was fitted without feature names\n",
      "  warnings.warn(\n",
      "C:\\Users\\ellen\\AppData\\Local\\R-MINI~1\\lib\\site-packages\\sklearn\\base.py:438: UserWarning: X has feature names, but RandomForestClassifier was fitted without feature names\n",
      "  warnings.warn(\n",
      "C:\\Users\\ellen\\AppData\\Local\\R-MINI~1\\lib\\site-packages\\sklearn\\base.py:438: UserWarning: X has feature names, but RandomForestClassifier was fitted without feature names\n",
      "  warnings.warn(\n",
      "C:\\Users\\ellen\\AppData\\Local\\R-MINI~1\\lib\\site-packages\\sklearn\\base.py:438: UserWarning: X has feature names, but RandomForestClassifier was fitted without feature names\n",
      "  warnings.warn(\n",
      "C:\\Users\\ellen\\AppData\\Local\\R-MINI~1\\lib\\site-packages\\sklearn\\base.py:438: UserWarning: X has feature names, but RandomForestClassifier was fitted without feature names\n",
      "  warnings.warn(\n",
      "C:\\Users\\ellen\\AppData\\Local\\R-MINI~1\\lib\\site-packages\\sklearn\\base.py:438: UserWarning: X has feature names, but RandomForestClassifier was fitted without feature names\n",
      "  warnings.warn(\n",
      "C:\\Users\\ellen\\AppData\\Local\\R-MINI~1\\lib\\site-packages\\sklearn\\base.py:438: UserWarning: X has feature names, but RandomForestClassifier was fitted without feature names\n",
      "  warnings.warn(\n",
      "C:\\Users\\ellen\\AppData\\Local\\R-MINI~1\\lib\\site-packages\\sklearn\\base.py:438: UserWarning: X has feature names, but RandomForestClassifier was fitted without feature names\n",
      "  warnings.warn(\n",
      "C:\\Users\\ellen\\AppData\\Local\\R-MINI~1\\lib\\site-packages\\sklearn\\base.py:438: UserWarning: X has feature names, but RandomForestClassifier was fitted without feature names\n",
      "  warnings.warn(\n",
      "C:\\Users\\ellen\\AppData\\Local\\R-MINI~1\\lib\\site-packages\\sklearn\\base.py:438: UserWarning: X has feature names, but RandomForestClassifier was fitted without feature names\n",
      "  warnings.warn(\n"
     ]
    },
    {
     "name": "stderr",
     "output_type": "stream",
     "text": [
      "C:\\Users\\ellen\\AppData\\Local\\R-MINI~1\\lib\\site-packages\\sklearn\\base.py:438: UserWarning: X has feature names, but RandomForestClassifier was fitted without feature names\n",
      "  warnings.warn(\n",
      "C:\\Users\\ellen\\AppData\\Local\\R-MINI~1\\lib\\site-packages\\sklearn\\base.py:438: UserWarning: X has feature names, but RandomForestClassifier was fitted without feature names\n",
      "  warnings.warn(\n",
      "C:\\Users\\ellen\\AppData\\Local\\R-MINI~1\\lib\\site-packages\\sklearn\\base.py:438: UserWarning: X has feature names, but RandomForestClassifier was fitted without feature names\n",
      "  warnings.warn(\n",
      "C:\\Users\\ellen\\AppData\\Local\\R-MINI~1\\lib\\site-packages\\sklearn\\base.py:438: UserWarning: X has feature names, but RandomForestClassifier was fitted without feature names\n",
      "  warnings.warn(\n",
      "C:\\Users\\ellen\\AppData\\Local\\R-MINI~1\\lib\\site-packages\\sklearn\\base.py:438: UserWarning: X has feature names, but RandomForestClassifier was fitted without feature names\n",
      "  warnings.warn(\n",
      "C:\\Users\\ellen\\AppData\\Local\\R-MINI~1\\lib\\site-packages\\sklearn\\base.py:438: UserWarning: X has feature names, but RandomForestClassifier was fitted without feature names\n",
      "  warnings.warn(\n",
      "C:\\Users\\ellen\\AppData\\Local\\R-MINI~1\\lib\\site-packages\\sklearn\\base.py:438: UserWarning: X has feature names, but RandomForestClassifier was fitted without feature names\n",
      "  warnings.warn(\n",
      "C:\\Users\\ellen\\AppData\\Local\\R-MINI~1\\lib\\site-packages\\sklearn\\base.py:438: UserWarning: X has feature names, but RandomForestClassifier was fitted without feature names\n",
      "  warnings.warn(\n",
      "C:\\Users\\ellen\\AppData\\Local\\R-MINI~1\\lib\\site-packages\\sklearn\\base.py:438: UserWarning: X has feature names, but RandomForestClassifier was fitted without feature names\n",
      "  warnings.warn(\n",
      "C:\\Users\\ellen\\AppData\\Local\\R-MINI~1\\lib\\site-packages\\sklearn\\base.py:438: UserWarning: X has feature names, but RandomForestClassifier was fitted without feature names\n",
      "  warnings.warn(\n",
      "C:\\Users\\ellen\\AppData\\Local\\R-MINI~1\\lib\\site-packages\\sklearn\\base.py:438: UserWarning: X has feature names, but RandomForestClassifier was fitted without feature names\n",
      "  warnings.warn(\n",
      "C:\\Users\\ellen\\AppData\\Local\\R-MINI~1\\lib\\site-packages\\sklearn\\base.py:438: UserWarning: X has feature names, but RandomForestClassifier was fitted without feature names\n",
      "  warnings.warn(\n",
      "C:\\Users\\ellen\\AppData\\Local\\R-MINI~1\\lib\\site-packages\\sklearn\\base.py:438: UserWarning: X has feature names, but RandomForestClassifier was fitted without feature names\n",
      "  warnings.warn(\n",
      "C:\\Users\\ellen\\AppData\\Local\\R-MINI~1\\lib\\site-packages\\sklearn\\base.py:438: UserWarning: X has feature names, but RandomForestClassifier was fitted without feature names\n",
      "  warnings.warn(\n",
      "C:\\Users\\ellen\\AppData\\Local\\R-MINI~1\\lib\\site-packages\\sklearn\\base.py:438: UserWarning: X has feature names, but RandomForestClassifier was fitted without feature names\n",
      "  warnings.warn(\n",
      "C:\\Users\\ellen\\AppData\\Local\\R-MINI~1\\lib\\site-packages\\sklearn\\base.py:438: UserWarning: X has feature names, but RandomForestClassifier was fitted without feature names\n",
      "  warnings.warn(\n",
      "C:\\Users\\ellen\\AppData\\Local\\R-MINI~1\\lib\\site-packages\\sklearn\\base.py:438: UserWarning: X has feature names, but RandomForestClassifier was fitted without feature names\n",
      "  warnings.warn(\n",
      "C:\\Users\\ellen\\AppData\\Local\\R-MINI~1\\lib\\site-packages\\sklearn\\base.py:438: UserWarning: X has feature names, but RandomForestClassifier was fitted without feature names\n",
      "  warnings.warn(\n",
      "C:\\Users\\ellen\\AppData\\Local\\R-MINI~1\\lib\\site-packages\\sklearn\\base.py:438: UserWarning: X has feature names, but RandomForestClassifier was fitted without feature names\n",
      "  warnings.warn(\n",
      "C:\\Users\\ellen\\AppData\\Local\\R-MINI~1\\lib\\site-packages\\sklearn\\base.py:438: UserWarning: X has feature names, but RandomForestClassifier was fitted without feature names\n",
      "  warnings.warn(\n",
      "C:\\Users\\ellen\\AppData\\Local\\R-MINI~1\\lib\\site-packages\\sklearn\\base.py:438: UserWarning: X has feature names, but RandomForestClassifier was fitted without feature names\n",
      "  warnings.warn(\n",
      "C:\\Users\\ellen\\AppData\\Local\\R-MINI~1\\lib\\site-packages\\sklearn\\base.py:438: UserWarning: X has feature names, but RandomForestClassifier was fitted without feature names\n",
      "  warnings.warn(\n",
      "C:\\Users\\ellen\\AppData\\Local\\R-MINI~1\\lib\\site-packages\\sklearn\\base.py:438: UserWarning: X has feature names, but RandomForestClassifier was fitted without feature names\n",
      "  warnings.warn(\n",
      "C:\\Users\\ellen\\AppData\\Local\\R-MINI~1\\lib\\site-packages\\sklearn\\base.py:438: UserWarning: X has feature names, but RandomForestClassifier was fitted without feature names\n",
      "  warnings.warn(\n",
      "C:\\Users\\ellen\\AppData\\Local\\R-MINI~1\\lib\\site-packages\\sklearn\\base.py:438: UserWarning: X has feature names, but RandomForestClassifier was fitted without feature names\n",
      "  warnings.warn(\n",
      "C:\\Users\\ellen\\AppData\\Local\\R-MINI~1\\lib\\site-packages\\sklearn\\base.py:438: UserWarning: X has feature names, but RandomForestClassifier was fitted without feature names\n",
      "  warnings.warn(\n",
      "C:\\Users\\ellen\\AppData\\Local\\R-MINI~1\\lib\\site-packages\\sklearn\\base.py:438: UserWarning: X has feature names, but RandomForestClassifier was fitted without feature names\n",
      "  warnings.warn(\n",
      "C:\\Users\\ellen\\AppData\\Local\\R-MINI~1\\lib\\site-packages\\sklearn\\base.py:438: UserWarning: X has feature names, but RandomForestClassifier was fitted without feature names\n",
      "  warnings.warn(\n",
      "C:\\Users\\ellen\\AppData\\Local\\R-MINI~1\\lib\\site-packages\\sklearn\\base.py:438: UserWarning: X has feature names, but RandomForestClassifier was fitted without feature names\n",
      "  warnings.warn(\n",
      "C:\\Users\\ellen\\AppData\\Local\\R-MINI~1\\lib\\site-packages\\sklearn\\base.py:438: UserWarning: X has feature names, but RandomForestClassifier was fitted without feature names\n",
      "  warnings.warn(\n",
      "C:\\Users\\ellen\\AppData\\Local\\R-MINI~1\\lib\\site-packages\\sklearn\\base.py:438: UserWarning: X has feature names, but RandomForestClassifier was fitted without feature names\n",
      "  warnings.warn(\n",
      "C:\\Users\\ellen\\AppData\\Local\\R-MINI~1\\lib\\site-packages\\sklearn\\base.py:438: UserWarning: X has feature names, but RandomForestClassifier was fitted without feature names\n",
      "  warnings.warn(\n",
      "C:\\Users\\ellen\\AppData\\Local\\R-MINI~1\\lib\\site-packages\\sklearn\\base.py:438: UserWarning: X has feature names, but RandomForestClassifier was fitted without feature names\n",
      "  warnings.warn(\n",
      "C:\\Users\\ellen\\AppData\\Local\\R-MINI~1\\lib\\site-packages\\sklearn\\base.py:438: UserWarning: X has feature names, but RandomForestClassifier was fitted without feature names\n",
      "  warnings.warn(\n",
      "C:\\Users\\ellen\\AppData\\Local\\R-MINI~1\\lib\\site-packages\\sklearn\\base.py:438: UserWarning: X has feature names, but RandomForestClassifier was fitted without feature names\n",
      "  warnings.warn(\n",
      "C:\\Users\\ellen\\AppData\\Local\\R-MINI~1\\lib\\site-packages\\sklearn\\base.py:438: UserWarning: X has feature names, but RandomForestClassifier was fitted without feature names\n",
      "  warnings.warn(\n",
      "C:\\Users\\ellen\\AppData\\Local\\R-MINI~1\\lib\\site-packages\\sklearn\\base.py:438: UserWarning: X has feature names, but RandomForestClassifier was fitted without feature names\n",
      "  warnings.warn(\n",
      "C:\\Users\\ellen\\AppData\\Local\\R-MINI~1\\lib\\site-packages\\sklearn\\base.py:438: UserWarning: X has feature names, but RandomForestClassifier was fitted without feature names\n",
      "  warnings.warn(\n",
      "C:\\Users\\ellen\\AppData\\Local\\R-MINI~1\\lib\\site-packages\\sklearn\\base.py:438: UserWarning: X has feature names, but RandomForestClassifier was fitted without feature names\n",
      "  warnings.warn(\n",
      "C:\\Users\\ellen\\AppData\\Local\\R-MINI~1\\lib\\site-packages\\sklearn\\base.py:438: UserWarning: X has feature names, but RandomForestClassifier was fitted without feature names\n",
      "  warnings.warn(\n",
      "C:\\Users\\ellen\\AppData\\Local\\R-MINI~1\\lib\\site-packages\\sklearn\\base.py:438: UserWarning: X has feature names, but RandomForestClassifier was fitted without feature names\n",
      "  warnings.warn(\n",
      "C:\\Users\\ellen\\AppData\\Local\\R-MINI~1\\lib\\site-packages\\sklearn\\base.py:438: UserWarning: X has feature names, but RandomForestClassifier was fitted without feature names\n",
      "  warnings.warn(\n",
      "C:\\Users\\ellen\\AppData\\Local\\R-MINI~1\\lib\\site-packages\\sklearn\\base.py:438: UserWarning: X has feature names, but RandomForestClassifier was fitted without feature names\n",
      "  warnings.warn(\n",
      "C:\\Users\\ellen\\AppData\\Local\\R-MINI~1\\lib\\site-packages\\sklearn\\base.py:438: UserWarning: X has feature names, but RandomForestClassifier was fitted without feature names\n",
      "  warnings.warn(\n"
     ]
    },
    {
     "name": "stderr",
     "output_type": "stream",
     "text": [
      "C:\\Users\\ellen\\AppData\\Local\\R-MINI~1\\lib\\site-packages\\sklearn\\base.py:438: UserWarning: X has feature names, but RandomForestClassifier was fitted without feature names\n",
      "  warnings.warn(\n",
      "C:\\Users\\ellen\\AppData\\Local\\R-MINI~1\\lib\\site-packages\\sklearn\\base.py:438: UserWarning: X has feature names, but RandomForestClassifier was fitted without feature names\n",
      "  warnings.warn(\n",
      "C:\\Users\\ellen\\AppData\\Local\\R-MINI~1\\lib\\site-packages\\sklearn\\base.py:438: UserWarning: X has feature names, but RandomForestClassifier was fitted without feature names\n",
      "  warnings.warn(\n",
      "C:\\Users\\ellen\\AppData\\Local\\R-MINI~1\\lib\\site-packages\\sklearn\\base.py:438: UserWarning: X has feature names, but RandomForestClassifier was fitted without feature names\n",
      "  warnings.warn(\n",
      "C:\\Users\\ellen\\AppData\\Local\\R-MINI~1\\lib\\site-packages\\sklearn\\base.py:438: UserWarning: X has feature names, but RandomForestClassifier was fitted without feature names\n",
      "  warnings.warn(\n",
      "C:\\Users\\ellen\\AppData\\Local\\R-MINI~1\\lib\\site-packages\\sklearn\\base.py:438: UserWarning: X has feature names, but RandomForestClassifier was fitted without feature names\n",
      "  warnings.warn(\n",
      "C:\\Users\\ellen\\AppData\\Local\\R-MINI~1\\lib\\site-packages\\sklearn\\base.py:438: UserWarning: X has feature names, but RandomForestClassifier was fitted without feature names\n",
      "  warnings.warn(\n",
      "C:\\Users\\ellen\\AppData\\Local\\R-MINI~1\\lib\\site-packages\\sklearn\\base.py:438: UserWarning: X has feature names, but RandomForestClassifier was fitted without feature names\n",
      "  warnings.warn(\n",
      "C:\\Users\\ellen\\AppData\\Local\\R-MINI~1\\lib\\site-packages\\sklearn\\base.py:438: UserWarning: X has feature names, but RandomForestClassifier was fitted without feature names\n",
      "  warnings.warn(\n",
      "C:\\Users\\ellen\\AppData\\Local\\R-MINI~1\\lib\\site-packages\\sklearn\\base.py:438: UserWarning: X has feature names, but RandomForestClassifier was fitted without feature names\n",
      "  warnings.warn(\n",
      "C:\\Users\\ellen\\AppData\\Local\\R-MINI~1\\lib\\site-packages\\sklearn\\base.py:438: UserWarning: X has feature names, but RandomForestClassifier was fitted without feature names\n",
      "  warnings.warn(\n",
      "C:\\Users\\ellen\\AppData\\Local\\R-MINI~1\\lib\\site-packages\\sklearn\\base.py:438: UserWarning: X has feature names, but RandomForestClassifier was fitted without feature names\n",
      "  warnings.warn(\n",
      "C:\\Users\\ellen\\AppData\\Local\\R-MINI~1\\lib\\site-packages\\sklearn\\base.py:438: UserWarning: X has feature names, but RandomForestClassifier was fitted without feature names\n",
      "  warnings.warn(\n",
      "C:\\Users\\ellen\\AppData\\Local\\R-MINI~1\\lib\\site-packages\\sklearn\\base.py:438: UserWarning: X has feature names, but RandomForestClassifier was fitted without feature names\n",
      "  warnings.warn(\n",
      "C:\\Users\\ellen\\AppData\\Local\\R-MINI~1\\lib\\site-packages\\sklearn\\base.py:438: UserWarning: X has feature names, but RandomForestClassifier was fitted without feature names\n",
      "  warnings.warn(\n",
      "C:\\Users\\ellen\\AppData\\Local\\R-MINI~1\\lib\\site-packages\\sklearn\\base.py:438: UserWarning: X has feature names, but RandomForestClassifier was fitted without feature names\n",
      "  warnings.warn(\n",
      "C:\\Users\\ellen\\AppData\\Local\\R-MINI~1\\lib\\site-packages\\sklearn\\base.py:438: UserWarning: X has feature names, but RandomForestClassifier was fitted without feature names\n",
      "  warnings.warn(\n",
      "C:\\Users\\ellen\\AppData\\Local\\R-MINI~1\\lib\\site-packages\\sklearn\\base.py:438: UserWarning: X has feature names, but RandomForestClassifier was fitted without feature names\n",
      "  warnings.warn(\n",
      "C:\\Users\\ellen\\AppData\\Local\\R-MINI~1\\lib\\site-packages\\sklearn\\base.py:438: UserWarning: X has feature names, but RandomForestClassifier was fitted without feature names\n",
      "  warnings.warn(\n",
      "C:\\Users\\ellen\\AppData\\Local\\R-MINI~1\\lib\\site-packages\\sklearn\\base.py:438: UserWarning: X has feature names, but RandomForestClassifier was fitted without feature names\n",
      "  warnings.warn(\n",
      "C:\\Users\\ellen\\AppData\\Local\\R-MINI~1\\lib\\site-packages\\sklearn\\base.py:438: UserWarning: X has feature names, but RandomForestClassifier was fitted without feature names\n",
      "  warnings.warn(\n",
      "C:\\Users\\ellen\\AppData\\Local\\R-MINI~1\\lib\\site-packages\\sklearn\\base.py:438: UserWarning: X has feature names, but RandomForestClassifier was fitted without feature names\n",
      "  warnings.warn(\n",
      "C:\\Users\\ellen\\AppData\\Local\\R-MINI~1\\lib\\site-packages\\sklearn\\base.py:438: UserWarning: X has feature names, but RandomForestClassifier was fitted without feature names\n",
      "  warnings.warn(\n",
      "C:\\Users\\ellen\\AppData\\Local\\R-MINI~1\\lib\\site-packages\\sklearn\\base.py:438: UserWarning: X has feature names, but RandomForestClassifier was fitted without feature names\n",
      "  warnings.warn(\n",
      "C:\\Users\\ellen\\AppData\\Local\\R-MINI~1\\lib\\site-packages\\sklearn\\base.py:438: UserWarning: X has feature names, but RandomForestClassifier was fitted without feature names\n",
      "  warnings.warn(\n",
      "C:\\Users\\ellen\\AppData\\Local\\R-MINI~1\\lib\\site-packages\\sklearn\\base.py:438: UserWarning: X has feature names, but RandomForestClassifier was fitted without feature names\n",
      "  warnings.warn(\n",
      "C:\\Users\\ellen\\AppData\\Local\\R-MINI~1\\lib\\site-packages\\sklearn\\base.py:438: UserWarning: X has feature names, but RandomForestClassifier was fitted without feature names\n",
      "  warnings.warn(\n",
      "C:\\Users\\ellen\\AppData\\Local\\R-MINI~1\\lib\\site-packages\\sklearn\\base.py:438: UserWarning: X has feature names, but RandomForestClassifier was fitted without feature names\n",
      "  warnings.warn(\n",
      "C:\\Users\\ellen\\AppData\\Local\\R-MINI~1\\lib\\site-packages\\sklearn\\base.py:438: UserWarning: X has feature names, but RandomForestClassifier was fitted without feature names\n",
      "  warnings.warn(\n",
      "C:\\Users\\ellen\\AppData\\Local\\R-MINI~1\\lib\\site-packages\\sklearn\\base.py:438: UserWarning: X has feature names, but RandomForestClassifier was fitted without feature names\n",
      "  warnings.warn(\n",
      "C:\\Users\\ellen\\AppData\\Local\\R-MINI~1\\lib\\site-packages\\sklearn\\base.py:438: UserWarning: X has feature names, but RandomForestClassifier was fitted without feature names\n",
      "  warnings.warn(\n",
      "C:\\Users\\ellen\\AppData\\Local\\R-MINI~1\\lib\\site-packages\\sklearn\\base.py:438: UserWarning: X has feature names, but RandomForestClassifier was fitted without feature names\n",
      "  warnings.warn(\n",
      "C:\\Users\\ellen\\AppData\\Local\\R-MINI~1\\lib\\site-packages\\sklearn\\base.py:438: UserWarning: X has feature names, but RandomForestClassifier was fitted without feature names\n",
      "  warnings.warn(\n",
      "C:\\Users\\ellen\\AppData\\Local\\R-MINI~1\\lib\\site-packages\\sklearn\\base.py:438: UserWarning: X has feature names, but RandomForestClassifier was fitted without feature names\n",
      "  warnings.warn(\n",
      "C:\\Users\\ellen\\AppData\\Local\\R-MINI~1\\lib\\site-packages\\sklearn\\base.py:438: UserWarning: X has feature names, but RandomForestClassifier was fitted without feature names\n",
      "  warnings.warn(\n",
      "C:\\Users\\ellen\\AppData\\Local\\R-MINI~1\\lib\\site-packages\\sklearn\\base.py:438: UserWarning: X has feature names, but RandomForestClassifier was fitted without feature names\n",
      "  warnings.warn(\n",
      "C:\\Users\\ellen\\AppData\\Local\\R-MINI~1\\lib\\site-packages\\sklearn\\base.py:438: UserWarning: X has feature names, but RandomForestClassifier was fitted without feature names\n",
      "  warnings.warn(\n",
      "C:\\Users\\ellen\\AppData\\Local\\R-MINI~1\\lib\\site-packages\\sklearn\\base.py:438: UserWarning: X has feature names, but RandomForestClassifier was fitted without feature names\n",
      "  warnings.warn(\n",
      "C:\\Users\\ellen\\AppData\\Local\\R-MINI~1\\lib\\site-packages\\sklearn\\base.py:438: UserWarning: X has feature names, but RandomForestClassifier was fitted without feature names\n",
      "  warnings.warn(\n",
      "C:\\Users\\ellen\\AppData\\Local\\R-MINI~1\\lib\\site-packages\\sklearn\\base.py:438: UserWarning: X has feature names, but RandomForestClassifier was fitted without feature names\n",
      "  warnings.warn(\n",
      "C:\\Users\\ellen\\AppData\\Local\\R-MINI~1\\lib\\site-packages\\sklearn\\base.py:438: UserWarning: X has feature names, but RandomForestClassifier was fitted without feature names\n",
      "  warnings.warn(\n",
      "C:\\Users\\ellen\\AppData\\Local\\R-MINI~1\\lib\\site-packages\\sklearn\\base.py:438: UserWarning: X has feature names, but RandomForestClassifier was fitted without feature names\n",
      "  warnings.warn(\n",
      "C:\\Users\\ellen\\AppData\\Local\\R-MINI~1\\lib\\site-packages\\sklearn\\base.py:438: UserWarning: X has feature names, but RandomForestClassifier was fitted without feature names\n",
      "  warnings.warn(\n",
      "C:\\Users\\ellen\\AppData\\Local\\R-MINI~1\\lib\\site-packages\\sklearn\\base.py:438: UserWarning: X has feature names, but RandomForestClassifier was fitted without feature names\n",
      "  warnings.warn(\n"
     ]
    },
    {
     "name": "stderr",
     "output_type": "stream",
     "text": [
      "C:\\Users\\ellen\\AppData\\Local\\R-MINI~1\\lib\\site-packages\\sklearn\\base.py:438: UserWarning: X has feature names, but RandomForestClassifier was fitted without feature names\n",
      "  warnings.warn(\n",
      "C:\\Users\\ellen\\AppData\\Local\\R-MINI~1\\lib\\site-packages\\sklearn\\base.py:438: UserWarning: X has feature names, but RandomForestClassifier was fitted without feature names\n",
      "  warnings.warn(\n",
      "C:\\Users\\ellen\\AppData\\Local\\R-MINI~1\\lib\\site-packages\\sklearn\\base.py:438: UserWarning: X has feature names, but RandomForestClassifier was fitted without feature names\n",
      "  warnings.warn(\n",
      "C:\\Users\\ellen\\AppData\\Local\\R-MINI~1\\lib\\site-packages\\sklearn\\base.py:438: UserWarning: X has feature names, but RandomForestClassifier was fitted without feature names\n",
      "  warnings.warn(\n",
      "C:\\Users\\ellen\\AppData\\Local\\R-MINI~1\\lib\\site-packages\\sklearn\\base.py:438: UserWarning: X has feature names, but RandomForestClassifier was fitted without feature names\n",
      "  warnings.warn(\n",
      "C:\\Users\\ellen\\AppData\\Local\\R-MINI~1\\lib\\site-packages\\sklearn\\base.py:438: UserWarning: X has feature names, but RandomForestClassifier was fitted without feature names\n",
      "  warnings.warn(\n",
      "C:\\Users\\ellen\\AppData\\Local\\R-MINI~1\\lib\\site-packages\\sklearn\\base.py:438: UserWarning: X has feature names, but RandomForestClassifier was fitted without feature names\n",
      "  warnings.warn(\n",
      "C:\\Users\\ellen\\AppData\\Local\\R-MINI~1\\lib\\site-packages\\sklearn\\base.py:438: UserWarning: X has feature names, but RandomForestClassifier was fitted without feature names\n",
      "  warnings.warn(\n",
      "C:\\Users\\ellen\\AppData\\Local\\R-MINI~1\\lib\\site-packages\\sklearn\\base.py:438: UserWarning: X has feature names, but RandomForestClassifier was fitted without feature names\n",
      "  warnings.warn(\n",
      "C:\\Users\\ellen\\AppData\\Local\\R-MINI~1\\lib\\site-packages\\sklearn\\base.py:438: UserWarning: X has feature names, but RandomForestClassifier was fitted without feature names\n",
      "  warnings.warn(\n",
      "C:\\Users\\ellen\\AppData\\Local\\R-MINI~1\\lib\\site-packages\\sklearn\\base.py:438: UserWarning: X has feature names, but RandomForestClassifier was fitted without feature names\n",
      "  warnings.warn(\n",
      "C:\\Users\\ellen\\AppData\\Local\\R-MINI~1\\lib\\site-packages\\sklearn\\base.py:438: UserWarning: X has feature names, but RandomForestClassifier was fitted without feature names\n",
      "  warnings.warn(\n",
      "C:\\Users\\ellen\\AppData\\Local\\R-MINI~1\\lib\\site-packages\\sklearn\\base.py:438: UserWarning: X has feature names, but RandomForestClassifier was fitted without feature names\n",
      "  warnings.warn(\n",
      "C:\\Users\\ellen\\AppData\\Local\\R-MINI~1\\lib\\site-packages\\sklearn\\base.py:438: UserWarning: X has feature names, but RandomForestClassifier was fitted without feature names\n",
      "  warnings.warn(\n",
      "C:\\Users\\ellen\\AppData\\Local\\R-MINI~1\\lib\\site-packages\\sklearn\\base.py:438: UserWarning: X has feature names, but RandomForestClassifier was fitted without feature names\n",
      "  warnings.warn(\n",
      "C:\\Users\\ellen\\AppData\\Local\\R-MINI~1\\lib\\site-packages\\sklearn\\base.py:438: UserWarning: X has feature names, but RandomForestClassifier was fitted without feature names\n",
      "  warnings.warn(\n",
      "C:\\Users\\ellen\\AppData\\Local\\R-MINI~1\\lib\\site-packages\\sklearn\\base.py:438: UserWarning: X has feature names, but RandomForestClassifier was fitted without feature names\n",
      "  warnings.warn(\n",
      "C:\\Users\\ellen\\AppData\\Local\\R-MINI~1\\lib\\site-packages\\sklearn\\base.py:438: UserWarning: X has feature names, but RandomForestClassifier was fitted without feature names\n",
      "  warnings.warn(\n",
      "C:\\Users\\ellen\\AppData\\Local\\R-MINI~1\\lib\\site-packages\\sklearn\\base.py:438: UserWarning: X has feature names, but RandomForestClassifier was fitted without feature names\n",
      "  warnings.warn(\n",
      "C:\\Users\\ellen\\AppData\\Local\\R-MINI~1\\lib\\site-packages\\sklearn\\base.py:438: UserWarning: X has feature names, but RandomForestClassifier was fitted without feature names\n",
      "  warnings.warn(\n",
      "C:\\Users\\ellen\\AppData\\Local\\R-MINI~1\\lib\\site-packages\\sklearn\\base.py:438: UserWarning: X has feature names, but RandomForestClassifier was fitted without feature names\n",
      "  warnings.warn(\n",
      "C:\\Users\\ellen\\AppData\\Local\\R-MINI~1\\lib\\site-packages\\sklearn\\base.py:438: UserWarning: X has feature names, but RandomForestClassifier was fitted without feature names\n",
      "  warnings.warn(\n",
      "C:\\Users\\ellen\\AppData\\Local\\R-MINI~1\\lib\\site-packages\\sklearn\\base.py:438: UserWarning: X has feature names, but RandomForestClassifier was fitted without feature names\n",
      "  warnings.warn(\n",
      "C:\\Users\\ellen\\AppData\\Local\\R-MINI~1\\lib\\site-packages\\sklearn\\base.py:438: UserWarning: X has feature names, but RandomForestClassifier was fitted without feature names\n",
      "  warnings.warn(\n",
      "C:\\Users\\ellen\\AppData\\Local\\R-MINI~1\\lib\\site-packages\\sklearn\\base.py:438: UserWarning: X has feature names, but RandomForestClassifier was fitted without feature names\n",
      "  warnings.warn(\n",
      "C:\\Users\\ellen\\AppData\\Local\\R-MINI~1\\lib\\site-packages\\sklearn\\base.py:438: UserWarning: X has feature names, but RandomForestClassifier was fitted without feature names\n",
      "  warnings.warn(\n",
      "C:\\Users\\ellen\\AppData\\Local\\R-MINI~1\\lib\\site-packages\\sklearn\\base.py:438: UserWarning: X has feature names, but RandomForestClassifier was fitted without feature names\n",
      "  warnings.warn(\n",
      "C:\\Users\\ellen\\AppData\\Local\\R-MINI~1\\lib\\site-packages\\sklearn\\base.py:438: UserWarning: X has feature names, but RandomForestClassifier was fitted without feature names\n",
      "  warnings.warn(\n",
      "C:\\Users\\ellen\\AppData\\Local\\R-MINI~1\\lib\\site-packages\\sklearn\\base.py:438: UserWarning: X has feature names, but RandomForestClassifier was fitted without feature names\n",
      "  warnings.warn(\n",
      "C:\\Users\\ellen\\AppData\\Local\\R-MINI~1\\lib\\site-packages\\sklearn\\base.py:438: UserWarning: X has feature names, but RandomForestClassifier was fitted without feature names\n",
      "  warnings.warn(\n",
      "C:\\Users\\ellen\\AppData\\Local\\R-MINI~1\\lib\\site-packages\\sklearn\\base.py:438: UserWarning: X has feature names, but RandomForestClassifier was fitted without feature names\n",
      "  warnings.warn(\n",
      "C:\\Users\\ellen\\AppData\\Local\\R-MINI~1\\lib\\site-packages\\sklearn\\base.py:438: UserWarning: X has feature names, but RandomForestClassifier was fitted without feature names\n",
      "  warnings.warn(\n",
      "C:\\Users\\ellen\\AppData\\Local\\R-MINI~1\\lib\\site-packages\\sklearn\\base.py:438: UserWarning: X has feature names, but RandomForestClassifier was fitted without feature names\n",
      "  warnings.warn(\n",
      "C:\\Users\\ellen\\AppData\\Local\\R-MINI~1\\lib\\site-packages\\sklearn\\base.py:438: UserWarning: X has feature names, but RandomForestClassifier was fitted without feature names\n",
      "  warnings.warn(\n",
      "C:\\Users\\ellen\\AppData\\Local\\R-MINI~1\\lib\\site-packages\\sklearn\\base.py:438: UserWarning: X has feature names, but RandomForestClassifier was fitted without feature names\n",
      "  warnings.warn(\n",
      "C:\\Users\\ellen\\AppData\\Local\\R-MINI~1\\lib\\site-packages\\sklearn\\base.py:438: UserWarning: X has feature names, but RandomForestClassifier was fitted without feature names\n",
      "  warnings.warn(\n",
      "C:\\Users\\ellen\\AppData\\Local\\R-MINI~1\\lib\\site-packages\\sklearn\\base.py:438: UserWarning: X has feature names, but RandomForestClassifier was fitted without feature names\n",
      "  warnings.warn(\n",
      "C:\\Users\\ellen\\AppData\\Local\\R-MINI~1\\lib\\site-packages\\sklearn\\base.py:438: UserWarning: X has feature names, but RandomForestClassifier was fitted without feature names\n",
      "  warnings.warn(\n",
      "C:\\Users\\ellen\\AppData\\Local\\R-MINI~1\\lib\\site-packages\\sklearn\\base.py:438: UserWarning: X has feature names, but RandomForestClassifier was fitted without feature names\n",
      "  warnings.warn(\n",
      "C:\\Users\\ellen\\AppData\\Local\\R-MINI~1\\lib\\site-packages\\sklearn\\base.py:438: UserWarning: X has feature names, but RandomForestClassifier was fitted without feature names\n",
      "  warnings.warn(\n",
      "C:\\Users\\ellen\\AppData\\Local\\R-MINI~1\\lib\\site-packages\\sklearn\\base.py:438: UserWarning: X has feature names, but RandomForestClassifier was fitted without feature names\n",
      "  warnings.warn(\n",
      "C:\\Users\\ellen\\AppData\\Local\\R-MINI~1\\lib\\site-packages\\sklearn\\base.py:438: UserWarning: X has feature names, but RandomForestClassifier was fitted without feature names\n",
      "  warnings.warn(\n",
      "C:\\Users\\ellen\\AppData\\Local\\R-MINI~1\\lib\\site-packages\\sklearn\\base.py:438: UserWarning: X has feature names, but RandomForestClassifier was fitted without feature names\n",
      "  warnings.warn(\n",
      "C:\\Users\\ellen\\AppData\\Local\\R-MINI~1\\lib\\site-packages\\sklearn\\base.py:438: UserWarning: X has feature names, but RandomForestClassifier was fitted without feature names\n",
      "  warnings.warn(\n"
     ]
    },
    {
     "name": "stderr",
     "output_type": "stream",
     "text": [
      "C:\\Users\\ellen\\AppData\\Local\\R-MINI~1\\lib\\site-packages\\sklearn\\base.py:438: UserWarning: X has feature names, but RandomForestClassifier was fitted without feature names\n",
      "  warnings.warn(\n",
      "C:\\Users\\ellen\\AppData\\Local\\R-MINI~1\\lib\\site-packages\\sklearn\\base.py:438: UserWarning: X has feature names, but RandomForestClassifier was fitted without feature names\n",
      "  warnings.warn(\n",
      "C:\\Users\\ellen\\AppData\\Local\\R-MINI~1\\lib\\site-packages\\sklearn\\base.py:438: UserWarning: X has feature names, but RandomForestClassifier was fitted without feature names\n",
      "  warnings.warn(\n",
      "C:\\Users\\ellen\\AppData\\Local\\R-MINI~1\\lib\\site-packages\\sklearn\\base.py:438: UserWarning: X has feature names, but RandomForestClassifier was fitted without feature names\n",
      "  warnings.warn(\n",
      "C:\\Users\\ellen\\AppData\\Local\\R-MINI~1\\lib\\site-packages\\sklearn\\base.py:438: UserWarning: X has feature names, but RandomForestClassifier was fitted without feature names\n",
      "  warnings.warn(\n",
      "C:\\Users\\ellen\\AppData\\Local\\R-MINI~1\\lib\\site-packages\\sklearn\\base.py:438: UserWarning: X has feature names, but RandomForestClassifier was fitted without feature names\n",
      "  warnings.warn(\n",
      "C:\\Users\\ellen\\AppData\\Local\\R-MINI~1\\lib\\site-packages\\sklearn\\base.py:438: UserWarning: X has feature names, but RandomForestClassifier was fitted without feature names\n",
      "  warnings.warn(\n",
      "C:\\Users\\ellen\\AppData\\Local\\R-MINI~1\\lib\\site-packages\\sklearn\\base.py:438: UserWarning: X has feature names, but RandomForestClassifier was fitted without feature names\n",
      "  warnings.warn(\n",
      "C:\\Users\\ellen\\AppData\\Local\\R-MINI~1\\lib\\site-packages\\sklearn\\base.py:438: UserWarning: X has feature names, but RandomForestClassifier was fitted without feature names\n",
      "  warnings.warn(\n",
      "C:\\Users\\ellen\\AppData\\Local\\R-MINI~1\\lib\\site-packages\\sklearn\\base.py:438: UserWarning: X has feature names, but RandomForestClassifier was fitted without feature names\n",
      "  warnings.warn(\n",
      "C:\\Users\\ellen\\AppData\\Local\\R-MINI~1\\lib\\site-packages\\sklearn\\base.py:438: UserWarning: X has feature names, but RandomForestClassifier was fitted without feature names\n",
      "  warnings.warn(\n",
      "C:\\Users\\ellen\\AppData\\Local\\R-MINI~1\\lib\\site-packages\\sklearn\\base.py:438: UserWarning: X has feature names, but RandomForestClassifier was fitted without feature names\n",
      "  warnings.warn(\n",
      "C:\\Users\\ellen\\AppData\\Local\\R-MINI~1\\lib\\site-packages\\sklearn\\base.py:438: UserWarning: X has feature names, but RandomForestClassifier was fitted without feature names\n",
      "  warnings.warn(\n",
      "C:\\Users\\ellen\\AppData\\Local\\R-MINI~1\\lib\\site-packages\\sklearn\\base.py:438: UserWarning: X has feature names, but RandomForestClassifier was fitted without feature names\n",
      "  warnings.warn(\n",
      "C:\\Users\\ellen\\AppData\\Local\\R-MINI~1\\lib\\site-packages\\sklearn\\base.py:438: UserWarning: X has feature names, but RandomForestClassifier was fitted without feature names\n",
      "  warnings.warn(\n",
      "C:\\Users\\ellen\\AppData\\Local\\R-MINI~1\\lib\\site-packages\\sklearn\\base.py:438: UserWarning: X has feature names, but RandomForestClassifier was fitted without feature names\n",
      "  warnings.warn(\n",
      "C:\\Users\\ellen\\AppData\\Local\\R-MINI~1\\lib\\site-packages\\sklearn\\base.py:438: UserWarning: X has feature names, but RandomForestClassifier was fitted without feature names\n",
      "  warnings.warn(\n",
      "C:\\Users\\ellen\\AppData\\Local\\R-MINI~1\\lib\\site-packages\\sklearn\\base.py:438: UserWarning: X has feature names, but RandomForestClassifier was fitted without feature names\n",
      "  warnings.warn(\n",
      "C:\\Users\\ellen\\AppData\\Local\\R-MINI~1\\lib\\site-packages\\sklearn\\base.py:438: UserWarning: X has feature names, but RandomForestClassifier was fitted without feature names\n",
      "  warnings.warn(\n",
      "C:\\Users\\ellen\\AppData\\Local\\R-MINI~1\\lib\\site-packages\\sklearn\\base.py:438: UserWarning: X has feature names, but RandomForestClassifier was fitted without feature names\n",
      "  warnings.warn(\n",
      "C:\\Users\\ellen\\AppData\\Local\\R-MINI~1\\lib\\site-packages\\sklearn\\base.py:438: UserWarning: X has feature names, but RandomForestClassifier was fitted without feature names\n",
      "  warnings.warn(\n",
      "C:\\Users\\ellen\\AppData\\Local\\R-MINI~1\\lib\\site-packages\\sklearn\\base.py:438: UserWarning: X has feature names, but RandomForestClassifier was fitted without feature names\n",
      "  warnings.warn(\n",
      "C:\\Users\\ellen\\AppData\\Local\\R-MINI~1\\lib\\site-packages\\sklearn\\base.py:438: UserWarning: X has feature names, but RandomForestClassifier was fitted without feature names\n",
      "  warnings.warn(\n",
      "C:\\Users\\ellen\\AppData\\Local\\R-MINI~1\\lib\\site-packages\\sklearn\\base.py:438: UserWarning: X has feature names, but RandomForestClassifier was fitted without feature names\n",
      "  warnings.warn(\n",
      "C:\\Users\\ellen\\AppData\\Local\\R-MINI~1\\lib\\site-packages\\sklearn\\base.py:438: UserWarning: X has feature names, but RandomForestClassifier was fitted without feature names\n",
      "  warnings.warn(\n",
      "C:\\Users\\ellen\\AppData\\Local\\R-MINI~1\\lib\\site-packages\\sklearn\\base.py:438: UserWarning: X has feature names, but RandomForestClassifier was fitted without feature names\n",
      "  warnings.warn(\n",
      "C:\\Users\\ellen\\AppData\\Local\\R-MINI~1\\lib\\site-packages\\sklearn\\base.py:438: UserWarning: X has feature names, but RandomForestClassifier was fitted without feature names\n",
      "  warnings.warn(\n",
      "C:\\Users\\ellen\\AppData\\Local\\R-MINI~1\\lib\\site-packages\\sklearn\\base.py:438: UserWarning: X has feature names, but RandomForestClassifier was fitted without feature names\n",
      "  warnings.warn(\n",
      "C:\\Users\\ellen\\AppData\\Local\\R-MINI~1\\lib\\site-packages\\sklearn\\base.py:438: UserWarning: X has feature names, but RandomForestClassifier was fitted without feature names\n",
      "  warnings.warn(\n",
      "C:\\Users\\ellen\\AppData\\Local\\R-MINI~1\\lib\\site-packages\\sklearn\\base.py:438: UserWarning: X has feature names, but RandomForestClassifier was fitted without feature names\n",
      "  warnings.warn(\n",
      "C:\\Users\\ellen\\AppData\\Local\\R-MINI~1\\lib\\site-packages\\sklearn\\base.py:438: UserWarning: X has feature names, but RandomForestClassifier was fitted without feature names\n",
      "  warnings.warn(\n",
      "C:\\Users\\ellen\\AppData\\Local\\R-MINI~1\\lib\\site-packages\\sklearn\\base.py:438: UserWarning: X has feature names, but RandomForestClassifier was fitted without feature names\n",
      "  warnings.warn(\n",
      "C:\\Users\\ellen\\AppData\\Local\\R-MINI~1\\lib\\site-packages\\sklearn\\base.py:438: UserWarning: X has feature names, but RandomForestClassifier was fitted without feature names\n",
      "  warnings.warn(\n",
      "C:\\Users\\ellen\\AppData\\Local\\R-MINI~1\\lib\\site-packages\\sklearn\\base.py:438: UserWarning: X has feature names, but RandomForestClassifier was fitted without feature names\n",
      "  warnings.warn(\n",
      "C:\\Users\\ellen\\AppData\\Local\\R-MINI~1\\lib\\site-packages\\sklearn\\base.py:438: UserWarning: X has feature names, but RandomForestClassifier was fitted without feature names\n",
      "  warnings.warn(\n",
      "C:\\Users\\ellen\\AppData\\Local\\R-MINI~1\\lib\\site-packages\\sklearn\\base.py:438: UserWarning: X has feature names, but RandomForestClassifier was fitted without feature names\n",
      "  warnings.warn(\n",
      "C:\\Users\\ellen\\AppData\\Local\\R-MINI~1\\lib\\site-packages\\sklearn\\base.py:438: UserWarning: X has feature names, but RandomForestClassifier was fitted without feature names\n",
      "  warnings.warn(\n",
      "C:\\Users\\ellen\\AppData\\Local\\R-MINI~1\\lib\\site-packages\\sklearn\\base.py:438: UserWarning: X has feature names, but RandomForestClassifier was fitted without feature names\n",
      "  warnings.warn(\n",
      "C:\\Users\\ellen\\AppData\\Local\\R-MINI~1\\lib\\site-packages\\sklearn\\base.py:438: UserWarning: X has feature names, but RandomForestClassifier was fitted without feature names\n",
      "  warnings.warn(\n",
      "C:\\Users\\ellen\\AppData\\Local\\R-MINI~1\\lib\\site-packages\\sklearn\\base.py:438: UserWarning: X has feature names, but RandomForestClassifier was fitted without feature names\n",
      "  warnings.warn(\n",
      "C:\\Users\\ellen\\AppData\\Local\\R-MINI~1\\lib\\site-packages\\sklearn\\base.py:438: UserWarning: X has feature names, but RandomForestClassifier was fitted without feature names\n",
      "  warnings.warn(\n",
      "C:\\Users\\ellen\\AppData\\Local\\R-MINI~1\\lib\\site-packages\\sklearn\\base.py:438: UserWarning: X has feature names, but RandomForestClassifier was fitted without feature names\n",
      "  warnings.warn(\n",
      "C:\\Users\\ellen\\AppData\\Local\\R-MINI~1\\lib\\site-packages\\sklearn\\base.py:438: UserWarning: X has feature names, but RandomForestClassifier was fitted without feature names\n",
      "  warnings.warn(\n",
      "C:\\Users\\ellen\\AppData\\Local\\R-MINI~1\\lib\\site-packages\\sklearn\\base.py:438: UserWarning: X has feature names, but RandomForestClassifier was fitted without feature names\n",
      "  warnings.warn(\n"
     ]
    },
    {
     "name": "stderr",
     "output_type": "stream",
     "text": [
      "C:\\Users\\ellen\\AppData\\Local\\R-MINI~1\\lib\\site-packages\\sklearn\\base.py:438: UserWarning: X has feature names, but RandomForestClassifier was fitted without feature names\n",
      "  warnings.warn(\n",
      "C:\\Users\\ellen\\AppData\\Local\\R-MINI~1\\lib\\site-packages\\sklearn\\base.py:438: UserWarning: X has feature names, but RandomForestClassifier was fitted without feature names\n",
      "  warnings.warn(\n",
      "C:\\Users\\ellen\\AppData\\Local\\R-MINI~1\\lib\\site-packages\\sklearn\\base.py:438: UserWarning: X has feature names, but RandomForestClassifier was fitted without feature names\n",
      "  warnings.warn(\n",
      "C:\\Users\\ellen\\AppData\\Local\\R-MINI~1\\lib\\site-packages\\sklearn\\base.py:438: UserWarning: X has feature names, but RandomForestClassifier was fitted without feature names\n",
      "  warnings.warn(\n",
      "C:\\Users\\ellen\\AppData\\Local\\R-MINI~1\\lib\\site-packages\\sklearn\\base.py:438: UserWarning: X has feature names, but RandomForestClassifier was fitted without feature names\n",
      "  warnings.warn(\n",
      "C:\\Users\\ellen\\AppData\\Local\\R-MINI~1\\lib\\site-packages\\sklearn\\base.py:438: UserWarning: X has feature names, but RandomForestClassifier was fitted without feature names\n",
      "  warnings.warn(\n",
      "C:\\Users\\ellen\\AppData\\Local\\R-MINI~1\\lib\\site-packages\\sklearn\\base.py:438: UserWarning: X has feature names, but RandomForestClassifier was fitted without feature names\n",
      "  warnings.warn(\n",
      "C:\\Users\\ellen\\AppData\\Local\\R-MINI~1\\lib\\site-packages\\sklearn\\base.py:438: UserWarning: X has feature names, but RandomForestClassifier was fitted without feature names\n",
      "  warnings.warn(\n",
      "C:\\Users\\ellen\\AppData\\Local\\R-MINI~1\\lib\\site-packages\\sklearn\\base.py:438: UserWarning: X has feature names, but RandomForestClassifier was fitted without feature names\n",
      "  warnings.warn(\n",
      "C:\\Users\\ellen\\AppData\\Local\\R-MINI~1\\lib\\site-packages\\sklearn\\base.py:438: UserWarning: X has feature names, but RandomForestClassifier was fitted without feature names\n",
      "  warnings.warn(\n",
      "C:\\Users\\ellen\\AppData\\Local\\R-MINI~1\\lib\\site-packages\\sklearn\\base.py:438: UserWarning: X has feature names, but RandomForestClassifier was fitted without feature names\n",
      "  warnings.warn(\n",
      "C:\\Users\\ellen\\AppData\\Local\\R-MINI~1\\lib\\site-packages\\sklearn\\base.py:438: UserWarning: X has feature names, but RandomForestClassifier was fitted without feature names\n",
      "  warnings.warn(\n",
      "C:\\Users\\ellen\\AppData\\Local\\R-MINI~1\\lib\\site-packages\\sklearn\\base.py:438: UserWarning: X has feature names, but RandomForestClassifier was fitted without feature names\n",
      "  warnings.warn(\n",
      "C:\\Users\\ellen\\AppData\\Local\\R-MINI~1\\lib\\site-packages\\sklearn\\base.py:438: UserWarning: X has feature names, but RandomForestClassifier was fitted without feature names\n",
      "  warnings.warn(\n",
      "C:\\Users\\ellen\\AppData\\Local\\R-MINI~1\\lib\\site-packages\\sklearn\\base.py:438: UserWarning: X has feature names, but RandomForestClassifier was fitted without feature names\n",
      "  warnings.warn(\n",
      "C:\\Users\\ellen\\AppData\\Local\\R-MINI~1\\lib\\site-packages\\sklearn\\base.py:438: UserWarning: X has feature names, but RandomForestClassifier was fitted without feature names\n",
      "  warnings.warn(\n",
      "C:\\Users\\ellen\\AppData\\Local\\R-MINI~1\\lib\\site-packages\\sklearn\\base.py:438: UserWarning: X has feature names, but RandomForestClassifier was fitted without feature names\n",
      "  warnings.warn(\n",
      "C:\\Users\\ellen\\AppData\\Local\\R-MINI~1\\lib\\site-packages\\sklearn\\base.py:438: UserWarning: X has feature names, but RandomForestClassifier was fitted without feature names\n",
      "  warnings.warn(\n",
      "C:\\Users\\ellen\\AppData\\Local\\R-MINI~1\\lib\\site-packages\\sklearn\\base.py:438: UserWarning: X has feature names, but RandomForestClassifier was fitted without feature names\n",
      "  warnings.warn(\n",
      "C:\\Users\\ellen\\AppData\\Local\\R-MINI~1\\lib\\site-packages\\sklearn\\base.py:438: UserWarning: X has feature names, but RandomForestClassifier was fitted without feature names\n",
      "  warnings.warn(\n",
      "C:\\Users\\ellen\\AppData\\Local\\R-MINI~1\\lib\\site-packages\\sklearn\\base.py:438: UserWarning: X has feature names, but RandomForestClassifier was fitted without feature names\n",
      "  warnings.warn(\n",
      "C:\\Users\\ellen\\AppData\\Local\\R-MINI~1\\lib\\site-packages\\sklearn\\base.py:438: UserWarning: X has feature names, but RandomForestClassifier was fitted without feature names\n",
      "  warnings.warn(\n",
      "C:\\Users\\ellen\\AppData\\Local\\R-MINI~1\\lib\\site-packages\\sklearn\\base.py:438: UserWarning: X has feature names, but RandomForestClassifier was fitted without feature names\n",
      "  warnings.warn(\n",
      "C:\\Users\\ellen\\AppData\\Local\\R-MINI~1\\lib\\site-packages\\sklearn\\base.py:438: UserWarning: X has feature names, but RandomForestClassifier was fitted without feature names\n",
      "  warnings.warn(\n",
      "C:\\Users\\ellen\\AppData\\Local\\R-MINI~1\\lib\\site-packages\\sklearn\\base.py:438: UserWarning: X has feature names, but RandomForestClassifier was fitted without feature names\n",
      "  warnings.warn(\n",
      "C:\\Users\\ellen\\AppData\\Local\\R-MINI~1\\lib\\site-packages\\sklearn\\base.py:438: UserWarning: X has feature names, but RandomForestClassifier was fitted without feature names\n",
      "  warnings.warn(\n",
      "C:\\Users\\ellen\\AppData\\Local\\R-MINI~1\\lib\\site-packages\\sklearn\\base.py:438: UserWarning: X has feature names, but RandomForestClassifier was fitted without feature names\n",
      "  warnings.warn(\n",
      "C:\\Users\\ellen\\AppData\\Local\\R-MINI~1\\lib\\site-packages\\sklearn\\base.py:438: UserWarning: X has feature names, but RandomForestClassifier was fitted without feature names\n",
      "  warnings.warn(\n",
      "C:\\Users\\ellen\\AppData\\Local\\R-MINI~1\\lib\\site-packages\\sklearn\\base.py:438: UserWarning: X has feature names, but RandomForestClassifier was fitted without feature names\n",
      "  warnings.warn(\n",
      "C:\\Users\\ellen\\AppData\\Local\\R-MINI~1\\lib\\site-packages\\sklearn\\base.py:438: UserWarning: X has feature names, but RandomForestClassifier was fitted without feature names\n",
      "  warnings.warn(\n",
      "C:\\Users\\ellen\\AppData\\Local\\R-MINI~1\\lib\\site-packages\\sklearn\\base.py:438: UserWarning: X has feature names, but RandomForestClassifier was fitted without feature names\n",
      "  warnings.warn(\n",
      "C:\\Users\\ellen\\AppData\\Local\\R-MINI~1\\lib\\site-packages\\sklearn\\base.py:438: UserWarning: X has feature names, but RandomForestClassifier was fitted without feature names\n",
      "  warnings.warn(\n",
      "C:\\Users\\ellen\\AppData\\Local\\R-MINI~1\\lib\\site-packages\\sklearn\\base.py:438: UserWarning: X has feature names, but RandomForestClassifier was fitted without feature names\n",
      "  warnings.warn(\n",
      "C:\\Users\\ellen\\AppData\\Local\\R-MINI~1\\lib\\site-packages\\sklearn\\base.py:438: UserWarning: X has feature names, but RandomForestClassifier was fitted without feature names\n",
      "  warnings.warn(\n",
      "C:\\Users\\ellen\\AppData\\Local\\R-MINI~1\\lib\\site-packages\\sklearn\\base.py:438: UserWarning: X has feature names, but RandomForestClassifier was fitted without feature names\n",
      "  warnings.warn(\n",
      "C:\\Users\\ellen\\AppData\\Local\\R-MINI~1\\lib\\site-packages\\sklearn\\base.py:438: UserWarning: X has feature names, but RandomForestClassifier was fitted without feature names\n",
      "  warnings.warn(\n",
      "C:\\Users\\ellen\\AppData\\Local\\R-MINI~1\\lib\\site-packages\\sklearn\\base.py:438: UserWarning: X has feature names, but RandomForestClassifier was fitted without feature names\n",
      "  warnings.warn(\n",
      "C:\\Users\\ellen\\AppData\\Local\\R-MINI~1\\lib\\site-packages\\sklearn\\base.py:438: UserWarning: X has feature names, but RandomForestClassifier was fitted without feature names\n",
      "  warnings.warn(\n",
      "C:\\Users\\ellen\\AppData\\Local\\R-MINI~1\\lib\\site-packages\\sklearn\\base.py:438: UserWarning: X has feature names, but RandomForestClassifier was fitted without feature names\n",
      "  warnings.warn(\n",
      "C:\\Users\\ellen\\AppData\\Local\\R-MINI~1\\lib\\site-packages\\sklearn\\base.py:438: UserWarning: X has feature names, but RandomForestClassifier was fitted without feature names\n",
      "  warnings.warn(\n",
      "C:\\Users\\ellen\\AppData\\Local\\R-MINI~1\\lib\\site-packages\\sklearn\\base.py:438: UserWarning: X has feature names, but RandomForestClassifier was fitted without feature names\n",
      "  warnings.warn(\n",
      "C:\\Users\\ellen\\AppData\\Local\\R-MINI~1\\lib\\site-packages\\sklearn\\base.py:438: UserWarning: X has feature names, but RandomForestClassifier was fitted without feature names\n",
      "  warnings.warn(\n",
      "C:\\Users\\ellen\\AppData\\Local\\R-MINI~1\\lib\\site-packages\\sklearn\\base.py:438: UserWarning: X has feature names, but RandomForestClassifier was fitted without feature names\n",
      "  warnings.warn(\n",
      "C:\\Users\\ellen\\AppData\\Local\\R-MINI~1\\lib\\site-packages\\sklearn\\base.py:438: UserWarning: X has feature names, but RandomForestClassifier was fitted without feature names\n",
      "  warnings.warn(\n"
     ]
    },
    {
     "name": "stderr",
     "output_type": "stream",
     "text": [
      "C:\\Users\\ellen\\AppData\\Local\\R-MINI~1\\lib\\site-packages\\sklearn\\base.py:438: UserWarning: X has feature names, but RandomForestClassifier was fitted without feature names\n",
      "  warnings.warn(\n",
      "C:\\Users\\ellen\\AppData\\Local\\R-MINI~1\\lib\\site-packages\\sklearn\\base.py:438: UserWarning: X has feature names, but RandomForestClassifier was fitted without feature names\n",
      "  warnings.warn(\n",
      "C:\\Users\\ellen\\AppData\\Local\\R-MINI~1\\lib\\site-packages\\sklearn\\base.py:438: UserWarning: X has feature names, but RandomForestClassifier was fitted without feature names\n",
      "  warnings.warn(\n",
      "C:\\Users\\ellen\\AppData\\Local\\R-MINI~1\\lib\\site-packages\\sklearn\\base.py:438: UserWarning: X has feature names, but RandomForestClassifier was fitted without feature names\n",
      "  warnings.warn(\n",
      "C:\\Users\\ellen\\AppData\\Local\\R-MINI~1\\lib\\site-packages\\sklearn\\base.py:438: UserWarning: X has feature names, but RandomForestClassifier was fitted without feature names\n",
      "  warnings.warn(\n",
      "C:\\Users\\ellen\\AppData\\Local\\R-MINI~1\\lib\\site-packages\\sklearn\\base.py:438: UserWarning: X has feature names, but RandomForestClassifier was fitted without feature names\n",
      "  warnings.warn(\n",
      "C:\\Users\\ellen\\AppData\\Local\\R-MINI~1\\lib\\site-packages\\sklearn\\base.py:438: UserWarning: X has feature names, but RandomForestClassifier was fitted without feature names\n",
      "  warnings.warn(\n",
      "C:\\Users\\ellen\\AppData\\Local\\R-MINI~1\\lib\\site-packages\\sklearn\\base.py:438: UserWarning: X has feature names, but RandomForestClassifier was fitted without feature names\n",
      "  warnings.warn(\n",
      "C:\\Users\\ellen\\AppData\\Local\\R-MINI~1\\lib\\site-packages\\sklearn\\base.py:438: UserWarning: X has feature names, but RandomForestClassifier was fitted without feature names\n",
      "  warnings.warn(\n",
      "C:\\Users\\ellen\\AppData\\Local\\R-MINI~1\\lib\\site-packages\\sklearn\\base.py:438: UserWarning: X has feature names, but RandomForestClassifier was fitted without feature names\n",
      "  warnings.warn(\n",
      "C:\\Users\\ellen\\AppData\\Local\\R-MINI~1\\lib\\site-packages\\sklearn\\base.py:438: UserWarning: X has feature names, but RandomForestClassifier was fitted without feature names\n",
      "  warnings.warn(\n",
      "C:\\Users\\ellen\\AppData\\Local\\R-MINI~1\\lib\\site-packages\\sklearn\\base.py:438: UserWarning: X has feature names, but RandomForestClassifier was fitted without feature names\n",
      "  warnings.warn(\n",
      "C:\\Users\\ellen\\AppData\\Local\\R-MINI~1\\lib\\site-packages\\sklearn\\base.py:438: UserWarning: X has feature names, but RandomForestClassifier was fitted without feature names\n",
      "  warnings.warn(\n",
      "C:\\Users\\ellen\\AppData\\Local\\R-MINI~1\\lib\\site-packages\\sklearn\\base.py:438: UserWarning: X has feature names, but RandomForestClassifier was fitted without feature names\n",
      "  warnings.warn(\n",
      "C:\\Users\\ellen\\AppData\\Local\\R-MINI~1\\lib\\site-packages\\sklearn\\base.py:438: UserWarning: X has feature names, but RandomForestClassifier was fitted without feature names\n",
      "  warnings.warn(\n",
      "C:\\Users\\ellen\\AppData\\Local\\R-MINI~1\\lib\\site-packages\\sklearn\\base.py:438: UserWarning: X has feature names, but RandomForestClassifier was fitted without feature names\n",
      "  warnings.warn(\n",
      "C:\\Users\\ellen\\AppData\\Local\\R-MINI~1\\lib\\site-packages\\sklearn\\base.py:438: UserWarning: X has feature names, but RandomForestClassifier was fitted without feature names\n",
      "  warnings.warn(\n",
      "C:\\Users\\ellen\\AppData\\Local\\R-MINI~1\\lib\\site-packages\\sklearn\\base.py:438: UserWarning: X has feature names, but RandomForestClassifier was fitted without feature names\n",
      "  warnings.warn(\n",
      "C:\\Users\\ellen\\AppData\\Local\\R-MINI~1\\lib\\site-packages\\sklearn\\base.py:438: UserWarning: X has feature names, but RandomForestClassifier was fitted without feature names\n",
      "  warnings.warn(\n",
      "C:\\Users\\ellen\\AppData\\Local\\R-MINI~1\\lib\\site-packages\\sklearn\\base.py:438: UserWarning: X has feature names, but RandomForestClassifier was fitted without feature names\n",
      "  warnings.warn(\n",
      "C:\\Users\\ellen\\AppData\\Local\\R-MINI~1\\lib\\site-packages\\sklearn\\base.py:438: UserWarning: X has feature names, but RandomForestClassifier was fitted without feature names\n",
      "  warnings.warn(\n",
      "C:\\Users\\ellen\\AppData\\Local\\R-MINI~1\\lib\\site-packages\\sklearn\\base.py:438: UserWarning: X has feature names, but RandomForestClassifier was fitted without feature names\n",
      "  warnings.warn(\n",
      "C:\\Users\\ellen\\AppData\\Local\\R-MINI~1\\lib\\site-packages\\sklearn\\base.py:438: UserWarning: X has feature names, but RandomForestClassifier was fitted without feature names\n",
      "  warnings.warn(\n",
      "C:\\Users\\ellen\\AppData\\Local\\R-MINI~1\\lib\\site-packages\\sklearn\\base.py:438: UserWarning: X has feature names, but RandomForestClassifier was fitted without feature names\n",
      "  warnings.warn(\n",
      "C:\\Users\\ellen\\AppData\\Local\\R-MINI~1\\lib\\site-packages\\sklearn\\base.py:438: UserWarning: X has feature names, but RandomForestClassifier was fitted without feature names\n",
      "  warnings.warn(\n",
      "C:\\Users\\ellen\\AppData\\Local\\R-MINI~1\\lib\\site-packages\\sklearn\\base.py:438: UserWarning: X has feature names, but RandomForestClassifier was fitted without feature names\n",
      "  warnings.warn(\n",
      "C:\\Users\\ellen\\AppData\\Local\\R-MINI~1\\lib\\site-packages\\sklearn\\base.py:438: UserWarning: X has feature names, but RandomForestClassifier was fitted without feature names\n",
      "  warnings.warn(\n",
      "C:\\Users\\ellen\\AppData\\Local\\R-MINI~1\\lib\\site-packages\\sklearn\\base.py:438: UserWarning: X has feature names, but RandomForestClassifier was fitted without feature names\n",
      "  warnings.warn(\n",
      "C:\\Users\\ellen\\AppData\\Local\\R-MINI~1\\lib\\site-packages\\sklearn\\base.py:438: UserWarning: X has feature names, but RandomForestClassifier was fitted without feature names\n",
      "  warnings.warn(\n",
      "C:\\Users\\ellen\\AppData\\Local\\R-MINI~1\\lib\\site-packages\\sklearn\\base.py:438: UserWarning: X has feature names, but RandomForestClassifier was fitted without feature names\n",
      "  warnings.warn(\n",
      "C:\\Users\\ellen\\AppData\\Local\\R-MINI~1\\lib\\site-packages\\sklearn\\base.py:438: UserWarning: X has feature names, but RandomForestClassifier was fitted without feature names\n",
      "  warnings.warn(\n",
      "C:\\Users\\ellen\\AppData\\Local\\R-MINI~1\\lib\\site-packages\\sklearn\\base.py:438: UserWarning: X has feature names, but RandomForestClassifier was fitted without feature names\n",
      "  warnings.warn(\n",
      "C:\\Users\\ellen\\AppData\\Local\\R-MINI~1\\lib\\site-packages\\sklearn\\base.py:438: UserWarning: X has feature names, but RandomForestClassifier was fitted without feature names\n",
      "  warnings.warn(\n",
      "C:\\Users\\ellen\\AppData\\Local\\R-MINI~1\\lib\\site-packages\\sklearn\\base.py:438: UserWarning: X has feature names, but RandomForestClassifier was fitted without feature names\n",
      "  warnings.warn(\n",
      "C:\\Users\\ellen\\AppData\\Local\\R-MINI~1\\lib\\site-packages\\sklearn\\base.py:438: UserWarning: X has feature names, but RandomForestClassifier was fitted without feature names\n",
      "  warnings.warn(\n",
      "C:\\Users\\ellen\\AppData\\Local\\R-MINI~1\\lib\\site-packages\\sklearn\\base.py:438: UserWarning: X has feature names, but RandomForestClassifier was fitted without feature names\n",
      "  warnings.warn(\n",
      "C:\\Users\\ellen\\AppData\\Local\\R-MINI~1\\lib\\site-packages\\sklearn\\base.py:438: UserWarning: X has feature names, but RandomForestClassifier was fitted without feature names\n",
      "  warnings.warn(\n",
      "C:\\Users\\ellen\\AppData\\Local\\R-MINI~1\\lib\\site-packages\\sklearn\\base.py:438: UserWarning: X has feature names, but RandomForestClassifier was fitted without feature names\n",
      "  warnings.warn(\n",
      "C:\\Users\\ellen\\AppData\\Local\\R-MINI~1\\lib\\site-packages\\sklearn\\base.py:438: UserWarning: X has feature names, but RandomForestClassifier was fitted without feature names\n",
      "  warnings.warn(\n",
      "C:\\Users\\ellen\\AppData\\Local\\R-MINI~1\\lib\\site-packages\\sklearn\\base.py:438: UserWarning: X has feature names, but RandomForestClassifier was fitted without feature names\n",
      "  warnings.warn(\n",
      "C:\\Users\\ellen\\AppData\\Local\\R-MINI~1\\lib\\site-packages\\sklearn\\base.py:438: UserWarning: X has feature names, but RandomForestClassifier was fitted without feature names\n",
      "  warnings.warn(\n",
      "C:\\Users\\ellen\\AppData\\Local\\R-MINI~1\\lib\\site-packages\\sklearn\\base.py:438: UserWarning: X has feature names, but RandomForestClassifier was fitted without feature names\n",
      "  warnings.warn(\n",
      "C:\\Users\\ellen\\AppData\\Local\\R-MINI~1\\lib\\site-packages\\sklearn\\base.py:438: UserWarning: X has feature names, but RandomForestClassifier was fitted without feature names\n",
      "  warnings.warn(\n",
      "C:\\Users\\ellen\\AppData\\Local\\R-MINI~1\\lib\\site-packages\\sklearn\\base.py:438: UserWarning: X has feature names, but RandomForestClassifier was fitted without feature names\n",
      "  warnings.warn(\n"
     ]
    },
    {
     "name": "stderr",
     "output_type": "stream",
     "text": [
      "C:\\Users\\ellen\\AppData\\Local\\R-MINI~1\\lib\\site-packages\\sklearn\\base.py:438: UserWarning: X has feature names, but RandomForestClassifier was fitted without feature names\n",
      "  warnings.warn(\n",
      "C:\\Users\\ellen\\AppData\\Local\\R-MINI~1\\lib\\site-packages\\sklearn\\base.py:438: UserWarning: X has feature names, but RandomForestClassifier was fitted without feature names\n",
      "  warnings.warn(\n",
      "C:\\Users\\ellen\\AppData\\Local\\R-MINI~1\\lib\\site-packages\\sklearn\\base.py:438: UserWarning: X has feature names, but RandomForestClassifier was fitted without feature names\n",
      "  warnings.warn(\n",
      "C:\\Users\\ellen\\AppData\\Local\\R-MINI~1\\lib\\site-packages\\sklearn\\base.py:438: UserWarning: X has feature names, but RandomForestClassifier was fitted without feature names\n",
      "  warnings.warn(\n",
      "C:\\Users\\ellen\\AppData\\Local\\R-MINI~1\\lib\\site-packages\\sklearn\\base.py:438: UserWarning: X has feature names, but RandomForestClassifier was fitted without feature names\n",
      "  warnings.warn(\n",
      "C:\\Users\\ellen\\AppData\\Local\\R-MINI~1\\lib\\site-packages\\sklearn\\base.py:438: UserWarning: X has feature names, but RandomForestClassifier was fitted without feature names\n",
      "  warnings.warn(\n",
      "C:\\Users\\ellen\\AppData\\Local\\R-MINI~1\\lib\\site-packages\\sklearn\\base.py:438: UserWarning: X has feature names, but RandomForestClassifier was fitted without feature names\n",
      "  warnings.warn(\n",
      "C:\\Users\\ellen\\AppData\\Local\\R-MINI~1\\lib\\site-packages\\sklearn\\base.py:438: UserWarning: X has feature names, but RandomForestClassifier was fitted without feature names\n",
      "  warnings.warn(\n",
      "C:\\Users\\ellen\\AppData\\Local\\R-MINI~1\\lib\\site-packages\\sklearn\\base.py:438: UserWarning: X has feature names, but RandomForestClassifier was fitted without feature names\n",
      "  warnings.warn(\n",
      "C:\\Users\\ellen\\AppData\\Local\\R-MINI~1\\lib\\site-packages\\sklearn\\base.py:438: UserWarning: X has feature names, but RandomForestClassifier was fitted without feature names\n",
      "  warnings.warn(\n",
      "C:\\Users\\ellen\\AppData\\Local\\R-MINI~1\\lib\\site-packages\\sklearn\\base.py:438: UserWarning: X has feature names, but RandomForestClassifier was fitted without feature names\n",
      "  warnings.warn(\n",
      "C:\\Users\\ellen\\AppData\\Local\\R-MINI~1\\lib\\site-packages\\sklearn\\base.py:438: UserWarning: X has feature names, but RandomForestClassifier was fitted without feature names\n",
      "  warnings.warn(\n",
      "C:\\Users\\ellen\\AppData\\Local\\R-MINI~1\\lib\\site-packages\\sklearn\\base.py:438: UserWarning: X has feature names, but RandomForestClassifier was fitted without feature names\n",
      "  warnings.warn(\n",
      "C:\\Users\\ellen\\AppData\\Local\\R-MINI~1\\lib\\site-packages\\sklearn\\base.py:438: UserWarning: X has feature names, but RandomForestClassifier was fitted without feature names\n",
      "  warnings.warn(\n",
      "C:\\Users\\ellen\\AppData\\Local\\R-MINI~1\\lib\\site-packages\\sklearn\\base.py:438: UserWarning: X has feature names, but RandomForestClassifier was fitted without feature names\n",
      "  warnings.warn(\n",
      "C:\\Users\\ellen\\AppData\\Local\\R-MINI~1\\lib\\site-packages\\sklearn\\base.py:438: UserWarning: X has feature names, but RandomForestClassifier was fitted without feature names\n",
      "  warnings.warn(\n",
      "C:\\Users\\ellen\\AppData\\Local\\R-MINI~1\\lib\\site-packages\\sklearn\\base.py:438: UserWarning: X has feature names, but RandomForestClassifier was fitted without feature names\n",
      "  warnings.warn(\n",
      "C:\\Users\\ellen\\AppData\\Local\\R-MINI~1\\lib\\site-packages\\sklearn\\base.py:438: UserWarning: X has feature names, but RandomForestClassifier was fitted without feature names\n",
      "  warnings.warn(\n",
      "C:\\Users\\ellen\\AppData\\Local\\R-MINI~1\\lib\\site-packages\\sklearn\\base.py:438: UserWarning: X has feature names, but RandomForestClassifier was fitted without feature names\n",
      "  warnings.warn(\n",
      "C:\\Users\\ellen\\AppData\\Local\\R-MINI~1\\lib\\site-packages\\sklearn\\base.py:438: UserWarning: X has feature names, but RandomForestClassifier was fitted without feature names\n",
      "  warnings.warn(\n",
      "C:\\Users\\ellen\\AppData\\Local\\R-MINI~1\\lib\\site-packages\\sklearn\\base.py:438: UserWarning: X has feature names, but RandomForestClassifier was fitted without feature names\n",
      "  warnings.warn(\n",
      "C:\\Users\\ellen\\AppData\\Local\\R-MINI~1\\lib\\site-packages\\sklearn\\base.py:438: UserWarning: X has feature names, but RandomForestClassifier was fitted without feature names\n",
      "  warnings.warn(\n",
      "C:\\Users\\ellen\\AppData\\Local\\R-MINI~1\\lib\\site-packages\\sklearn\\base.py:438: UserWarning: X has feature names, but RandomForestClassifier was fitted without feature names\n",
      "  warnings.warn(\n",
      "C:\\Users\\ellen\\AppData\\Local\\R-MINI~1\\lib\\site-packages\\sklearn\\base.py:438: UserWarning: X has feature names, but RandomForestClassifier was fitted without feature names\n",
      "  warnings.warn(\n",
      "C:\\Users\\ellen\\AppData\\Local\\R-MINI~1\\lib\\site-packages\\sklearn\\base.py:438: UserWarning: X has feature names, but RandomForestClassifier was fitted without feature names\n",
      "  warnings.warn(\n",
      "C:\\Users\\ellen\\AppData\\Local\\R-MINI~1\\lib\\site-packages\\sklearn\\base.py:438: UserWarning: X has feature names, but RandomForestClassifier was fitted without feature names\n",
      "  warnings.warn(\n",
      "C:\\Users\\ellen\\AppData\\Local\\R-MINI~1\\lib\\site-packages\\sklearn\\base.py:438: UserWarning: X has feature names, but RandomForestClassifier was fitted without feature names\n",
      "  warnings.warn(\n",
      "C:\\Users\\ellen\\AppData\\Local\\R-MINI~1\\lib\\site-packages\\sklearn\\base.py:438: UserWarning: X has feature names, but RandomForestClassifier was fitted without feature names\n",
      "  warnings.warn(\n",
      "C:\\Users\\ellen\\AppData\\Local\\R-MINI~1\\lib\\site-packages\\sklearn\\base.py:438: UserWarning: X has feature names, but RandomForestClassifier was fitted without feature names\n",
      "  warnings.warn(\n",
      "C:\\Users\\ellen\\AppData\\Local\\R-MINI~1\\lib\\site-packages\\sklearn\\base.py:438: UserWarning: X has feature names, but RandomForestClassifier was fitted without feature names\n",
      "  warnings.warn(\n",
      "C:\\Users\\ellen\\AppData\\Local\\R-MINI~1\\lib\\site-packages\\sklearn\\base.py:438: UserWarning: X has feature names, but RandomForestClassifier was fitted without feature names\n",
      "  warnings.warn(\n",
      "C:\\Users\\ellen\\AppData\\Local\\R-MINI~1\\lib\\site-packages\\sklearn\\base.py:438: UserWarning: X has feature names, but RandomForestClassifier was fitted without feature names\n",
      "  warnings.warn(\n",
      "C:\\Users\\ellen\\AppData\\Local\\R-MINI~1\\lib\\site-packages\\sklearn\\base.py:438: UserWarning: X has feature names, but RandomForestClassifier was fitted without feature names\n",
      "  warnings.warn(\n",
      "C:\\Users\\ellen\\AppData\\Local\\R-MINI~1\\lib\\site-packages\\sklearn\\base.py:438: UserWarning: X has feature names, but RandomForestClassifier was fitted without feature names\n",
      "  warnings.warn(\n",
      "C:\\Users\\ellen\\AppData\\Local\\R-MINI~1\\lib\\site-packages\\sklearn\\base.py:438: UserWarning: X has feature names, but RandomForestClassifier was fitted without feature names\n",
      "  warnings.warn(\n",
      "C:\\Users\\ellen\\AppData\\Local\\R-MINI~1\\lib\\site-packages\\sklearn\\base.py:438: UserWarning: X has feature names, but RandomForestClassifier was fitted without feature names\n",
      "  warnings.warn(\n",
      "C:\\Users\\ellen\\AppData\\Local\\R-MINI~1\\lib\\site-packages\\sklearn\\base.py:438: UserWarning: X has feature names, but RandomForestClassifier was fitted without feature names\n",
      "  warnings.warn(\n",
      "C:\\Users\\ellen\\AppData\\Local\\R-MINI~1\\lib\\site-packages\\sklearn\\base.py:438: UserWarning: X has feature names, but RandomForestClassifier was fitted without feature names\n",
      "  warnings.warn(\n",
      "C:\\Users\\ellen\\AppData\\Local\\R-MINI~1\\lib\\site-packages\\sklearn\\base.py:438: UserWarning: X has feature names, but RandomForestClassifier was fitted without feature names\n",
      "  warnings.warn(\n",
      "C:\\Users\\ellen\\AppData\\Local\\R-MINI~1\\lib\\site-packages\\sklearn\\base.py:438: UserWarning: X has feature names, but RandomForestClassifier was fitted without feature names\n",
      "  warnings.warn(\n",
      "C:\\Users\\ellen\\AppData\\Local\\R-MINI~1\\lib\\site-packages\\sklearn\\base.py:438: UserWarning: X has feature names, but RandomForestClassifier was fitted without feature names\n",
      "  warnings.warn(\n",
      "C:\\Users\\ellen\\AppData\\Local\\R-MINI~1\\lib\\site-packages\\sklearn\\base.py:438: UserWarning: X has feature names, but RandomForestClassifier was fitted without feature names\n",
      "  warnings.warn(\n",
      "C:\\Users\\ellen\\AppData\\Local\\R-MINI~1\\lib\\site-packages\\sklearn\\base.py:438: UserWarning: X has feature names, but RandomForestClassifier was fitted without feature names\n",
      "  warnings.warn(\n",
      "C:\\Users\\ellen\\AppData\\Local\\R-MINI~1\\lib\\site-packages\\sklearn\\base.py:438: UserWarning: X has feature names, but RandomForestClassifier was fitted without feature names\n",
      "  warnings.warn(\n"
     ]
    },
    {
     "name": "stderr",
     "output_type": "stream",
     "text": [
      "C:\\Users\\ellen\\AppData\\Local\\R-MINI~1\\lib\\site-packages\\sklearn\\base.py:438: UserWarning: X has feature names, but RandomForestClassifier was fitted without feature names\n",
      "  warnings.warn(\n",
      "C:\\Users\\ellen\\AppData\\Local\\R-MINI~1\\lib\\site-packages\\sklearn\\base.py:438: UserWarning: X has feature names, but RandomForestClassifier was fitted without feature names\n",
      "  warnings.warn(\n",
      "C:\\Users\\ellen\\AppData\\Local\\R-MINI~1\\lib\\site-packages\\sklearn\\base.py:438: UserWarning: X has feature names, but RandomForestClassifier was fitted without feature names\n",
      "  warnings.warn(\n",
      "C:\\Users\\ellen\\AppData\\Local\\R-MINI~1\\lib\\site-packages\\sklearn\\base.py:438: UserWarning: X has feature names, but RandomForestClassifier was fitted without feature names\n",
      "  warnings.warn(\n",
      "C:\\Users\\ellen\\AppData\\Local\\R-MINI~1\\lib\\site-packages\\sklearn\\base.py:438: UserWarning: X has feature names, but RandomForestClassifier was fitted without feature names\n",
      "  warnings.warn(\n",
      "C:\\Users\\ellen\\AppData\\Local\\R-MINI~1\\lib\\site-packages\\sklearn\\base.py:438: UserWarning: X has feature names, but RandomForestClassifier was fitted without feature names\n",
      "  warnings.warn(\n",
      "C:\\Users\\ellen\\AppData\\Local\\R-MINI~1\\lib\\site-packages\\sklearn\\base.py:438: UserWarning: X has feature names, but RandomForestClassifier was fitted without feature names\n",
      "  warnings.warn(\n",
      "C:\\Users\\ellen\\AppData\\Local\\R-MINI~1\\lib\\site-packages\\sklearn\\base.py:438: UserWarning: X has feature names, but RandomForestClassifier was fitted without feature names\n",
      "  warnings.warn(\n",
      "C:\\Users\\ellen\\AppData\\Local\\R-MINI~1\\lib\\site-packages\\sklearn\\base.py:438: UserWarning: X has feature names, but RandomForestClassifier was fitted without feature names\n",
      "  warnings.warn(\n",
      "C:\\Users\\ellen\\AppData\\Local\\R-MINI~1\\lib\\site-packages\\sklearn\\base.py:438: UserWarning: X has feature names, but RandomForestClassifier was fitted without feature names\n",
      "  warnings.warn(\n",
      "C:\\Users\\ellen\\AppData\\Local\\R-MINI~1\\lib\\site-packages\\sklearn\\base.py:438: UserWarning: X has feature names, but RandomForestClassifier was fitted without feature names\n",
      "  warnings.warn(\n",
      "C:\\Users\\ellen\\AppData\\Local\\R-MINI~1\\lib\\site-packages\\sklearn\\base.py:438: UserWarning: X has feature names, but RandomForestClassifier was fitted without feature names\n",
      "  warnings.warn(\n",
      "C:\\Users\\ellen\\AppData\\Local\\R-MINI~1\\lib\\site-packages\\sklearn\\base.py:438: UserWarning: X has feature names, but RandomForestClassifier was fitted without feature names\n",
      "  warnings.warn(\n",
      "C:\\Users\\ellen\\AppData\\Local\\R-MINI~1\\lib\\site-packages\\sklearn\\base.py:438: UserWarning: X has feature names, but RandomForestClassifier was fitted without feature names\n",
      "  warnings.warn(\n",
      "C:\\Users\\ellen\\AppData\\Local\\R-MINI~1\\lib\\site-packages\\sklearn\\base.py:438: UserWarning: X has feature names, but RandomForestClassifier was fitted without feature names\n",
      "  warnings.warn(\n",
      "C:\\Users\\ellen\\AppData\\Local\\R-MINI~1\\lib\\site-packages\\sklearn\\base.py:438: UserWarning: X has feature names, but RandomForestClassifier was fitted without feature names\n",
      "  warnings.warn(\n",
      "C:\\Users\\ellen\\AppData\\Local\\R-MINI~1\\lib\\site-packages\\sklearn\\base.py:438: UserWarning: X has feature names, but RandomForestClassifier was fitted without feature names\n",
      "  warnings.warn(\n",
      "C:\\Users\\ellen\\AppData\\Local\\R-MINI~1\\lib\\site-packages\\sklearn\\base.py:438: UserWarning: X has feature names, but RandomForestClassifier was fitted without feature names\n",
      "  warnings.warn(\n",
      "C:\\Users\\ellen\\AppData\\Local\\R-MINI~1\\lib\\site-packages\\sklearn\\base.py:438: UserWarning: X has feature names, but RandomForestClassifier was fitted without feature names\n",
      "  warnings.warn(\n",
      "C:\\Users\\ellen\\AppData\\Local\\R-MINI~1\\lib\\site-packages\\sklearn\\base.py:438: UserWarning: X has feature names, but RandomForestClassifier was fitted without feature names\n",
      "  warnings.warn(\n",
      "C:\\Users\\ellen\\AppData\\Local\\R-MINI~1\\lib\\site-packages\\sklearn\\base.py:438: UserWarning: X has feature names, but RandomForestClassifier was fitted without feature names\n",
      "  warnings.warn(\n",
      "C:\\Users\\ellen\\AppData\\Local\\R-MINI~1\\lib\\site-packages\\sklearn\\base.py:438: UserWarning: X has feature names, but RandomForestClassifier was fitted without feature names\n",
      "  warnings.warn(\n",
      "C:\\Users\\ellen\\AppData\\Local\\R-MINI~1\\lib\\site-packages\\sklearn\\base.py:438: UserWarning: X has feature names, but RandomForestClassifier was fitted without feature names\n",
      "  warnings.warn(\n",
      "C:\\Users\\ellen\\AppData\\Local\\R-MINI~1\\lib\\site-packages\\sklearn\\base.py:438: UserWarning: X has feature names, but RandomForestClassifier was fitted without feature names\n",
      "  warnings.warn(\n",
      "C:\\Users\\ellen\\AppData\\Local\\R-MINI~1\\lib\\site-packages\\sklearn\\base.py:438: UserWarning: X has feature names, but RandomForestClassifier was fitted without feature names\n",
      "  warnings.warn(\n",
      "C:\\Users\\ellen\\AppData\\Local\\R-MINI~1\\lib\\site-packages\\sklearn\\base.py:438: UserWarning: X has feature names, but RandomForestClassifier was fitted without feature names\n",
      "  warnings.warn(\n",
      "C:\\Users\\ellen\\AppData\\Local\\R-MINI~1\\lib\\site-packages\\sklearn\\base.py:438: UserWarning: X has feature names, but RandomForestClassifier was fitted without feature names\n",
      "  warnings.warn(\n",
      "C:\\Users\\ellen\\AppData\\Local\\R-MINI~1\\lib\\site-packages\\sklearn\\base.py:438: UserWarning: X has feature names, but RandomForestClassifier was fitted without feature names\n",
      "  warnings.warn(\n",
      "C:\\Users\\ellen\\AppData\\Local\\R-MINI~1\\lib\\site-packages\\sklearn\\base.py:438: UserWarning: X has feature names, but RandomForestClassifier was fitted without feature names\n",
      "  warnings.warn(\n",
      "C:\\Users\\ellen\\AppData\\Local\\R-MINI~1\\lib\\site-packages\\sklearn\\base.py:438: UserWarning: X has feature names, but RandomForestClassifier was fitted without feature names\n",
      "  warnings.warn(\n",
      "C:\\Users\\ellen\\AppData\\Local\\R-MINI~1\\lib\\site-packages\\sklearn\\base.py:438: UserWarning: X has feature names, but RandomForestClassifier was fitted without feature names\n",
      "  warnings.warn(\n",
      "C:\\Users\\ellen\\AppData\\Local\\R-MINI~1\\lib\\site-packages\\sklearn\\base.py:438: UserWarning: X has feature names, but RandomForestClassifier was fitted without feature names\n",
      "  warnings.warn(\n",
      "C:\\Users\\ellen\\AppData\\Local\\R-MINI~1\\lib\\site-packages\\sklearn\\base.py:438: UserWarning: X has feature names, but RandomForestClassifier was fitted without feature names\n",
      "  warnings.warn(\n",
      "C:\\Users\\ellen\\AppData\\Local\\R-MINI~1\\lib\\site-packages\\sklearn\\base.py:438: UserWarning: X has feature names, but RandomForestClassifier was fitted without feature names\n",
      "  warnings.warn(\n",
      "C:\\Users\\ellen\\AppData\\Local\\R-MINI~1\\lib\\site-packages\\sklearn\\base.py:438: UserWarning: X has feature names, but RandomForestClassifier was fitted without feature names\n",
      "  warnings.warn(\n",
      "C:\\Users\\ellen\\AppData\\Local\\R-MINI~1\\lib\\site-packages\\sklearn\\base.py:438: UserWarning: X has feature names, but RandomForestClassifier was fitted without feature names\n",
      "  warnings.warn(\n",
      "C:\\Users\\ellen\\AppData\\Local\\R-MINI~1\\lib\\site-packages\\sklearn\\base.py:438: UserWarning: X has feature names, but RandomForestClassifier was fitted without feature names\n",
      "  warnings.warn(\n",
      "C:\\Users\\ellen\\AppData\\Local\\R-MINI~1\\lib\\site-packages\\sklearn\\base.py:438: UserWarning: X has feature names, but RandomForestClassifier was fitted without feature names\n",
      "  warnings.warn(\n",
      "C:\\Users\\ellen\\AppData\\Local\\R-MINI~1\\lib\\site-packages\\sklearn\\base.py:438: UserWarning: X has feature names, but RandomForestClassifier was fitted without feature names\n",
      "  warnings.warn(\n",
      "C:\\Users\\ellen\\AppData\\Local\\R-MINI~1\\lib\\site-packages\\sklearn\\base.py:438: UserWarning: X has feature names, but RandomForestClassifier was fitted without feature names\n",
      "  warnings.warn(\n",
      "C:\\Users\\ellen\\AppData\\Local\\R-MINI~1\\lib\\site-packages\\sklearn\\base.py:438: UserWarning: X has feature names, but RandomForestClassifier was fitted without feature names\n",
      "  warnings.warn(\n",
      "C:\\Users\\ellen\\AppData\\Local\\R-MINI~1\\lib\\site-packages\\sklearn\\base.py:438: UserWarning: X has feature names, but RandomForestClassifier was fitted without feature names\n",
      "  warnings.warn(\n",
      "C:\\Users\\ellen\\AppData\\Local\\R-MINI~1\\lib\\site-packages\\sklearn\\base.py:438: UserWarning: X has feature names, but RandomForestClassifier was fitted without feature names\n",
      "  warnings.warn(\n",
      "C:\\Users\\ellen\\AppData\\Local\\R-MINI~1\\lib\\site-packages\\sklearn\\base.py:438: UserWarning: X has feature names, but RandomForestClassifier was fitted without feature names\n",
      "  warnings.warn(\n"
     ]
    },
    {
     "name": "stderr",
     "output_type": "stream",
     "text": [
      "C:\\Users\\ellen\\AppData\\Local\\R-MINI~1\\lib\\site-packages\\sklearn\\base.py:438: UserWarning: X has feature names, but RandomForestClassifier was fitted without feature names\n",
      "  warnings.warn(\n",
      "C:\\Users\\ellen\\AppData\\Local\\R-MINI~1\\lib\\site-packages\\sklearn\\base.py:438: UserWarning: X has feature names, but RandomForestClassifier was fitted without feature names\n",
      "  warnings.warn(\n",
      "C:\\Users\\ellen\\AppData\\Local\\R-MINI~1\\lib\\site-packages\\sklearn\\base.py:438: UserWarning: X has feature names, but RandomForestClassifier was fitted without feature names\n",
      "  warnings.warn(\n",
      "C:\\Users\\ellen\\AppData\\Local\\R-MINI~1\\lib\\site-packages\\sklearn\\base.py:438: UserWarning: X has feature names, but RandomForestClassifier was fitted without feature names\n",
      "  warnings.warn(\n",
      "C:\\Users\\ellen\\AppData\\Local\\R-MINI~1\\lib\\site-packages\\sklearn\\base.py:438: UserWarning: X has feature names, but RandomForestClassifier was fitted without feature names\n",
      "  warnings.warn(\n",
      "C:\\Users\\ellen\\AppData\\Local\\R-MINI~1\\lib\\site-packages\\sklearn\\base.py:438: UserWarning: X has feature names, but RandomForestClassifier was fitted without feature names\n",
      "  warnings.warn(\n",
      "C:\\Users\\ellen\\AppData\\Local\\R-MINI~1\\lib\\site-packages\\sklearn\\base.py:438: UserWarning: X has feature names, but RandomForestClassifier was fitted without feature names\n",
      "  warnings.warn(\n",
      "C:\\Users\\ellen\\AppData\\Local\\R-MINI~1\\lib\\site-packages\\sklearn\\base.py:438: UserWarning: X has feature names, but RandomForestClassifier was fitted without feature names\n",
      "  warnings.warn(\n",
      "C:\\Users\\ellen\\AppData\\Local\\R-MINI~1\\lib\\site-packages\\sklearn\\base.py:438: UserWarning: X has feature names, but RandomForestClassifier was fitted without feature names\n",
      "  warnings.warn(\n",
      "C:\\Users\\ellen\\AppData\\Local\\R-MINI~1\\lib\\site-packages\\sklearn\\base.py:438: UserWarning: X has feature names, but RandomForestClassifier was fitted without feature names\n",
      "  warnings.warn(\n",
      "C:\\Users\\ellen\\AppData\\Local\\R-MINI~1\\lib\\site-packages\\sklearn\\base.py:438: UserWarning: X has feature names, but RandomForestClassifier was fitted without feature names\n",
      "  warnings.warn(\n",
      "C:\\Users\\ellen\\AppData\\Local\\R-MINI~1\\lib\\site-packages\\sklearn\\base.py:438: UserWarning: X has feature names, but RandomForestClassifier was fitted without feature names\n",
      "  warnings.warn(\n",
      "C:\\Users\\ellen\\AppData\\Local\\R-MINI~1\\lib\\site-packages\\sklearn\\base.py:438: UserWarning: X has feature names, but RandomForestClassifier was fitted without feature names\n",
      "  warnings.warn(\n",
      "C:\\Users\\ellen\\AppData\\Local\\R-MINI~1\\lib\\site-packages\\sklearn\\base.py:438: UserWarning: X has feature names, but RandomForestClassifier was fitted without feature names\n",
      "  warnings.warn(\n",
      "C:\\Users\\ellen\\AppData\\Local\\R-MINI~1\\lib\\site-packages\\sklearn\\base.py:438: UserWarning: X has feature names, but RandomForestClassifier was fitted without feature names\n",
      "  warnings.warn(\n",
      "C:\\Users\\ellen\\AppData\\Local\\R-MINI~1\\lib\\site-packages\\sklearn\\base.py:438: UserWarning: X has feature names, but RandomForestClassifier was fitted without feature names\n",
      "  warnings.warn(\n",
      "C:\\Users\\ellen\\AppData\\Local\\R-MINI~1\\lib\\site-packages\\sklearn\\base.py:438: UserWarning: X has feature names, but RandomForestClassifier was fitted without feature names\n",
      "  warnings.warn(\n",
      "C:\\Users\\ellen\\AppData\\Local\\R-MINI~1\\lib\\site-packages\\sklearn\\base.py:438: UserWarning: X has feature names, but RandomForestClassifier was fitted without feature names\n",
      "  warnings.warn(\n",
      "C:\\Users\\ellen\\AppData\\Local\\R-MINI~1\\lib\\site-packages\\sklearn\\base.py:438: UserWarning: X has feature names, but RandomForestClassifier was fitted without feature names\n",
      "  warnings.warn(\n",
      "C:\\Users\\ellen\\AppData\\Local\\R-MINI~1\\lib\\site-packages\\sklearn\\base.py:438: UserWarning: X has feature names, but RandomForestClassifier was fitted without feature names\n",
      "  warnings.warn(\n",
      "C:\\Users\\ellen\\AppData\\Local\\R-MINI~1\\lib\\site-packages\\sklearn\\base.py:438: UserWarning: X has feature names, but RandomForestClassifier was fitted without feature names\n",
      "  warnings.warn(\n",
      "C:\\Users\\ellen\\AppData\\Local\\R-MINI~1\\lib\\site-packages\\sklearn\\base.py:438: UserWarning: X has feature names, but RandomForestClassifier was fitted without feature names\n",
      "  warnings.warn(\n",
      "C:\\Users\\ellen\\AppData\\Local\\R-MINI~1\\lib\\site-packages\\sklearn\\base.py:438: UserWarning: X has feature names, but RandomForestClassifier was fitted without feature names\n",
      "  warnings.warn(\n",
      "C:\\Users\\ellen\\AppData\\Local\\R-MINI~1\\lib\\site-packages\\sklearn\\base.py:438: UserWarning: X has feature names, but RandomForestClassifier was fitted without feature names\n",
      "  warnings.warn(\n",
      "C:\\Users\\ellen\\AppData\\Local\\R-MINI~1\\lib\\site-packages\\sklearn\\base.py:438: UserWarning: X has feature names, but RandomForestClassifier was fitted without feature names\n",
      "  warnings.warn(\n",
      "C:\\Users\\ellen\\AppData\\Local\\R-MINI~1\\lib\\site-packages\\sklearn\\base.py:438: UserWarning: X has feature names, but RandomForestClassifier was fitted without feature names\n",
      "  warnings.warn(\n",
      "C:\\Users\\ellen\\AppData\\Local\\R-MINI~1\\lib\\site-packages\\sklearn\\base.py:438: UserWarning: X has feature names, but RandomForestClassifier was fitted without feature names\n",
      "  warnings.warn(\n",
      "C:\\Users\\ellen\\AppData\\Local\\R-MINI~1\\lib\\site-packages\\sklearn\\base.py:438: UserWarning: X has feature names, but RandomForestClassifier was fitted without feature names\n",
      "  warnings.warn(\n",
      "C:\\Users\\ellen\\AppData\\Local\\R-MINI~1\\lib\\site-packages\\sklearn\\base.py:438: UserWarning: X has feature names, but RandomForestClassifier was fitted without feature names\n",
      "  warnings.warn(\n",
      "C:\\Users\\ellen\\AppData\\Local\\R-MINI~1\\lib\\site-packages\\sklearn\\base.py:438: UserWarning: X has feature names, but RandomForestClassifier was fitted without feature names\n",
      "  warnings.warn(\n",
      "C:\\Users\\ellen\\AppData\\Local\\R-MINI~1\\lib\\site-packages\\sklearn\\base.py:438: UserWarning: X has feature names, but RandomForestClassifier was fitted without feature names\n",
      "  warnings.warn(\n",
      "C:\\Users\\ellen\\AppData\\Local\\R-MINI~1\\lib\\site-packages\\sklearn\\base.py:438: UserWarning: X has feature names, but RandomForestClassifier was fitted without feature names\n",
      "  warnings.warn(\n",
      "C:\\Users\\ellen\\AppData\\Local\\R-MINI~1\\lib\\site-packages\\sklearn\\base.py:438: UserWarning: X has feature names, but RandomForestClassifier was fitted without feature names\n",
      "  warnings.warn(\n",
      "C:\\Users\\ellen\\AppData\\Local\\R-MINI~1\\lib\\site-packages\\sklearn\\base.py:438: UserWarning: X has feature names, but RandomForestClassifier was fitted without feature names\n",
      "  warnings.warn(\n",
      "C:\\Users\\ellen\\AppData\\Local\\R-MINI~1\\lib\\site-packages\\sklearn\\base.py:438: UserWarning: X has feature names, but RandomForestClassifier was fitted without feature names\n",
      "  warnings.warn(\n",
      "C:\\Users\\ellen\\AppData\\Local\\R-MINI~1\\lib\\site-packages\\sklearn\\base.py:438: UserWarning: X has feature names, but RandomForestClassifier was fitted without feature names\n",
      "  warnings.warn(\n",
      "C:\\Users\\ellen\\AppData\\Local\\R-MINI~1\\lib\\site-packages\\sklearn\\base.py:438: UserWarning: X has feature names, but RandomForestClassifier was fitted without feature names\n",
      "  warnings.warn(\n",
      "C:\\Users\\ellen\\AppData\\Local\\R-MINI~1\\lib\\site-packages\\sklearn\\base.py:438: UserWarning: X has feature names, but RandomForestClassifier was fitted without feature names\n",
      "  warnings.warn(\n",
      "C:\\Users\\ellen\\AppData\\Local\\R-MINI~1\\lib\\site-packages\\sklearn\\base.py:438: UserWarning: X has feature names, but RandomForestClassifier was fitted without feature names\n",
      "  warnings.warn(\n",
      "C:\\Users\\ellen\\AppData\\Local\\R-MINI~1\\lib\\site-packages\\sklearn\\base.py:438: UserWarning: X has feature names, but RandomForestClassifier was fitted without feature names\n",
      "  warnings.warn(\n",
      "C:\\Users\\ellen\\AppData\\Local\\R-MINI~1\\lib\\site-packages\\sklearn\\base.py:438: UserWarning: X has feature names, but RandomForestClassifier was fitted without feature names\n",
      "  warnings.warn(\n",
      "C:\\Users\\ellen\\AppData\\Local\\R-MINI~1\\lib\\site-packages\\sklearn\\base.py:438: UserWarning: X has feature names, but RandomForestClassifier was fitted without feature names\n",
      "  warnings.warn(\n",
      "C:\\Users\\ellen\\AppData\\Local\\R-MINI~1\\lib\\site-packages\\sklearn\\base.py:438: UserWarning: X has feature names, but RandomForestClassifier was fitted without feature names\n",
      "  warnings.warn(\n",
      "C:\\Users\\ellen\\AppData\\Local\\R-MINI~1\\lib\\site-packages\\sklearn\\base.py:438: UserWarning: X has feature names, but RandomForestClassifier was fitted without feature names\n",
      "  warnings.warn(\n"
     ]
    },
    {
     "name": "stderr",
     "output_type": "stream",
     "text": [
      "C:\\Users\\ellen\\AppData\\Local\\R-MINI~1\\lib\\site-packages\\sklearn\\base.py:438: UserWarning: X has feature names, but RandomForestClassifier was fitted without feature names\n",
      "  warnings.warn(\n",
      "C:\\Users\\ellen\\AppData\\Local\\R-MINI~1\\lib\\site-packages\\sklearn\\base.py:438: UserWarning: X has feature names, but RandomForestClassifier was fitted without feature names\n",
      "  warnings.warn(\n",
      "C:\\Users\\ellen\\AppData\\Local\\R-MINI~1\\lib\\site-packages\\sklearn\\base.py:438: UserWarning: X has feature names, but RandomForestClassifier was fitted without feature names\n",
      "  warnings.warn(\n",
      "C:\\Users\\ellen\\AppData\\Local\\R-MINI~1\\lib\\site-packages\\sklearn\\base.py:438: UserWarning: X has feature names, but RandomForestClassifier was fitted without feature names\n",
      "  warnings.warn(\n",
      "C:\\Users\\ellen\\AppData\\Local\\R-MINI~1\\lib\\site-packages\\sklearn\\base.py:438: UserWarning: X has feature names, but RandomForestClassifier was fitted without feature names\n",
      "  warnings.warn(\n",
      "C:\\Users\\ellen\\AppData\\Local\\R-MINI~1\\lib\\site-packages\\sklearn\\base.py:438: UserWarning: X has feature names, but RandomForestClassifier was fitted without feature names\n",
      "  warnings.warn(\n",
      "C:\\Users\\ellen\\AppData\\Local\\R-MINI~1\\lib\\site-packages\\sklearn\\base.py:438: UserWarning: X has feature names, but RandomForestClassifier was fitted without feature names\n",
      "  warnings.warn(\n",
      "C:\\Users\\ellen\\AppData\\Local\\R-MINI~1\\lib\\site-packages\\sklearn\\base.py:438: UserWarning: X has feature names, but RandomForestClassifier was fitted without feature names\n",
      "  warnings.warn(\n",
      "C:\\Users\\ellen\\AppData\\Local\\R-MINI~1\\lib\\site-packages\\sklearn\\base.py:438: UserWarning: X has feature names, but RandomForestClassifier was fitted without feature names\n",
      "  warnings.warn(\n",
      "C:\\Users\\ellen\\AppData\\Local\\R-MINI~1\\lib\\site-packages\\sklearn\\base.py:438: UserWarning: X has feature names, but RandomForestClassifier was fitted without feature names\n",
      "  warnings.warn(\n",
      "C:\\Users\\ellen\\AppData\\Local\\R-MINI~1\\lib\\site-packages\\sklearn\\base.py:438: UserWarning: X has feature names, but RandomForestClassifier was fitted without feature names\n",
      "  warnings.warn(\n",
      "C:\\Users\\ellen\\AppData\\Local\\R-MINI~1\\lib\\site-packages\\sklearn\\base.py:438: UserWarning: X has feature names, but RandomForestClassifier was fitted without feature names\n",
      "  warnings.warn(\n",
      "C:\\Users\\ellen\\AppData\\Local\\R-MINI~1\\lib\\site-packages\\sklearn\\base.py:438: UserWarning: X has feature names, but RandomForestClassifier was fitted without feature names\n",
      "  warnings.warn(\n",
      "C:\\Users\\ellen\\AppData\\Local\\R-MINI~1\\lib\\site-packages\\sklearn\\base.py:438: UserWarning: X has feature names, but RandomForestClassifier was fitted without feature names\n",
      "  warnings.warn(\n",
      "C:\\Users\\ellen\\AppData\\Local\\R-MINI~1\\lib\\site-packages\\sklearn\\base.py:438: UserWarning: X has feature names, but RandomForestClassifier was fitted without feature names\n",
      "  warnings.warn(\n",
      "C:\\Users\\ellen\\AppData\\Local\\R-MINI~1\\lib\\site-packages\\sklearn\\base.py:438: UserWarning: X has feature names, but RandomForestClassifier was fitted without feature names\n",
      "  warnings.warn(\n",
      "C:\\Users\\ellen\\AppData\\Local\\R-MINI~1\\lib\\site-packages\\sklearn\\base.py:438: UserWarning: X has feature names, but RandomForestClassifier was fitted without feature names\n",
      "  warnings.warn(\n",
      "C:\\Users\\ellen\\AppData\\Local\\R-MINI~1\\lib\\site-packages\\sklearn\\base.py:438: UserWarning: X has feature names, but RandomForestClassifier was fitted without feature names\n",
      "  warnings.warn(\n",
      "C:\\Users\\ellen\\AppData\\Local\\R-MINI~1\\lib\\site-packages\\sklearn\\base.py:438: UserWarning: X has feature names, but RandomForestClassifier was fitted without feature names\n",
      "  warnings.warn(\n",
      "C:\\Users\\ellen\\AppData\\Local\\R-MINI~1\\lib\\site-packages\\sklearn\\base.py:438: UserWarning: X has feature names, but RandomForestClassifier was fitted without feature names\n",
      "  warnings.warn(\n",
      "C:\\Users\\ellen\\AppData\\Local\\R-MINI~1\\lib\\site-packages\\sklearn\\base.py:438: UserWarning: X has feature names, but RandomForestClassifier was fitted without feature names\n",
      "  warnings.warn(\n",
      "C:\\Users\\ellen\\AppData\\Local\\R-MINI~1\\lib\\site-packages\\sklearn\\base.py:438: UserWarning: X has feature names, but RandomForestClassifier was fitted without feature names\n",
      "  warnings.warn(\n",
      "C:\\Users\\ellen\\AppData\\Local\\R-MINI~1\\lib\\site-packages\\sklearn\\base.py:438: UserWarning: X has feature names, but RandomForestClassifier was fitted without feature names\n",
      "  warnings.warn(\n",
      "C:\\Users\\ellen\\AppData\\Local\\R-MINI~1\\lib\\site-packages\\sklearn\\base.py:438: UserWarning: X has feature names, but RandomForestClassifier was fitted without feature names\n",
      "  warnings.warn(\n",
      "C:\\Users\\ellen\\AppData\\Local\\R-MINI~1\\lib\\site-packages\\sklearn\\base.py:438: UserWarning: X has feature names, but RandomForestClassifier was fitted without feature names\n",
      "  warnings.warn(\n",
      "C:\\Users\\ellen\\AppData\\Local\\R-MINI~1\\lib\\site-packages\\sklearn\\base.py:438: UserWarning: X has feature names, but RandomForestClassifier was fitted without feature names\n",
      "  warnings.warn(\n",
      "C:\\Users\\ellen\\AppData\\Local\\R-MINI~1\\lib\\site-packages\\sklearn\\base.py:438: UserWarning: X has feature names, but RandomForestClassifier was fitted without feature names\n",
      "  warnings.warn(\n",
      "C:\\Users\\ellen\\AppData\\Local\\R-MINI~1\\lib\\site-packages\\sklearn\\base.py:438: UserWarning: X has feature names, but RandomForestClassifier was fitted without feature names\n",
      "  warnings.warn(\n",
      "C:\\Users\\ellen\\AppData\\Local\\R-MINI~1\\lib\\site-packages\\sklearn\\base.py:438: UserWarning: X has feature names, but RandomForestClassifier was fitted without feature names\n",
      "  warnings.warn(\n",
      "C:\\Users\\ellen\\AppData\\Local\\R-MINI~1\\lib\\site-packages\\sklearn\\base.py:438: UserWarning: X has feature names, but RandomForestClassifier was fitted without feature names\n",
      "  warnings.warn(\n",
      "C:\\Users\\ellen\\AppData\\Local\\R-MINI~1\\lib\\site-packages\\sklearn\\base.py:438: UserWarning: X has feature names, but RandomForestClassifier was fitted without feature names\n",
      "  warnings.warn(\n",
      "C:\\Users\\ellen\\AppData\\Local\\R-MINI~1\\lib\\site-packages\\sklearn\\base.py:438: UserWarning: X has feature names, but RandomForestClassifier was fitted without feature names\n",
      "  warnings.warn(\n",
      "C:\\Users\\ellen\\AppData\\Local\\R-MINI~1\\lib\\site-packages\\sklearn\\base.py:438: UserWarning: X has feature names, but RandomForestClassifier was fitted without feature names\n",
      "  warnings.warn(\n",
      "C:\\Users\\ellen\\AppData\\Local\\R-MINI~1\\lib\\site-packages\\sklearn\\base.py:438: UserWarning: X has feature names, but RandomForestClassifier was fitted without feature names\n",
      "  warnings.warn(\n",
      "C:\\Users\\ellen\\AppData\\Local\\R-MINI~1\\lib\\site-packages\\sklearn\\base.py:438: UserWarning: X has feature names, but RandomForestClassifier was fitted without feature names\n",
      "  warnings.warn(\n",
      "C:\\Users\\ellen\\AppData\\Local\\R-MINI~1\\lib\\site-packages\\sklearn\\base.py:438: UserWarning: X has feature names, but RandomForestClassifier was fitted without feature names\n",
      "  warnings.warn(\n",
      "C:\\Users\\ellen\\AppData\\Local\\R-MINI~1\\lib\\site-packages\\sklearn\\base.py:438: UserWarning: X has feature names, but RandomForestClassifier was fitted without feature names\n",
      "  warnings.warn(\n",
      "C:\\Users\\ellen\\AppData\\Local\\R-MINI~1\\lib\\site-packages\\sklearn\\base.py:438: UserWarning: X has feature names, but RandomForestClassifier was fitted without feature names\n",
      "  warnings.warn(\n",
      "C:\\Users\\ellen\\AppData\\Local\\R-MINI~1\\lib\\site-packages\\sklearn\\base.py:438: UserWarning: X has feature names, but RandomForestClassifier was fitted without feature names\n",
      "  warnings.warn(\n",
      "C:\\Users\\ellen\\AppData\\Local\\R-MINI~1\\lib\\site-packages\\sklearn\\base.py:438: UserWarning: X has feature names, but RandomForestClassifier was fitted without feature names\n",
      "  warnings.warn(\n",
      "C:\\Users\\ellen\\AppData\\Local\\R-MINI~1\\lib\\site-packages\\sklearn\\base.py:438: UserWarning: X has feature names, but RandomForestClassifier was fitted without feature names\n",
      "  warnings.warn(\n",
      "C:\\Users\\ellen\\AppData\\Local\\R-MINI~1\\lib\\site-packages\\sklearn\\base.py:438: UserWarning: X has feature names, but RandomForestClassifier was fitted without feature names\n",
      "  warnings.warn(\n",
      "C:\\Users\\ellen\\AppData\\Local\\R-MINI~1\\lib\\site-packages\\sklearn\\base.py:438: UserWarning: X has feature names, but RandomForestClassifier was fitted without feature names\n",
      "  warnings.warn(\n",
      "C:\\Users\\ellen\\AppData\\Local\\R-MINI~1\\lib\\site-packages\\sklearn\\base.py:438: UserWarning: X has feature names, but RandomForestClassifier was fitted without feature names\n",
      "  warnings.warn(\n"
     ]
    },
    {
     "name": "stderr",
     "output_type": "stream",
     "text": [
      "C:\\Users\\ellen\\AppData\\Local\\R-MINI~1\\lib\\site-packages\\sklearn\\base.py:438: UserWarning: X has feature names, but RandomForestClassifier was fitted without feature names\n",
      "  warnings.warn(\n",
      "C:\\Users\\ellen\\AppData\\Local\\R-MINI~1\\lib\\site-packages\\sklearn\\base.py:438: UserWarning: X has feature names, but RandomForestClassifier was fitted without feature names\n",
      "  warnings.warn(\n",
      "C:\\Users\\ellen\\AppData\\Local\\R-MINI~1\\lib\\site-packages\\sklearn\\base.py:438: UserWarning: X has feature names, but RandomForestClassifier was fitted without feature names\n",
      "  warnings.warn(\n",
      "C:\\Users\\ellen\\AppData\\Local\\R-MINI~1\\lib\\site-packages\\sklearn\\base.py:438: UserWarning: X has feature names, but RandomForestClassifier was fitted without feature names\n",
      "  warnings.warn(\n",
      "C:\\Users\\ellen\\AppData\\Local\\R-MINI~1\\lib\\site-packages\\sklearn\\base.py:438: UserWarning: X has feature names, but RandomForestClassifier was fitted without feature names\n",
      "  warnings.warn(\n",
      "C:\\Users\\ellen\\AppData\\Local\\R-MINI~1\\lib\\site-packages\\sklearn\\base.py:438: UserWarning: X has feature names, but RandomForestClassifier was fitted without feature names\n",
      "  warnings.warn(\n",
      "C:\\Users\\ellen\\AppData\\Local\\R-MINI~1\\lib\\site-packages\\sklearn\\base.py:438: UserWarning: X has feature names, but RandomForestClassifier was fitted without feature names\n",
      "  warnings.warn(\n",
      "C:\\Users\\ellen\\AppData\\Local\\R-MINI~1\\lib\\site-packages\\sklearn\\base.py:438: UserWarning: X has feature names, but RandomForestClassifier was fitted without feature names\n",
      "  warnings.warn(\n"
     ]
    },
    {
     "data": {
      "image/png": "[encoded data removed]",
      "text/plain": [
       "<Figure size 864x576 with 2 Axes>"
      ]
     },
     "metadata": {
      "needs_background": "light"
     },
     "output_type": "display_data"
    }
   ],
   "source": [
    "# Feature Importance\n",
    "result = permutation_importance(clf, dataset_pd, Y_train, n_repeats=3, random_state=42)\n",
    "perm_sorted_idx = result.importances_mean.argsort()\n",
    "\n",
    "tree_importance_sorted_idx = np.argsort(clf.feature_importances_)\n",
    "tree_indices = np.arange(0, len(clf.feature_importances_)) + 0.5\n",
    "\n",
    "fig, (ax1, ax2) = plt.subplots(1, 2, figsize=(12, 8))\n",
    "ax1.barh(tree_indices[-30:], clf.feature_importances_[tree_importance_sorted_idx][-30:], height=0.7)\n",
    "ax1.set_yticks(tree_indices[-30:])\n",
    "ax1.set_yticklabels(dataset_pd.columns[tree_importance_sorted_idx][-30:])\n",
    "ax2.boxplot(\n",
    "    result.importances[perm_sorted_idx][-30:].T,\n",
    "    vert=False,\n",
    "    labels=dataset_pd.columns[perm_sorted_idx][-30:],\n",
    ")\n",
    "fig.tight_layout()\n",
    "plt.show()"
   ]
  },
  {
   "cell_type": "code",
   "execution_count": 89,
   "id": "379ff15d",
   "metadata": {},
   "outputs": [
    {
     "data": {
      "text/html": [
       "<div>\n",
       "<style scoped>\n",
       "    .dataframe tbody tr th:only-of-type {\n",
       "        vertical-align: middle;\n",
       "    }\n",
       "\n",
       "    .dataframe tbody tr th {\n",
       "        vertical-align: top;\n",
       "    }\n",
       "\n",
       "    .dataframe thead th {\n",
       "        text-align: right;\n",
       "    }\n",
       "</style>\n",
       "<table border=\"1\" class=\"dataframe\">\n",
       "  <thead>\n",
       "    <tr style=\"text-align: right;\">\n",
       "      <th></th>\n",
       "      <th>min_T1</th>\n",
       "      <th>med_T1</th>\n",
       "      <th>mid_T1</th>\n",
       "      <th>mid_vsmall_ratio_T1</th>\n",
       "      <th>mid_small_ratio_T1</th>\n",
       "      <th>mid_med_ratio_T1</th>\n",
       "      <th>mid_large_ratio_T1</th>\n",
       "      <th>mid_vsmall_ratio_T1_inc</th>\n",
       "      <th>mid_small_ratio_T1_inc</th>\n",
       "      <th>mid_med_ratio_T1_inc</th>\n",
       "      <th>...</th>\n",
       "      <th>x</th>\n",
       "      <th>y</th>\n",
       "      <th>z</th>\n",
       "      <th>WMH_x</th>\n",
       "      <th>WMH_y</th>\n",
       "      <th>WMH_z</th>\n",
       "      <th>CSF</th>\n",
       "      <th>GM</th>\n",
       "      <th>WM</th>\n",
       "      <th>Lacune</th>\n",
       "    </tr>\n",
       "  </thead>\n",
       "  <tbody>\n",
       "    <tr>\n",
       "      <th>33877</th>\n",
       "      <td>6324.0</td>\n",
       "      <td>0.015723</td>\n",
       "      <td>0.320207</td>\n",
       "      <td>0.370022</td>\n",
       "      <td>1.107662</td>\n",
       "      <td>0.972679</td>\n",
       "      <td>0.920756</td>\n",
       "      <td>1.048955</td>\n",
       "      <td>1.092953</td>\n",
       "      <td>0.980617</td>\n",
       "      <td>...</td>\n",
       "      <td>180.0</td>\n",
       "      <td>131.0</td>\n",
       "      <td>33.0</td>\n",
       "      <td>157.0</td>\n",
       "      <td>118.0</td>\n",
       "      <td>135.0</td>\n",
       "      <td>0.000000</td>\n",
       "      <td>0.000036</td>\n",
       "      <td>0.000036</td>\n",
       "      <td>0</td>\n",
       "    </tr>\n",
       "    <tr>\n",
       "      <th>33878</th>\n",
       "      <td>6324.0</td>\n",
       "      <td>0.003988</td>\n",
       "      <td>0.160907</td>\n",
       "      <td>0.149905</td>\n",
       "      <td>0.946845</td>\n",
       "      <td>1.041848</td>\n",
       "      <td>0.989607</td>\n",
       "      <td>0.806200</td>\n",
       "      <td>0.953178</td>\n",
       "      <td>1.029088</td>\n",
       "      <td>...</td>\n",
       "      <td>157.0</td>\n",
       "      <td>123.0</td>\n",
       "      <td>15.0</td>\n",
       "      <td>89.0</td>\n",
       "      <td>60.0</td>\n",
       "      <td>71.0</td>\n",
       "      <td>0.000000</td>\n",
       "      <td>0.000000</td>\n",
       "      <td>0.000000</td>\n",
       "      <td>0</td>\n",
       "    </tr>\n",
       "    <tr>\n",
       "      <th>33879</th>\n",
       "      <td>6324.0</td>\n",
       "      <td>0.013187</td>\n",
       "      <td>0.100276</td>\n",
       "      <td>0.076475</td>\n",
       "      <td>0.987560</td>\n",
       "      <td>0.997221</td>\n",
       "      <td>1.053480</td>\n",
       "      <td>0.982673</td>\n",
       "      <td>0.989098</td>\n",
       "      <td>0.998043</td>\n",
       "      <td>...</td>\n",
       "      <td>121.0</td>\n",
       "      <td>95.0</td>\n",
       "      <td>28.0</td>\n",
       "      <td>0.0</td>\n",
       "      <td>0.0</td>\n",
       "      <td>2.0</td>\n",
       "      <td>0.000000</td>\n",
       "      <td>0.000000</td>\n",
       "      <td>0.000000</td>\n",
       "      <td>0</td>\n",
       "    </tr>\n",
       "    <tr>\n",
       "      <th>33880</th>\n",
       "      <td>6324.0</td>\n",
       "      <td>0.007556</td>\n",
       "      <td>0.226674</td>\n",
       "      <td>0.322061</td>\n",
       "      <td>0.951552</td>\n",
       "      <td>0.986670</td>\n",
       "      <td>1.097390</td>\n",
       "      <td>1.204713</td>\n",
       "      <td>0.957350</td>\n",
       "      <td>0.990582</td>\n",
       "      <td>...</td>\n",
       "      <td>149.0</td>\n",
       "      <td>143.0</td>\n",
       "      <td>32.0</td>\n",
       "      <td>100.0</td>\n",
       "      <td>67.0</td>\n",
       "      <td>103.0</td>\n",
       "      <td>0.164340</td>\n",
       "      <td>0.124188</td>\n",
       "      <td>0.124188</td>\n",
       "      <td>0</td>\n",
       "    </tr>\n",
       "    <tr>\n",
       "      <th>33881</th>\n",
       "      <td>6324.0</td>\n",
       "      <td>0.018285</td>\n",
       "      <td>0.232922</td>\n",
       "      <td>0.258761</td>\n",
       "      <td>0.993898</td>\n",
       "      <td>1.011173</td>\n",
       "      <td>1.091093</td>\n",
       "      <td>1.212878</td>\n",
       "      <td>0.994656</td>\n",
       "      <td>1.007836</td>\n",
       "      <td>...</td>\n",
       "      <td>83.0</td>\n",
       "      <td>136.0</td>\n",
       "      <td>120.0</td>\n",
       "      <td>0.0</td>\n",
       "      <td>0.0</td>\n",
       "      <td>0.0</td>\n",
       "      <td>0.275072</td>\n",
       "      <td>0.174092</td>\n",
       "      <td>0.174092</td>\n",
       "      <td>0</td>\n",
       "    </tr>\n",
       "  </tbody>\n",
       "</table>\n",
       "<p>5 rows × 194 columns</p>\n",
       "</div>"
      ],
      "text/plain": [
       "       min_T1    med_T1    mid_T1  mid_vsmall_ratio_T1  mid_small_ratio_T1  \\\n",
       "33877  6324.0  0.015723  0.320207             0.370022            1.107662   \n",
       "33878  6324.0  0.003988  0.160907             0.149905            0.946845   \n",
       "33879  6324.0  0.013187  0.100276             0.076475            0.987560   \n",
       "33880  6324.0  0.007556  0.226674             0.322061            0.951552   \n",
       "33881  6324.0  0.018285  0.232922             0.258761            0.993898   \n",
       "\n",
       "       mid_med_ratio_T1  mid_large_ratio_T1  mid_vsmall_ratio_T1_inc  \\\n",
       "33877          0.972679            0.920756                 1.048955   \n",
       "33878          1.041848            0.989607                 0.806200   \n",
       "33879          0.997221            1.053480                 0.982673   \n",
       "33880          0.986670            1.097390                 1.204713   \n",
       "33881          1.011173            1.091093                 1.212878   \n",
       "\n",
       "       mid_small_ratio_T1_inc  mid_med_ratio_T1_inc  ...      x      y      z  \\\n",
       "33877                1.092953              0.980617  ...  180.0  131.0   33.0   \n",
       "33878                0.953178              1.029088  ...  157.0  123.0   15.0   \n",
       "33879                0.989098              0.998043  ...  121.0   95.0   28.0   \n",
       "33880                0.957350              0.990582  ...  149.0  143.0   32.0   \n",
       "33881                0.994656              1.007836  ...   83.0  136.0  120.0   \n",
       "\n",
       "       WMH_x  WMH_y  WMH_z       CSF        GM        WM  Lacune  \n",
       "33877  157.0  118.0  135.0  0.000000  0.000036  0.000036       0  \n",
       "33878   89.0   60.0   71.0  0.000000  0.000000  0.000000       0  \n",
       "33879    0.0    0.0    2.0  0.000000  0.000000  0.000000       0  \n",
       "33880  100.0   67.0  103.0  0.164340  0.124188  0.124188       0  \n",
       "33881    0.0    0.0    0.0  0.275072  0.174092  0.174092       0  \n",
       "\n",
       "[5 rows x 194 columns]"
      ]
     },
     "execution_count": 89,
     "metadata": {},
     "output_type": "execute_result"
    }
   ],
   "source": [
    "dataset_combined = dataset_pd.copy()\n",
    "dataset_combined['Lacune'] = Y_train\n",
    "dataset_combined.tail()"
   ]
  },
  {
   "cell_type": "code",
   "execution_count": 95,
   "id": "17fbc460",
   "metadata": {},
   "outputs": [
    {
     "data": {
      "image/png": "[encoded data removed]",
      "text/plain": [
       "<Figure size 1080x576 with 1 Axes>"
      ]
     },
     "metadata": {
      "needs_background": "light"
     },
     "output_type": "display_data"
    }
   ],
   "source": [
    "import seaborn as sns\n",
    "plt.figure(figsize=(15,8))\n",
    "ax = sns.kdeplot(dataset_combined[\"max_stm\"][dataset_combined.Lacune == 1], color=\"darkturquoise\", shade=True)\n",
    "sns.kdeplot(dataset_combined[\"max_stm\"][dataset_combined.Lacune == 0], color=\"lightcoral\", shade=True)\n",
    "plt.legend(['Lacune', 'Non-Lacune'])\n",
    "plt.title('Density Plot of Age for Surviving Population and Deceased Population')\n",
    "ax.set(xlabel='Z-value')\n",
    "plt.xlim(0,1)\n",
    "plt.show()"
   ]
  },
  {
   "cell_type": "code",
   "execution_count": 76,
   "id": "c78c64a9",
   "metadata": {},
   "outputs": [
    {
     "data": {
      "text/plain": [
       "array([  0.5,   1.5,   2.5,   3.5,   4.5,   5.5,   6.5,   7.5,   8.5,\n",
       "         9.5,  10.5,  11.5,  12.5,  13.5,  14.5,  15.5,  16.5,  17.5,\n",
       "        18.5,  19.5,  20.5,  21.5,  22.5,  23.5,  24.5,  25.5,  26.5,\n",
       "        27.5,  28.5,  29.5,  30.5,  31.5,  32.5,  33.5,  34.5,  35.5,\n",
       "        36.5,  37.5,  38.5,  39.5,  40.5,  41.5,  42.5,  43.5,  44.5,\n",
       "        45.5,  46.5,  47.5,  48.5,  49.5,  50.5,  51.5,  52.5,  53.5,\n",
       "        54.5,  55.5,  56.5,  57.5,  58.5,  59.5,  60.5,  61.5,  62.5,\n",
       "        63.5,  64.5,  65.5,  66.5,  67.5,  68.5,  69.5,  70.5,  71.5,\n",
       "        72.5,  73.5,  74.5,  75.5,  76.5,  77.5,  78.5,  79.5,  80.5,\n",
       "        81.5,  82.5,  83.5,  84.5,  85.5,  86.5,  87.5,  88.5,  89.5,\n",
       "        90.5,  91.5,  92.5,  93.5,  94.5,  95.5,  96.5,  97.5,  98.5,\n",
       "        99.5, 100.5, 101.5, 102.5, 103.5, 104.5, 105.5, 106.5, 107.5,\n",
       "       108.5, 109.5, 110.5, 111.5, 112.5, 113.5, 114.5, 115.5, 116.5,\n",
       "       117.5, 118.5, 119.5, 120.5, 121.5, 122.5, 123.5, 124.5, 125.5,\n",
       "       126.5, 127.5, 128.5, 129.5, 130.5, 131.5, 132.5, 133.5, 134.5,\n",
       "       135.5, 136.5, 137.5, 138.5, 139.5, 140.5, 141.5, 142.5, 143.5,\n",
       "       144.5, 145.5, 146.5, 147.5, 148.5, 149.5, 150.5, 151.5, 152.5,\n",
       "       153.5, 154.5, 155.5, 156.5, 157.5, 158.5, 159.5, 160.5, 161.5,\n",
       "       162.5, 163.5, 164.5, 165.5, 166.5, 167.5, 168.5, 169.5, 170.5,\n",
       "       171.5, 172.5, 173.5, 174.5, 175.5, 176.5, 177.5, 178.5, 179.5,\n",
       "       180.5, 181.5, 182.5, 183.5, 184.5, 185.5, 186.5, 187.5, 188.5,\n",
       "       189.5, 190.5, 191.5, 192.5])"
      ]
     },
     "execution_count": 76,
     "metadata": {},
     "output_type": "execute_result"
    }
   ],
   "source": [
    "tree_indices"
   ]
  },
  {
   "cell_type": "code",
   "execution_count": 38,
   "id": "b45ef617",
   "metadata": {
    "scrolled": true
   },
   "outputs": [
    {
     "name": "stderr",
     "output_type": "stream",
     "text": [
      "C:\\Users\\ellen\\AppData\\Local\\R-MINI~1\\lib\\site-packages\\sklearn\\ensemble\\_forest.py:550: UserWarning: Some inputs do not have OOB scores. This probably means too few trees were used to compute any reliable OOB estimates.\n",
      "  warn(\n",
      "C:\\Users\\ellen\\AppData\\Local\\R-MINI~1\\lib\\site-packages\\sklearn\\utils\\deprecation.py:87: FutureWarning: Function plot_roc_curve is deprecated; Function `plot_roc_curve` is deprecated in 1.0 and will be removed in 1.2. Use one of the class methods: RocCurveDisplay.from_predictions or RocCurveDisplay.from_estimator.\n",
      "  warnings.warn(msg, category=FutureWarning)\n",
      "C:\\Users\\ellen\\AppData\\Local\\R-MINI~1\\lib\\site-packages\\sklearn\\ensemble\\_forest.py:550: UserWarning: Some inputs do not have OOB scores. This probably means too few trees were used to compute any reliable OOB estimates.\n",
      "  warn(\n",
      "C:\\Users\\ellen\\AppData\\Local\\R-MINI~1\\lib\\site-packages\\sklearn\\utils\\deprecation.py:87: FutureWarning: Function plot_roc_curve is deprecated; Function `plot_roc_curve` is deprecated in 1.0 and will be removed in 1.2. Use one of the class methods: RocCurveDisplay.from_predictions or RocCurveDisplay.from_estimator.\n",
      "  warnings.warn(msg, category=FutureWarning)\n",
      "C:\\Users\\ellen\\AppData\\Local\\R-MINI~1\\lib\\site-packages\\sklearn\\ensemble\\_forest.py:550: UserWarning: Some inputs do not have OOB scores. This probably means too few trees were used to compute any reliable OOB estimates.\n",
      "  warn(\n",
      "C:\\Users\\ellen\\AppData\\Local\\R-MINI~1\\lib\\site-packages\\sklearn\\utils\\deprecation.py:87: FutureWarning: Function plot_roc_curve is deprecated; Function `plot_roc_curve` is deprecated in 1.0 and will be removed in 1.2. Use one of the class methods: RocCurveDisplay.from_predictions or RocCurveDisplay.from_estimator.\n",
      "  warnings.warn(msg, category=FutureWarning)\n",
      "C:\\Users\\ellen\\AppData\\Local\\R-MINI~1\\lib\\site-packages\\sklearn\\ensemble\\_forest.py:550: UserWarning: Some inputs do not have OOB scores. This probably means too few trees were used to compute any reliable OOB estimates.\n",
      "  warn(\n",
      "C:\\Users\\ellen\\AppData\\Local\\R-MINI~1\\lib\\site-packages\\sklearn\\utils\\deprecation.py:87: FutureWarning: Function plot_roc_curve is deprecated; Function `plot_roc_curve` is deprecated in 1.0 and will be removed in 1.2. Use one of the class methods: RocCurveDisplay.from_predictions or RocCurveDisplay.from_estimator.\n",
      "  warnings.warn(msg, category=FutureWarning)\n",
      "C:\\Users\\ellen\\AppData\\Local\\R-MINI~1\\lib\\site-packages\\sklearn\\ensemble\\_forest.py:550: UserWarning: Some inputs do not have OOB scores. This probably means too few trees were used to compute any reliable OOB estimates.\n",
      "  warn(\n",
      "C:\\Users\\ellen\\AppData\\Local\\R-MINI~1\\lib\\site-packages\\sklearn\\utils\\deprecation.py:87: FutureWarning: Function plot_roc_curve is deprecated; Function `plot_roc_curve` is deprecated in 1.0 and will be removed in 1.2. Use one of the class methods: RocCurveDisplay.from_predictions or RocCurveDisplay.from_estimator.\n",
      "  warnings.warn(msg, category=FutureWarning)\n"
     ]
    },
    {
     "data": {
      "image/png": "[encoded data removed]",
      "text/plain": [
       "<Figure size 432x288 with 1 Axes>"
      ]
     },
     "metadata": {
      "needs_background": "light"
     },
     "output_type": "display_data"
    }
   ],
   "source": [
    "# #############################################################################\n",
    "# Classification and ROC analysis\n",
    "from sklearn.metrics import auc\n",
    "from sklearn.metrics import plot_roc_curve\n",
    "from sklearn.metrics import confusion_matrix\n",
    "from sklearn.model_selection import StratifiedKFold\n",
    "from sklearn.metrics import classification_report\n",
    "import matplotlib.pyplot as plt\n",
    "\n",
    "# Define cv\n",
    "cv_splits = [(np.concatenate([cv_2_idx, cv_3_idx, cv_4_idx, cv_5_idx]), cv_1_idx), \n",
    "             (np.concatenate([cv_1_idx, cv_3_idx, cv_4_idx, cv_5_idx]), cv_2_idx), \n",
    "             (np.concatenate([cv_1_idx, cv_2_idx, cv_4_idx, cv_5_idx]), cv_3_idx), \n",
    "             (np.concatenate([cv_1_idx, cv_2_idx, cv_3_idx, cv_5_idx]), cv_4_idx), \n",
    "             (np.concatenate([cv_1_idx, cv_2_idx, cv_3_idx, cv_4_idx]), cv_5_idx)]\n",
    "\n",
    "\n",
    "# Run classifier with cross-validation and plot ROC curves\n",
    "classifier = RandomForestClassifier(criterion = \"gini\", n_estimators = 20, min_samples_leaf = 9, min_samples_split = 2, bootstrap = True, max_features =20, oob_score = True)\n",
    "\n",
    "tprs = []\n",
    "aucs = []\n",
    "mean_fpr = np.linspace(0, 1, 100)\n",
    "\n",
    "fig, ax = plt.subplots()\n",
    "for i, (train, test) in enumerate(cv_splits):\n",
    "    classifier.fit(dataset[train],Y_train[train])\n",
    "    viz = plot_roc_curve(classifier, dataset[test], Y_train[test],\n",
    "                         name='ROC fold {}'.format(i),\n",
    "                         alpha=0.3, lw=1, ax=ax)\n",
    "    interp_tpr = np.interp(mean_fpr, viz.fpr, viz.tpr)\n",
    "    interp_tpr[0] = 0.0\n",
    "    tprs.append(interp_tpr)\n",
    "    aucs.append(viz.roc_auc)\n",
    "\n",
    "ax.plot([0, 1], [0, 1], linestyle='--', lw=2, color='r',\n",
    "        label='Chance', alpha=.8)\n",
    "\n",
    "mean_tpr = np.mean(tprs, axis=0)\n",
    "mean_tpr[-1] = 1.0\n",
    "mean_auc = auc(mean_fpr, mean_tpr)\n",
    "std_auc = np.std(aucs)\n",
    "ax.plot(mean_fpr, mean_tpr, color='b',\n",
    "        label=r'Mean ROC (AUC = %0.2f $\\pm$ %0.2f)' % (mean_auc, std_auc),\n",
    "        lw=2, alpha=.8)\n",
    "\n",
    "std_tpr = np.std(tprs, axis=0)\n",
    "tprs_upper = np.minimum(mean_tpr + std_tpr, 1)\n",
    "tprs_lower = np.maximum(mean_tpr - std_tpr, 0)\n",
    "ax.fill_between(mean_fpr, tprs_lower, tprs_upper, color='grey', alpha=.2,\n",
    "                label=r'$\\pm$ 1 std. dev.')\n",
    "\n",
    "ax.set(xlim=[-0.05, 1.05], ylim=[-0.05, 1.05],\n",
    "       title=\"Receiver operating characteristic example\")\n",
    "ax.legend(loc=\"lower right\")\n",
    "plt.show()"
   ]
  },
  {
   "cell_type": "code",
   "execution_count": 41,
   "id": "d8b68218",
   "metadata": {},
   "outputs": [
    {
     "name": "stderr",
     "output_type": "stream",
     "text": [
      "C:\\Users\\ellen\\AppData\\Local\\R-MINI~1\\lib\\site-packages\\sklearn\\ensemble\\_forest.py:550: UserWarning: Some inputs do not have OOB scores. This probably means too few trees were used to compute any reliable OOB estimates.\n",
      "  warn(\n",
      "C:\\Users\\ellen\\AppData\\Local\\R-MINI~1\\lib\\site-packages\\sklearn\\utils\\deprecation.py:87: FutureWarning: Function plot_roc_curve is deprecated; Function `plot_roc_curve` is deprecated in 1.0 and will be removed in 1.2. Use one of the class methods: RocCurveDisplay.from_predictions or RocCurveDisplay.from_estimator.\n",
      "  warnings.warn(msg, category=FutureWarning)\n"
     ]
    },
    {
     "name": "stdout",
     "output_type": "stream",
     "text": [
      "[[0.79438938 0.20561062]\n",
      " [0.72106012 0.27893988]\n",
      " [0.75649287 0.24350713]\n",
      " ...\n",
      " [1.         0.        ]\n",
      " [0.94307692 0.05692308]\n",
      " [1.         0.        ]]\n",
      "Threshold value is: 0.15136104636104636\n"
     ]
    },
    {
     "name": "stderr",
     "output_type": "stream",
     "text": [
      "C:\\Users\\ellen\\AppData\\Local\\R-MINI~1\\lib\\site-packages\\sklearn\\utils\\deprecation.py:87: FutureWarning: Function plot_roc_curve is deprecated; Function `plot_roc_curve` is deprecated in 1.0 and will be removed in 1.2. Use one of the class methods: RocCurveDisplay.from_predictions or RocCurveDisplay.from_estimator.\n",
      "  warnings.warn(msg, category=FutureWarning)\n"
     ]
    },
    {
     "name": "stdout",
     "output_type": "stream",
     "text": [
      "[[0.15054155 0.84945845]\n",
      " [0.13070028 0.86929972]\n",
      " [0.21304563 0.78695437]\n",
      " ...\n",
      " [1.         0.        ]\n",
      " [0.95162338 0.04837662]\n",
      " [1.         0.        ]]\n",
      "Threshold value is: 0.20880952380952378\n"
     ]
    },
    {
     "name": "stderr",
     "output_type": "stream",
     "text": [
      "C:\\Users\\ellen\\AppData\\Local\\R-MINI~1\\lib\\site-packages\\sklearn\\ensemble\\_forest.py:550: UserWarning: Some inputs do not have OOB scores. This probably means too few trees were used to compute any reliable OOB estimates.\n",
      "  warn(\n",
      "C:\\Users\\ellen\\AppData\\Local\\R-MINI~1\\lib\\site-packages\\sklearn\\utils\\deprecation.py:87: FutureWarning: Function plot_roc_curve is deprecated; Function `plot_roc_curve` is deprecated in 1.0 and will be removed in 1.2. Use one of the class methods: RocCurveDisplay.from_predictions or RocCurveDisplay.from_estimator.\n",
      "  warnings.warn(msg, category=FutureWarning)\n"
     ]
    },
    {
     "name": "stdout",
     "output_type": "stream",
     "text": [
      "[[0.70416667 0.29583333]\n",
      " [0.78668831 0.21331169]\n",
      " [0.70454545 0.29545455]\n",
      " ...\n",
      " [1.         0.        ]\n",
      " [1.         0.        ]\n",
      " [1.         0.        ]]\n",
      "Threshold value is: 0.11538461538461538\n"
     ]
    },
    {
     "name": "stderr",
     "output_type": "stream",
     "text": [
      "C:\\Users\\ellen\\AppData\\Local\\R-MINI~1\\lib\\site-packages\\sklearn\\ensemble\\_forest.py:550: UserWarning: Some inputs do not have OOB scores. This probably means too few trees were used to compute any reliable OOB estimates.\n",
      "  warn(\n",
      "C:\\Users\\ellen\\AppData\\Local\\R-MINI~1\\lib\\site-packages\\sklearn\\utils\\deprecation.py:87: FutureWarning: Function plot_roc_curve is deprecated; Function `plot_roc_curve` is deprecated in 1.0 and will be removed in 1.2. Use one of the class methods: RocCurveDisplay.from_predictions or RocCurveDisplay.from_estimator.\n",
      "  warnings.warn(msg, category=FutureWarning)\n"
     ]
    },
    {
     "name": "stdout",
     "output_type": "stream",
     "text": [
      "[[0.32784188 0.67215812]\n",
      " [0.39193279 0.60806721]\n",
      " [0.27831591 0.72168409]\n",
      " ...\n",
      " [1.         0.        ]\n",
      " [1.         0.        ]\n",
      " [0.98928571 0.01071429]]\n",
      "Threshold value is: 0.1437979422538246\n"
     ]
    },
    {
     "name": "stderr",
     "output_type": "stream",
     "text": [
      "C:\\Users\\ellen\\AppData\\Local\\R-MINI~1\\lib\\site-packages\\sklearn\\ensemble\\_forest.py:550: UserWarning: Some inputs do not have OOB scores. This probably means too few trees were used to compute any reliable OOB estimates.\n",
      "  warn(\n",
      "C:\\Users\\ellen\\AppData\\Local\\R-MINI~1\\lib\\site-packages\\sklearn\\utils\\deprecation.py:87: FutureWarning: Function plot_roc_curve is deprecated; Function `plot_roc_curve` is deprecated in 1.0 and will be removed in 1.2. Use one of the class methods: RocCurveDisplay.from_predictions or RocCurveDisplay.from_estimator.\n",
      "  warnings.warn(msg, category=FutureWarning)\n"
     ]
    },
    {
     "name": "stdout",
     "output_type": "stream",
     "text": [
      "[[0.06175439 0.93824561]\n",
      " [0.05848485 0.94151515]\n",
      " [0.10582407 0.89417593]\n",
      " ...\n",
      " [1.         0.        ]\n",
      " [1.         0.        ]\n",
      " [1.         0.        ]]\n",
      "Threshold value is: 0.42247313988693297\n"
     ]
    },
    {
     "name": "stderr",
     "output_type": "stream",
     "text": [
      "C:\\Users\\ellen\\AppData\\Local\\R-MINI~1\\lib\\site-packages\\sklearn\\ensemble\\_forest.py:550: UserWarning: Some inputs do not have OOB scores. This probably means too few trees were used to compute any reliable OOB estimates.\n",
      "  warn(\n",
      "C:\\Users\\ellen\\AppData\\Local\\R-MINI~1\\lib\\site-packages\\sklearn\\utils\\deprecation.py:87: FutureWarning: Function plot_roc_curve is deprecated; Function `plot_roc_curve` is deprecated in 1.0 and will be removed in 1.2. Use one of the class methods: RocCurveDisplay.from_predictions or RocCurveDisplay.from_estimator.\n",
      "  warnings.warn(msg, category=FutureWarning)\n"
     ]
    },
    {
     "name": "stdout",
     "output_type": "stream",
     "text": [
      "[[0.82690271 0.17309729]\n",
      " [0.81551606 0.18448394]\n",
      " [0.8013311  0.1986689 ]\n",
      " ...\n",
      " [1.         0.        ]\n",
      " [0.946      0.054     ]\n",
      " [1.         0.        ]]\n",
      "Threshold value is: 0.1448135198135198\n"
     ]
    },
    {
     "name": "stderr",
     "output_type": "stream",
     "text": [
      "C:\\Users\\ellen\\AppData\\Local\\R-MINI~1\\lib\\site-packages\\sklearn\\ensemble\\_forest.py:550: UserWarning: Some inputs do not have OOB scores. This probably means too few trees were used to compute any reliable OOB estimates.\n",
      "  warn(\n",
      "C:\\Users\\ellen\\AppData\\Local\\R-MINI~1\\lib\\site-packages\\sklearn\\utils\\deprecation.py:87: FutureWarning: Function plot_roc_curve is deprecated; Function `plot_roc_curve` is deprecated in 1.0 and will be removed in 1.2. Use one of the class methods: RocCurveDisplay.from_predictions or RocCurveDisplay.from_estimator.\n",
      "  warnings.warn(msg, category=FutureWarning)\n"
     ]
    },
    {
     "name": "stdout",
     "output_type": "stream",
     "text": [
      "[[0.13612637 0.86387363]\n",
      " [0.02408425 0.97591575]\n",
      " [0.03940476 0.96059524]\n",
      " ...\n",
      " [1.         0.        ]\n",
      " [1.         0.        ]\n",
      " [0.96105263 0.03894737]]\n",
      "Threshold value is: 0.16107226107226108\n"
     ]
    },
    {
     "name": "stderr",
     "output_type": "stream",
     "text": [
      "C:\\Users\\ellen\\AppData\\Local\\R-MINI~1\\lib\\site-packages\\sklearn\\ensemble\\_forest.py:550: UserWarning: Some inputs do not have OOB scores. This probably means too few trees were used to compute any reliable OOB estimates.\n",
      "  warn(\n",
      "C:\\Users\\ellen\\AppData\\Local\\R-MINI~1\\lib\\site-packages\\sklearn\\utils\\deprecation.py:87: FutureWarning: Function plot_roc_curve is deprecated; Function `plot_roc_curve` is deprecated in 1.0 and will be removed in 1.2. Use one of the class methods: RocCurveDisplay.from_predictions or RocCurveDisplay.from_estimator.\n",
      "  warnings.warn(msg, category=FutureWarning)\n"
     ]
    },
    {
     "name": "stdout",
     "output_type": "stream",
     "text": [
      "[[0.65242083 0.34757917]\n",
      " [0.61551606 0.38448394]\n",
      " [0.70052689 0.29947311]\n",
      " ...\n",
      " [1.         0.        ]\n",
      " [1.         0.        ]\n",
      " [1.         0.        ]]\n",
      "Threshold value is: 0.14137835848362162\n"
     ]
    },
    {
     "name": "stderr",
     "output_type": "stream",
     "text": [
      "C:\\Users\\ellen\\AppData\\Local\\R-MINI~1\\lib\\site-packages\\sklearn\\ensemble\\_forest.py:550: UserWarning: Some inputs do not have OOB scores. This probably means too few trees were used to compute any reliable OOB estimates.\n",
      "  warn(\n",
      "C:\\Users\\ellen\\AppData\\Local\\R-MINI~1\\lib\\site-packages\\sklearn\\utils\\deprecation.py:87: FutureWarning: Function plot_roc_curve is deprecated; Function `plot_roc_curve` is deprecated in 1.0 and will be removed in 1.2. Use one of the class methods: RocCurveDisplay.from_predictions or RocCurveDisplay.from_estimator.\n",
      "  warnings.warn(msg, category=FutureWarning)\n"
     ]
    },
    {
     "name": "stdout",
     "output_type": "stream",
     "text": [
      "[[0.4072012  0.5927988 ]\n",
      " [0.41347489 0.58652511]\n",
      " [0.45979437 0.54020563]\n",
      " ...\n",
      " [1.         0.        ]\n",
      " [1.         0.        ]\n",
      " [1.         0.        ]]\n",
      "Threshold value is: 0.1536401098901099\n"
     ]
    },
    {
     "name": "stderr",
     "output_type": "stream",
     "text": [
      "C:\\Users\\ellen\\AppData\\Local\\R-MINI~1\\lib\\site-packages\\sklearn\\ensemble\\_forest.py:550: UserWarning: Some inputs do not have OOB scores. This probably means too few trees were used to compute any reliable OOB estimates.\n",
      "  warn(\n",
      "C:\\Users\\ellen\\AppData\\Local\\R-MINI~1\\lib\\site-packages\\sklearn\\utils\\deprecation.py:87: FutureWarning: Function plot_roc_curve is deprecated; Function `plot_roc_curve` is deprecated in 1.0 and will be removed in 1.2. Use one of the class methods: RocCurveDisplay.from_predictions or RocCurveDisplay.from_estimator.\n",
      "  warnings.warn(msg, category=FutureWarning)\n"
     ]
    },
    {
     "name": "stdout",
     "output_type": "stream",
     "text": [
      "[[0.00416667 0.99583333]\n",
      " [0.02145022 0.97854978]\n",
      " [0.03821429 0.96178571]\n",
      " ...\n",
      " [1.         0.        ]\n",
      " [0.91631579 0.08368421]\n",
      " [1.         0.        ]]\n",
      "Threshold value is: 0.407288961038961\n"
     ]
    },
    {
     "name": "stderr",
     "output_type": "stream",
     "text": [
      "C:\\Users\\ellen\\AppData\\Local\\R-MINI~1\\lib\\site-packages\\sklearn\\utils\\deprecation.py:87: FutureWarning: Function plot_roc_curve is deprecated; Function `plot_roc_curve` is deprecated in 1.0 and will be removed in 1.2. Use one of the class methods: RocCurveDisplay.from_predictions or RocCurveDisplay.from_estimator.\n",
      "  warnings.warn(msg, category=FutureWarning)\n"
     ]
    },
    {
     "name": "stdout",
     "output_type": "stream",
     "text": [
      "[[0.88391026 0.11608974]\n",
      " [0.86740847 0.13259153]\n",
      " [0.79717265 0.20282735]\n",
      " ...\n",
      " [1.         0.        ]\n",
      " [0.94353147 0.05646853]\n",
      " [1.         0.        ]]\n",
      "Threshold value is: 0.18504516317016315\n"
     ]
    },
    {
     "name": "stderr",
     "output_type": "stream",
     "text": [
      "C:\\Users\\ellen\\AppData\\Local\\R-MINI~1\\lib\\site-packages\\sklearn\\ensemble\\_forest.py:550: UserWarning: Some inputs do not have OOB scores. This probably means too few trees were used to compute any reliable OOB estimates.\n",
      "  warn(\n",
      "C:\\Users\\ellen\\AppData\\Local\\R-MINI~1\\lib\\site-packages\\sklearn\\utils\\deprecation.py:87: FutureWarning: Function plot_roc_curve is deprecated; Function `plot_roc_curve` is deprecated in 1.0 and will be removed in 1.2. Use one of the class methods: RocCurveDisplay.from_predictions or RocCurveDisplay.from_estimator.\n",
      "  warnings.warn(msg, category=FutureWarning)\n"
     ]
    },
    {
     "name": "stdout",
     "output_type": "stream",
     "text": [
      "[[0.11322115 0.88677885]\n",
      " [0.00662393 0.99337607]\n",
      " [0.02547138 0.97452862]\n",
      " ...\n",
      " [1.         0.        ]\n",
      " [0.94230769 0.05769231]\n",
      " [1.         0.        ]]\n",
      "Threshold value is: 0.19120927318295738\n"
     ]
    },
    {
     "name": "stderr",
     "output_type": "stream",
     "text": [
      "C:\\Users\\ellen\\AppData\\Local\\R-MINI~1\\lib\\site-packages\\sklearn\\ensemble\\_forest.py:550: UserWarning: Some inputs do not have OOB scores. This probably means too few trees were used to compute any reliable OOB estimates.\n",
      "  warn(\n",
      "C:\\Users\\ellen\\AppData\\Local\\R-MINI~1\\lib\\site-packages\\sklearn\\utils\\deprecation.py:87: FutureWarning: Function plot_roc_curve is deprecated; Function `plot_roc_curve` is deprecated in 1.0 and will be removed in 1.2. Use one of the class methods: RocCurveDisplay.from_predictions or RocCurveDisplay.from_estimator.\n",
      "  warnings.warn(msg, category=FutureWarning)\n"
     ]
    },
    {
     "name": "stdout",
     "output_type": "stream",
     "text": [
      "[[0.46961527 0.53038473]\n",
      " [0.53405971 0.46594029]\n",
      " [0.5091986  0.4908014 ]\n",
      " ...\n",
      " [1.         0.        ]\n",
      " [1.         0.        ]\n",
      " [1.         0.        ]]\n",
      "Threshold value is: 0.2224310776942356\n"
     ]
    },
    {
     "name": "stderr",
     "output_type": "stream",
     "text": [
      "C:\\Users\\ellen\\AppData\\Local\\R-MINI~1\\lib\\site-packages\\sklearn\\ensemble\\_forest.py:550: UserWarning: Some inputs do not have OOB scores. This probably means too few trees were used to compute any reliable OOB estimates.\n",
      "  warn(\n",
      "C:\\Users\\ellen\\AppData\\Local\\R-MINI~1\\lib\\site-packages\\sklearn\\utils\\deprecation.py:87: FutureWarning: Function plot_roc_curve is deprecated; Function `plot_roc_curve` is deprecated in 1.0 and will be removed in 1.2. Use one of the class methods: RocCurveDisplay.from_predictions or RocCurveDisplay.from_estimator.\n",
      "  warnings.warn(msg, category=FutureWarning)\n"
     ]
    },
    {
     "name": "stdout",
     "output_type": "stream",
     "text": [
      "[[0.33374608 0.66625392]\n",
      " [0.32030057 0.67969943]\n",
      " [0.43467045 0.56532955]\n",
      " ...\n",
      " [1.         0.        ]\n",
      " [1.         0.        ]\n",
      " [1.         0.        ]]\n",
      "Threshold value is: 0.17157655502392344\n"
     ]
    },
    {
     "name": "stderr",
     "output_type": "stream",
     "text": [
      "C:\\Users\\ellen\\AppData\\Local\\R-MINI~1\\lib\\site-packages\\sklearn\\ensemble\\_forest.py:550: UserWarning: Some inputs do not have OOB scores. This probably means too few trees were used to compute any reliable OOB estimates.\n",
      "  warn(\n",
      "C:\\Users\\ellen\\AppData\\Local\\R-MINI~1\\lib\\site-packages\\sklearn\\utils\\deprecation.py:87: FutureWarning: Function plot_roc_curve is deprecated; Function `plot_roc_curve` is deprecated in 1.0 and will be removed in 1.2. Use one of the class methods: RocCurveDisplay.from_predictions or RocCurveDisplay.from_estimator.\n",
      "  warnings.warn(msg, category=FutureWarning)\n"
     ]
    },
    {
     "name": "stdout",
     "output_type": "stream",
     "text": [
      "[[0.         1.        ]\n",
      " [0.02467949 0.97532051]\n",
      " [0.04134615 0.95865385]\n",
      " ...\n",
      " [1.         0.        ]\n",
      " [1.         0.        ]\n",
      " [1.         0.        ]]\n",
      "Threshold value is: 0.49503205128205136\n"
     ]
    },
    {
     "name": "stderr",
     "output_type": "stream",
     "text": [
      "C:\\Users\\ellen\\AppData\\Local\\R-MINI~1\\lib\\site-packages\\sklearn\\ensemble\\_forest.py:550: UserWarning: Some inputs do not have OOB scores. This probably means too few trees were used to compute any reliable OOB estimates.\n",
      "  warn(\n",
      "C:\\Users\\ellen\\AppData\\Local\\R-MINI~1\\lib\\site-packages\\sklearn\\utils\\deprecation.py:87: FutureWarning: Function plot_roc_curve is deprecated; Function `plot_roc_curve` is deprecated in 1.0 and will be removed in 1.2. Use one of the class methods: RocCurveDisplay.from_predictions or RocCurveDisplay.from_estimator.\n",
      "  warnings.warn(msg, category=FutureWarning)\n"
     ]
    },
    {
     "name": "stdout",
     "output_type": "stream",
     "text": [
      "[[0.68258754 0.31741246]\n",
      " [0.80005952 0.19994048]\n",
      " [0.80961287 0.19038713]\n",
      " ...\n",
      " [1.         0.        ]\n",
      " [0.98666667 0.01333333]\n",
      " [1.         0.        ]]\n",
      "Threshold value is: 0.15332242667181814\n"
     ]
    },
    {
     "name": "stderr",
     "output_type": "stream",
     "text": [
      "C:\\Users\\ellen\\AppData\\Local\\R-MINI~1\\lib\\site-packages\\sklearn\\ensemble\\_forest.py:550: UserWarning: Some inputs do not have OOB scores. This probably means too few trees were used to compute any reliable OOB estimates.\n",
      "  warn(\n",
      "C:\\Users\\ellen\\AppData\\Local\\R-MINI~1\\lib\\site-packages\\sklearn\\utils\\deprecation.py:87: FutureWarning: Function plot_roc_curve is deprecated; Function `plot_roc_curve` is deprecated in 1.0 and will be removed in 1.2. Use one of the class methods: RocCurveDisplay.from_predictions or RocCurveDisplay.from_estimator.\n",
      "  warnings.warn(msg, category=FutureWarning)\n"
     ]
    },
    {
     "name": "stdout",
     "output_type": "stream",
     "text": [
      "[[0.04347826 0.95652174]\n",
      " [0.01269231 0.98730769]\n",
      " [0.00769231 0.99230769]\n",
      " ...\n",
      " [0.98125    0.01875   ]\n",
      " [0.99736842 0.00263158]\n",
      " [0.99583333 0.00416667]]\n",
      "Threshold value is: 0.262447395202687\n"
     ]
    },
    {
     "name": "stderr",
     "output_type": "stream",
     "text": [
      "C:\\Users\\ellen\\AppData\\Local\\R-MINI~1\\lib\\site-packages\\sklearn\\utils\\deprecation.py:87: FutureWarning: Function plot_roc_curve is deprecated; Function `plot_roc_curve` is deprecated in 1.0 and will be removed in 1.2. Use one of the class methods: RocCurveDisplay.from_predictions or RocCurveDisplay.from_estimator.\n",
      "  warnings.warn(msg, category=FutureWarning)\n"
     ]
    },
    {
     "name": "stdout",
     "output_type": "stream",
     "text": [
      "[[0.59986865 0.40013135]\n",
      " [0.55569444 0.44430556]\n",
      " [0.64066697 0.35933303]\n",
      " ...\n",
      " [1.         0.        ]\n",
      " [1.         0.        ]\n",
      " [1.         0.        ]]\n",
      "Threshold value is: 0.20126809056956113\n"
     ]
    },
    {
     "name": "stderr",
     "output_type": "stream",
     "text": [
      "C:\\Users\\ellen\\AppData\\Local\\R-MINI~1\\lib\\site-packages\\sklearn\\ensemble\\_forest.py:550: UserWarning: Some inputs do not have OOB scores. This probably means too few trees were used to compute any reliable OOB estimates.\n",
      "  warn(\n",
      "C:\\Users\\ellen\\AppData\\Local\\R-MINI~1\\lib\\site-packages\\sklearn\\utils\\deprecation.py:87: FutureWarning: Function plot_roc_curve is deprecated; Function `plot_roc_curve` is deprecated in 1.0 and will be removed in 1.2. Use one of the class methods: RocCurveDisplay.from_predictions or RocCurveDisplay.from_estimator.\n",
      "  warnings.warn(msg, category=FutureWarning)\n"
     ]
    },
    {
     "name": "stdout",
     "output_type": "stream",
     "text": [
      "[[0.50380096 0.49619904]\n",
      " [0.50380096 0.49619904]\n",
      " [0.49285714 0.50714286]\n",
      " ...\n",
      " [1.         0.        ]\n",
      " [1.         0.        ]\n",
      " [0.98181818 0.01818182]]\n",
      "Threshold value is: 0.20646994134897353\n"
     ]
    },
    {
     "name": "stderr",
     "output_type": "stream",
     "text": [
      "C:\\Users\\ellen\\AppData\\Local\\R-MINI~1\\lib\\site-packages\\sklearn\\ensemble\\_forest.py:550: UserWarning: Some inputs do not have OOB scores. This probably means too few trees were used to compute any reliable OOB estimates.\n",
      "  warn(\n",
      "C:\\Users\\ellen\\AppData\\Local\\R-MINI~1\\lib\\site-packages\\sklearn\\utils\\deprecation.py:87: FutureWarning: Function plot_roc_curve is deprecated; Function `plot_roc_curve` is deprecated in 1.0 and will be removed in 1.2. Use one of the class methods: RocCurveDisplay.from_predictions or RocCurveDisplay.from_estimator.\n",
      "  warnings.warn(msg, category=FutureWarning)\n"
     ]
    },
    {
     "name": "stdout",
     "output_type": "stream",
     "text": [
      "[[0.         1.        ]\n",
      " [0.06787879 0.93212121]\n",
      " [0.0229798  0.9770202 ]\n",
      " ...\n",
      " [1.         0.        ]\n",
      " [1.         0.        ]\n",
      " [1.         0.        ]]\n",
      "Threshold value is: 0.43658445987090494\n"
     ]
    },
    {
     "name": "stderr",
     "output_type": "stream",
     "text": [
      "C:\\Users\\ellen\\AppData\\Local\\R-MINI~1\\lib\\site-packages\\sklearn\\ensemble\\_forest.py:550: UserWarning: Some inputs do not have OOB scores. This probably means too few trees were used to compute any reliable OOB estimates.\n",
      "  warn(\n",
      "C:\\Users\\ellen\\AppData\\Local\\R-MINI~1\\lib\\site-packages\\sklearn\\utils\\deprecation.py:87: FutureWarning: Function plot_roc_curve is deprecated; Function `plot_roc_curve` is deprecated in 1.0 and will be removed in 1.2. Use one of the class methods: RocCurveDisplay.from_predictions or RocCurveDisplay.from_estimator.\n",
      "  warnings.warn(msg, category=FutureWarning)\n"
     ]
    },
    {
     "name": "stdout",
     "output_type": "stream",
     "text": [
      "[[0.6293648  0.3706352 ]\n",
      " [0.7194499  0.2805501 ]\n",
      " [0.77198926 0.22801074]\n",
      " ...\n",
      " [1.         0.        ]\n",
      " [0.98809524 0.01190476]\n",
      " [1.         0.        ]]\n",
      "Threshold value is: 0.1784722222222222\n"
     ]
    },
    {
     "name": "stderr",
     "output_type": "stream",
     "text": [
      "C:\\Users\\ellen\\AppData\\Local\\R-MINI~1\\lib\\site-packages\\sklearn\\ensemble\\_forest.py:550: UserWarning: Some inputs do not have OOB scores. This probably means too few trees were used to compute any reliable OOB estimates.\n",
      "  warn(\n",
      "C:\\Users\\ellen\\AppData\\Local\\R-MINI~1\\lib\\site-packages\\sklearn\\utils\\deprecation.py:87: FutureWarning: Function plot_roc_curve is deprecated; Function `plot_roc_curve` is deprecated in 1.0 and will be removed in 1.2. Use one of the class methods: RocCurveDisplay.from_predictions or RocCurveDisplay.from_estimator.\n",
      "  warnings.warn(msg, category=FutureWarning)\n"
     ]
    },
    {
     "name": "stdout",
     "output_type": "stream",
     "text": [
      "[[0.09652778 0.90347222]\n",
      " [0.08719807 0.91280193]\n",
      " [0.1607695  0.8392305 ]\n",
      " ...\n",
      " [1.         0.        ]\n",
      " [1.         0.        ]\n",
      " [1.         0.        ]]\n",
      "Threshold value is: 0.17608861726508787\n"
     ]
    },
    {
     "name": "stderr",
     "output_type": "stream",
     "text": [
      "C:\\Users\\ellen\\AppData\\Local\\R-MINI~1\\lib\\site-packages\\sklearn\\ensemble\\_forest.py:550: UserWarning: Some inputs do not have OOB scores. This probably means too few trees were used to compute any reliable OOB estimates.\n",
      "  warn(\n",
      "C:\\Users\\ellen\\AppData\\Local\\R-MINI~1\\lib\\site-packages\\sklearn\\utils\\deprecation.py:87: FutureWarning: Function plot_roc_curve is deprecated; Function `plot_roc_curve` is deprecated in 1.0 and will be removed in 1.2. Use one of the class methods: RocCurveDisplay.from_predictions or RocCurveDisplay.from_estimator.\n",
      "  warnings.warn(msg, category=FutureWarning)\n"
     ]
    },
    {
     "name": "stdout",
     "output_type": "stream",
     "text": [
      "[[0.66785714 0.33214286]\n",
      " [0.71785714 0.28214286]\n",
      " [0.65333333 0.34666667]\n",
      " ...\n",
      " [1.         0.        ]\n",
      " [1.         0.        ]\n",
      " [1.         0.        ]]\n",
      "Threshold value is: 0.1771103896103896\n"
     ]
    },
    {
     "name": "stderr",
     "output_type": "stream",
     "text": [
      "C:\\Users\\ellen\\AppData\\Local\\R-MINI~1\\lib\\site-packages\\sklearn\\ensemble\\_forest.py:550: UserWarning: Some inputs do not have OOB scores. This probably means too few trees were used to compute any reliable OOB estimates.\n",
      "  warn(\n",
      "C:\\Users\\ellen\\AppData\\Local\\R-MINI~1\\lib\\site-packages\\sklearn\\utils\\deprecation.py:87: FutureWarning: Function plot_roc_curve is deprecated; Function `plot_roc_curve` is deprecated in 1.0 and will be removed in 1.2. Use one of the class methods: RocCurveDisplay.from_predictions or RocCurveDisplay.from_estimator.\n",
      "  warnings.warn(msg, category=FutureWarning)\n"
     ]
    },
    {
     "name": "stdout",
     "output_type": "stream",
     "text": [
      "[[0.31286477 0.68713523]\n",
      " [0.2746047  0.7253953 ]\n",
      " [0.42503852 0.57496148]\n",
      " ...\n",
      " [1.         0.        ]\n",
      " [1.         0.        ]\n",
      " [1.         0.        ]]\n",
      "Threshold value is: 0.2165001665001665\n"
     ]
    },
    {
     "name": "stderr",
     "output_type": "stream",
     "text": [
      "C:\\Users\\ellen\\AppData\\Local\\R-MINI~1\\lib\\site-packages\\sklearn\\ensemble\\_forest.py:550: UserWarning: Some inputs do not have OOB scores. This probably means too few trees were used to compute any reliable OOB estimates.\n",
      "  warn(\n",
      "C:\\Users\\ellen\\AppData\\Local\\R-MINI~1\\lib\\site-packages\\sklearn\\utils\\deprecation.py:87: FutureWarning: Function plot_roc_curve is deprecated; Function `plot_roc_curve` is deprecated in 1.0 and will be removed in 1.2. Use one of the class methods: RocCurveDisplay.from_predictions or RocCurveDisplay.from_estimator.\n",
      "  warnings.warn(msg, category=FutureWarning)\n"
     ]
    },
    {
     "name": "stdout",
     "output_type": "stream",
     "text": [
      "[[0.04562937 0.95437063]\n",
      " [0.10757021 0.89242979]\n",
      " [0.04688329 0.95311671]\n",
      " ...\n",
      " [1.         0.        ]\n",
      " [1.         0.        ]\n",
      " [1.         0.        ]]\n",
      "Threshold value is: 0.44937660438976224\n"
     ]
    },
    {
     "name": "stderr",
     "output_type": "stream",
     "text": [
      "C:\\Users\\ellen\\AppData\\Local\\R-MINI~1\\lib\\site-packages\\sklearn\\ensemble\\_forest.py:550: UserWarning: Some inputs do not have OOB scores. This probably means too few trees were used to compute any reliable OOB estimates.\n",
      "  warn(\n",
      "C:\\Users\\ellen\\AppData\\Local\\R-MINI~1\\lib\\site-packages\\sklearn\\utils\\deprecation.py:87: FutureWarning: Function plot_roc_curve is deprecated; Function `plot_roc_curve` is deprecated in 1.0 and will be removed in 1.2. Use one of the class methods: RocCurveDisplay.from_predictions or RocCurveDisplay.from_estimator.\n",
      "  warnings.warn(msg, category=FutureWarning)\n"
     ]
    },
    {
     "name": "stdout",
     "output_type": "stream",
     "text": [
      "[[0.83682084 0.16317916]\n",
      " [0.86195682 0.13804318]\n",
      " [0.90602176 0.09397824]\n",
      " ...\n",
      " [1.         0.        ]\n",
      " [0.91785714 0.08214286]\n",
      " [1.         0.        ]]\n",
      "Threshold value is: 0.17727292730153144\n"
     ]
    },
    {
     "name": "stderr",
     "output_type": "stream",
     "text": [
      "C:\\Users\\ellen\\AppData\\Local\\R-MINI~1\\lib\\site-packages\\sklearn\\ensemble\\_forest.py:550: UserWarning: Some inputs do not have OOB scores. This probably means too few trees were used to compute any reliable OOB estimates.\n",
      "  warn(\n",
      "C:\\Users\\ellen\\AppData\\Local\\R-MINI~1\\lib\\site-packages\\sklearn\\utils\\deprecation.py:87: FutureWarning: Function plot_roc_curve is deprecated; Function `plot_roc_curve` is deprecated in 1.0 and will be removed in 1.2. Use one of the class methods: RocCurveDisplay.from_predictions or RocCurveDisplay.from_estimator.\n",
      "  warnings.warn(msg, category=FutureWarning)\n"
     ]
    },
    {
     "name": "stdout",
     "output_type": "stream",
     "text": [
      "[[0.13603989 0.86396011]\n",
      " [0.06296296 0.93703704]\n",
      " [0.07843915 0.92156085]\n",
      " ...\n",
      " [1.         0.        ]\n",
      " [1.         0.        ]\n",
      " [0.98461538 0.01538462]]\n",
      "Threshold value is: 0.21889512534249372\n"
     ]
    },
    {
     "name": "stderr",
     "output_type": "stream",
     "text": [
      "C:\\Users\\ellen\\AppData\\Local\\R-MINI~1\\lib\\site-packages\\sklearn\\ensemble\\_forest.py:550: UserWarning: Some inputs do not have OOB scores. This probably means too few trees were used to compute any reliable OOB estimates.\n",
      "  warn(\n",
      "C:\\Users\\ellen\\AppData\\Local\\R-MINI~1\\lib\\site-packages\\sklearn\\utils\\deprecation.py:87: FutureWarning: Function plot_roc_curve is deprecated; Function `plot_roc_curve` is deprecated in 1.0 and will be removed in 1.2. Use one of the class methods: RocCurveDisplay.from_predictions or RocCurveDisplay.from_estimator.\n",
      "  warnings.warn(msg, category=FutureWarning)\n"
     ]
    },
    {
     "name": "stdout",
     "output_type": "stream",
     "text": [
      "[[0.63288867 0.36711133]\n",
      " [0.66138517 0.33861483]\n",
      " [0.72699965 0.27300035]\n",
      " ...\n",
      " [1.         0.        ]\n",
      " [1.         0.        ]\n",
      " [1.         0.        ]]\n",
      "Threshold value is: 0.14928571428571427\n"
     ]
    },
    {
     "name": "stderr",
     "output_type": "stream",
     "text": [
      "C:\\Users\\ellen\\AppData\\Local\\R-MINI~1\\lib\\site-packages\\sklearn\\utils\\deprecation.py:87: FutureWarning: Function plot_roc_curve is deprecated; Function `plot_roc_curve` is deprecated in 1.0 and will be removed in 1.2. Use one of the class methods: RocCurveDisplay.from_predictions or RocCurveDisplay.from_estimator.\n",
      "  warnings.warn(msg, category=FutureWarning)\n"
     ]
    },
    {
     "name": "stdout",
     "output_type": "stream",
     "text": [
      "[[0.38827538 0.61172462]\n",
      " [0.41452538 0.58547462]\n",
      " [0.53099345 0.46900655]\n",
      " ...\n",
      " [1.         0.        ]\n",
      " [1.         0.        ]\n",
      " [1.         0.        ]]\n",
      "Threshold value is: 0.1340034965034965\n"
     ]
    },
    {
     "name": "stderr",
     "output_type": "stream",
     "text": [
      "C:\\Users\\ellen\\AppData\\Local\\R-MINI~1\\lib\\site-packages\\sklearn\\utils\\deprecation.py:87: FutureWarning: Function plot_roc_curve is deprecated; Function `plot_roc_curve` is deprecated in 1.0 and will be removed in 1.2. Use one of the class methods: RocCurveDisplay.from_predictions or RocCurveDisplay.from_estimator.\n",
      "  warnings.warn(msg, category=FutureWarning)\n"
     ]
    },
    {
     "name": "stdout",
     "output_type": "stream",
     "text": [
      "[[0.01923077 0.98076923]\n",
      " [0.01923077 0.98076923]\n",
      " [0.06923077 0.93076923]\n",
      " ...\n",
      " [1.         0.        ]\n",
      " [0.92307692 0.07692308]\n",
      " [1.         0.        ]]\n",
      "Threshold value is: 0.4742321883472999\n"
     ]
    },
    {
     "name": "stderr",
     "output_type": "stream",
     "text": [
      "C:\\Users\\ellen\\AppData\\Local\\R-MINI~1\\lib\\site-packages\\sklearn\\ensemble\\_forest.py:550: UserWarning: Some inputs do not have OOB scores. This probably means too few trees were used to compute any reliable OOB estimates.\n",
      "  warn(\n",
      "C:\\Users\\ellen\\AppData\\Local\\R-MINI~1\\lib\\site-packages\\sklearn\\utils\\deprecation.py:87: FutureWarning: Function plot_roc_curve is deprecated; Function `plot_roc_curve` is deprecated in 1.0 and will be removed in 1.2. Use one of the class methods: RocCurveDisplay.from_predictions or RocCurveDisplay.from_estimator.\n",
      "  warnings.warn(msg, category=FutureWarning)\n"
     ]
    },
    {
     "name": "stdout",
     "output_type": "stream",
     "text": [
      "[[0.75       0.25      ]\n",
      " [0.66372958 0.33627042]\n",
      " [0.84848485 0.15151515]\n",
      " ...\n",
      " [1.         0.        ]\n",
      " [0.98695652 0.01304348]\n",
      " [1.         0.        ]]\n",
      "Threshold value is: 0.16727564102564102\n"
     ]
    },
    {
     "name": "stderr",
     "output_type": "stream",
     "text": [
      "C:\\Users\\ellen\\AppData\\Local\\R-MINI~1\\lib\\site-packages\\sklearn\\utils\\deprecation.py:87: FutureWarning: Function plot_roc_curve is deprecated; Function `plot_roc_curve` is deprecated in 1.0 and will be removed in 1.2. Use one of the class methods: RocCurveDisplay.from_predictions or RocCurveDisplay.from_estimator.\n",
      "  warnings.warn(msg, category=FutureWarning)\n"
     ]
    },
    {
     "name": "stdout",
     "output_type": "stream",
     "text": [
      "[[0.07261905 0.92738095]\n",
      " [0.06428571 0.93571429]\n",
      " [0.07652244 0.92347756]\n",
      " ...\n",
      " [1.         0.        ]\n",
      " [1.         0.        ]\n",
      " [1.         0.        ]]\n",
      "Threshold value is: 0.20674546214019895\n"
     ]
    },
    {
     "name": "stderr",
     "output_type": "stream",
     "text": [
      "C:\\Users\\ellen\\AppData\\Local\\R-MINI~1\\lib\\site-packages\\sklearn\\ensemble\\_forest.py:550: UserWarning: Some inputs do not have OOB scores. This probably means too few trees were used to compute any reliable OOB estimates.\n",
      "  warn(\n",
      "C:\\Users\\ellen\\AppData\\Local\\R-MINI~1\\lib\\site-packages\\sklearn\\utils\\deprecation.py:87: FutureWarning: Function plot_roc_curve is deprecated; Function `plot_roc_curve` is deprecated in 1.0 and will be removed in 1.2. Use one of the class methods: RocCurveDisplay.from_predictions or RocCurveDisplay.from_estimator.\n",
      "  warnings.warn(msg, category=FutureWarning)\n"
     ]
    },
    {
     "name": "stdout",
     "output_type": "stream",
     "text": [
      "[[0.71782609 0.28217391]\n",
      " [0.67972169 0.32027831]\n",
      " [0.75746596 0.24253404]\n",
      " ...\n",
      " [1.         0.        ]\n",
      " [1.         0.        ]\n",
      " [1.         0.        ]]\n",
      "Threshold value is: 0.16923076923076924\n"
     ]
    },
    {
     "name": "stderr",
     "output_type": "stream",
     "text": [
      "C:\\Users\\ellen\\AppData\\Local\\R-MINI~1\\lib\\site-packages\\sklearn\\ensemble\\_forest.py:550: UserWarning: Some inputs do not have OOB scores. This probably means too few trees were used to compute any reliable OOB estimates.\n",
      "  warn(\n",
      "C:\\Users\\ellen\\AppData\\Local\\R-MINI~1\\lib\\site-packages\\sklearn\\utils\\deprecation.py:87: FutureWarning: Function plot_roc_curve is deprecated; Function `plot_roc_curve` is deprecated in 1.0 and will be removed in 1.2. Use one of the class methods: RocCurveDisplay.from_predictions or RocCurveDisplay.from_estimator.\n",
      "  warnings.warn(msg, category=FutureWarning)\n"
     ]
    },
    {
     "name": "stdout",
     "output_type": "stream",
     "text": [
      "[[0.30876436 0.69123564]\n",
      " [0.30264548 0.69735452]\n",
      " [0.41383013 0.58616987]\n",
      " ...\n",
      " [1.         0.        ]\n",
      " [1.         0.        ]\n",
      " [0.97777778 0.02222222]]\n",
      "Threshold value is: 0.20206175403543827\n"
     ]
    },
    {
     "name": "stderr",
     "output_type": "stream",
     "text": [
      "C:\\Users\\ellen\\AppData\\Local\\R-MINI~1\\lib\\site-packages\\sklearn\\utils\\deprecation.py:87: FutureWarning: Function plot_roc_curve is deprecated; Function `plot_roc_curve` is deprecated in 1.0 and will be removed in 1.2. Use one of the class methods: RocCurveDisplay.from_predictions or RocCurveDisplay.from_estimator.\n",
      "  warnings.warn(msg, category=FutureWarning)\n"
     ]
    },
    {
     "name": "stdout",
     "output_type": "stream",
     "text": [
      "[[0.07074315 0.92925685]\n",
      " [0.11357143 0.88642857]\n",
      " [0.00357143 0.99642857]\n",
      " ...\n",
      " [1.         0.        ]\n",
      " [0.97777778 0.02222222]\n",
      " [1.         0.        ]]\n",
      "Threshold value is: 0.4488170133100473\n"
     ]
    },
    {
     "name": "stderr",
     "output_type": "stream",
     "text": [
      "C:\\Users\\ellen\\AppData\\Local\\R-MINI~1\\lib\\site-packages\\sklearn\\ensemble\\_forest.py:550: UserWarning: Some inputs do not have OOB scores. This probably means too few trees were used to compute any reliable OOB estimates.\n",
      "  warn(\n",
      "C:\\Users\\ellen\\AppData\\Local\\R-MINI~1\\lib\\site-packages\\sklearn\\utils\\deprecation.py:87: FutureWarning: Function plot_roc_curve is deprecated; Function `plot_roc_curve` is deprecated in 1.0 and will be removed in 1.2. Use one of the class methods: RocCurveDisplay.from_predictions or RocCurveDisplay.from_estimator.\n",
      "  warnings.warn(msg, category=FutureWarning)\n"
     ]
    },
    {
     "name": "stdout",
     "output_type": "stream",
     "text": [
      "[[0.82162855 0.17837145]\n",
      " [0.73556111 0.26443889]\n",
      " [0.87087995 0.12912005]\n",
      " ...\n",
      " [1.         0.        ]\n",
      " [0.98817935 0.01182065]\n",
      " [1.         0.        ]]\n",
      "Threshold value is: 0.1619047619047619\n"
     ]
    },
    {
     "name": "stderr",
     "output_type": "stream",
     "text": [
      "C:\\Users\\ellen\\AppData\\Local\\R-MINI~1\\lib\\site-packages\\sklearn\\ensemble\\_forest.py:550: UserWarning: Some inputs do not have OOB scores. This probably means too few trees were used to compute any reliable OOB estimates.\n",
      "  warn(\n",
      "C:\\Users\\ellen\\AppData\\Local\\R-MINI~1\\lib\\site-packages\\sklearn\\utils\\deprecation.py:87: FutureWarning: Function plot_roc_curve is deprecated; Function `plot_roc_curve` is deprecated in 1.0 and will be removed in 1.2. Use one of the class methods: RocCurveDisplay.from_predictions or RocCurveDisplay.from_estimator.\n",
      "  warnings.warn(msg, category=FutureWarning)\n"
     ]
    },
    {
     "name": "stdout",
     "output_type": "stream",
     "text": [
      "[[0.05       0.95      ]\n",
      " [0.05       0.95      ]\n",
      " [0.11956522 0.88043478]\n",
      " ...\n",
      " [1.         0.        ]\n",
      " [0.95       0.05      ]\n",
      " [1.         0.        ]]\n",
      "Threshold value is: 0.199114439763527\n"
     ]
    },
    {
     "name": "stderr",
     "output_type": "stream",
     "text": [
      "C:\\Users\\ellen\\AppData\\Local\\R-MINI~1\\lib\\site-packages\\sklearn\\ensemble\\_forest.py:550: UserWarning: Some inputs do not have OOB scores. This probably means too few trees were used to compute any reliable OOB estimates.\n",
      "  warn(\n",
      "C:\\Users\\ellen\\AppData\\Local\\R-MINI~1\\lib\\site-packages\\sklearn\\utils\\deprecation.py:87: FutureWarning: Function plot_roc_curve is deprecated; Function `plot_roc_curve` is deprecated in 1.0 and will be removed in 1.2. Use one of the class methods: RocCurveDisplay.from_predictions or RocCurveDisplay.from_estimator.\n",
      "  warnings.warn(msg, category=FutureWarning)\n"
     ]
    },
    {
     "name": "stdout",
     "output_type": "stream",
     "text": [
      "[[0.80957265 0.19042735]\n",
      " [0.80909091 0.19090909]\n",
      " [0.72777778 0.27222222]\n",
      " ...\n",
      " [1.         0.        ]\n",
      " [1.         0.        ]\n",
      " [1.         0.        ]]\n",
      "Threshold value is: 0.1602173913043478\n"
     ]
    },
    {
     "name": "stderr",
     "output_type": "stream",
     "text": [
      "C:\\Users\\ellen\\AppData\\Local\\R-MINI~1\\lib\\site-packages\\sklearn\\ensemble\\_forest.py:550: UserWarning: Some inputs do not have OOB scores. This probably means too few trees were used to compute any reliable OOB estimates.\n",
      "  warn(\n",
      "C:\\Users\\ellen\\AppData\\Local\\R-MINI~1\\lib\\site-packages\\sklearn\\utils\\deprecation.py:87: FutureWarning: Function plot_roc_curve is deprecated; Function `plot_roc_curve` is deprecated in 1.0 and will be removed in 1.2. Use one of the class methods: RocCurveDisplay.from_predictions or RocCurveDisplay.from_estimator.\n",
      "  warnings.warn(msg, category=FutureWarning)\n"
     ]
    },
    {
     "name": "stdout",
     "output_type": "stream",
     "text": [
      "[[0.42945715 0.57054285]\n",
      " [0.42269244 0.57730756]\n",
      " [0.60908169 0.39091831]\n",
      " ...\n",
      " [1.         0.        ]\n",
      " [1.         0.        ]\n",
      " [1.         0.        ]]\n",
      "Threshold value is: 0.17047619047619048\n"
     ]
    },
    {
     "name": "stderr",
     "output_type": "stream",
     "text": [
      "C:\\Users\\ellen\\AppData\\Local\\R-MINI~1\\lib\\site-packages\\sklearn\\ensemble\\_forest.py:550: UserWarning: Some inputs do not have OOB scores. This probably means too few trees were used to compute any reliable OOB estimates.\n",
      "  warn(\n",
      "C:\\Users\\ellen\\AppData\\Local\\R-MINI~1\\lib\\site-packages\\sklearn\\utils\\deprecation.py:87: FutureWarning: Function plot_roc_curve is deprecated; Function `plot_roc_curve` is deprecated in 1.0 and will be removed in 1.2. Use one of the class methods: RocCurveDisplay.from_predictions or RocCurveDisplay.from_estimator.\n",
      "  warnings.warn(msg, category=FutureWarning)\n"
     ]
    },
    {
     "name": "stdout",
     "output_type": "stream",
     "text": [
      "[[0.05       0.95      ]\n",
      " [0.04119048 0.95880952]\n",
      " [0.01287879 0.98712121]\n",
      " ...\n",
      " [1.         0.        ]\n",
      " [0.98392857 0.01607143]\n",
      " [1.         0.        ]]\n",
      "Threshold value is: 0.4075177174975562\n"
     ]
    },
    {
     "name": "stderr",
     "output_type": "stream",
     "text": [
      "C:\\Users\\ellen\\AppData\\Local\\R-MINI~1\\lib\\site-packages\\sklearn\\ensemble\\_forest.py:550: UserWarning: Some inputs do not have OOB scores. This probably means too few trees were used to compute any reliable OOB estimates.\n",
      "  warn(\n",
      "C:\\Users\\ellen\\AppData\\Local\\R-MINI~1\\lib\\site-packages\\sklearn\\utils\\deprecation.py:87: FutureWarning: Function plot_roc_curve is deprecated; Function `plot_roc_curve` is deprecated in 1.0 and will be removed in 1.2. Use one of the class methods: RocCurveDisplay.from_predictions or RocCurveDisplay.from_estimator.\n",
      "  warnings.warn(msg, category=FutureWarning)\n"
     ]
    },
    {
     "name": "stdout",
     "output_type": "stream",
     "text": [
      "[[0.76077616 0.23922384]\n",
      " [0.81617133 0.18382867]\n",
      " [0.66955851 0.33044149]\n",
      " ...\n",
      " [1.         0.        ]\n",
      " [0.94212454 0.05787546]\n",
      " [1.         0.        ]]\n",
      "Threshold value is: 0.17665991902834008\n"
     ]
    },
    {
     "name": "stderr",
     "output_type": "stream",
     "text": [
      "C:\\Users\\ellen\\AppData\\Local\\R-MINI~1\\lib\\site-packages\\sklearn\\ensemble\\_forest.py:550: UserWarning: Some inputs do not have OOB scores. This probably means too few trees were used to compute any reliable OOB estimates.\n",
      "  warn(\n",
      "C:\\Users\\ellen\\AppData\\Local\\R-MINI~1\\lib\\site-packages\\sklearn\\utils\\deprecation.py:87: FutureWarning: Function plot_roc_curve is deprecated; Function `plot_roc_curve` is deprecated in 1.0 and will be removed in 1.2. Use one of the class methods: RocCurveDisplay.from_predictions or RocCurveDisplay.from_estimator.\n",
      "  warnings.warn(msg, category=FutureWarning)\n"
     ]
    },
    {
     "name": "stdout",
     "output_type": "stream",
     "text": [
      "[[0.07019231 0.92980769]\n",
      " [0.02019231 0.97980769]\n",
      " [0.0928228  0.9071772 ]\n",
      " ...\n",
      " [0.99615385 0.00384615]\n",
      " [1.         0.        ]\n",
      " [1.         0.        ]]\n",
      "Threshold value is: 0.19033653846153847\n"
     ]
    },
    {
     "name": "stderr",
     "output_type": "stream",
     "text": [
      "C:\\Users\\ellen\\AppData\\Local\\R-MINI~1\\lib\\site-packages\\sklearn\\ensemble\\_forest.py:550: UserWarning: Some inputs do not have OOB scores. This probably means too few trees were used to compute any reliable OOB estimates.\n",
      "  warn(\n",
      "C:\\Users\\ellen\\AppData\\Local\\R-MINI~1\\lib\\site-packages\\sklearn\\utils\\deprecation.py:87: FutureWarning: Function plot_roc_curve is deprecated; Function `plot_roc_curve` is deprecated in 1.0 and will be removed in 1.2. Use one of the class methods: RocCurveDisplay.from_predictions or RocCurveDisplay.from_estimator.\n",
      "  warnings.warn(msg, category=FutureWarning)\n"
     ]
    },
    {
     "name": "stdout",
     "output_type": "stream",
     "text": [
      "[[0.59666667 0.40333333]\n",
      " [0.53075758 0.46924242]\n",
      " [0.57119337 0.42880663]\n",
      " ...\n",
      " [1.         0.        ]\n",
      " [1.         0.        ]\n",
      " [1.         0.        ]]\n",
      "Threshold value is: 0.11666666666666665\n"
     ]
    },
    {
     "name": "stderr",
     "output_type": "stream",
     "text": [
      "C:\\Users\\ellen\\AppData\\Local\\R-MINI~1\\lib\\site-packages\\sklearn\\ensemble\\_forest.py:550: UserWarning: Some inputs do not have OOB scores. This probably means too few trees were used to compute any reliable OOB estimates.\n",
      "  warn(\n",
      "C:\\Users\\ellen\\AppData\\Local\\R-MINI~1\\lib\\site-packages\\sklearn\\utils\\deprecation.py:87: FutureWarning: Function plot_roc_curve is deprecated; Function `plot_roc_curve` is deprecated in 1.0 and will be removed in 1.2. Use one of the class methods: RocCurveDisplay.from_predictions or RocCurveDisplay.from_estimator.\n",
      "  warnings.warn(msg, category=FutureWarning)\n"
     ]
    },
    {
     "name": "stdout",
     "output_type": "stream",
     "text": [
      "[[0.4982509  0.5017491 ]\n",
      " [0.40402013 0.59597987]\n",
      " [0.50507661 0.49492339]\n",
      " ...\n",
      " [1.         0.        ]\n",
      " [1.         0.        ]\n",
      " [1.         0.        ]]\n",
      "Threshold value is: 0.20362359862359863\n"
     ]
    },
    {
     "name": "stderr",
     "output_type": "stream",
     "text": [
      "C:\\Users\\ellen\\AppData\\Local\\R-MINI~1\\lib\\site-packages\\sklearn\\ensemble\\_forest.py:550: UserWarning: Some inputs do not have OOB scores. This probably means too few trees were used to compute any reliable OOB estimates.\n",
      "  warn(\n",
      "C:\\Users\\ellen\\AppData\\Local\\R-MINI~1\\lib\\site-packages\\sklearn\\utils\\deprecation.py:87: FutureWarning: Function plot_roc_curve is deprecated; Function `plot_roc_curve` is deprecated in 1.0 and will be removed in 1.2. Use one of the class methods: RocCurveDisplay.from_predictions or RocCurveDisplay.from_estimator.\n",
      "  warnings.warn(msg, category=FutureWarning)\n"
     ]
    },
    {
     "name": "stdout",
     "output_type": "stream",
     "text": [
      "[[0.00769231 0.99230769]\n",
      " [0.         1.        ]\n",
      " [0.         1.        ]\n",
      " ...\n",
      " [1.         0.        ]\n",
      " [0.93666667 0.06333333]\n",
      " [1.         0.        ]]\n",
      "Threshold value is: 0.42142857142857143\n"
     ]
    },
    {
     "name": "stderr",
     "output_type": "stream",
     "text": [
      "C:\\Users\\ellen\\AppData\\Local\\R-MINI~1\\lib\\site-packages\\sklearn\\ensemble\\_forest.py:550: UserWarning: Some inputs do not have OOB scores. This probably means too few trees were used to compute any reliable OOB estimates.\n",
      "  warn(\n",
      "C:\\Users\\ellen\\AppData\\Local\\R-MINI~1\\lib\\site-packages\\sklearn\\utils\\deprecation.py:87: FutureWarning: Function plot_roc_curve is deprecated; Function `plot_roc_curve` is deprecated in 1.0 and will be removed in 1.2. Use one of the class methods: RocCurveDisplay.from_predictions or RocCurveDisplay.from_estimator.\n",
      "  warnings.warn(msg, category=FutureWarning)\n"
     ]
    },
    {
     "name": "stdout",
     "output_type": "stream",
     "text": [
      "[[0.78523077 0.21476923]\n",
      " [0.84125189 0.15874811]\n",
      " [0.93975524 0.06024476]\n",
      " ...\n",
      " [1.         0.        ]\n",
      " [1.         0.        ]\n",
      " [1.         0.        ]]\n",
      "Threshold value is: 0.1441666666666667\n"
     ]
    },
    {
     "name": "stderr",
     "output_type": "stream",
     "text": [
      "C:\\Users\\ellen\\AppData\\Local\\R-MINI~1\\lib\\site-packages\\sklearn\\ensemble\\_forest.py:550: UserWarning: Some inputs do not have OOB scores. This probably means too few trees were used to compute any reliable OOB estimates.\n",
      "  warn(\n",
      "C:\\Users\\ellen\\AppData\\Local\\R-MINI~1\\lib\\site-packages\\sklearn\\utils\\deprecation.py:87: FutureWarning: Function plot_roc_curve is deprecated; Function `plot_roc_curve` is deprecated in 1.0 and will be removed in 1.2. Use one of the class methods: RocCurveDisplay.from_predictions or RocCurveDisplay.from_estimator.\n",
      "  warnings.warn(msg, category=FutureWarning)\n"
     ]
    },
    {
     "name": "stdout",
     "output_type": "stream",
     "text": [
      "[[0.06988636 0.93011364]\n",
      " [0.01988636 0.98011364]\n",
      " [0.07018048 0.92981952]\n",
      " ...\n",
      " [1.         0.        ]\n",
      " [0.975      0.025     ]\n",
      " [1.         0.        ]]\n",
      "Threshold value is: 0.1208030303030303\n"
     ]
    },
    {
     "name": "stderr",
     "output_type": "stream",
     "text": [
      "C:\\Users\\ellen\\AppData\\Local\\R-MINI~1\\lib\\site-packages\\sklearn\\ensemble\\_forest.py:550: UserWarning: Some inputs do not have OOB scores. This probably means too few trees were used to compute any reliable OOB estimates.\n",
      "  warn(\n",
      "C:\\Users\\ellen\\AppData\\Local\\R-MINI~1\\lib\\site-packages\\sklearn\\utils\\deprecation.py:87: FutureWarning: Function plot_roc_curve is deprecated; Function `plot_roc_curve` is deprecated in 1.0 and will be removed in 1.2. Use one of the class methods: RocCurveDisplay.from_predictions or RocCurveDisplay.from_estimator.\n",
      "  warnings.warn(msg, category=FutureWarning)\n"
     ]
    },
    {
     "name": "stdout",
     "output_type": "stream",
     "text": [
      "[[0.48669839 0.51330161]\n",
      " [0.48690476 0.51309524]\n",
      " [0.49560041 0.50439959]\n",
      " ...\n",
      " [1.         0.        ]\n",
      " [1.         0.        ]\n",
      " [1.         0.        ]]\n",
      "Threshold value is: 0.18181818181818182\n"
     ]
    },
    {
     "name": "stderr",
     "output_type": "stream",
     "text": [
      "C:\\Users\\ellen\\AppData\\Local\\R-MINI~1\\lib\\site-packages\\sklearn\\ensemble\\_forest.py:550: UserWarning: Some inputs do not have OOB scores. This probably means too few trees were used to compute any reliable OOB estimates.\n",
      "  warn(\n",
      "C:\\Users\\ellen\\AppData\\Local\\R-MINI~1\\lib\\site-packages\\sklearn\\utils\\deprecation.py:87: FutureWarning: Function plot_roc_curve is deprecated; Function `plot_roc_curve` is deprecated in 1.0 and will be removed in 1.2. Use one of the class methods: RocCurveDisplay.from_predictions or RocCurveDisplay.from_estimator.\n",
      "  warnings.warn(msg, category=FutureWarning)\n"
     ]
    },
    {
     "name": "stdout",
     "output_type": "stream",
     "text": [
      "[[0.42201128 0.57798872]\n",
      " [0.49911654 0.50088346]\n",
      " [0.56068115 0.43931885]\n",
      " ...\n",
      " [1.         0.        ]\n",
      " [1.         0.        ]\n",
      " [1.         0.        ]]\n",
      "Threshold value is: 0.15613553113553114\n"
     ]
    },
    {
     "name": "stderr",
     "output_type": "stream",
     "text": [
      "C:\\Users\\ellen\\AppData\\Local\\R-MINI~1\\lib\\site-packages\\sklearn\\ensemble\\_forest.py:550: UserWarning: Some inputs do not have OOB scores. This probably means too few trees were used to compute any reliable OOB estimates.\n",
      "  warn(\n",
      "C:\\Users\\ellen\\AppData\\Local\\R-MINI~1\\lib\\site-packages\\sklearn\\utils\\deprecation.py:87: FutureWarning: Function plot_roc_curve is deprecated; Function `plot_roc_curve` is deprecated in 1.0 and will be removed in 1.2. Use one of the class methods: RocCurveDisplay.from_predictions or RocCurveDisplay.from_estimator.\n",
      "  warnings.warn(msg, category=FutureWarning)\n"
     ]
    },
    {
     "name": "stdout",
     "output_type": "stream",
     "text": [
      "[[0.13522727 0.86477273]\n",
      " [0.10660673 0.89339327]\n",
      " [0.         1.        ]\n",
      " ...\n",
      " [1.         0.        ]\n",
      " [0.97884769 0.02115231]\n",
      " [1.         0.        ]]\n",
      "Threshold value is: 0.448090652626943\n",
      "0.22759467722454807\n",
      "[array([0.        , 0.70416667, 0.86875   , 0.90729167, 0.94166667,\n",
      "       0.95416667, 0.9625    , 0.97604167, 0.978125  , 0.98229167,\n",
      "       0.984375  , 0.98645833, 0.98645833, 0.98645833, 0.9875    ,\n",
      "       0.98854167, 0.98854167, 0.98854167, 0.98958333, 0.990625  ,\n",
      "       0.990625  , 0.99166667, 0.99270833, 0.99479167, 0.99479167,\n",
      "       0.99479167, 0.99583333, 0.99583333, 0.99583333, 0.99583333,\n",
      "       0.996875  , 0.996875  , 0.99791667, 0.99791667, 0.99791667,\n",
      "       0.99791667, 1.        , 1.        , 1.        , 1.        ,\n",
      "       1.        , 1.        , 1.        , 1.        , 1.        ,\n",
      "       1.        , 1.        , 1.        , 1.        , 1.        ,\n",
      "       1.        , 1.        , 1.        , 1.        , 1.        ,\n",
      "       1.        , 1.        , 1.        , 1.        , 1.        ,\n",
      "       1.        , 1.        , 1.        , 1.        , 1.        ,\n",
      "       1.        , 1.        , 1.        , 1.        , 1.        ,\n",
      "       1.        , 1.        , 1.        , 1.        , 1.        ,\n",
      "       1.        , 1.        , 1.        , 1.        , 1.        ,\n",
      "       1.        , 1.        , 1.        , 1.        , 1.        ,\n",
      "       1.        , 1.        , 1.        , 1.        , 1.        ,\n",
      "       1.        , 1.        , 1.        , 1.        , 1.        ,\n",
      "       1.        , 1.        , 1.        , 1.        , 1.        ]), array([0.        , 0.64764398, 0.8591623 , 0.90244328, 0.92164049,\n",
      "       0.93595113, 0.94415358, 0.94921466, 0.95200698, 0.95811518,\n",
      "       0.96212914, 0.96474695, 0.96963351, 0.97242583, 0.97452007,\n",
      "       0.97609075, 0.97955295, 0.98010471, 0.98115183, 0.98167539,\n",
      "       0.98237347, 0.98272251, 0.98289703, 0.98359511, 0.98551483,\n",
      "       0.98673647, 0.98813264, 0.98830716, 0.98848168, 0.98883072,\n",
      "       0.9895288 , 0.98970332, 0.98987784, 0.991274  , 0.99144852,\n",
      "       0.99173797, 0.9921466 , 0.9921466 , 0.99591905, 0.9965096 ,\n",
      "       0.99656555, 0.99662377, 0.99668198, 0.99674019, 0.9967984 ,\n",
      "       0.99685661, 0.99691482, 0.99697303, 0.99703124, 0.99708945,\n",
      "       0.99714766, 0.99720588, 0.99726409, 0.9973223 , 0.99738051,\n",
      "       0.99743872, 0.99749693, 0.99755514, 0.99761335, 0.99767156,\n",
      "       0.99772977, 0.99778798, 0.9978462 , 0.99790441, 0.99796262,\n",
      "       0.99802083, 0.99807904, 0.99813725, 0.99819546, 0.99825367,\n",
      "       0.99831188, 0.99837009, 0.9984283 , 0.99848652, 0.99854473,\n",
      "       0.99860294, 0.99866115, 0.99871936, 0.99877757, 0.99883578,\n",
      "       0.99889399, 0.9989522 , 0.99901041, 0.99906863, 0.99912684,\n",
      "       0.99918505, 0.99924326, 0.99930147, 0.99935968, 0.99941789,\n",
      "       0.9994761 , 0.99953431, 0.99959252, 0.99965073, 0.99970895,\n",
      "       0.99976716, 0.99982537, 0.99988358, 0.99994179, 1.        ]), array([0.        , 0.5125    , 0.65721154, 0.74022436, 0.77099359,\n",
      "       0.80576923, 0.83525641, 0.86490385, 0.88685897, 0.8974359 ,\n",
      "       0.90913462, 0.91987179, 0.92483974, 0.92948718, 0.93541667,\n",
      "       0.93878529, 0.94455128, 0.95048077, 0.95273867, 0.95623665,\n",
      "       0.95833333, 0.96282051, 0.96378205, 0.96468108, 0.96554487,\n",
      "       0.96746795, 0.97003205, 0.97037351, 0.97067308, 0.97120888,\n",
      "       0.97211862, 0.97692308, 0.97741766, 0.9775641 , 0.98189103,\n",
      "       0.98445513, 0.99022436, 0.99099279, 0.99134615, 0.99146738,\n",
      "       0.99160959, 0.9917518 , 0.99189401, 0.99203622, 0.99217843,\n",
      "       0.99232065, 0.99246286, 0.99260507, 0.99274728, 0.99288949,\n",
      "       0.9930317 , 0.99317391, 0.99331612, 0.99345833, 0.99360054,\n",
      "       0.99374275, 0.99388496, 0.99402717, 0.99416938, 0.99431159,\n",
      "       0.9944538 , 0.99459601, 0.99473822, 0.99488043, 0.99502264,\n",
      "       0.99516485, 0.99530706, 0.99544927, 0.99559148, 0.99573369,\n",
      "       0.9958759 , 0.99601811, 0.99616032, 0.99630253, 0.99644474,\n",
      "       0.99658695, 0.99672916, 0.99687137, 0.99701358, 0.99715579,\n",
      "       0.997298  , 0.99744022, 0.99758243, 0.99772464, 0.99786685,\n",
      "       0.99800906, 0.99815127, 0.99829348, 0.99843569, 0.9985779 ,\n",
      "       0.99872011, 0.99886232, 0.99900453, 0.99914674, 0.99928895,\n",
      "       0.99943116, 0.99957337, 0.99971558, 0.99985779, 1.        ]), array([0.        , 0.38823529, 0.61176471, 0.77132353, 0.83235294,\n",
      "       0.89411765, 0.93676471, 0.97867647, 0.99338235, 0.99852941,\n",
      "       1.        , 1.        , 1.        , 1.        , 1.        ,\n",
      "       1.        , 1.        , 1.        , 1.        , 1.        ,\n",
      "       1.        , 1.        , 1.        , 1.        , 1.        ,\n",
      "       1.        , 1.        , 1.        , 1.        , 1.        ,\n",
      "       1.        , 1.        , 1.        , 1.        , 1.        ,\n",
      "       1.        , 1.        , 1.        , 1.        , 1.        ,\n",
      "       1.        , 1.        , 1.        , 1.        , 1.        ,\n",
      "       1.        , 1.        , 1.        , 1.        , 1.        ,\n",
      "       1.        , 1.        , 1.        , 1.        , 1.        ,\n",
      "       1.        , 1.        , 1.        , 1.        , 1.        ,\n",
      "       1.        , 1.        , 1.        , 1.        , 1.        ,\n",
      "       1.        , 1.        , 1.        , 1.        , 1.        ,\n",
      "       1.        , 1.        , 1.        , 1.        , 1.        ,\n",
      "       1.        , 1.        , 1.        , 1.        , 1.        ,\n",
      "       1.        , 1.        , 1.        , 1.        , 1.        ,\n",
      "       1.        , 1.        , 1.        , 1.        , 1.        ,\n",
      "       1.        , 1.        , 1.        , 1.        , 1.        ,\n",
      "       1.        , 1.        , 1.        , 1.        , 1.        ]), array([0.        , 0.97313916, 0.98705502, 0.99805825, 0.99902913,\n",
      "       1.        , 1.        , 1.        , 1.        , 1.        ,\n",
      "       1.        , 1.        , 1.        , 1.        , 1.        ,\n",
      "       1.        , 1.        , 1.        , 1.        , 1.        ,\n",
      "       1.        , 1.        , 1.        , 1.        , 1.        ,\n",
      "       1.        , 1.        , 1.        , 1.        , 1.        ,\n",
      "       1.        , 1.        , 1.        , 1.        , 1.        ,\n",
      "       1.        , 1.        , 1.        , 1.        , 1.        ,\n",
      "       1.        , 1.        , 1.        , 1.        , 1.        ,\n",
      "       1.        , 1.        , 1.        , 1.        , 1.        ,\n",
      "       1.        , 1.        , 1.        , 1.        , 1.        ,\n",
      "       1.        , 1.        , 1.        , 1.        , 1.        ,\n",
      "       1.        , 1.        , 1.        , 1.        , 1.        ,\n",
      "       1.        , 1.        , 1.        , 1.        , 1.        ,\n",
      "       1.        , 1.        , 1.        , 1.        , 1.        ,\n",
      "       1.        , 1.        , 1.        , 1.        , 1.        ,\n",
      "       1.        , 1.        , 1.        , 1.        , 1.        ,\n",
      "       1.        , 1.        , 1.        , 1.        , 1.        ,\n",
      "       1.        , 1.        , 1.        , 1.        , 1.        ,\n",
      "       1.        , 1.        , 1.        , 1.        , 1.        ]), array([0.        , 0.75416667, 0.840625  , 0.89166667, 0.915625  ,\n",
      "       0.93229167, 0.94583333, 0.95208333, 0.9625    , 0.96666667,\n",
      "       0.97083333, 0.97604167, 0.97916667, 0.98020833, 0.98229167,\n",
      "       0.98229167, 0.98333333, 0.984375  , 0.98541667, 0.990625  ,\n",
      "       0.99166667, 0.99166667, 0.99270833, 0.99375   , 0.99375   ,\n",
      "       0.99375   , 0.99375   , 0.99479167, 0.99479167, 0.99479167,\n",
      "       0.99479167, 0.99583333, 0.99583333, 0.99583333, 0.99583333,\n",
      "       0.99583333, 0.996875  , 0.99689865, 0.99694868, 0.9969987 ,\n",
      "       0.99704872, 0.99709874, 0.99714876, 0.99719878, 0.99724881,\n",
      "       0.99729883, 0.99734885, 0.99739887, 0.99744889, 0.99749891,\n",
      "       0.99754894, 0.99759896, 0.99764898, 0.997699  , 0.99774902,\n",
      "       0.99779904, 0.99784907, 0.99789909, 0.99794911, 0.99799913,\n",
      "       0.99804915, 0.99809917, 0.9981492 , 0.99819922, 0.99824924,\n",
      "       0.99829926, 0.99834928, 0.99839931, 0.99844933, 0.99849935,\n",
      "       0.99854937, 0.99859939, 0.99864941, 0.99869944, 0.99874946,\n",
      "       0.99879948, 0.9988495 , 0.99889952, 0.99894954, 0.99899957,\n",
      "       0.99904959, 0.99909961, 0.99914963, 0.99919965, 0.99924967,\n",
      "       0.9992997 , 0.99934972, 0.99939974, 0.99944976, 0.99949978,\n",
      "       0.9995498 , 0.99959983, 0.99964985, 0.99969987, 0.99974989,\n",
      "       0.99979991, 0.99984993, 0.99989996, 0.99994998, 1.        ]), array([0.        , 0.71012216, 0.83141361, 0.88184991, 0.90017452,\n",
      "       0.91326353, 0.92547993, 0.93577661, 0.9434555 , 0.95165794,\n",
      "       0.95706806, 0.96579407, 0.96945899, 0.97417103, 0.97818499,\n",
      "       0.97905759, 0.98202443, 0.98359511, 0.98586387, 0.98610552,\n",
      "       0.98656195, 0.98743455, 0.98813264, 0.98883072, 0.98917976,\n",
      "       0.98917976, 0.99005236, 0.991274  , 0.99179756, 0.99179756,\n",
      "       0.99232112, 0.99249564, 0.99284468, 0.9930192 , 0.99330491,\n",
      "       0.99424084, 0.99625399, 0.99633508, 0.99633508, 0.99689118,\n",
      "       0.996943  , 0.99699481, 0.99704662, 0.99709844, 0.99715025,\n",
      "       0.99720207, 0.99725388, 0.99730569, 0.99735751, 0.99740932,\n",
      "       0.99746113, 0.99751295, 0.99756476, 0.99761657, 0.99766839,\n",
      "       0.9977202 , 0.99777202, 0.99782383, 0.99787564, 0.99792746,\n",
      "       0.99797927, 0.99803108, 0.9980829 , 0.99813471, 0.99818652,\n",
      "       0.99823834, 0.99829015, 0.99834196, 0.99839378, 0.99844559,\n",
      "       0.99849741, 0.99854922, 0.99860103, 0.99865285, 0.99870466,\n",
      "       0.99875647, 0.99880829, 0.9988601 , 0.99891191, 0.99896373,\n",
      "       0.99901554, 0.99906736, 0.99911917, 0.99917098, 0.9992228 ,\n",
      "       0.99927461, 0.99932642, 0.99937824, 0.99943005, 0.99948186,\n",
      "       0.99953368, 0.99958549, 0.9996373 , 0.99968912, 0.99974093,\n",
      "       0.99979275, 0.99984456, 0.99989637, 0.99994819, 1.        ]), array([0.        , 0.4286859 , 0.66474359, 0.80817308, 0.85657051,\n",
      "       0.88189103, 0.89807692, 0.91330128, 0.92820513, 0.93717949,\n",
      "       0.94086538, 0.94487179, 0.95717539, 0.96025641, 0.96201923,\n",
      "       0.96298077, 0.9650641 , 0.96634615, 0.96778846, 0.97323718,\n",
      "       0.97365067, 0.97791238, 0.9786859 , 0.98012821, 0.98044872,\n",
      "       0.98141026, 0.98205128, 0.98349359, 0.98413462, 0.98429487,\n",
      "       0.98445513, 0.98542004, 0.98589744, 0.98605769, 0.98701923,\n",
      "       0.98798077, 0.98798077, 0.98878701, 0.98942308, 0.98974359,\n",
      "       0.98989897, 0.99007017, 0.99024137, 0.99041258, 0.99058378,\n",
      "       0.99075499, 0.99092619, 0.99109739, 0.9912686 , 0.9914398 ,\n",
      "       0.99161101, 0.99178221, 0.99195341, 0.99212462, 0.99229582,\n",
      "       0.99246703, 0.99263823, 0.99280943, 0.99298064, 0.99315184,\n",
      "       0.99332305, 0.99349425, 0.99366545, 0.99383666, 0.99400786,\n",
      "       0.99417907, 0.99435027, 0.99452147, 0.99469268, 0.99486388,\n",
      "       0.99503509, 0.99520629, 0.99537749, 0.9955487 , 0.9957199 ,\n",
      "       0.99589111, 0.99606231, 0.99623351, 0.99640472, 0.99657592,\n",
      "       0.99674712, 0.99691833, 0.99708953, 0.99726074, 0.99743194,\n",
      "       0.99760314, 0.99777435, 0.99794555, 0.99811676, 0.99828796,\n",
      "       0.99845916, 0.99863037, 0.99880157, 0.99897278, 0.99914398,\n",
      "       0.99931518, 0.99948639, 0.99965759, 0.9998288 , 1.        ]), array([0.        , 0.3875    , 0.57205882, 0.77058824, 0.87426471,\n",
      "       0.92941176, 0.95294118, 0.97352941, 0.98676471, 0.99264706,\n",
      "       0.99485294, 0.99632353, 0.99632353, 0.99705882, 0.99852941,\n",
      "       0.99926471, 0.99926471, 0.99926471, 0.99926471, 0.99926471,\n",
      "       0.99926471, 0.99926471, 0.99926471, 1.        , 1.        ,\n",
      "       1.        , 1.        , 1.        , 1.        , 1.        ,\n",
      "       1.        , 1.        , 1.        , 1.        , 1.        ,\n",
      "       1.        , 1.        , 1.        , 1.        , 1.        ,\n",
      "       1.        , 1.        , 1.        , 1.        , 1.        ,\n",
      "       1.        , 1.        , 1.        , 1.        , 1.        ,\n",
      "       1.        , 1.        , 1.        , 1.        , 1.        ,\n",
      "       1.        , 1.        , 1.        , 1.        , 1.        ,\n",
      "       1.        , 1.        , 1.        , 1.        , 1.        ,\n",
      "       1.        , 1.        , 1.        , 1.        , 1.        ,\n",
      "       1.        , 1.        , 1.        , 1.        , 1.        ,\n",
      "       1.        , 1.        , 1.        , 1.        , 1.        ,\n",
      "       1.        , 1.        , 1.        , 1.        , 1.        ,\n",
      "       1.        , 1.        , 1.        , 1.        , 1.        ,\n",
      "       1.        , 1.        , 1.        , 1.        , 1.        ,\n",
      "       1.        , 1.        , 1.        , 1.        , 1.        ]), array([0.        , 0.98867314, 0.99838188, 0.99935275, 1.        ,\n",
      "       1.        , 1.        , 1.        , 1.        , 1.        ,\n",
      "       1.        , 1.        , 1.        , 1.        , 1.        ,\n",
      "       1.        , 1.        , 1.        , 1.        , 1.        ,\n",
      "       1.        , 1.        , 1.        , 1.        , 1.        ,\n",
      "       1.        , 1.        , 1.        , 1.        , 1.        ,\n",
      "       1.        , 1.        , 1.        , 1.        , 1.        ,\n",
      "       1.        , 1.        , 1.        , 1.        , 1.        ,\n",
      "       1.        , 1.        , 1.        , 1.        , 1.        ,\n",
      "       1.        , 1.        , 1.        , 1.        , 1.        ,\n",
      "       1.        , 1.        , 1.        , 1.        , 1.        ,\n",
      "       1.        , 1.        , 1.        , 1.        , 1.        ,\n",
      "       1.        , 1.        , 1.        , 1.        , 1.        ,\n",
      "       1.        , 1.        , 1.        , 1.        , 1.        ,\n",
      "       1.        , 1.        , 1.        , 1.        , 1.        ,\n",
      "       1.        , 1.        , 1.        , 1.        , 1.        ,\n",
      "       1.        , 1.        , 1.        , 1.        , 1.        ,\n",
      "       1.        , 1.        , 1.        , 1.        , 1.        ,\n",
      "       1.        , 1.        , 1.        , 1.        , 1.        ,\n",
      "       1.        , 1.        , 1.        , 1.        , 1.        ]), array([0.        , 0.69375   , 0.86770833, 0.91875   , 0.93125   ,\n",
      "       0.95      , 0.96041667, 0.96458333, 0.97604167, 0.978125  ,\n",
      "       0.98333333, 0.984375  , 0.98541667, 0.98645833, 0.9875    ,\n",
      "       0.98854167, 0.98854167, 0.98854167, 0.9911442 , 0.99166667,\n",
      "       0.99166667, 0.99270833, 0.99270833, 0.99270833, 0.99270833,\n",
      "       0.99270833, 0.99375   , 0.99375   , 0.99479167, 0.99479167,\n",
      "       0.99479167, 0.99583333, 0.99583333, 0.99583333, 0.99584769,\n",
      "       0.99591157, 0.99597545, 0.99603933, 0.99610321, 0.9961671 ,\n",
      "       0.99623098, 0.99629486, 0.99635874, 0.99642262, 0.9964865 ,\n",
      "       0.99655039, 0.99661427, 0.99667815, 0.99674203, 0.99680591,\n",
      "       0.99686979, 0.99693368, 0.99699756, 0.99706144, 0.99712532,\n",
      "       0.9971892 , 0.99725309, 0.99731697, 0.99738085, 0.99744473,\n",
      "       0.99750861, 0.99757249, 0.99763638, 0.99770026, 0.99776414,\n",
      "       0.99782802, 0.9978919 , 0.99795578, 0.99801967, 0.99808355,\n",
      "       0.99814743, 0.99821131, 0.99827519, 0.99833907, 0.99840296,\n",
      "       0.99846684, 0.99853072, 0.9985946 , 0.99865848, 0.99872237,\n",
      "       0.99878625, 0.99885013, 0.99891401, 0.99897789, 0.99904177,\n",
      "       0.99910566, 0.99916954, 0.99923342, 0.9992973 , 0.99936118,\n",
      "       0.99942506, 0.99948895, 0.99955283, 0.99961671, 0.99968059,\n",
      "       0.99974447, 0.99980835, 0.99987224, 0.99993612, 1.        ]), array([0.        , 0.68691099, 0.7965096 , 0.84834206, 0.87888307,\n",
      "       0.91431065, 0.92705061, 0.93856894, 0.94589878, 0.95322862,\n",
      "       0.96143106, 0.96369983, 0.96666667, 0.96963351, 0.97120419,\n",
      "       0.97329843, 0.97504363, 0.97661431, 0.97853403, 0.97923211,\n",
      "       0.97993019, 0.98139246, 0.98219895, 0.98307155, 0.98376963,\n",
      "       0.98394415, 0.98691099, 0.98726003, 0.98760908, 0.98760908,\n",
      "       0.98848168, 0.98917976, 0.99075044, 0.99208842, 0.99232112,\n",
      "       0.99428326, 0.99458988, 0.9947644 , 0.99511344, 0.99536322,\n",
      "       0.99616056, 0.99636397, 0.99642666, 0.99648935, 0.99655204,\n",
      "       0.99661473, 0.99667742, 0.99674011, 0.9968028 , 0.99686549,\n",
      "       0.99692818, 0.99699087, 0.99705356, 0.99711625, 0.99717894,\n",
      "       0.99724163, 0.99730432, 0.99736701, 0.9974297 , 0.99749239,\n",
      "       0.99755508, 0.99761777, 0.99768046, 0.99774315, 0.99780584,\n",
      "       0.99786853, 0.99793122, 0.99799391, 0.9980566 , 0.99811929,\n",
      "       0.99818198, 0.99824467, 0.99830736, 0.99837006, 0.99843275,\n",
      "       0.99849544, 0.99855813, 0.99862082, 0.99868351, 0.9987462 ,\n",
      "       0.99880889, 0.99887158, 0.99893427, 0.99899696, 0.99905965,\n",
      "       0.99912234, 0.99918503, 0.99924772, 0.99931041, 0.9993731 ,\n",
      "       0.99943579, 0.99949848, 0.99956117, 0.99962386, 0.99968655,\n",
      "       0.99974924, 0.99981193, 0.99987462, 0.99993731, 1.        ]), array([0.        , 0.47051282, 0.66330128, 0.80865385, 0.86426282,\n",
      "       0.90208333, 0.92115385, 0.92692308, 0.93910256, 0.94791667,\n",
      "       0.95464744, 0.95512821, 0.95801282, 0.96057692, 0.96330128,\n",
      "       0.96698718, 0.96955128, 0.97163462, 0.97339744, 0.97467949,\n",
      "       0.975     , 0.97581174, 0.97612179, 0.97644231, 0.97762626,\n",
      "       0.98173077, 0.98205128, 0.98205128, 0.98410034, 0.98557692,\n",
      "       0.98621795, 0.98669872, 0.98669872, 0.98701923, 0.98846154,\n",
      "       0.98860107, 0.98919631, 0.98926282, 0.98926282, 0.98950607,\n",
      "       0.98968097, 0.98985586, 0.99003076, 0.99020566, 0.99038056,\n",
      "       0.99055546, 0.99073036, 0.99090526, 0.99108016, 0.99125506,\n",
      "       0.99142995, 0.99160485, 0.99177975, 0.99195465, 0.99212955,\n",
      "       0.99230445, 0.99247935, 0.99265425, 0.99282915, 0.99300404,\n",
      "       0.99317894, 0.99335384, 0.99352874, 0.99370364, 0.99387854,\n",
      "       0.99405344, 0.99422834, 0.99440324, 0.99457813, 0.99475303,\n",
      "       0.99492793, 0.99510283, 0.99527773, 0.99545263, 0.99562753,\n",
      "       0.99580243, 0.99597733, 0.99615222, 0.99632712, 0.99650202,\n",
      "       0.99667692, 0.99685182, 0.99702672, 0.99720162, 0.99737652,\n",
      "       0.99755142, 0.99772631, 0.99790121, 0.99807611, 0.99825101,\n",
      "       0.99842591, 0.99860081, 0.99877571, 0.99895061, 0.99912551,\n",
      "       0.9993004 , 0.9994753 , 0.9996502 , 0.9998251 , 1.        ]), array([0.        , 0.39632353, 0.56176471, 0.71397059, 0.89191176,\n",
      "       0.93823529, 0.96470588, 0.97794118, 0.98676471, 0.99117647,\n",
      "       0.99411765, 0.99558824, 0.99632353, 0.99779412, 0.99852941,\n",
      "       0.99926471, 0.99926471, 0.99926471, 1.        , 1.        ,\n",
      "       1.        , 1.        , 1.        , 1.        , 1.        ,\n",
      "       1.        , 1.        , 1.        , 1.        , 1.        ,\n",
      "       1.        , 1.        , 1.        , 1.        , 1.        ,\n",
      "       1.        , 1.        , 1.        , 1.        , 1.        ,\n",
      "       1.        , 1.        , 1.        , 1.        , 1.        ,\n",
      "       1.        , 1.        , 1.        , 1.        , 1.        ,\n",
      "       1.        , 1.        , 1.        , 1.        , 1.        ,\n",
      "       1.        , 1.        , 1.        , 1.        , 1.        ,\n",
      "       1.        , 1.        , 1.        , 1.        , 1.        ,\n",
      "       1.        , 1.        , 1.        , 1.        , 1.        ,\n",
      "       1.        , 1.        , 1.        , 1.        , 1.        ,\n",
      "       1.        , 1.        , 1.        , 1.        , 1.        ,\n",
      "       1.        , 1.        , 1.        , 1.        , 1.        ,\n",
      "       1.        , 1.        , 1.        , 1.        , 1.        ,\n",
      "       1.        , 1.        , 1.        , 1.        , 1.        ,\n",
      "       1.        , 1.        , 1.        , 1.        , 1.        ]), array([0.        , 0.98964401, 0.99838188, 0.99967638, 0.99967638,\n",
      "       1.        , 1.        , 1.        , 1.        , 1.        ,\n",
      "       1.        , 1.        , 1.        , 1.        , 1.        ,\n",
      "       1.        , 1.        , 1.        , 1.        , 1.        ,\n",
      "       1.        , 1.        , 1.        , 1.        , 1.        ,\n",
      "       1.        , 1.        , 1.        , 1.        , 1.        ,\n",
      "       1.        , 1.        , 1.        , 1.        , 1.        ,\n",
      "       1.        , 1.        , 1.        , 1.        , 1.        ,\n",
      "       1.        , 1.        , 1.        , 1.        , 1.        ,\n",
      "       1.        , 1.        , 1.        , 1.        , 1.        ,\n",
      "       1.        , 1.        , 1.        , 1.        , 1.        ,\n",
      "       1.        , 1.        , 1.        , 1.        , 1.        ,\n",
      "       1.        , 1.        , 1.        , 1.        , 1.        ,\n",
      "       1.        , 1.        , 1.        , 1.        , 1.        ,\n",
      "       1.        , 1.        , 1.        , 1.        , 1.        ,\n",
      "       1.        , 1.        , 1.        , 1.        , 1.        ,\n",
      "       1.        , 1.        , 1.        , 1.        , 1.        ,\n",
      "       1.        , 1.        , 1.        , 1.        , 1.        ,\n",
      "       1.        , 1.        , 1.        , 1.        , 1.        ,\n",
      "       1.        , 1.        , 1.        , 1.        , 1.        ]), array([0.        , 0.71770833, 0.83020833, 0.875     , 0.91458333,\n",
      "       0.93958333, 0.953125  , 0.95833333, 0.96666667, 0.97604167,\n",
      "       0.98020833, 0.98229167, 0.98541667, 0.98645833, 0.98854167,\n",
      "       0.98854167, 0.98958333, 0.98958333, 0.98958333, 0.990625  ,\n",
      "       0.990625  , 0.990625  , 0.990625  , 0.99166667, 0.996875  ,\n",
      "       0.996875  , 0.996875  , 0.996875  , 0.996875  , 0.99791667,\n",
      "       0.99791667, 0.99791667, 0.99791667, 0.99877315, 0.99895833,\n",
      "       0.99895833, 0.99895833, 0.99895833, 0.99896938, 0.99898628,\n",
      "       0.99900317, 0.99902007, 0.99903696, 0.99905386, 0.99907075,\n",
      "       0.99908765, 0.99910454, 0.99912144, 0.99913833, 0.99915523,\n",
      "       0.99917213, 0.99918902, 0.99920592, 0.99922281, 0.99923971,\n",
      "       0.9992566 , 0.9992735 , 0.99929039, 0.99930729, 0.99932418,\n",
      "       0.99934108, 0.99935797, 0.99937487, 0.99939177, 0.99940866,\n",
      "       0.99942556, 0.99944245, 0.99945935, 0.99947624, 0.99949314,\n",
      "       0.99951003, 0.99952693, 0.99954382, 0.99956072, 0.99957762,\n",
      "       0.99959451, 0.99961141, 0.9996283 , 0.9996452 , 0.99966209,\n",
      "       0.99967899, 0.99969588, 0.99971278, 0.99972967, 0.99974657,\n",
      "       0.99976346, 0.99978036, 0.99979726, 0.99981415, 0.99983105,\n",
      "       0.99984794, 0.99986484, 0.99988173, 0.99989863, 0.99991552,\n",
      "       0.99993242, 0.99994931, 0.99996621, 0.9999831 , 1.        ]), array([0.        , 0.78010471, 0.87923211, 0.90506108, 0.91657941,\n",
      "       0.92652705, 0.93734729, 0.94642234, 0.9530541 , 0.95706806,\n",
      "       0.9617801 , 0.96404887, 0.96701571, 0.96910995, 0.97068063,\n",
      "       0.97242583, 0.97469459, 0.97801047, 0.97923211, 0.98272251,\n",
      "       0.98324314, 0.98411867, 0.98499127, 0.98568935, 0.98638743,\n",
      "       0.98760908, 0.98883072, 0.98900524, 0.99005236, 0.99092496,\n",
      "       0.99179756, 0.99179756, 0.9930192 , 0.99357058, 0.9938918 ,\n",
      "       0.99434787, 0.99458988, 0.99477909, 0.99509107, 0.99546248,\n",
      "       0.99617604, 0.99624085, 0.99630566, 0.99637048, 0.99643529,\n",
      "       0.9965001 , 0.99656492, 0.99662973, 0.99669454, 0.99675935,\n",
      "       0.99682417, 0.99688898, 0.99695379, 0.99701861, 0.99708342,\n",
      "       0.99714823, 0.99721305, 0.99727786, 0.99734267, 0.99740748,\n",
      "       0.9974723 , 0.99753711, 0.99760192, 0.99766674, 0.99773155,\n",
      "       0.99779636, 0.99786117, 0.99792599, 0.9979908 , 0.99805561,\n",
      "       0.99812043, 0.99818524, 0.99825005, 0.99831486, 0.99837968,\n",
      "       0.99844449, 0.9985093 , 0.99857412, 0.99863893, 0.99870374,\n",
      "       0.99876855, 0.99883337, 0.99889818, 0.99896299, 0.99902781,\n",
      "       0.99909262, 0.99915743, 0.99922225, 0.99928706, 0.99935187,\n",
      "       0.99941668, 0.9994815 , 0.99954631, 0.99961112, 0.99967594,\n",
      "       0.99974075, 0.99980556, 0.99987037, 0.99993519, 1.        ]), array([0.        , 0.56554487, 0.66426282, 0.82067308, 0.87676282,\n",
      "       0.90592949, 0.92179487, 0.92948718, 0.93461538, 0.95064103,\n",
      "       0.9536859 , 0.95897436, 0.96105769, 0.96487633, 0.96650641,\n",
      "       0.96778846, 0.96891026, 0.97035256, 0.97211538, 0.97371795,\n",
      "       0.97419872, 0.98044872, 0.98125   , 0.98141026, 0.98237179,\n",
      "       0.98397436, 0.98429487, 0.98525641, 0.98637821, 0.98766026,\n",
      "       0.98846154, 0.98926282, 0.98942308, 0.98958333, 0.98990385,\n",
      "       0.99022436, 0.99104385, 0.99134615, 0.99166667, 0.99324657,\n",
      "       0.99362468, 0.99391026, 0.99397503, 0.99408073, 0.99418643,\n",
      "       0.99429213, 0.99439783, 0.99450353, 0.99460923, 0.99471494,\n",
      "       0.99482064, 0.99492634, 0.99503204, 0.99513774, 0.99524344,\n",
      "       0.99534914, 0.99545484, 0.99556055, 0.99566625, 0.99577195,\n",
      "       0.99587765, 0.99598335, 0.99608905, 0.99619475, 0.99630045,\n",
      "       0.99640616, 0.99651186, 0.99661756, 0.99672326, 0.99682896,\n",
      "       0.99693466, 0.99704036, 0.99714607, 0.99725177, 0.99735747,\n",
      "       0.99746317, 0.99756887, 0.99767457, 0.99778027, 0.99788597,\n",
      "       0.99799168, 0.99809738, 0.99820308, 0.99830878, 0.99841448,\n",
      "       0.99852018, 0.99862588, 0.99873158, 0.99883729, 0.99894299,\n",
      "       0.99904869, 0.99915439, 0.99926009, 0.99936579, 0.99947149,\n",
      "       0.99957719, 0.9996829 , 0.9997886 , 0.9998943 , 1.        ]), array([0.        , 0.3625    , 0.72647059, 0.89779412, 0.94852941,\n",
      "       0.96691176, 0.97426471, 0.97867647, 0.98382353, 0.98676471,\n",
      "       0.98970588, 0.99411765, 0.99485294, 0.99632353, 0.99705882,\n",
      "       0.99705882, 0.99852941, 0.99852941, 1.        , 1.        ,\n",
      "       1.        , 1.        , 1.        , 1.        , 1.        ,\n",
      "       1.        , 1.        , 1.        , 1.        , 1.        ,\n",
      "       1.        , 1.        , 1.        , 1.        , 1.        ,\n",
      "       1.        , 1.        , 1.        , 1.        , 1.        ,\n",
      "       1.        , 1.        , 1.        , 1.        , 1.        ,\n",
      "       1.        , 1.        , 1.        , 1.        , 1.        ,\n",
      "       1.        , 1.        , 1.        , 1.        , 1.        ,\n",
      "       1.        , 1.        , 1.        , 1.        , 1.        ,\n",
      "       1.        , 1.        , 1.        , 1.        , 1.        ,\n",
      "       1.        , 1.        , 1.        , 1.        , 1.        ,\n",
      "       1.        , 1.        , 1.        , 1.        , 1.        ,\n",
      "       1.        , 1.        , 1.        , 1.        , 1.        ,\n",
      "       1.        , 1.        , 1.        , 1.        , 1.        ,\n",
      "       1.        , 1.        , 1.        , 1.        , 1.        ,\n",
      "       1.        , 1.        , 1.        , 1.        , 1.        ,\n",
      "       1.        , 1.        , 1.        , 1.        , 1.        ]), array([0.        , 0.9802589 , 0.99482201, 0.99967638, 1.        ,\n",
      "       1.        , 1.        , 1.        , 1.        , 1.        ,\n",
      "       1.        , 1.        , 1.        , 1.        , 1.        ,\n",
      "       1.        , 1.        , 1.        , 1.        , 1.        ,\n",
      "       1.        , 1.        , 1.        , 1.        , 1.        ,\n",
      "       1.        , 1.        , 1.        , 1.        , 1.        ,\n",
      "       1.        , 1.        , 1.        , 1.        , 1.        ,\n",
      "       1.        , 1.        , 1.        , 1.        , 1.        ,\n",
      "       1.        , 1.        , 1.        , 1.        , 1.        ,\n",
      "       1.        , 1.        , 1.        , 1.        , 1.        ,\n",
      "       1.        , 1.        , 1.        , 1.        , 1.        ,\n",
      "       1.        , 1.        , 1.        , 1.        , 1.        ,\n",
      "       1.        , 1.        , 1.        , 1.        , 1.        ,\n",
      "       1.        , 1.        , 1.        , 1.        , 1.        ,\n",
      "       1.        , 1.        , 1.        , 1.        , 1.        ,\n",
      "       1.        , 1.        , 1.        , 1.        , 1.        ,\n",
      "       1.        , 1.        , 1.        , 1.        , 1.        ,\n",
      "       1.        , 1.        , 1.        , 1.        , 1.        ,\n",
      "       1.        , 1.        , 1.        , 1.        , 1.        ,\n",
      "       1.        , 1.        , 1.        , 1.        , 1.        ]), array([0.        , 0.765625  , 0.90729167, 0.93958333, 0.9625    ,\n",
      "       0.97395833, 0.978125  , 0.98020833, 0.98020833, 0.98333333,\n",
      "       0.98333333, 0.98645833, 0.98958333, 0.98958333, 0.98958333,\n",
      "       0.990625  , 0.990625  , 0.990625  , 0.99102834, 0.99270833,\n",
      "       0.99270833, 0.99270833, 0.99375   , 0.99479167, 0.99583333,\n",
      "       0.996875  , 0.996875  , 0.99895833, 0.99895833, 1.        ,\n",
      "       1.        , 1.        , 1.        , 1.        , 1.        ,\n",
      "       1.        , 1.        , 1.        , 1.        , 1.        ,\n",
      "       1.        , 1.        , 1.        , 1.        , 1.        ,\n",
      "       1.        , 1.        , 1.        , 1.        , 1.        ,\n",
      "       1.        , 1.        , 1.        , 1.        , 1.        ,\n",
      "       1.        , 1.        , 1.        , 1.        , 1.        ,\n",
      "       1.        , 1.        , 1.        , 1.        , 1.        ,\n",
      "       1.        , 1.        , 1.        , 1.        , 1.        ,\n",
      "       1.        , 1.        , 1.        , 1.        , 1.        ,\n",
      "       1.        , 1.        , 1.        , 1.        , 1.        ,\n",
      "       1.        , 1.        , 1.        , 1.        , 1.        ,\n",
      "       1.        , 1.        , 1.        , 1.        , 1.        ,\n",
      "       1.        , 1.        , 1.        , 1.        , 1.        ,\n",
      "       1.        , 1.        , 1.        , 1.        , 1.        ]), array([0.        , 0.57609075, 0.67294939, 0.74921466, 0.81815009,\n",
      "       0.88638743, 0.90870485, 0.92530541, 0.93228621, 0.93891798,\n",
      "       0.94502618, 0.94834206, 0.95113438, 0.95445026, 0.95776614,\n",
      "       0.96038394, 0.96422339, 0.96561955, 0.96945899, 0.97033159,\n",
      "       0.97137871, 0.97539267, 0.97626527, 0.97748691, 0.97940663,\n",
      "       0.98359511, 0.98481675, 0.98534031, 0.98568935, 0.98813264,\n",
      "       0.99057592, 0.99424084, 0.99441536, 0.99458988, 0.99511344,\n",
      "       0.99511344, 0.99511344, 0.99601988, 0.99703316, 0.99705309,\n",
      "       0.99710221, 0.99715132, 0.99720044, 0.99724955, 0.99729867,\n",
      "       0.99734778, 0.9973969 , 0.99744601, 0.99749513, 0.99754424,\n",
      "       0.99759336, 0.99764247, 0.99769159, 0.9977407 , 0.99778982,\n",
      "       0.99783893, 0.99788805, 0.99793716, 0.99798628, 0.99803539,\n",
      "       0.99808451, 0.99813362, 0.99818274, 0.99823185, 0.99828097,\n",
      "       0.99833009, 0.9983792 , 0.99842832, 0.99847743, 0.99852655,\n",
      "       0.99857566, 0.99862478, 0.99867389, 0.99872301, 0.99877212,\n",
      "       0.99882124, 0.99887035, 0.99891947, 0.99896858, 0.9990177 ,\n",
      "       0.99906681, 0.99911593, 0.99916504, 0.99921416, 0.99926327,\n",
      "       0.99931239, 0.9993615 , 0.99941062, 0.99945973, 0.99950885,\n",
      "       0.99955796, 0.99960708, 0.99965619, 0.99970531, 0.99975442,\n",
      "       0.99980354, 0.99985265, 0.99990177, 0.99995088, 1.        ]), array([0.        , 0.42548077, 0.72067308, 0.81762821, 0.87419872,\n",
      "       0.89599359, 0.91858974, 0.93237179, 0.93958333, 0.94583333,\n",
      "       0.95160256, 0.95560897, 0.95833333, 0.96107172, 0.96570513,\n",
      "       0.96794872, 0.96907051, 0.96971154, 0.97099359, 0.97163462,\n",
      "       0.97355769, 0.97371795, 0.97389957, 0.97564103, 0.97612179,\n",
      "       0.97646929, 0.97900641, 0.97916667, 0.98076923, 0.98477564,\n",
      "       0.9849359 , 0.9849359 , 0.98557692, 0.98637821, 0.98939412,\n",
      "       0.99038462, 0.99038462, 0.99102564, 0.99134615, 0.99134615,\n",
      "       0.99134615, 0.99146791, 0.99161501, 0.99176212, 0.99190922,\n",
      "       0.99205633, 0.99220343, 0.99235054, 0.99249764, 0.99264475,\n",
      "       0.99279185, 0.99293896, 0.99308606, 0.99323317, 0.99338027,\n",
      "       0.99352738, 0.99367448, 0.99382159, 0.99396869, 0.9941158 ,\n",
      "       0.9942629 , 0.99441001, 0.99455711, 0.99470422, 0.99485132,\n",
      "       0.99499843, 0.99514553, 0.99529264, 0.99543974, 0.99558685,\n",
      "       0.99573395, 0.99588106, 0.99602816, 0.99617527, 0.99632237,\n",
      "       0.99646948, 0.99661658, 0.99676369, 0.99691079, 0.9970579 ,\n",
      "       0.997205  , 0.99735211, 0.99749921, 0.99764632, 0.99779342,\n",
      "       0.99794053, 0.99808763, 0.99823474, 0.99838184, 0.99852895,\n",
      "       0.99867605, 0.99882316, 0.99897026, 0.99911737, 0.99926447,\n",
      "       0.99941158, 0.99955868, 0.99970579, 0.99985289, 1.        ]), array([0.        , 0.35294118, 0.53897059, 0.79558824, 0.89926471,\n",
      "       0.96544118, 0.98602941, 0.99117647, 0.99338235, 0.99338235,\n",
      "       0.99632353, 0.99632353, 0.99705882, 0.99852941, 0.99852941,\n",
      "       0.99926471, 0.99926471, 0.99926471, 0.99926471, 0.99926471,\n",
      "       0.99926471, 1.        , 1.        , 1.        , 1.        ,\n",
      "       1.        , 1.        , 1.        , 1.        , 1.        ,\n",
      "       1.        , 1.        , 1.        , 1.        , 1.        ,\n",
      "       1.        , 1.        , 1.        , 1.        , 1.        ,\n",
      "       1.        , 1.        , 1.        , 1.        , 1.        ,\n",
      "       1.        , 1.        , 1.        , 1.        , 1.        ,\n",
      "       1.        , 1.        , 1.        , 1.        , 1.        ,\n",
      "       1.        , 1.        , 1.        , 1.        , 1.        ,\n",
      "       1.        , 1.        , 1.        , 1.        , 1.        ,\n",
      "       1.        , 1.        , 1.        , 1.        , 1.        ,\n",
      "       1.        , 1.        , 1.        , 1.        , 1.        ,\n",
      "       1.        , 1.        , 1.        , 1.        , 1.        ,\n",
      "       1.        , 1.        , 1.        , 1.        , 1.        ,\n",
      "       1.        , 1.        , 1.        , 1.        , 1.        ,\n",
      "       1.        , 1.        , 1.        , 1.        , 1.        ,\n",
      "       1.        , 1.        , 1.        , 1.        , 1.        ]), array([0.        , 0.98932039, 0.997411  , 0.99902913, 1.        ,\n",
      "       1.        , 1.        , 1.        , 1.        , 1.        ,\n",
      "       1.        , 1.        , 1.        , 1.        , 1.        ,\n",
      "       1.        , 1.        , 1.        , 1.        , 1.        ,\n",
      "       1.        , 1.        , 1.        , 1.        , 1.        ,\n",
      "       1.        , 1.        , 1.        , 1.        , 1.        ,\n",
      "       1.        , 1.        , 1.        , 1.        , 1.        ,\n",
      "       1.        , 1.        , 1.        , 1.        , 1.        ,\n",
      "       1.        , 1.        , 1.        , 1.        , 1.        ,\n",
      "       1.        , 1.        , 1.        , 1.        , 1.        ,\n",
      "       1.        , 1.        , 1.        , 1.        , 1.        ,\n",
      "       1.        , 1.        , 1.        , 1.        , 1.        ,\n",
      "       1.        , 1.        , 1.        , 1.        , 1.        ,\n",
      "       1.        , 1.        , 1.        , 1.        , 1.        ,\n",
      "       1.        , 1.        , 1.        , 1.        , 1.        ,\n",
      "       1.        , 1.        , 1.        , 1.        , 1.        ,\n",
      "       1.        , 1.        , 1.        , 1.        , 1.        ,\n",
      "       1.        , 1.        , 1.        , 1.        , 1.        ,\n",
      "       1.        , 1.        , 1.        , 1.        , 1.        ,\n",
      "       1.        , 1.        , 1.        , 1.        , 1.        ]), array([0.        , 0.665625  , 0.81770833, 0.89270833, 0.915625  ,\n",
      "       0.93541667, 0.94270833, 0.95208333, 0.95729167, 0.9625    ,\n",
      "       0.96458333, 0.975     , 0.97708333, 0.97916667, 0.98020833,\n",
      "       0.98020833, 0.98229167, 0.98541667, 0.98541667, 0.98645833,\n",
      "       0.9875    , 0.98854167, 0.98854167, 0.990625  , 0.990625  ,\n",
      "       0.99166667, 0.99166667, 0.99166667, 0.99583333, 0.99583333,\n",
      "       0.99583333, 0.99583333, 0.99583333, 0.996875  , 0.996875  ,\n",
      "       0.996875  , 0.996875  , 0.99691   , 0.99695983, 0.99700967,\n",
      "       0.99705951, 0.99710935, 0.99715919, 0.99720903, 0.99725887,\n",
      "       0.99730871, 0.99735854, 0.99740838, 0.99745822, 0.99750806,\n",
      "       0.9975579 , 0.99760774, 0.99765758, 0.99770742, 0.99775726,\n",
      "       0.99780709, 0.99785693, 0.99790677, 0.99795661, 0.99800645,\n",
      "       0.99805629, 0.99810613, 0.99815597, 0.9982058 , 0.99825564,\n",
      "       0.99830548, 0.99835532, 0.99840516, 0.998455  , 0.99850484,\n",
      "       0.99855468, 0.99860451, 0.99865435, 0.99870419, 0.99875403,\n",
      "       0.99880387, 0.99885371, 0.99890355, 0.99895339, 0.99900322,\n",
      "       0.99905306, 0.9991029 , 0.99915274, 0.99920258, 0.99925242,\n",
      "       0.99930226, 0.9993521 , 0.99940193, 0.99945177, 0.99950161,\n",
      "       0.99955145, 0.99960129, 0.99965113, 0.99970097, 0.99975081,\n",
      "       0.99980064, 0.99985048, 0.99990032, 0.99995016, 1.        ]), array([0.        , 0.64712042, 0.77975567, 0.8574171 , 0.89982548,\n",
      "       0.91710297, 0.92268761, 0.92914485, 0.93420593, 0.93787086,\n",
      "       0.94101222, 0.94589878, 0.95287958, 0.95514834, 0.96038394,\n",
      "       0.96596859, 0.96806283, 0.97085515, 0.97452007, 0.97661431,\n",
      "       0.97765047, 0.97958115, 0.98097731, 0.98237347, 0.98323785,\n",
      "       0.98656195, 0.98935428, 0.9895288 , 0.98970332, 0.98987784,\n",
      "       0.99005236, 0.99057592, 0.99075044, 0.99092496, 0.99092496,\n",
      "       0.991274  , 0.99231135, 0.99248477, 0.99373046, 0.99383324,\n",
      "       0.99393602, 0.9940388 , 0.99414158, 0.99424436, 0.99434714,\n",
      "       0.99444992, 0.99455269, 0.99465547, 0.99475825, 0.99486103,\n",
      "       0.99496381, 0.99506659, 0.99516937, 0.99527215, 0.99537493,\n",
      "       0.99547771, 0.99558049, 0.99568327, 0.99578605, 0.99588883,\n",
      "       0.99599161, 0.99609439, 0.99619716, 0.99629994, 0.99640272,\n",
      "       0.9965055 , 0.99660828, 0.99671106, 0.99681384, 0.99691662,\n",
      "       0.9970194 , 0.99712218, 0.99722496, 0.99732774, 0.99743052,\n",
      "       0.9975333 , 0.99763608, 0.99773885, 0.99784163, 0.99794441,\n",
      "       0.99804719, 0.99814997, 0.99825275, 0.99835553, 0.99845831,\n",
      "       0.99856109, 0.99866387, 0.99876665, 0.99886943, 0.99897221,\n",
      "       0.99907499, 0.99917777, 0.99928054, 0.99938332, 0.9994861 ,\n",
      "       0.99958888, 0.99969166, 0.99979444, 0.99989722, 1.        ]), array([0.        , 0.55128205, 0.72291667, 0.83717949, 0.89583333,\n",
      "       0.92339744, 0.93557692, 0.95048077, 0.95592949, 0.95753205,\n",
      "       0.95961538, 0.96666667, 0.96714744, 0.96923077, 0.97371795,\n",
      "       0.97387821, 0.97451923, 0.975     , 0.97548077, 0.97548077,\n",
      "       0.97676282, 0.97724359, 0.9775641 , 0.97916667, 0.98076923,\n",
      "       0.98076923, 0.98076923, 0.98127185, 0.98173077, 0.98173077,\n",
      "       0.98173077, 0.98173077, 0.98173077, 0.98231838, 0.98285256,\n",
      "       0.98365385, 0.98392025, 0.98469508, 0.98566912, 0.98590405,\n",
      "       0.98613898, 0.98637391, 0.98660885, 0.98684378, 0.98707871,\n",
      "       0.98731364, 0.98754858, 0.98778351, 0.98801844, 0.98825337,\n",
      "       0.98848831, 0.98872324, 0.98895817, 0.9891931 , 0.98942804,\n",
      "       0.98966297, 0.9898979 , 0.99013283, 0.99036777, 0.9906027 ,\n",
      "       0.99083763, 0.99107256, 0.9913075 , 0.99154243, 0.99177736,\n",
      "       0.99201229, 0.99224723, 0.99248216, 0.99271709, 0.99295202,\n",
      "       0.99318696, 0.99342189, 0.99365682, 0.99389175, 0.99412669,\n",
      "       0.99436162, 0.99459655, 0.99483148, 0.99506642, 0.99530135,\n",
      "       0.99553628, 0.99577121, 0.99600615, 0.99624108, 0.99647601,\n",
      "       0.99671094, 0.99694588, 0.99718081, 0.99741574, 0.99765067,\n",
      "       0.99788561, 0.99812054, 0.99835547, 0.9985904 , 0.99882534,\n",
      "       0.99906027, 0.9992952 , 0.99953013, 0.99976507, 1.        ]), array([0.        , 0.36838235, 0.62132353, 0.75367647, 0.81323529,\n",
      "       0.85147059, 0.88088235, 0.90220588, 0.92058824, 0.93455882,\n",
      "       0.9375    , 0.94558824, 0.94779412, 0.95      , 0.95073529,\n",
      "       0.95441176, 0.95955882, 0.96176471, 0.96470588, 0.97058824,\n",
      "       0.97352941, 0.97352941, 0.97352941, 0.97352941, 0.97352941,\n",
      "       0.98529412, 1.        , 1.        , 1.        , 1.        ,\n",
      "       1.        , 1.        , 1.        , 1.        , 1.        ,\n",
      "       1.        , 1.        , 1.        , 1.        , 1.        ,\n",
      "       1.        , 1.        , 1.        , 1.        , 1.        ,\n",
      "       1.        , 1.        , 1.        , 1.        , 1.        ,\n",
      "       1.        , 1.        , 1.        , 1.        , 1.        ,\n",
      "       1.        , 1.        , 1.        , 1.        , 1.        ,\n",
      "       1.        , 1.        , 1.        , 1.        , 1.        ,\n",
      "       1.        , 1.        , 1.        , 1.        , 1.        ,\n",
      "       1.        , 1.        , 1.        , 1.        , 1.        ,\n",
      "       1.        , 1.        , 1.        , 1.        , 1.        ,\n",
      "       1.        , 1.        , 1.        , 1.        , 1.        ,\n",
      "       1.        , 1.        , 1.        , 1.        , 1.        ,\n",
      "       1.        , 1.        , 1.        , 1.        , 1.        ,\n",
      "       1.        , 1.        , 1.        , 1.        , 1.        ]), array([0.        , 0.97540453, 0.98899676, 0.99385113, 0.997411  ,\n",
      "       0.99967638, 1.        , 1.        , 1.        , 1.        ,\n",
      "       1.        , 1.        , 1.        , 1.        , 1.        ,\n",
      "       1.        , 1.        , 1.        , 1.        , 1.        ,\n",
      "       1.        , 1.        , 1.        , 1.        , 1.        ,\n",
      "       1.        , 1.        , 1.        , 1.        , 1.        ,\n",
      "       1.        , 1.        , 1.        , 1.        , 1.        ,\n",
      "       1.        , 1.        , 1.        , 1.        , 1.        ,\n",
      "       1.        , 1.        , 1.        , 1.        , 1.        ,\n",
      "       1.        , 1.        , 1.        , 1.        , 1.        ,\n",
      "       1.        , 1.        , 1.        , 1.        , 1.        ,\n",
      "       1.        , 1.        , 1.        , 1.        , 1.        ,\n",
      "       1.        , 1.        , 1.        , 1.        , 1.        ,\n",
      "       1.        , 1.        , 1.        , 1.        , 1.        ,\n",
      "       1.        , 1.        , 1.        , 1.        , 1.        ,\n",
      "       1.        , 1.        , 1.        , 1.        , 1.        ,\n",
      "       1.        , 1.        , 1.        , 1.        , 1.        ,\n",
      "       1.        , 1.        , 1.        , 1.        , 1.        ,\n",
      "       1.        , 1.        , 1.        , 1.        , 1.        ,\n",
      "       1.        , 1.        , 1.        , 1.        , 1.        ]), array([0.        , 0.63125   , 0.80625   , 0.86354167, 0.90208333,\n",
      "       0.928125  , 0.94583333, 0.95520833, 0.959375  , 0.97291667,\n",
      "       0.97708333, 0.97916667, 0.98125   , 0.98333333, 0.98645833,\n",
      "       0.9875    , 0.98854167, 0.99166667, 0.99166667, 0.99166667,\n",
      "       0.99270833, 0.99270833, 0.99270833, 0.99270833, 0.99375   ,\n",
      "       0.99375   , 0.99375   , 0.99479167, 0.99583333, 0.99583333,\n",
      "       0.99583333, 0.99583333, 0.996875  , 0.996875  , 0.99687635,\n",
      "       0.99692441, 0.99697246, 0.99702052, 0.99706858, 0.99711663,\n",
      "       0.99716469, 0.99721274, 0.9972608 , 0.99730886, 0.99735691,\n",
      "       0.99740497, 0.99745303, 0.99750108, 0.99754914, 0.99759719,\n",
      "       0.99764525, 0.99769331, 0.99774136, 0.99778942, 0.99783747,\n",
      "       0.99788553, 0.99793359, 0.99798164, 0.9980297 , 0.99807775,\n",
      "       0.99812581, 0.99817387, 0.99822192, 0.99826998, 0.99831804,\n",
      "       0.99836609, 0.99841415, 0.9984622 , 0.99851026, 0.99855832,\n",
      "       0.99860637, 0.99865443, 0.99870248, 0.99875054, 0.9987986 ,\n",
      "       0.99884665, 0.99889471, 0.99894277, 0.99899082, 0.99903888,\n",
      "       0.99908693, 0.99913499, 0.99918305, 0.9992311 , 0.99927916,\n",
      "       0.99932721, 0.99937527, 0.99942333, 0.99947138, 0.99951944,\n",
      "       0.99956749, 0.99961555, 0.99966361, 0.99971166, 0.99975972,\n",
      "       0.99980778, 0.99985583, 0.99990389, 0.99995194, 1.        ]), array([0.        , 0.66369983, 0.84764398, 0.89371728, 0.92687609,\n",
      "       0.94048866, 0.95008726, 0.95584642, 0.96038394, 0.96579407,\n",
      "       0.96910995, 0.97155323, 0.9760696 , 0.97940663, 0.98080279,\n",
      "       0.98202443, 0.98359511, 0.98481675, 0.98534031, 0.98656195,\n",
      "       0.98708551, 0.9877836 , 0.99005236, 0.99104571, 0.991274  ,\n",
      "       0.99197208, 0.99210076, 0.9921466 , 0.99232112, 0.99267016,\n",
      "       0.99267016, 0.99354276, 0.99371728, 0.99424084, 0.99441536,\n",
      "       0.99441536, 0.99651825, 0.99657352, 0.99662879, 0.99668405,\n",
      "       0.99673932, 0.99679458, 0.99684985, 0.99690511, 0.99696038,\n",
      "       0.99701565, 0.99707091, 0.99712618, 0.99718144, 0.99723671,\n",
      "       0.99729198, 0.99734724, 0.99740251, 0.99745777, 0.99751304,\n",
      "       0.9975683 , 0.99762357, 0.99767884, 0.9977341 , 0.99778937,\n",
      "       0.99784463, 0.9978999 , 0.99795516, 0.99801043, 0.9980657 ,\n",
      "       0.99812096, 0.99817623, 0.99823149, 0.99828676, 0.99834203,\n",
      "       0.99839729, 0.99845256, 0.99850782, 0.99856309, 0.99861835,\n",
      "       0.99867362, 0.99872889, 0.99878415, 0.99883942, 0.99889468,\n",
      "       0.99894995, 0.99900522, 0.99906048, 0.99911575, 0.99917101,\n",
      "       0.99922628, 0.99928154, 0.99933681, 0.99939208, 0.99944734,\n",
      "       0.99950261, 0.99955787, 0.99961314, 0.99966841, 0.99972367,\n",
      "       0.99977894, 0.9998342 , 0.99988947, 0.99994473, 1.        ]), array([0.        , 0.52948718, 0.67227564, 0.79711538, 0.88028846,\n",
      "       0.92532051, 0.93701923, 0.94230769, 0.94519231, 0.95080128,\n",
      "       0.9536859 , 0.95592949, 0.95945513, 0.9650641 , 0.96634615,\n",
      "       0.96794872, 0.97003205, 0.97179487, 0.97227564, 0.97291667,\n",
      "       0.97451923, 0.97498372, 0.97660256, 0.98012821, 0.98076437,\n",
      "       0.98117068, 0.98205128, 0.98333333, 0.9837445 , 0.98477564,\n",
      "       0.98477564, 0.98525641, 0.98541667, 0.98605769, 0.98605769,\n",
      "       0.98878205, 0.98878205, 0.98958333, 0.98974359, 0.99038711,\n",
      "       0.99054732, 0.99070754, 0.99086775, 0.99102797, 0.99118818,\n",
      "       0.9913484 , 0.99150861, 0.99166883, 0.99182904, 0.99198925,\n",
      "       0.99214947, 0.99230968, 0.9924699 , 0.99263011, 0.99279033,\n",
      "       0.99295054, 0.99311076, 0.99327097, 0.99343119, 0.9935914 ,\n",
      "       0.99375162, 0.99391183, 0.99407205, 0.99423226, 0.99439248,\n",
      "       0.99455269, 0.99471291, 0.99487312, 0.99503334, 0.99519355,\n",
      "       0.99535377, 0.99551398, 0.9956742 , 0.99583441, 0.99599463,\n",
      "       0.99615484, 0.99631506, 0.99647527, 0.99663549, 0.9967957 ,\n",
      "       0.99695592, 0.99711613, 0.99727635, 0.99743656, 0.99759678,\n",
      "       0.99775699, 0.99791721, 0.99807742, 0.99823764, 0.99839785,\n",
      "       0.99855807, 0.99871828, 0.9988785 , 0.99903871, 0.99919893,\n",
      "       0.99935914, 0.99951936, 0.99967957, 0.99983979, 1.        ]), array([0.        , 0.23455882, 0.50147059, 0.83602941, 0.92867647,\n",
      "       0.97205882, 0.98823529, 0.99264706, 0.99632353, 0.99632353,\n",
      "       0.99705882, 0.99852941, 0.99852941, 0.99852941, 0.99926471,\n",
      "       1.        , 1.        , 1.        , 1.        , 1.        ,\n",
      "       1.        , 1.        , 1.        , 1.        , 1.        ,\n",
      "       1.        , 1.        , 1.        , 1.        , 1.        ,\n",
      "       1.        , 1.        , 1.        , 1.        , 1.        ,\n",
      "       1.        , 1.        , 1.        , 1.        , 1.        ,\n",
      "       1.        , 1.        , 1.        , 1.        , 1.        ,\n",
      "       1.        , 1.        , 1.        , 1.        , 1.        ,\n",
      "       1.        , 1.        , 1.        , 1.        , 1.        ,\n",
      "       1.        , 1.        , 1.        , 1.        , 1.        ,\n",
      "       1.        , 1.        , 1.        , 1.        , 1.        ,\n",
      "       1.        , 1.        , 1.        , 1.        , 1.        ,\n",
      "       1.        , 1.        , 1.        , 1.        , 1.        ,\n",
      "       1.        , 1.        , 1.        , 1.        , 1.        ,\n",
      "       1.        , 1.        , 1.        , 1.        , 1.        ,\n",
      "       1.        , 1.        , 1.        , 1.        , 1.        ,\n",
      "       1.        , 1.        , 1.        , 1.        , 1.        ,\n",
      "       1.        , 1.        , 1.        , 1.        , 1.        ]), array([0.        , 0.98543689, 0.99773463, 0.99902913, 0.99967638,\n",
      "       1.        , 1.        , 1.        , 1.        , 1.        ,\n",
      "       1.        , 1.        , 1.        , 1.        , 1.        ,\n",
      "       1.        , 1.        , 1.        , 1.        , 1.        ,\n",
      "       1.        , 1.        , 1.        , 1.        , 1.        ,\n",
      "       1.        , 1.        , 1.        , 1.        , 1.        ,\n",
      "       1.        , 1.        , 1.        , 1.        , 1.        ,\n",
      "       1.        , 1.        , 1.        , 1.        , 1.        ,\n",
      "       1.        , 1.        , 1.        , 1.        , 1.        ,\n",
      "       1.        , 1.        , 1.        , 1.        , 1.        ,\n",
      "       1.        , 1.        , 1.        , 1.        , 1.        ,\n",
      "       1.        , 1.        , 1.        , 1.        , 1.        ,\n",
      "       1.        , 1.        , 1.        , 1.        , 1.        ,\n",
      "       1.        , 1.        , 1.        , 1.        , 1.        ,\n",
      "       1.        , 1.        , 1.        , 1.        , 1.        ,\n",
      "       1.        , 1.        , 1.        , 1.        , 1.        ,\n",
      "       1.        , 1.        , 1.        , 1.        , 1.        ,\n",
      "       1.        , 1.        , 1.        , 1.        , 1.        ,\n",
      "       1.        , 1.        , 1.        , 1.        , 1.        ,\n",
      "       1.        , 1.        , 1.        , 1.        , 1.        ]), array([0.        , 0.709375  , 0.85625   , 0.90729167, 0.934375  ,\n",
      "       0.94375   , 0.96145833, 0.96770833, 0.978125  , 0.98645833,\n",
      "       0.99270833, 0.99375   , 0.99375   , 0.99479167, 0.99479167,\n",
      "       0.99479167, 0.996875  , 0.99791667, 0.99895833, 0.99895833,\n",
      "       1.        , 1.        , 1.        , 1.        , 1.        ,\n",
      "       1.        , 1.        , 1.        , 1.        , 1.        ,\n",
      "       1.        , 1.        , 1.        , 1.        , 1.        ,\n",
      "       1.        , 1.        , 1.        , 1.        , 1.        ,\n",
      "       1.        , 1.        , 1.        , 1.        , 1.        ,\n",
      "       1.        , 1.        , 1.        , 1.        , 1.        ,\n",
      "       1.        , 1.        , 1.        , 1.        , 1.        ,\n",
      "       1.        , 1.        , 1.        , 1.        , 1.        ,\n",
      "       1.        , 1.        , 1.        , 1.        , 1.        ,\n",
      "       1.        , 1.        , 1.        , 1.        , 1.        ,\n",
      "       1.        , 1.        , 1.        , 1.        , 1.        ,\n",
      "       1.        , 1.        , 1.        , 1.        , 1.        ,\n",
      "       1.        , 1.        , 1.        , 1.        , 1.        ,\n",
      "       1.        , 1.        , 1.        , 1.        , 1.        ,\n",
      "       1.        , 1.        , 1.        , 1.        , 1.        ,\n",
      "       1.        , 1.        , 1.        , 1.        , 1.        ]), array([0.        , 0.62931937, 0.76335079, 0.85846422, 0.8930192 ,\n",
      "       0.90593368, 0.92513089, 0.93071553, 0.93944154, 0.94397906,\n",
      "       0.9504363 , 0.95846422, 0.96055846, 0.96300175, 0.96614311,\n",
      "       0.97399651, 0.97713787, 0.97870855, 0.97905759, 0.97993019,\n",
      "       0.98089765, 0.98150087, 0.98324607, 0.98551483, 0.987461  ,\n",
      "       0.98900524, 0.98970332, 0.98970332, 0.98970332, 0.99003532,\n",
      "       0.9904014 , 0.99092496, 0.991274  , 0.991274  , 0.991274  ,\n",
      "       0.991274  , 0.99144398, 0.99144852, 0.99144852, 0.99267016,\n",
      "       0.99278432, 0.99290662, 0.99302892, 0.99315122, 0.99327352,\n",
      "       0.99339582, 0.99351812, 0.99364042, 0.99376272, 0.99388502,\n",
      "       0.99400732, 0.99412962, 0.99425192, 0.99437422, 0.99449652,\n",
      "       0.99461882, 0.99474112, 0.99486342, 0.99498572, 0.99510801,\n",
      "       0.99523031, 0.99535261, 0.99547491, 0.99559721, 0.99571951,\n",
      "       0.99584181, 0.99596411, 0.99608641, 0.99620871, 0.99633101,\n",
      "       0.99645331, 0.99657561, 0.99669791, 0.99682021, 0.99694251,\n",
      "       0.99706481, 0.99718711, 0.99730941, 0.99743171, 0.99755401,\n",
      "       0.99767631, 0.99779861, 0.99792091, 0.99804321, 0.99816551,\n",
      "       0.99828781, 0.9984101 , 0.9985324 , 0.9986547 , 0.998777  ,\n",
      "       0.9988993 , 0.9990216 , 0.9991439 , 0.9992662 , 0.9993885 ,\n",
      "       0.9995108 , 0.9996331 , 0.9997554 , 0.9998777 , 1.        ]), array([0.        , 0.57259615, 0.73669872, 0.81923077, 0.86666667,\n",
      "       0.89871795, 0.92211538, 0.93557692, 0.94230769, 0.94887821,\n",
      "       0.95865385, 0.96137821, 0.96410256, 0.96714744, 0.96955128,\n",
      "       0.97163462, 0.97291667, 0.97724359, 0.97740385, 0.97852564,\n",
      "       0.97948718, 0.98060897, 0.98125   , 0.98253205, 0.98509615,\n",
      "       0.98605769, 0.98733974, 0.99031773, 0.99214744, 0.99246795,\n",
      "       0.99278846, 0.99278846, 0.99427771, 0.99487179, 0.99514213,\n",
      "       0.99532494, 0.99535256, 0.99535256, 0.99551282, 0.99551282,\n",
      "       0.99558478, 0.99565961, 0.99573445, 0.99580928, 0.99588411,\n",
      "       0.99595895, 0.99603378, 0.99610862, 0.99618345, 0.99625829,\n",
      "       0.99633312, 0.99640795, 0.99648279, 0.99655762, 0.99663246,\n",
      "       0.99670729, 0.99678213, 0.99685696, 0.99693179, 0.99700663,\n",
      "       0.99708146, 0.9971563 , 0.99723113, 0.99730597, 0.9973808 ,\n",
      "       0.99745563, 0.99753047, 0.9976053 , 0.99768014, 0.99775497,\n",
      "       0.99782981, 0.99790464, 0.99797947, 0.99805431, 0.99812914,\n",
      "       0.99820398, 0.99827881, 0.99835365, 0.99842848, 0.99850331,\n",
      "       0.99857815, 0.99865298, 0.99872782, 0.99880265, 0.99887749,\n",
      "       0.99895232, 0.99902715, 0.99910199, 0.99917682, 0.99925166,\n",
      "       0.99932649, 0.99940133, 0.99947616, 0.99955099, 0.99962583,\n",
      "       0.99970066, 0.9997755 , 0.99985033, 0.99992517, 1.        ]), array([0.        , 0.41397059, 0.63382353, 0.80220588, 0.8875    ,\n",
      "       0.93897059, 0.96764706, 0.98382353, 0.99117647, 0.99558824,\n",
      "       0.99779412, 0.99852941, 0.99926471, 0.99926471, 0.99926471,\n",
      "       1.        , 1.        , 1.        , 1.        , 1.        ,\n",
      "       1.        , 1.        , 1.        , 1.        , 1.        ,\n",
      "       1.        , 1.        , 1.        , 1.        , 1.        ,\n",
      "       1.        , 1.        , 1.        , 1.        , 1.        ,\n",
      "       1.        , 1.        , 1.        , 1.        , 1.        ,\n",
      "       1.        , 1.        , 1.        , 1.        , 1.        ,\n",
      "       1.        , 1.        , 1.        , 1.        , 1.        ,\n",
      "       1.        , 1.        , 1.        , 1.        , 1.        ,\n",
      "       1.        , 1.        , 1.        , 1.        , 1.        ,\n",
      "       1.        , 1.        , 1.        , 1.        , 1.        ,\n",
      "       1.        , 1.        , 1.        , 1.        , 1.        ,\n",
      "       1.        , 1.        , 1.        , 1.        , 1.        ,\n",
      "       1.        , 1.        , 1.        , 1.        , 1.        ,\n",
      "       1.        , 1.        , 1.        , 1.        , 1.        ,\n",
      "       1.        , 1.        , 1.        , 1.        , 1.        ,\n",
      "       1.        , 1.        , 1.        , 1.        , 1.        ,\n",
      "       1.        , 1.        , 1.        , 1.        , 1.        ]), array([0.        , 0.9802589 , 0.99320388, 0.997411  , 1.        ,\n",
      "       1.        , 1.        , 1.        , 1.        , 1.        ,\n",
      "       1.        , 1.        , 1.        , 1.        , 1.        ,\n",
      "       1.        , 1.        , 1.        , 1.        , 1.        ,\n",
      "       1.        , 1.        , 1.        , 1.        , 1.        ,\n",
      "       1.        , 1.        , 1.        , 1.        , 1.        ,\n",
      "       1.        , 1.        , 1.        , 1.        , 1.        ,\n",
      "       1.        , 1.        , 1.        , 1.        , 1.        ,\n",
      "       1.        , 1.        , 1.        , 1.        , 1.        ,\n",
      "       1.        , 1.        , 1.        , 1.        , 1.        ,\n",
      "       1.        , 1.        , 1.        , 1.        , 1.        ,\n",
      "       1.        , 1.        , 1.        , 1.        , 1.        ,\n",
      "       1.        , 1.        , 1.        , 1.        , 1.        ,\n",
      "       1.        , 1.        , 1.        , 1.        , 1.        ,\n",
      "       1.        , 1.        , 1.        , 1.        , 1.        ,\n",
      "       1.        , 1.        , 1.        , 1.        , 1.        ,\n",
      "       1.        , 1.        , 1.        , 1.        , 1.        ,\n",
      "       1.        , 1.        , 1.        , 1.        , 1.        ,\n",
      "       1.        , 1.        , 1.        , 1.        , 1.        ,\n",
      "       1.        , 1.        , 1.        , 1.        , 1.        ]), array([0.        , 0.75520833, 0.84791667, 0.89375   , 0.93020833,\n",
      "       0.94583333, 0.96145833, 0.965625  , 0.97083333, 0.978125  ,\n",
      "       0.97916667, 0.98125   , 0.984375  , 0.98541667, 0.98772096,\n",
      "       0.99166667, 0.99583333, 0.99583333, 0.99791667, 0.9981512 ,\n",
      "       0.99895833, 1.        , 1.        , 1.        , 1.        ,\n",
      "       1.        , 1.        , 1.        , 1.        , 1.        ,\n",
      "       1.        , 1.        , 1.        , 1.        , 1.        ,\n",
      "       1.        , 1.        , 1.        , 1.        , 1.        ,\n",
      "       1.        , 1.        , 1.        , 1.        , 1.        ,\n",
      "       1.        , 1.        , 1.        , 1.        , 1.        ,\n",
      "       1.        , 1.        , 1.        , 1.        , 1.        ,\n",
      "       1.        , 1.        , 1.        , 1.        , 1.        ,\n",
      "       1.        , 1.        , 1.        , 1.        , 1.        ,\n",
      "       1.        , 1.        , 1.        , 1.        , 1.        ,\n",
      "       1.        , 1.        , 1.        , 1.        , 1.        ,\n",
      "       1.        , 1.        , 1.        , 1.        , 1.        ,\n",
      "       1.        , 1.        , 1.        , 1.        , 1.        ,\n",
      "       1.        , 1.        , 1.        , 1.        , 1.        ,\n",
      "       1.        , 1.        , 1.        , 1.        , 1.        ,\n",
      "       1.        , 1.        , 1.        , 1.        , 1.        ]), array([0.        , 0.61780105, 0.73804538, 0.82338569, 0.86387435,\n",
      "       0.89616056, 0.92705061, 0.93576427, 0.94642234, 0.95340314,\n",
      "       0.95497382, 0.96055846, 0.96474695, 0.96858639, 0.96980803,\n",
      "       0.97347295, 0.97452007, 0.97678883, 0.97870855, 0.98080279,\n",
      "       0.98150087, 0.98237347, 0.98499127, 0.98568935, 0.98708551,\n",
      "       0.9877836 , 0.98883072, 0.9895288 , 0.98987784, 0.9904014 ,\n",
      "       0.99336824, 0.99581152, 0.9965096 , 0.99790576, 0.99842932,\n",
      "       0.99860384, 0.99860384, 0.99899342, 0.9991274 , 0.9991274 ,\n",
      "       0.99913979, 0.99915437, 0.99916895, 0.99918353, 0.99919811,\n",
      "       0.99921269, 0.99922727, 0.99924185, 0.99925643, 0.99927101,\n",
      "       0.99928559, 0.99930017, 0.99931475, 0.99932933, 0.99934391,\n",
      "       0.99935849, 0.99937307, 0.99938765, 0.99940223, 0.99941681,\n",
      "       0.99943139, 0.99944597, 0.99946055, 0.99947513, 0.99948971,\n",
      "       0.99950429, 0.99951887, 0.99953345, 0.99954803, 0.99956261,\n",
      "       0.99957719, 0.99959177, 0.99960635, 0.99962093, 0.99963551,\n",
      "       0.99965009, 0.99966467, 0.99967925, 0.99969383, 0.9997084 ,\n",
      "       0.99972298, 0.99973756, 0.99975214, 0.99976672, 0.9997813 ,\n",
      "       0.99979588, 0.99981046, 0.99982504, 0.99983962, 0.9998542 ,\n",
      "       0.99986878, 0.99988336, 0.99989794, 0.99991252, 0.9999271 ,\n",
      "       0.99994168, 0.99995626, 0.99997084, 0.99998542, 1.        ]), array([0.        , 0.50416667, 0.70480769, 0.82532051, 0.85849359,\n",
      "       0.88830128, 0.90336538, 0.91474359, 0.92532051, 0.93333333,\n",
      "       0.94647436, 0.96121795, 0.96490385, 0.97035256, 0.97516026,\n",
      "       0.97724359, 0.97964744, 0.98141026, 0.98237179, 0.9833021 ,\n",
      "       0.98445513, 0.98637821, 0.9876009 , 0.98846154, 0.98878205,\n",
      "       0.98894231, 0.99022436, 0.99067599, 0.99086538, 0.99150641,\n",
      "       0.99230769, 0.99262821, 0.99342949, 0.99342949, 0.99342949,\n",
      "       0.99342949, 0.99342949, 0.99342949, 0.9936543 , 0.99375   ,\n",
      "       0.99375   , 0.99384358, 0.99394973, 0.99405587, 0.99416202,\n",
      "       0.99426816, 0.99437431, 0.99448045, 0.9945866 , 0.99469274,\n",
      "       0.99479889, 0.99490503, 0.99501118, 0.99511732, 0.99522347,\n",
      "       0.99532961, 0.99543576, 0.9955419 , 0.99564805, 0.99575419,\n",
      "       0.99586034, 0.99596649, 0.99607263, 0.99617878, 0.99628492,\n",
      "       0.99639107, 0.99649721, 0.99660336, 0.9967095 , 0.99681565,\n",
      "       0.99692179, 0.99702794, 0.99713408, 0.99724023, 0.99734637,\n",
      "       0.99745252, 0.99755866, 0.99766481, 0.99777095, 0.9978771 ,\n",
      "       0.99798324, 0.99808939, 0.99819553, 0.99830168, 0.99840782,\n",
      "       0.99851397, 0.99862011, 0.99872626, 0.9988324 , 0.99893855,\n",
      "       0.99904469, 0.99915084, 0.99925698, 0.99936313, 0.99946927,\n",
      "       0.99957542, 0.99968156, 0.99978771, 0.99989385, 1.        ]), array([0.        , 0.30808824, 0.53308824, 0.79191176, 0.91470588,\n",
      "       0.95073529, 0.975     , 0.98235294, 0.99044118, 0.99264706,\n",
      "       0.99338235, 0.99485294, 0.99558824, 0.99558824, 0.99632353,\n",
      "       0.99632353, 0.99779412, 0.99852941, 0.99926471, 0.99926471,\n",
      "       1.        , 1.        , 1.        , 1.        , 1.        ,\n",
      "       1.        , 1.        , 1.        , 1.        , 1.        ,\n",
      "       1.        , 1.        , 1.        , 1.        , 1.        ,\n",
      "       1.        , 1.        , 1.        , 1.        , 1.        ,\n",
      "       1.        , 1.        , 1.        , 1.        , 1.        ,\n",
      "       1.        , 1.        , 1.        , 1.        , 1.        ,\n",
      "       1.        , 1.        , 1.        , 1.        , 1.        ,\n",
      "       1.        , 1.        , 1.        , 1.        , 1.        ,\n",
      "       1.        , 1.        , 1.        , 1.        , 1.        ,\n",
      "       1.        , 1.        , 1.        , 1.        , 1.        ,\n",
      "       1.        , 1.        , 1.        , 1.        , 1.        ,\n",
      "       1.        , 1.        , 1.        , 1.        , 1.        ,\n",
      "       1.        , 1.        , 1.        , 1.        , 1.        ,\n",
      "       1.        , 1.        , 1.        , 1.        , 1.        ,\n",
      "       1.        , 1.        , 1.        , 1.        , 1.        ,\n",
      "       1.        , 1.        , 1.        , 1.        , 1.        ]), array([0.        , 0.97864078, 0.99190939, 0.9961165 , 0.99838188,\n",
      "       0.99967638, 1.        , 1.        , 1.        , 1.        ,\n",
      "       1.        , 1.        , 1.        , 1.        , 1.        ,\n",
      "       1.        , 1.        , 1.        , 1.        , 1.        ,\n",
      "       1.        , 1.        , 1.        , 1.        , 1.        ,\n",
      "       1.        , 1.        , 1.        , 1.        , 1.        ,\n",
      "       1.        , 1.        , 1.        , 1.        , 1.        ,\n",
      "       1.        , 1.        , 1.        , 1.        , 1.        ,\n",
      "       1.        , 1.        , 1.        , 1.        , 1.        ,\n",
      "       1.        , 1.        , 1.        , 1.        , 1.        ,\n",
      "       1.        , 1.        , 1.        , 1.        , 1.        ,\n",
      "       1.        , 1.        , 1.        , 1.        , 1.        ,\n",
      "       1.        , 1.        , 1.        , 1.        , 1.        ,\n",
      "       1.        , 1.        , 1.        , 1.        , 1.        ,\n",
      "       1.        , 1.        , 1.        , 1.        , 1.        ,\n",
      "       1.        , 1.        , 1.        , 1.        , 1.        ,\n",
      "       1.        , 1.        , 1.        , 1.        , 1.        ,\n",
      "       1.        , 1.        , 1.        , 1.        , 1.        ,\n",
      "       1.        , 1.        , 1.        , 1.        , 1.        ,\n",
      "       1.        , 1.        , 1.        , 1.        , 1.        ]), array([0.        , 0.753125  , 0.86041667, 0.89583333, 0.91875   ,\n",
      "       0.93020833, 0.93645833, 0.95625   , 0.9625    , 0.971875  ,\n",
      "       0.97708333, 0.97916667, 0.98333333, 0.98333333, 0.98958333,\n",
      "       0.98958333, 0.98958333, 0.990625  , 0.990625  , 0.99069153,\n",
      "       0.99166667, 0.99166667, 0.99270833, 0.99270833, 0.99270833,\n",
      "       0.99270833, 0.99375   , 0.99583333, 0.99583333, 0.996875  ,\n",
      "       0.996875  , 0.996875  , 0.996875  , 0.996875  , 0.996875  ,\n",
      "       0.996875  , 0.996875  , 0.99791667, 0.99791667, 0.99794304,\n",
      "       0.99797732, 0.99801161, 0.99804589, 0.99808017, 0.99811446,\n",
      "       0.99814874, 0.99818302, 0.9982173 , 0.99825159, 0.99828587,\n",
      "       0.99832015, 0.99835443, 0.99838872, 0.998423  , 0.99845728,\n",
      "       0.99849156, 0.99852585, 0.99856013, 0.99859441, 0.99862869,\n",
      "       0.99866298, 0.99869726, 0.99873154, 0.99876583, 0.99880011,\n",
      "       0.99883439, 0.99886867, 0.99890296, 0.99893724, 0.99897152,\n",
      "       0.9990058 , 0.99904009, 0.99907437, 0.99910865, 0.99914293,\n",
      "       0.99917722, 0.9992115 , 0.99924578, 0.99928006, 0.99931435,\n",
      "       0.99934863, 0.99938291, 0.9994172 , 0.99945148, 0.99948576,\n",
      "       0.99952004, 0.99955433, 0.99958861, 0.99962289, 0.99965717,\n",
      "       0.99969146, 0.99972574, 0.99976002, 0.9997943 , 0.99982859,\n",
      "       0.99986287, 0.99989715, 0.99993143, 0.99996572, 1.        ]), array([0.        , 0.61989529, 0.76108202, 0.82914485, 0.87382199,\n",
      "       0.89808028, 0.90802792, 0.91623037, 0.92879581, 0.9382199 ,\n",
      "       0.9495637 , 0.95671902, 0.96143106, 0.96527051, 0.96736475,\n",
      "       0.96893543, 0.96998255, 0.97068063, 0.97172775, 0.97384466,\n",
      "       0.97591623, 0.97643979, 0.97731239, 0.97853403, 0.98080279,\n",
      "       0.98219895, 0.98219895, 0.98254799, 0.98411867, 0.98516579,\n",
      "       0.98551483, 0.98586387, 0.98592293, 0.98634542, 0.98663767,\n",
      "       0.98708551, 0.98726003, 0.98726003, 0.98743455, 0.98756474,\n",
      "       0.98777199, 0.98797924, 0.9881865 , 0.98839375, 0.98860101,\n",
      "       0.98880826, 0.98901552, 0.98922277, 0.98943003, 0.98963728,\n",
      "       0.98984453, 0.99005179, 0.99025904, 0.9904663 , 0.99067355,\n",
      "       0.99088081, 0.99108806, 0.99129532, 0.99150257, 0.99170982,\n",
      "       0.99191708, 0.99212433, 0.99233159, 0.99253884, 0.9927461 ,\n",
      "       0.99295335, 0.9931606 , 0.99336786, 0.99357511, 0.99378237,\n",
      "       0.99398962, 0.99419688, 0.99440413, 0.99461139, 0.99481864,\n",
      "       0.99502589, 0.99523315, 0.9954404 , 0.99564766, 0.99585491,\n",
      "       0.99606217, 0.99626942, 0.99647668, 0.99668393, 0.99689118,\n",
      "       0.99709844, 0.99730569, 0.99751295, 0.9977202 , 0.99792746,\n",
      "       0.99813471, 0.99834196, 0.99854922, 0.99875647, 0.99896373,\n",
      "       0.99917098, 0.99937824, 0.99958549, 0.99979275, 1.        ]), array([0.        , 0.48237179, 0.71586538, 0.83221154, 0.87612179,\n",
      "       0.8974359 , 0.91554487, 0.92836538, 0.93846154, 0.94679487,\n",
      "       0.9536859 , 0.95865385, 0.96233974, 0.96410256, 0.96474359,\n",
      "       0.96682692, 0.96923077, 0.96987179, 0.97291667, 0.97387821,\n",
      "       0.97580491, 0.97660256, 0.97660256, 0.97676282, 0.97804487,\n",
      "       0.9786859 , 0.97884615, 0.98253205, 0.98317308, 0.98349359,\n",
      "       0.98477564, 0.98541667, 0.98733974, 0.98824301, 0.98894231,\n",
      "       0.99147606, 0.99293124, 0.99375   , 0.99407051, 0.99407051,\n",
      "       0.99455128, 0.9945857 , 0.99467905, 0.9947724 , 0.99486575,\n",
      "       0.9949591 , 0.99505245, 0.9951458 , 0.99523915, 0.9953325 ,\n",
      "       0.99542585, 0.9955192 , 0.99561255, 0.9957059 , 0.99579925,\n",
      "       0.9958926 , 0.99598595, 0.9960793 , 0.99617265, 0.996266  ,\n",
      "       0.99635935, 0.9964527 , 0.99654605, 0.9966394 , 0.99673275,\n",
      "       0.9968261 , 0.99691945, 0.9970128 , 0.99710615, 0.9971995 ,\n",
      "       0.99729285, 0.9973862 , 0.99747955, 0.9975729 , 0.99766625,\n",
      "       0.9977596 , 0.99785295, 0.9979463 , 0.99803965, 0.998133  ,\n",
      "       0.99822635, 0.9983197 , 0.99841305, 0.9985064 , 0.99859975,\n",
      "       0.9986931 , 0.99878645, 0.9988798 , 0.99897315, 0.9990665 ,\n",
      "       0.99915985, 0.9992532 , 0.99934655, 0.9994399 , 0.99953325,\n",
      "       0.9996266 , 0.99971995, 0.9998133 , 0.99990665, 1.        ]), array([0.        , 0.3375    , 0.61985294, 0.82279412, 0.89926471,\n",
      "       0.93676471, 0.9625    , 0.97794118, 0.98529412, 0.9875    ,\n",
      "       0.99264706, 0.99411765, 0.99558824, 0.99632353, 0.99705882,\n",
      "       1.        , 1.        , 1.        , 1.        , 1.        ,\n",
      "       1.        , 1.        , 1.        , 1.        , 1.        ,\n",
      "       1.        , 1.        , 1.        , 1.        , 1.        ,\n",
      "       1.        , 1.        , 1.        , 1.        , 1.        ,\n",
      "       1.        , 1.        , 1.        , 1.        , 1.        ,\n",
      "       1.        , 1.        , 1.        , 1.        , 1.        ,\n",
      "       1.        , 1.        , 1.        , 1.        , 1.        ,\n",
      "       1.        , 1.        , 1.        , 1.        , 1.        ,\n",
      "       1.        , 1.        , 1.        , 1.        , 1.        ,\n",
      "       1.        , 1.        , 1.        , 1.        , 1.        ,\n",
      "       1.        , 1.        , 1.        , 1.        , 1.        ,\n",
      "       1.        , 1.        , 1.        , 1.        , 1.        ,\n",
      "       1.        , 1.        , 1.        , 1.        , 1.        ,\n",
      "       1.        , 1.        , 1.        , 1.        , 1.        ,\n",
      "       1.        , 1.        , 1.        , 1.        , 1.        ,\n",
      "       1.        , 1.        , 1.        , 1.        , 1.        ,\n",
      "       1.        , 1.        , 1.        , 1.        , 1.        ]), array([0.        , 0.97378641, 0.98899676, 0.99385113, 0.99935275,\n",
      "       1.        , 1.        , 1.        , 1.        , 1.        ,\n",
      "       1.        , 1.        , 1.        , 1.        , 1.        ,\n",
      "       1.        , 1.        , 1.        , 1.        , 1.        ,\n",
      "       1.        , 1.        , 1.        , 1.        , 1.        ,\n",
      "       1.        , 1.        , 1.        , 1.        , 1.        ,\n",
      "       1.        , 1.        , 1.        , 1.        , 1.        ,\n",
      "       1.        , 1.        , 1.        , 1.        , 1.        ,\n",
      "       1.        , 1.        , 1.        , 1.        , 1.        ,\n",
      "       1.        , 1.        , 1.        , 1.        , 1.        ,\n",
      "       1.        , 1.        , 1.        , 1.        , 1.        ,\n",
      "       1.        , 1.        , 1.        , 1.        , 1.        ,\n",
      "       1.        , 1.        , 1.        , 1.        , 1.        ,\n",
      "       1.        , 1.        , 1.        , 1.        , 1.        ,\n",
      "       1.        , 1.        , 1.        , 1.        , 1.        ,\n",
      "       1.        , 1.        , 1.        , 1.        , 1.        ,\n",
      "       1.        , 1.        , 1.        , 1.        , 1.        ,\n",
      "       1.        , 1.        , 1.        , 1.        , 1.        ,\n",
      "       1.        , 1.        , 1.        , 1.        , 1.        ,\n",
      "       1.        , 1.        , 1.        , 1.        , 1.        ])]\n"
     ]
    },
    {
     "data": {
      "image/png": "[encoded data removed]",
      "text/plain": [
       "<Figure size 432x288 with 1 Axes>"
      ]
     },
     "metadata": {
      "needs_background": "light"
     },
     "output_type": "display_data"
    }
   ],
   "source": [
    "# #############################################################################\n",
    "# Classification and ROC analysis\n",
    "from sklearn.metrics import auc\n",
    "from sklearn.metrics import plot_roc_curve\n",
    "from sklearn.metrics import roc_curve\n",
    "from sklearn.metrics import confusion_matrix\n",
    "from sklearn.model_selection import StratifiedKFold\n",
    "from sklearn.metrics import classification_report\n",
    "import matplotlib.pyplot as plt\n",
    "\n",
    "# Define cv\n",
    "cv_splits = [(np.concatenate([cv_2_idx, cv_3_idx, cv_4_idx, cv_5_idx]), cv_1_idx), \n",
    "             (np.concatenate([cv_1_idx, cv_3_idx, cv_4_idx, cv_5_idx]), cv_2_idx), \n",
    "             (np.concatenate([cv_1_idx, cv_2_idx, cv_4_idx, cv_5_idx]), cv_3_idx), \n",
    "             (np.concatenate([cv_1_idx, cv_2_idx, cv_3_idx, cv_5_idx]), cv_4_idx), \n",
    "             (np.concatenate([cv_1_idx, cv_2_idx, cv_3_idx, cv_4_idx]), cv_5_idx)]\n",
    "\n",
    "\n",
    "# Run classifier with cross-validation and plot ROC curves\n",
    "classifier = RandomForestClassifier(criterion = \"gini\", n_estimators = 20, min_samples_leaf = 9, min_samples_split = 2, max_features =20, oob_score = True)\n",
    "\n",
    "tprs = []\n",
    "aucs = []\n",
    "mean_fpr = np.linspace(0, 1, 100)\n",
    "threshold = []\n",
    "\n",
    "fig, ax = plt.subplots()\n",
    "for j in range(0,10):\n",
    "    for i, (train, test) in enumerate(cv_splits):\n",
    "        classifier.fit(dataset[train],Y_train[train])\n",
    "        viz = plot_roc_curve(classifier, dataset[test], Y_train[test],\n",
    "                             name='ROC fold {}'.format(i),\n",
    "                             alpha=0.3, lw=1, ax=ax)\n",
    "        #y_pred_scores = (classifier.predict_proba(X_test)[:,1] >= 0.3).astype(bool) # set threshold as 0.3\n",
    "        y_pred_scores = classifier.predict_proba(dataset[test])\n",
    "        print(y_pred_scores)\n",
    "        fpr, tpr, thresholds = roc_curve(Y_train[test], y_pred_scores[:, -1])\n",
    "        # abs value?\n",
    "        optimal_idx = np.argmax(tpr-fpr)\n",
    "        optimal_threshold = thresholds[optimal_idx]\n",
    "        threshold.append(optimal_threshold)\n",
    "        print(\"Threshold value is:\", optimal_threshold)\n",
    "        interp_tpr = np.interp(mean_fpr, viz.fpr, viz.tpr)\n",
    "        interp_tpr[0] = 0.0\n",
    "        tprs.append(interp_tpr)\n",
    "        aucs.append(viz.roc_auc)\n",
    "\n",
    "print(np.mean(threshold))\n",
    "print(tprs)\n",
    "ax.plot([0, 1], [0, 1], linestyle='--', lw=2, color='r',\n",
    "        label='Chance', alpha=.8)\n",
    "\n",
    "mean_tpr = np.mean(tprs, axis=0)\n",
    "mean_tpr[-1] = 1.0\n",
    "mean_auc = auc(mean_fpr, mean_tpr)\n",
    "std_auc = np.std(aucs)\n",
    "ax.plot(mean_fpr, mean_tpr, color='b',\n",
    "        label=r'Mean ROC (AUC = %0.2f $\\pm$ %0.2f)' % (mean_auc, std_auc),\n",
    "        lw=2, alpha=.8)\n",
    "\n",
    "std_tpr = np.std(tprs, axis=0)\n",
    "tprs_upper = np.minimum(mean_tpr + std_tpr, 1)\n",
    "tprs_lower = np.maximum(mean_tpr - std_tpr, 0)\n",
    "ax.fill_between(mean_fpr, tprs_lower, tprs_upper, color='grey', alpha=.2,\n",
    "                label=r'$\\pm$ 1 std. dev.')\n",
    "\n",
    "ax.set(xlim=[-0.05, 1.05], ylim=[-0.05, 1.05],\n",
    "       title=\"Receiver operating characteristic example\")\n",
    "ax.legend(loc=\"lower right\")\n",
    "plt.show()"
   ]
  },
  {
   "cell_type": "code",
   "execution_count": 19,
   "id": "80ff9c1a",
   "metadata": {},
   "outputs": [
    {
     "name": "stdout",
     "output_type": "stream",
     "text": [
      "[0.25830371 0.21029762 0.24875    ... 0.         0.05909091 0.        ]\n"
     ]
    }
   ],
   "source": [
    "print(y_pred_scores[:, -1])"
   ]
  },
  {
   "cell_type": "code",
   "execution_count": 3,
   "id": "0566aa35",
   "metadata": {},
   "outputs": [],
   "source": [
    "import os\n",
    "import re\n",
    "import nibabel as nib\n",
    "tissue_maps = r'C:\\Users\\ellen\\Documents\\ew-honoursthesis\\Data\\tissue_prob_maps.tar\\tissue_prob_maps'"
   ]
  },
  {
   "cell_type": "code",
   "execution_count": 4,
   "id": "58758331",
   "metadata": {},
   "outputs": [],
   "source": [
    "def probability_tissue_maps(tissue_maps):\n",
    "    CSF = []\n",
    "    WM = []\n",
    "    GM = []\n",
    "    for file in os.listdir(tissue_maps):\n",
    "        if file.endswith(\".nii.gz\"):\n",
    "            if file.find(\"CSF\"):\n",
    "                Data_list = []\n",
    "                file_id = int(re.search(r'\\d+', file)[0])\n",
    "                imgpath = os.path.join(tissue_maps, file)\n",
    "                img = nib.load(imgpath)\n",
    "                data = img.get_fdata()\n",
    "                Data_list.append(file_id)\n",
    "                Data_list.append(data)\n",
    "                CSF.append(Data_list)\n",
    "            if file.find(\"GM\"):\n",
    "                Data_list = []\n",
    "                file_id = int(re.search(r'\\d+', file)[0])\n",
    "                imgpath = os.path.join(tissue_maps, file)\n",
    "                img = nib.load(imgpath)\n",
    "                data = img.get_fdata()\n",
    "                Data_list.append(file_id)\n",
    "                Data_list.append(data)\n",
    "                GM.append(Data_list)\n",
    "            if file.find(\"WM\"):\n",
    "                Data_list = []\n",
    "                file_id = int(re.search(r'\\d+', file)[0])\n",
    "                imgpath = os.path.join(tissue_maps, file)\n",
    "                img = nib.load(imgpath)\n",
    "                data = img.get_fdata()\n",
    "                Data_list.append(file_id)\n",
    "                Data_list.append(data)\n",
    "                WM.append(Data_list)\n",
    "        break\n",
    "    return CSF, WM, GM\n",
    "CSF, WM, GM = probability_tissue_maps(tissue_maps)"
   ]
  },
  {
   "cell_type": "code",
   "execution_count": 9,
   "id": "a662858a",
   "metadata": {},
   "outputs": [
    {
     "data": {
      "image/png": "[encoded data removed]",
      "text/plain": [
       "<Figure size 432x288 with 1 Axes>"
      ]
     },
     "metadata": {
      "needs_background": "light"
     },
     "output_type": "display_data"
    }
   ],
   "source": [
    "input_image = WM[0][1][:, 150, :]*255\n",
    "input_image = input_image.astype('uint8')\n",
    "plt.imshow(input_image, cmap=\"gray\", origin=\"lower\")\n",
    "plt.show()"
   ]
  },
  {
   "cell_type": "code",
   "execution_count": 10,
   "id": "79b329c1",
   "metadata": {},
   "outputs": [
    {
     "data": {
      "image/png": "[encoded data removed]",
      "text/plain": [
       "<Figure size 432x288 with 1 Axes>"
      ]
     },
     "metadata": {
      "needs_background": "light"
     },
     "output_type": "display_data"
    }
   ],
   "source": [
    "input_image = GM[0][1][:, 150, :]*255\n",
    "input_image = input_image.astype('uint8')\n",
    "plt.imshow(input_image, cmap=\"gray\", origin=\"lower\")\n",
    "plt.show()"
   ]
  },
  {
   "cell_type": "code",
   "execution_count": 44,
   "id": "10081283",
   "metadata": {},
   "outputs": [
    {
     "data": {
      "image/png": "[encoded data removed]",
      "text/plain": [
       "<Figure size 432x288 with 1 Axes>"
      ]
     },
     "metadata": {
      "needs_background": "light"
     },
     "output_type": "display_data"
    }
   ],
   "source": [
    "from matplotlib import pyplot as plt \n",
    "flat_array = np.ravel(GM[0][1])\n",
    "np.histogram(flat_array,bins = [0.2, 0.4, 0.6, 0.8]) \n",
    "hist,bins = np.histogram(flat_array,bins = [0,0.2, 0.4, 0.6, 0.8]) \n",
    "plt.hist(flat_array, bins = [0.2, 0.4, 0.6, 0.8]) \n",
    "plt.title(\"histogram\") \n",
    "plt.show()"
   ]
  }
 ],
 "metadata": {
  "kernelspec": {
   "display_name": "Python 3 (ipykernel)",
   "language": "python",
   "name": "python3"
  },
  "language_info": {
   "codemirror_mode": {
    "name": "ipython",
    "version": 3
   },
   "file_extension": ".py",
   "mimetype": "text/x-python",
   "name": "python",
   "nbconvert_exporter": "python",
   "pygments_lexer": "ipython3",
   "version": "3.8.3"
  }
 },
 "nbformat": 4,
 "nbformat_minor": 5
}
