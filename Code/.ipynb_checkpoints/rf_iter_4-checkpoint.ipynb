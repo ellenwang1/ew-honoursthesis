{
 "cells": [
  {
   "cell_type": "code",
   "execution_count": 1,
   "id": "46a38c66",
   "metadata": {},
   "outputs": [],
   "source": [
    "from turtle import shape\n",
    "import nibabel as nib\n",
    "import os\n",
    "import sys\n",
    "import matplotlib.pyplot as plt\n",
    "from mpl_toolkits.mplot3d import Axes3D\n",
    "import numpy as np\n",
    "import cv2\n",
    "from PIL import Image\n",
    "from matplotlib import cm\n",
    "import pandas as pd\n",
    "import imblearn\n",
    "import re\n",
    "import seaborn as sns\n",
    "\n",
    "# Setting paths for different folders\n",
    "FLAIR_scan = r'C:\\Users\\ellen\\Documents\\ew-honoursthesis\\Data\\forAudrey.tar\\Normalised\\FLAIRinT1space_withLacunes_35.tar'\n",
    "T1_Lacunes_Incorrect = r'C:\\Users\\ellen\\Documents\\ew-honoursthesis\\Data\\forAudrey.tar\\Original\\lacune_T1space.tar'\n",
    "T1_Lacunes_Correct = r'C:\\Users\\ellen\\Documents\\ew-honoursthesis\\Data\\forAudrey.tar\\Original\\lacune_T1space_JiyangCorrected20210920'\n",
    "T1_scan = r'C:\\Users\\ellen\\Documents\\ew-honoursthesis\\Data\\forAudrey.tar\\Normalised\\T1_withLacunes_35.tar'\n",
    "T1_Soft_Tissue = r'C:\\Users\\ellen\\Documents\\ew-honoursthesis\\Data\\forAudrey.tar\\Normalised\\T1softTiss_withLacunes_35.tar'\n",
    "T1_Soft_Tissue_Mask = r'C:\\Users\\ellen\\Documents\\ew-honoursthesis\\Data\\forAudrey.tar\\Original\\T1softTissMask_withLacunes_35.tar'\n",
    "T1_Soft_Tissue_Binary_Mask = r'C:\\Users\\ellen\\Documents\\ew-honoursthesis\\Data\\forAudrey.tar\\Original\\T1softTissMask_withLacunes_35_binary.tar'\n"
   ]
  },
  {
   "cell_type": "code",
   "execution_count": 2,
   "id": "88ad8c97",
   "metadata": {},
   "outputs": [
    {
     "name": "stdout",
     "output_type": "stream",
     "text": [
      "complete\n"
     ]
    }
   ],
   "source": [
    "def read_data():\n",
    "    #Read all data into list\n",
    "    T1_scan_data = []\n",
    "    for file in os.listdir(T1_scan):\n",
    "        if file.endswith(\".nii.gz\"):\n",
    "            Data_list = []\n",
    "            file_id = int(re.search(r'\\d+', file)[0])\n",
    "            imgpath = os.path.join(T1_scan, file)\n",
    "            img = nib.load(imgpath)\n",
    "            data = img.get_fdata()\n",
    "            Data_list.append(file_id)\n",
    "            Data_list.append(data)\n",
    "            T1_scan_data.append(Data_list)\n",
    "\n",
    "    #Read all FLAIR data into list\n",
    "    FLAIR_scan_data = []\n",
    "    for file in os.listdir(FLAIR_scan):\n",
    "        if file.endswith(\".nii.gz\"):\n",
    "            Data_list = []\n",
    "            file_id = int(re.search(r'\\d+', file)[0])\n",
    "            imgpath = os.path.join(FLAIR_scan, file)\n",
    "            img = nib.load(imgpath)\n",
    "            data = img.get_fdata()\n",
    "            Data_list.append(file_id)\n",
    "            Data_list.append(data)\n",
    "            FLAIR_scan_data.append(Data_list)\n",
    "\n",
    "    #Lacune Exists\n",
    "    Lacune_indicator_data = []\n",
    "    for file in os.listdir(T1_Lacunes_Correct):\n",
    "        if file.endswith(\".nii.gz\"):\n",
    "            Data_list = []\n",
    "            file_id = int(re.search(r'\\d+', file)[0])\n",
    "            imgpath = os.path.join(T1_Lacunes_Correct, file)\n",
    "            img = nib.load(imgpath)\n",
    "            data = img.get_fdata()\n",
    "            Data_list.append(file_id)\n",
    "            Data_list.append(data)\n",
    "            Lacune_indicator_data.append(Data_list)\n",
    "\n",
    "    Soft_tiss_data = []\n",
    "    for file in os.listdir(T1_Soft_Tissue):\n",
    "        if file.endswith(\".nii.gz\"):\n",
    "            Data_list = []\n",
    "            file_id = int(re.search(r'\\d+', file)[0])\n",
    "            imgpath = os.path.join(T1_Soft_Tissue, file)\n",
    "            img = nib.load(imgpath)\n",
    "            data = img.get_fdata()\n",
    "            Data_list.append(file_id)\n",
    "            Data_list.append(data)\n",
    "            Soft_tiss_data.append(Data_list)\n",
    "\n",
    "    return T1_scan_data, FLAIR_scan_data, Lacune_indicator_data, Soft_tiss_data\n",
    "T1_scan_data, FLAIR_scan_data, Lacune_indicator_data, Soft_tiss_data = read_data()\n",
    "print(\"complete\")"
   ]
  },
  {
   "cell_type": "code",
   "execution_count": 3,
   "id": "1b559c70",
   "metadata": {},
   "outputs": [
    {
     "name": "stdout",
     "output_type": "stream",
     "text": [
      "1\n",
      "2\n",
      "3\n",
      "4\n",
      "5\n",
      "6\n",
      "7\n",
      "8\n",
      "9\n",
      "10\n",
      "11\n",
      "12\n",
      "13\n",
      "14\n",
      "15\n",
      "16\n",
      "17\n",
      "18\n",
      "19\n",
      "20\n",
      "21\n",
      "22\n",
      "23\n",
      "24\n",
      "25\n",
      "26\n",
      "27\n",
      "28\n",
      "29\n",
      "30\n",
      "31\n",
      "32\n",
      "33\n",
      "34\n",
      "35\n"
     ]
    }
   ],
   "source": [
    "def sample_lacunes(T1_scan_data, FLAIR_scan_data, Lacune_indicator_data, Soft_tiss_data):\n",
    "    # Lacune not as centred, random sampling all around brain\n",
    "    X_train_3D_lacune = []\n",
    "    X_test_3D_lacune = []\n",
    "    Y_train_3D_lacune = []\n",
    "    Y_test_3D_lacune = []\n",
    "    Y_train_segment_3D_lacune = []\n",
    "    Y_test_segment_3D_lacune = []\n",
    "\n",
    "    brain_image = 0\n",
    "    for file in os.listdir(T1_Soft_Tissue_Binary_Mask):\n",
    "        if file.endswith(\".nii.gz\"):\n",
    "            file_id = int(re.search(r'\\d+', file)[0])\n",
    "            imgpath = os.path.join(T1_Soft_Tissue_Binary_Mask, file)\n",
    "            img = nib.load(imgpath)\n",
    "            data = img.get_fdata()\n",
    "            data = data.astype(np.uint8)  # converting array of ints to floats\n",
    "            T1_data_scans = T1_scan_data[brain_image][1]\n",
    "            FLAIR_data_scans = FLAIR_scan_data[brain_image][1]\n",
    "            SoftTiss = Soft_tiss_data[brain_image][1]\n",
    "            Lacune_data = Lacune_indicator_data[brain_image][1]\n",
    "\n",
    "            #Sample lacunes\n",
    "            for x in range(0, data.shape[0]):\n",
    "                for y in range(0, data.shape[1]):\n",
    "                    for z in range(0, data.shape[2]):\n",
    "                        #filter for soft tissue\n",
    "                        if (x < 50) | (y < 70) | (z < 15) | (x > 200) | (y > 210) | (z > 165):\n",
    "                            next\n",
    "                        else:\n",
    "                            brain_values = []\n",
    "                            brain_values.append(file_id)\n",
    "                            brain_values.append(x)\n",
    "                            brain_values.append(y)\n",
    "                            brain_values.append(z)\n",
    "\n",
    "                            patch_3D_T1 = T1_data_scans[x-15:x+15, y-15:y+15, z-15:z+15]\n",
    "                            brain_values.append(patch_3D_T1)\n",
    "\n",
    "                            patch_3D_FLAIR = FLAIR_data_scans[x-15:x+15, y-15:y+15, z-15:z+15]\n",
    "                            brain_values.append(patch_3D_FLAIR)\n",
    "\n",
    "                            patch_3D_softtiss_binary = data[x-15:x+15, y-15:y+15, z-15:z+15]\n",
    "                            brain_values.append(patch_3D_softtiss_binary)\n",
    "\n",
    "                            patch_3D_softtiss = SoftTiss[x-15:x+15, y-15:y+15, z-15:z+15]\n",
    "                            brain_values.append(patch_3D_softtiss)\n",
    "\n",
    "                            lacune_binary = Lacune_data[x-15:x+15, y-15:y+15, z-15:z+15] \n",
    "\n",
    "                            if brain_image <= 24:\n",
    "                                if (Lacune_data[x,y,z] == 1):\n",
    "                                    X_train_3D_lacune.append(brain_values)\n",
    "                                    Y_train_3D_lacune.append(1)\n",
    "                                    Y_train_segment_3D_lacune.append(lacune_binary)\n",
    "\n",
    "                            else:\n",
    "                                if (Lacune_data[x,y,z] == 1):\n",
    "                                    X_test_3D_lacune.append(brain_values)\n",
    "                                    Y_test_3D_lacune.append(1)\n",
    "                                    Y_test_segment_3D_lacune.append(lacune_binary)\n",
    "                            \n",
    "            brain_image += 1\n",
    "            print(brain_image)\n",
    "    return X_train_3D_lacune, X_test_3D_lacune, Y_train_3D_lacune, Y_test_3D_lacune, Y_train_segment_3D_lacune, Y_test_segment_3D_lacune\n",
    "X_train_3D_lacune, X_test_3D_lacune, Y_train_3D_lacune, Y_test_3D_lacune, Y_train_segment_3D_lacune, Y_test_segment_3D_lacune = sample_lacunes(T1_scan_data, FLAIR_scan_data, Lacune_indicator_data, Soft_tiss_data)"
   ]
  },
  {
   "cell_type": "code",
   "execution_count": 4,
   "id": "da4b81d6",
   "metadata": {},
   "outputs": [
    {
     "name": "stdout",
     "output_type": "stream",
     "text": [
      "1\n",
      "2\n",
      "3\n",
      "4\n",
      "5\n",
      "6\n",
      "7\n",
      "8\n",
      "9\n",
      "10\n",
      "11\n",
      "12\n",
      "13\n",
      "14\n",
      "15\n",
      "16\n",
      "17\n",
      "18\n",
      "19\n",
      "20\n",
      "21\n",
      "22\n",
      "23\n",
      "24\n",
      "25\n",
      "26\n",
      "27\n",
      "28\n",
      "29\n",
      "30\n",
      "31\n",
      "32\n",
      "33\n",
      "34\n",
      "35\n"
     ]
    }
   ],
   "source": [
    "def non_lacune_sampling(T1_scan_data, FLAIR_scan_data, Lacune_indicator_data, Soft_tiss_data):\n",
    "    # Lacune not as centred, random sampling all around brain\n",
    "    X_train_3D_nlacune = []\n",
    "    X_test_3D_nlacune = []\n",
    "    Y_train_3D_nlacune = []\n",
    "    Y_test_3D_nlacune = []\n",
    "    Y_train_segment_3D_nlacune = []\n",
    "    Y_test_segment_3D_nlacune = []\n",
    "\n",
    "    brain_image = 0\n",
    "    for file in os.listdir(T1_Soft_Tissue_Binary_Mask):\n",
    "        if file.endswith(\".nii.gz\"):\n",
    "            file_id = int(re.search(r'\\d+', file)[0])\n",
    "            imgpath = os.path.join(T1_Soft_Tissue_Binary_Mask, file)\n",
    "            img = nib.load(imgpath)\n",
    "            data = img.get_fdata()\n",
    "            data = data.astype(np.uint8)  # converting array of ints to floats\n",
    "            T1_data_scans = T1_scan_data[brain_image][1]\n",
    "            FLAIR_data_scans = FLAIR_scan_data[brain_image][1]\n",
    "            SoftTiss = Soft_tiss_data[brain_image][1]\n",
    "            Lacune_data = Lacune_indicator_data[brain_image][1]\n",
    "            \n",
    "            #Sample lacunes\n",
    "            #Reduce step size to 5??\n",
    "            for x in range(0, data.shape[0], 15):\n",
    "                for y in range(0, data.shape[1], 15):\n",
    "                    for z in range(0, data.shape[2], 15):\n",
    "                        #filter for soft tissue\n",
    "                        if (x < 50) | (y < 70) | (z < 15) | (x > 200) | (y > 210) | (z > 165):\n",
    "                            next\n",
    "                        else:\n",
    "                            brain_values = []\n",
    "                            brain_values.append(file_id)\n",
    "                            brain_values.append(x)\n",
    "                            brain_values.append(y)\n",
    "                            brain_values.append(z)\n",
    "\n",
    "                            patch_3D_T1 = T1_data_scans[x-15:x+15, y-15:y+15, z-15:z+15]\n",
    "                            brain_values.append(patch_3D_T1)\n",
    "\n",
    "                            patch_3D_FLAIR = FLAIR_data_scans[x-15:x+15, y-15:y+15, z-15:z+15]\n",
    "                            brain_values.append(patch_3D_FLAIR)\n",
    "\n",
    "                            patch_3D_softtiss_binary = data[x-15:x+15, y-15:y+15, z-15:z+15]\n",
    "                            brain_values.append(patch_3D_softtiss_binary)\n",
    "\n",
    "                            patch_3D_softtiss = SoftTiss[x-15:x+15, y-15:y+15, z-15:z+15]\n",
    "                            brain_values.append(patch_3D_softtiss)\n",
    "\n",
    "                            lacune_binary = Lacune_data[x-15:x+15, y-15:y+15, z-15:z+15]\n",
    "\n",
    "                            if brain_image <= 24:\n",
    "                                # No lacune exists in the 3D patch, add to train set\n",
    "                                if any(1 in sublist for sublist in lacune_binary):\n",
    "                                    next\n",
    "                                else:\n",
    "                                    X_train_3D_nlacune.append(brain_values)\n",
    "                                    Y_train_3D_nlacune.append(0)\n",
    "                                    Y_train_segment_3D_nlacune.append(lacune_binary)\n",
    "                                    \n",
    "                            else:\n",
    "                                if any(1 in sublist for sublist in lacune_binary):\n",
    "                                    next\n",
    "                                else:\n",
    "                                    X_test_3D_nlacune.append(brain_values)\n",
    "                                    Y_test_3D_nlacune.append(0)\n",
    "                                    Y_test_segment_3D_nlacune.append(lacune_binary)\n",
    "            brain_image += 1\n",
    "            print(brain_image)\n",
    "\n",
    "    return X_train_3D_nlacune, X_test_3D_nlacune, Y_train_3D_nlacune, Y_test_3D_nlacune, Y_train_segment_3D_nlacune, Y_test_segment_3D_nlacune\n",
    "X_train_3D_nlacune, X_test_3D_nlacune, Y_train_3D_nlacune, Y_test_3D_nlacune, Y_train_segment_3D_nlacune, Y_test_segment_3D_nlacune = non_lacune_sampling(T1_scan_data, FLAIR_scan_data, Lacune_indicator_data, Soft_tiss_data)"
   ]
  },
  {
   "cell_type": "code",
   "execution_count": 5,
   "id": "30de13fa",
   "metadata": {},
   "outputs": [
    {
     "name": "stderr",
     "output_type": "stream",
     "text": [
      "<__array_function__ internals>:5: VisibleDeprecationWarning: Creating an ndarray from ragged nested sequences (which is a list-or-tuple of lists-or-tuples-or ndarrays with different lengths or shapes) is deprecated. If you meant to do this, you must specify 'dtype=object' when creating the ndarray.\n"
     ]
    },
    {
     "name": "stdout",
     "output_type": "stream",
     "text": [
      "27106\n",
      "2351\n",
      "done\n"
     ]
    }
   ],
   "source": [
    "X_train = np.concatenate((X_train_3D_lacune, X_train_3D_nlacune), axis=0)\n",
    "X_test = np.concatenate((X_test_3D_lacune, X_test_3D_nlacune), axis=0)\n",
    "Y_train = np.concatenate((Y_train_3D_lacune, Y_train_3D_nlacune), axis=0)\n",
    "Y_test = np.concatenate((Y_test_3D_lacune, Y_test_3D_nlacune), axis=0)\n",
    "Y_train_segment = np.concatenate((Y_train_segment_3D_lacune, Y_train_segment_3D_nlacune), axis=0)\n",
    "Y_test_segment = np.concatenate((Y_test_segment_3D_lacune, Y_test_segment_3D_nlacune), axis=0)\n",
    "print(len(X_train_3D_nlacune))\n",
    "print(len(X_train_3D_lacune))\n",
    "print(\"done\")"
   ]
  },
  {
   "cell_type": "code",
   "execution_count": 23,
   "id": "b2b624d8",
   "metadata": {},
   "outputs": [
    {
     "name": "stdout",
     "output_type": "stream",
     "text": [
      "Requirement already satisfied: PyDIP in c:\\users\\ellen\\appdata\\local\\r-miniconda\\lib\\site-packages (0.1.8)\n",
      "Note: you may need to restart the kernel to use updated packages.\n"
     ]
    }
   ],
   "source": [
    "pip install PyDIP"
   ]
  },
  {
   "cell_type": "code",
   "execution_count": 24,
   "id": "2c12b1c1",
   "metadata": {
    "scrolled": true
   },
   "outputs": [
    {
     "ename": "ModuleNotFoundError",
     "evalue": "No module named 'PyDIP'",
     "output_type": "error",
     "traceback": [
      "\u001b[1;31m---------------------------------------------------------------------------\u001b[0m",
      "\u001b[1;31mModuleNotFoundError\u001b[0m                       Traceback (most recent call last)",
      "\u001b[1;32m~\\AppData\\Local\\Temp/ipykernel_20400/2568259878.py\u001b[0m in \u001b[0;36m<module>\u001b[1;34m\u001b[0m\n\u001b[0;32m      3\u001b[0m \u001b[1;32mfrom\u001b[0m \u001b[0mskimage\u001b[0m\u001b[1;33m.\u001b[0m\u001b[0mtransform\u001b[0m \u001b[1;32mimport\u001b[0m \u001b[0mhough_ellipse\u001b[0m\u001b[1;33m\u001b[0m\u001b[1;33m\u001b[0m\u001b[0m\n\u001b[0;32m      4\u001b[0m \u001b[1;32mfrom\u001b[0m \u001b[0mskimage\u001b[0m\u001b[1;33m.\u001b[0m\u001b[0mdraw\u001b[0m \u001b[1;32mimport\u001b[0m \u001b[0mellipse_perimeter\u001b[0m\u001b[1;33m\u001b[0m\u001b[1;33m\u001b[0m\u001b[0m\n\u001b[1;32m----> 5\u001b[1;33m \u001b[1;32mimport\u001b[0m \u001b[0mPyDIP\u001b[0m \u001b[1;32mas\u001b[0m \u001b[0mdip\u001b[0m\u001b[1;33m\u001b[0m\u001b[1;33m\u001b[0m\u001b[0m\n\u001b[0m\u001b[0;32m      6\u001b[0m \u001b[1;31m# global thresholding\u001b[0m\u001b[1;33m\u001b[0m\u001b[1;33m\u001b[0m\u001b[1;33m\u001b[0m\u001b[0m\n\u001b[0;32m      7\u001b[0m \u001b[0mkernel\u001b[0m \u001b[1;33m=\u001b[0m \u001b[1;33m(\u001b[0m\u001b[1;36m3\u001b[0m\u001b[1;33m,\u001b[0m\u001b[1;36m3\u001b[0m\u001b[1;33m)\u001b[0m\u001b[1;33m\u001b[0m\u001b[1;33m\u001b[0m\u001b[0m\n",
      "\u001b[1;31mModuleNotFoundError\u001b[0m: No module named 'PyDIP'"
     ]
    }
   ],
   "source": [
    "from skimage import data, color, img_as_ubyte\n",
    "from skimage.feature import canny\n",
    "from skimage.transform import hough_ellipse\n",
    "from skimage.draw import ellipse_perimeter\n",
    "import PyDIP as dip\n",
    "# global thresholding\n",
    "kernel = (3,3)\n",
    "img = X_train[105][5][:, 10, :]\n",
    "#opening = cv2.morphologyEx(img, cv2.MORPH_OPEN, kernel)\n",
    "#im_bin = (img < 0.6)\n",
    "#th1 = cv2.threshold(img,0.25,0.5,cv2.THRESH_BINARY)\n",
    "lines = dip.Tophat(img, 10, polarity='black')\n",
    "lines = dip.Tophat(img, 10, polarity='black')\n",
    "dip.SetBorder(lines, [0], [2])\n",
    "lines = dip.PathOpening(lines, length=100, polarity='opening', mode={'robust'})\n",
    "lines = dip.Threshold(lines, method='otsu')[0]\n",
    "contours = cv2.findContours(img, 150, 255, cv2.RETR_EXTERNAL, cv2.CHAIN_APPROX_SIMPLE)\n",
    "\n",
    "\n",
    "edges = canny(im_bin)\n",
    "plt.imshow(im_bin, cmap=\"gray\", origin=\"lower\")"
   ]
  },
  {
   "cell_type": "code",
   "execution_count": 20,
   "id": "b95947c5",
   "metadata": {},
   "outputs": [
    {
     "ename": "NameError",
     "evalue": "name 'canny' is not defined",
     "output_type": "error",
     "traceback": [
      "\u001b[1;31m---------------------------------------------------------------------------\u001b[0m",
      "\u001b[1;31mNameError\u001b[0m                                 Traceback (most recent call last)",
      "\u001b[1;32m~\\AppData\\Local\\Temp/ipykernel_20400/2126670899.py\u001b[0m in \u001b[0;36m<module>\u001b[1;34m\u001b[0m\n\u001b[0;32m      6\u001b[0m \u001b[1;31m# Applying the Black-Hat operation\u001b[0m\u001b[1;33m\u001b[0m\u001b[1;33m\u001b[0m\u001b[1;33m\u001b[0m\u001b[0m\n\u001b[0;32m      7\u001b[0m \u001b[0mtophat_img\u001b[0m \u001b[1;33m=\u001b[0m \u001b[0mcv2\u001b[0m\u001b[1;33m.\u001b[0m\u001b[0mmorphologyEx\u001b[0m\u001b[1;33m(\u001b[0m\u001b[0minput_image\u001b[0m\u001b[1;33m,\u001b[0m \u001b[0mcv2\u001b[0m\u001b[1;33m.\u001b[0m\u001b[0mMORPH_TOPHAT\u001b[0m\u001b[1;33m,\u001b[0m\u001b[0mkernel\u001b[0m\u001b[1;33m)\u001b[0m\u001b[1;33m\u001b[0m\u001b[1;33m\u001b[0m\u001b[0m\n\u001b[1;32m----> 8\u001b[1;33m \u001b[0medges\u001b[0m \u001b[1;33m=\u001b[0m \u001b[0mcanny\u001b[0m\u001b[1;33m(\u001b[0m\u001b[0mtophat_img\u001b[0m\u001b[1;33m)\u001b[0m\u001b[1;33m\u001b[0m\u001b[1;33m\u001b[0m\u001b[0m\n\u001b[0m\u001b[0;32m      9\u001b[0m \u001b[0mplt\u001b[0m\u001b[1;33m.\u001b[0m\u001b[0mimshow\u001b[0m\u001b[1;33m(\u001b[0m\u001b[0mtophat_img\u001b[0m\u001b[1;33m,\u001b[0m \u001b[0mcmap\u001b[0m\u001b[1;33m=\u001b[0m\u001b[1;34m\"gray\"\u001b[0m\u001b[1;33m,\u001b[0m \u001b[0morigin\u001b[0m\u001b[1;33m=\u001b[0m\u001b[1;34m\"lower\"\u001b[0m\u001b[1;33m)\u001b[0m\u001b[1;33m\u001b[0m\u001b[1;33m\u001b[0m\u001b[0m\n\u001b[0;32m     10\u001b[0m \u001b[0mplt\u001b[0m\u001b[1;33m.\u001b[0m\u001b[0mshow\u001b[0m\u001b[1;33m(\u001b[0m\u001b[1;33m)\u001b[0m\u001b[1;33m\u001b[0m\u001b[1;33m\u001b[0m\u001b[0m\n",
      "\u001b[1;31mNameError\u001b[0m: name 'canny' is not defined"
     ]
    }
   ],
   "source": [
    "filterSize =(12,12)\n",
    "kernel = cv2.getStructuringElement(cv2.MORPH_RECT,filterSize)\n",
    "# Reading the image named 'input.jpg'\n",
    "input_image = X_train[200][5][:, 15, :]*255\n",
    "  \n",
    "# Applying the Black-Hat operation\n",
    "tophat_img = cv2.morphologyEx(input_image, cv2.MORPH_TOPHAT,kernel)\n",
    "edges = canny(tophat_img)\n",
    "plt.imshow(tophat_img, cmap=\"gray\", origin=\"lower\")\n",
    "plt.show()"
   ]
  },
  {
   "cell_type": "code",
   "execution_count": 12,
   "id": "c862325f",
   "metadata": {
    "scrolled": true
   },
   "outputs": [
    {
     "data": {
      "image/png": "[encoded data removed]",
      "text/plain": [
       "<Figure size 432x288 with 1 Axes>"
      ]
     },
     "metadata": {
      "needs_background": "light"
     },
     "output_type": "display_data"
    }
   ],
   "source": [
    "input_image = X_train[200][5][:, 15, :]*255\n",
    "input_image = input_image.astype('uint8')\n",
    "plt.imshow(input_image, cmap=\"gray\", origin=\"lower\")\n",
    "plt.show()"
   ]
  },
  {
   "cell_type": "code",
   "execution_count": 13,
   "id": "75bc2e97",
   "metadata": {},
   "outputs": [],
   "source": [
    "input_image\n",
    "stacked_img = np.stack((input_image,)*3, axis=-1)"
   ]
  },
  {
   "cell_type": "code",
   "execution_count": 17,
   "id": "83f5654b",
   "metadata": {},
   "outputs": [],
   "source": [
    "input_image = cv2.cvtColor(stacked_img, cv2.COLOR_BGR2GRAY)\n",
    "ret, thresh = cv2.threshold(input_image, 55, 255, 0)\n",
    "contours, hierarchy = cv2.findContours(thresh, cv2.RETR_TREE, cv2.CHAIN_APPROX_SIMPLE)"
   ]
  },
  {
   "cell_type": "code",
   "execution_count": 18,
   "id": "cc3b6d4b",
   "metadata": {},
   "outputs": [
    {
     "data": {
      "image/png": "[encoded data removed]",
      "text/plain": [
       "<Figure size 432x288 with 1 Axes>"
      ]
     },
     "metadata": {
      "needs_background": "light"
     },
     "output_type": "display_data"
    }
   ],
   "source": [
    "new_image = cv2.drawContours(thresh, contours, -1, (0,255,0), 1)\n",
    "plt.imshow(new_image, cmap=\"gray\", origin=\"lower\")\n",
    "plt.show()"
   ]
  },
  {
   "cell_type": "code",
   "execution_count": 82,
   "id": "2f0947d9",
   "metadata": {},
   "outputs": [
    {
     "data": {
      "text/plain": [
       "13.071067690849304"
      ]
     },
     "execution_count": 82,
     "metadata": {},
     "output_type": "execute_result"
    }
   ],
   "source": [
    "perimeter = cv2.arcLength(contours[1],True)\n",
    "perimeter"
   ]
  },
  {
   "cell_type": "code",
   "execution_count": 80,
   "id": "83f60e88",
   "metadata": {},
   "outputs": [
    {
     "data": {
      "text/plain": [
       "12.5"
      ]
     },
     "execution_count": 80,
     "metadata": {},
     "output_type": "execute_result"
    }
   ],
   "source": [
    "area = cv2.contourArea(contours[1], True)\n",
    "area"
   ]
  },
  {
   "cell_type": "code",
   "execution_count": 87,
   "id": "554493cb",
   "metadata": {},
   "outputs": [
    {
     "name": "stdout",
     "output_type": "stream",
     "text": [
      "0.5066082753321259\n",
      "0.9193857107025737\n"
     ]
    }
   ],
   "source": [
    "import math\n",
    "contours_cirles = []\n",
    "# check if contour is of circular shape\n",
    "for con in contours:\n",
    "    perimeter = cv2.arcLength(con, True)\n",
    "    area = cv2.contourArea(con)\n",
    "    if perimeter == 0:\n",
    "        break\n",
    "    circularity = 4*math.pi*(area/(perimeter*perimeter))\n",
    "    print(circularity)\n",
    "    if 0.7 < circularity < 1.2:\n",
    "        contours_cirles.append(con)"
   ]
  },
  {
   "cell_type": "code",
   "execution_count": 59,
   "id": "0d35dd09",
   "metadata": {},
   "outputs": [
    {
     "data": {
      "text/plain": [
       "100.0"
      ]
     },
     "execution_count": 59,
     "metadata": {},
     "output_type": "execute_result"
    }
   ],
   "source": [
    "ret"
   ]
  },
  {
   "cell_type": "code",
   "execution_count": null,
   "id": "3cbfadbf",
   "metadata": {},
   "outputs": [],
   "source": [
    "\n",
    "\n",
    "# check if contour is of circular shape\n",
    "for con in contours_area:\n",
    "    perimeter = cv2.arcLength(con, True)\n",
    "    area = cv2.contourArea(con)\n",
    "    if perimeter == 0:\n",
    "        break\n",
    "    circularity = 4*math.pi*(area/(perimeter*perimeter))\n",
    "    print circularity\n",
    "    if 0.7 < circularity < 1.2:\n",
    "        contours_cirles.append(con)"
   ]
  }
 ],
 "metadata": {
  "kernelspec": {
   "display_name": "Python 3 (ipykernel)",
   "language": "python",
   "name": "python3"
  },
  "language_info": {
   "codemirror_mode": {
    "name": "ipython",
    "version": 3
   },
   "file_extension": ".py",
   "mimetype": "text/x-python",
   "name": "python",
   "nbconvert_exporter": "python",
   "pygments_lexer": "ipython3",
   "version": "3.8.3"
  }
 },
 "nbformat": 4,
 "nbformat_minor": 5
}
